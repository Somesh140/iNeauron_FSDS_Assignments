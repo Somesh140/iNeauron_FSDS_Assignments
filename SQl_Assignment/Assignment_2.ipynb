{
  "nbformat": 4,
  "nbformat_minor": 0,
  "metadata": {
    "colab": {
      "provenance": [],
      "authorship_tag": "ABX9TyMiM+ch9yOQ3+MsDHziDcnH"
    },
    "kernelspec": {
      "name": "python3",
      "display_name": "Python 3"
    },
    "language_info": {
      "name": "python"
    }
  },
  "cells": [
    {
      "cell_type": "markdown",
      "source": [
        "Q-1. Write an SQL query to print the first three characters of  FIRST_NAME from Worker\n",
        "table.\n",
        "\n",
        " Q-2. Write an SQL query to find the position of the alphabet (‘a’) in the first name\n",
        "column ‘Amitabh’ from Worker table.\n",
        "\n",
        "Q-3. Write an SQL query to print the name of employees having the highest salary in each\n",
        "department.\n",
        "\n",
        "\n",
        "1)\n",
        "```\n",
        "SELECT SUBSTRING(FIRST_NAME, 1, 3) AS FIRST_THREE_CHARS\n",
        "FROM Worker;\n",
        "\n",
        "#2\n",
        "SELECT INSTR('Amitabh', 'a') AS POSITION_OF_A;\n",
        "\n",
        "#3\n",
        "SELECT w1.DEPARTMENT, w1.FIRST_NAME, w1.LAST_NAME, w1.SALARY\n",
        "FROM Worker w1\n",
        "WHERE w1.SALARY = (\n",
        "  SELECT MAX(w2.SALARY)\n",
        "  FROM Worker w2\n",
        "  WHERE w2.DEPARTMENT = w1.DEPARTMENT\n",
        ");\n",
        "\n",
        "or \n",
        "#3\n",
        "SELECT DEPARTMENT, FIRST_NAME, LAST_NAME, SALARY\n",
        "FROM (\n",
        "  SELECT DEPARTMENT, FIRST_NAME, LAST_NAME, SALARY,\n",
        "         ROW_NUMBER() OVER (PARTITION BY DEPARTMENT ORDER BY SALARY DESC) AS RN\n",
        "  FROM Worker\n",
        ") w\n",
        "WHERE RN = 1;\n",
        "\n",
        "```\n",
        "\n"
      ],
      "metadata": {
        "id": "GZt36eIQdD-I"
      }
    },
    {
      "cell_type": "code",
      "execution_count": null,
      "metadata": {
        "id": "wkxspl59dA_W"
      },
      "outputs": [],
      "source": []
    }
  ]
}