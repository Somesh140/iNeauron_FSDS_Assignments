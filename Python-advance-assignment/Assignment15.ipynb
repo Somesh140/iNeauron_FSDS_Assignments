{
  "nbformat": 4,
  "nbformat_minor": 0,
  "metadata": {
    "colab": {
      "provenance": [],
      "authorship_tag": "ABX9TyM6RHpG1R8gNaW4rHbiDBSc",
      "include_colab_link": true
    },
    "kernelspec": {
      "name": "python3",
      "display_name": "Python 3"
    },
    "language_info": {
      "name": "python"
    }
  },
  "cells": [
    {
      "cell_type": "markdown",
      "metadata": {
        "id": "view-in-github",
        "colab_type": "text"
      },
      "source": [
        "<a href=\"https://colab.research.google.com/github/Somesh140/iNeauron_FSDS_Assignments/blob/main/Python-advance-assignment/Assignment15.ipynb\" target=\"_parent\"><img src=\"https://colab.research.google.com/assets/colab-badge.svg\" alt=\"Open In Colab\"/></a>"
      ]
    },
    {
      "cell_type": "markdown",
      "source": [
        "1. What are the new features added in Python 3.8 version?\n",
        "2. What is monkey patching in Python?\n",
        "3. What is the difference between a shallow copy and deep copy?\n",
        "4. What is the maximum possible length of an identifier?\n",
        "5. What is generator comprehension?"
      ],
      "metadata": {
        "id": "GeVyvG79x9PX"
      }
    },
    {
      "cell_type": "markdown",
      "source": [
        "#Answer"
      ],
      "metadata": {
        "id": "_xTbOR-zyBou"
      }
    },
    {
      "cell_type": "markdown",
      "source": [
        "1. Python 3.8 introduced several new features, including:\n",
        "\n",
        "   a. Assignment Expressions (the Walrus Operator): This feature allows assignment expressions to be used within expressions, enabling assignment and retrieval of values in a single line. For example, `if (n := len(my_list)) > 10:`.\n",
        "\n",
        "   b. Positional-only Parameters: Functions can now specify parameters that can only be passed positionally and not as keyword arguments.\n",
        "\n",
        "   c. The `math.prod()` Function: The `math` module now includes a `prod()` function that calculates the product of a sequence of numbers.\n",
        "\n",
        "   d. The `f-strings` Support = Specifier: f-strings gained a new `=` specifier that provides improved debugging and representation of objects.\n",
        "\n",
        "   e. The `statistics` Mode Function: The `statistics` module now includes a `mode()` function that calculates the mode (most common value) of a sequence of numbers.\n",
        "\n",
        "   f. The `typing` Final Decorator: The `typing` module introduced the `Final` decorator, which can be used to indicate that a class or attribute should not be overridden or reassigned, respectively.\n",
        "\n",
        "2. Monkey patching in Python refers to the practice of modifying or extending existing code at runtime, typically by adding, modifying, or replacing methods or attributes of objects or classes. It allows developers to modify the behavior of existing code without having to modify the original source code. Monkey patching can be useful for adding functionality, fixing bugs, or adapting code to specific needs. However, it should be used with caution as it can make code harder to understand and maintain.\n",
        "\n",
        "3. The difference between a shallow copy and a deep copy is as follows:\n",
        "\n",
        "   - Shallow Copy: A shallow copy creates a new object that references the original elements. In other words, it copies the references to the objects rather than creating new copies of the objects themselves. Changes made to the original object will be reflected in the copied object, and vice versa. Shallow copying can be done using methods like slicing (`[:]`), the `copy()` method, or the `copy.copy()` function.\n",
        "\n",
        "   - Deep Copy: A deep copy creates a completely independent copy of the original object and all its nested objects. It recursively copies the objects, creating new instances for each nested object. Changes made to the original object will not affect the copied object, and vice versa. Deep copying can be done using the `copy.deepcopy()` function or by implementing the `__deepcopy__()` method in custom classes.\n",
        "\n",
        "4. In Python, the maximum possible length of an identifier (variable, function, class name, etc.) is not explicitly defined. However, the practical limit is determined by the maximum size of a Unicode string, which is 2**31-1 (2147483647) characters in most implementations. It's worth noting that using excessively long identifiers can make code harder to read and maintain, so it's generally recommended to use descriptive yet concise names.\n",
        "\n",
        "5. Generator comprehension, also known as generator expression, is a concise way to create a generator in Python. It has a similar syntax to list comprehension but produces a generator object instead of a list. Generator comprehensions are surrounded by parentheses instead of square brackets.\n",
        "\n",
        "   The syntax for generator comprehension is:\n",
        "   ```\n",
        "   (expression for item in iterable if condition)\n",
        "   ```\n",
        "\n",
        "   Generator comprehensions are evaluated lazily, meaning that they generate values on the fly as they are needed, rather than creating the entire sequence in memory at once. This can be advantageous for dealing with large or infinite sequences since it avoids unnecessary memory consumption. Generator comprehensions are often used when you only need to iterate over the sequence once or when memory efficiency is a concern."
      ],
      "metadata": {
        "id": "uQTmUCa3yDcq"
      }
    },
    {
      "cell_type": "code",
      "execution_count": null,
      "metadata": {
        "id": "mYii0Tpgx8nk"
      },
      "outputs": [],
      "source": []
    }
  ]
}