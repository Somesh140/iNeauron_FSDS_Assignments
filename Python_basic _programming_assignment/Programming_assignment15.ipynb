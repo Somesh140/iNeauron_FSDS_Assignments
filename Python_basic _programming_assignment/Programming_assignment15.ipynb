{
  "cells": [
    {
      "cell_type": "markdown",
      "metadata": {
        "id": "view-in-github",
        "colab_type": "text"
      },
      "source": [
        "<a href=\"https://colab.research.google.com/github/Somesh140/iNeauron_FSDS_Assignments/blob/main/Python_basic%20_programming_assignment/Programming_assignment15.ipynb\" target=\"_parent\"><img src=\"https://colab.research.google.com/assets/colab-badge.svg\" alt=\"Open In Colab\"/></a>"
      ]
    },
    {
      "cell_type": "markdown",
      "source": [
        "Question 1:\n",
        "Please write a program using generator to print the numbers which can be divisible by 5 and\n",
        "7 between 0 and n in comma separated form while n is input by console.\n",
        "Example:\n",
        "If the following n is given as input to the program:\n",
        "100\n",
        "Then, the output of the program should be:\n",
        "0,35,70\n",
        "\n",
        "Question 2:\n",
        "Please write a program using generator to print the even numbers between 0 and n in comma\n",
        "separated form while n is input by console.\n",
        "Example:\n",
        "If the following n is given as input to the program:\n",
        "10\n",
        "Then, the output of the program should be:\n",
        "0,2,4,6,8,10\n",
        "\n",
        "Question 3:\n",
        "The Fibonacci Sequence is computed based on the following formula:\n",
        "f(n)=0 if n=0\n",
        "f(n)=1 if n=1\n",
        "f(n)=f(n-1)+f(n-2) if n&gt;1\n",
        "Please write a program using list comprehension to print the Fibonacci Sequence in comma\n",
        "separated form with a given n input by console.\n",
        "Example:\n",
        "If the following n is given as input to the program:\n",
        "7\n",
        "\n",
        "Then, the output of the program should be:\n",
        "0,1,1,2,3,5,8,13\n",
        "\n",
        "Question 4:\n",
        "Assuming that we have some email addresses in the &quot;username@companyname.com&quot; format,\n",
        "please write program to print the user name of a given email address. Both user names and\n",
        "company names are composed of letters only.\n",
        "Example:\n",
        "If the following email address is given as input to the program:\n",
        "john@google.com\n",
        "Then, the output of the program should be:\n",
        "john\n",
        "\n",
        "Question 5:\n",
        "Define a class named Shape and its subclass Square. The Square class has an init function\n",
        "which takes a length as argument. Both classes have a area function which can print the area\n",
        "of the shape where Shape&#39;s area is 0 by default."
      ],
      "metadata": {
        "id": "gw1XTuwNpeKD"
      }
    },
    {
      "cell_type": "markdown",
      "source": [
        "\n",
        "\n",
        "**Question 1:**"
      ],
      "metadata": {
        "id": "_92urXs7pW0U"
      }
    },
    {
      "cell_type": "code",
      "source": [
        "def divisible_by_5_and_7(n):\n",
        "  \"\"\"Prints the numbers which can be divisible by 5 and 7 between 0 and n in comma separated form.\"\"\"\n",
        "  for i in range(n + 1):\n",
        "    if i % 5 == 0 and i % 7 == 0:\n",
        "      yield i\n",
        "\n",
        "\n",
        "n = int(input(\"Enter n: \"))\n",
        "print(\", \".join(map(str, divisible_by_5_and_7(n))))"
      ],
      "outputs": [
        {
          "output_type": "stream",
          "name": "stdout",
          "text": [
            "Enter n: 100\n",
            "0, 35, 70\n"
          ]
        }
      ],
      "execution_count": 3,
      "metadata": {
        "colab": {
          "base_uri": "https://localhost:8080/"
        },
        "id": "GMGlBVGQpW0X",
        "outputId": "6d8911b6-83a2-43d4-a24c-82abef56b2ab"
      }
    },
    {
      "cell_type": "markdown",
      "source": [
        "**Question 2:**"
      ],
      "metadata": {
        "id": "KRZj0laepW0Y"
      }
    },
    {
      "cell_type": "code",
      "source": [
        "def even_numbers(n):\n",
        "  \"\"\"Prints the even numbers between 0 and n in comma separated form.\"\"\"\n",
        "  for i in range(n + 1):\n",
        "    if i % 2 == 0:\n",
        "      yield i\n",
        "\n",
        "\n",
        "n = int(input(\"Enter n: \"))\n",
        "print(\", \".join(map(str, even_numbers(n))))"
      ],
      "outputs": [
        {
          "output_type": "stream",
          "name": "stdout",
          "text": [
            "Enter n: 10\n",
            "0, 2, 4, 6, 8, 10\n"
          ]
        }
      ],
      "execution_count": 4,
      "metadata": {
        "colab": {
          "base_uri": "https://localhost:8080/"
        },
        "id": "gsNqE2x1pW0Y",
        "outputId": "2983ad27-8288-4f0e-eed9-40a1162e63e3"
      }
    },
    {
      "cell_type": "markdown",
      "source": [
        "**Question 3:**"
      ],
      "metadata": {
        "id": "HbWnzmZGpW0Z"
      }
    },
    {
      "cell_type": "code",
      "source": [
        "def fibonacci_sequence(n):\n",
        "  \"\"\"Prints the Fibonacci Sequence in comma separated form with a given n input by console.\"\"\"\n",
        "  if n == 0:\n",
        "    return [0]\n",
        "  elif n == 1:\n",
        "    return [0, 1]\n",
        "  else:\n",
        "    fibs = [0, 1]\n",
        "    for i in range(2, n + 1):\n",
        "      fibs.append(fibs[i - 1] + fibs[i - 2])\n",
        "    return fibs\n",
        "\n",
        "\n",
        "n = int(input(\"Enter n: \"))\n",
        "print(\", \".join(map(str, fibonacci_sequence(n))))"
      ],
      "outputs": [
        {
          "output_type": "stream",
          "name": "stdout",
          "text": [
            "Enter n: 7\n",
            "0, 1, 1, 2, 3, 5, 8, 13\n"
          ]
        }
      ],
      "execution_count": 5,
      "metadata": {
        "colab": {
          "base_uri": "https://localhost:8080/"
        },
        "id": "mNNbUg2XpW0Z",
        "outputId": "1c44b678-d2e5-4293-9aa3-d4701c3372c0"
      }
    },
    {
      "cell_type": "markdown",
      "source": [
        "**Question 4:**"
      ],
      "metadata": {
        "id": "4WRP8JxppW0Z"
      }
    },
    {
      "cell_type": "code",
      "source": [
        "def get_username(email_address):\n",
        "  \"\"\"Prints the user name of a given email address.\"\"\"\n",
        "  return email_address.split(\"@\")[0]\n",
        "\n",
        "\n",
        "email_address = input(\"Enter email address: \")\n",
        "print(get_username(email_address))"
      ],
      "outputs": [
        {
          "output_type": "stream",
          "name": "stdout",
          "text": [
            "Enter email address: john@google.com\n",
            "john\n"
          ]
        }
      ],
      "execution_count": 6,
      "metadata": {
        "colab": {
          "base_uri": "https://localhost:8080/"
        },
        "id": "e2zIc78OpW0a",
        "outputId": "9077bc01-a226-44ea-fd5c-14d06d20e313"
      }
    },
    {
      "cell_type": "markdown",
      "source": [
        "**Question 5:**"
      ],
      "metadata": {
        "id": "4ZW_caChpW0a"
      }
    },
    {
      "cell_type": "code",
      "source": [
        "class Shape:\n",
        "  \"\"\"A class representing a shape.\"\"\"\n",
        "\n",
        "  def __init__(self):\n",
        "    \"\"\"Initializes the shape.\"\"\"\n",
        "    self.area = 0\n",
        "\n",
        "  def Area(self):\n",
        "    \"\"\"Returns the area of the shape.\"\"\"\n",
        "    return self.area\n",
        "\n",
        "\n",
        "class Square(Shape):\n",
        "  \"\"\"A class representing a square.\"\"\"\n",
        "\n",
        "  def __init__(self, length):\n",
        "    \"\"\"Initializes the square with a given length.\"\"\"\n",
        "    super().__init__()\n",
        "    self.length = length\n",
        "\n",
        "  def Area(self):\n",
        "    \"\"\"Returns the area of the square.\"\"\"\n",
        "    return self.length **2\n",
        "\n",
        "\n",
        "square = Square(5)\n",
        "print(square.Area())"
      ],
      "outputs": [
        {
          "output_type": "stream",
          "name": "stdout",
          "text": [
            "25\n"
          ]
        }
      ],
      "execution_count": 11,
      "metadata": {
        "colab": {
          "base_uri": "https://localhost:8080/"
        },
        "id": "HZfE6TnSpW0a",
        "outputId": "e4bdcd90-1366-4dfa-f8c9-25449000dea2"
      }
    }
  ],
  "metadata": {
    "colab": {
      "provenance": [],
      "include_colab_link": true
    },
    "kernelspec": {
      "display_name": "Python 3",
      "name": "python3"
    }
  },
  "nbformat": 4,
  "nbformat_minor": 0
}