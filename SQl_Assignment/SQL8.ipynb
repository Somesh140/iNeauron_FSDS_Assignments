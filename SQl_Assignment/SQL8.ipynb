{
  "nbformat": 4,
  "nbformat_minor": 0,
  "metadata": {
    "colab": {
      "provenance": [],
      "authorship_tag": "ABX9TyP0uJo5cSbUnLp3kzuMlMBj",
      "include_colab_link": true
    },
    "kernelspec": {
      "name": "python3",
      "display_name": "Python 3"
    },
    "language_info": {
      "name": "python"
    }
  },
  "cells": [
    {
      "cell_type": "markdown",
      "metadata": {
        "id": "view-in-github",
        "colab_type": "text"
      },
      "source": [
        "<a href=\"https://colab.research.google.com/github/Somesh140/iNeauron_FSDS_Assignments/blob/main/SQl_Assignment/SQL8.ipynb\" target=\"_parent\"><img src=\"https://colab.research.google.com/assets/colab-badge.svg\" alt=\"Open In Colab\"/></a>"
      ]
    },
    {
      "cell_type": "markdown",
      "source": [
        "Q-15. Write an SQL query to fetch intersecting records of two tables.\n",
        "\n",
        "Q-16. Write an SQL query to show records from one table that another table does not\n",
        "have."
      ],
      "metadata": {
        "id": "UBbPt1NVkGRF"
      }
    },
    {
      "cell_type": "code",
      "execution_count": null,
      "metadata": {
        "id": "E-LO5YWskAFj"
      },
      "outputs": [],
      "source": [
        "#15\n",
        "SELECT *\n",
        "FROM table1\n",
        "WHERE EXISTS (\n",
        "  SELECT *\n",
        "  FROM table2\n",
        "  WHERE table2.column = table1.column\n",
        ");\n"
      ]
    },
    {
      "cell_type": "code",
      "source": [
        "#16\n",
        "SELECT *\n",
        "FROM table1\n",
        "WHERE NOT EXISTS (\n",
        "  SELECT *\n",
        "  FROM table2\n",
        "  WHERE table2.column = table1.column\n",
        ");\n"
      ],
      "metadata": {
        "id": "VgvjJspTkQNk"
      },
      "execution_count": null,
      "outputs": []
    }
  ]
}