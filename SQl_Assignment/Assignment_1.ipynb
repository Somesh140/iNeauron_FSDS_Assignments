{
  "nbformat": 4,
  "nbformat_minor": 0,
  "metadata": {
    "colab": {
      "provenance": [],
      "authorship_tag": "ABX9TyNfqFH/R9wnPpv9Ib+/A9eg",
      "include_colab_link": true
    },
    "kernelspec": {
      "name": "python3",
      "display_name": "Python 3"
    },
    "language_info": {
      "name": "python"
    }
  },
  "cells": [
    {
      "cell_type": "markdown",
      "metadata": {
        "id": "view-in-github",
        "colab_type": "text"
      },
      "source": [
        "<a href=\"https://colab.research.google.com/github/Somesh140/iNeauron_FSDS_Assignments/blob/main/SQl_Assignment/Assignment_1.ipynb\" target=\"_parent\"><img src=\"https://colab.research.google.com/assets/colab-badge.svg\" alt=\"Open In Colab\"/></a>"
      ]
    },
    {
      "cell_type": "markdown",
      "source": [
        "Q-1. Write an SQL query to fetch “FIRST_NAME” from Worker table using the alias\n",
        "name as &lt;WORKER_NAME&gt;.\n",
        "\n",
        "Q-2. Write an SQL query to fetch unique values of DEPARTMENT from Worker table.\n",
        "\n",
        "Q-3. Write an SQL query to show the last 5 record from a table."
      ],
      "metadata": {
        "id": "6pCc6o-Xbano"
      }
    },
    {
      "cell_type": "markdown",
      "source": [
        "\n",
        "\n",
        "```\n",
        "SELECT FIRST_NAME AS WORKER_NAME\n",
        "FROM Worker;\n",
        "\n",
        "SELECT DISTINCT DEPARTMENT\n",
        "FROM Worker;\n",
        "\n",
        "SELECT *\n",
        "FROM table_name\n",
        "ORDER BY id DESC\n",
        "LIMIT 5;\n",
        "\n",
        "```\n",
        "\n"
      ],
      "metadata": {
        "id": "8jGvE2isb7G3"
      }
    }
  ]
}