{
  "nbformat": 4,
  "nbformat_minor": 0,
  "metadata": {
    "colab": {
      "provenance": [],
      "authorship_tag": "ABX9TyPT8ofTTKlsyDej5W1ZBUoX",
      "include_colab_link": true
    },
    "kernelspec": {
      "name": "python3",
      "display_name": "Python 3"
    },
    "language_info": {
      "name": "python"
    }
  },
  "cells": [
    {
      "cell_type": "markdown",
      "metadata": {
        "id": "view-in-github",
        "colab_type": "text"
      },
      "source": [
        "<a href=\"https://colab.research.google.com/github/Somesh140/iNeauron_FSDS_Assignments/blob/main/Interview_based_assesment/python/Q3.ipynb\" target=\"_parent\"><img src=\"https://colab.research.google.com/assets/colab-badge.svg\" alt=\"Open In Colab\"/></a>"
      ]
    },
    {
      "cell_type": "markdown",
      "source": [
        "Write a program, which would download the data from the provided link, and then read the data and convert\n",
        "that into properly structured data and return it in Excel format.\n",
        "Note - Write comments wherever necessary explaining the code written.Link - https://raw.githubusercontent.com/Biuni/PokemonGO-Pokedex/master/pokedex.json\n",
        "\n",
        "Data Attributes - id: Identification Number - int num: Number of the\n",
        "● Pokémon in the official Pokédex - int name: Pokémon name -\n",
        "● string img: URL to an image of this Pokémon - string type:\n",
        "● Pokémon type -string height: Pokémon height - float\n",
        "● weight: Pokémon weight - float candy: type of candy used to evolve Pokémon or\n",
        "given\n",
        "● when transferred - string candy_count: the amount of candies required to evolve\n",
        "- int\n",
        "● egg: Number of kilometers to travel to hatch the egg - float spawn_chance:\n",
        "● Percentage of spawn chance (NEW) - float avg_spawns: Number of this\n",
        "pokemon on 10.000 spawns (NEW) - int\n",
        "● spawn_time: Spawns most active at the time on this field. Spawn times are the same for all\n",
        "time zones and are expressed in local time. (NEW) - “minutes: seconds” multipliers:\n",
        "Multiplier of Combat Power (CP) for calculating the CP after evolution See below - list of int\n",
        "weakness: Types of\n",
        "● Pokémon this Pokémon is weak to - list of strings next_evolution: Number and Name of\n",
        "successive evolutions of Pokémon - list of dict prev_evolution: Number and Name of previous\n",
        "evolutions of Pokémon - - list of dict"
      ],
      "metadata": {
        "id": "uoElKLEt5mae"
      }
    },
    {
      "cell_type": "code",
      "execution_count": 8,
      "metadata": {
        "id": "VWQJY3A43kYY"
      },
      "outputs": [],
      "source": [
        "import requests\n",
        "import json\n",
        "import pandas as pd\n",
        "\n",
        "def download_and_convert_data(url,output_file):\n",
        "  #Download data from the url\n",
        "  response=requests.get(url)\n",
        "\n",
        "  #read the json data\n",
        "  data=response.json()\n",
        "\n",
        "  # Extract the required attributes from the data\n",
        "  extracted_data=[]\n",
        "  for pokemon in data[\"pokemon\"]:\n",
        "    extracted_data.append({\n",
        "        \"id\": pokemon[\"id\"],\n",
        "        \"num\": pokemon[\"num\"],\n",
        "        \"name\":pokemon[\"name\"],\n",
        "        \"img\":pokemon[\"img\"],\n",
        "        \"type\":\",\".join(pokemon[\"type\"]),\n",
        "        \"height\":pokemon[\"height\"],\n",
        "        \"weight\":pokemon[\"weight\"],\n",
        "        \"candy\":pokemon.get(\"candy\",\"\"),\n",
        "        \"candy_count\":pokemon.get(\"candy_count\",\"\"),\n",
        "        \"egg\":pokemon.get(\"egg\",\"\"),\n",
        "        \"spawn_chance\": pokemon.get(\"spawn_chance\",\"\"),\n",
        "        \"avg_spawns\": pokemon.get(\"avg_spawns\",\" \"),\n",
        "        \"spawn_time\": pokemon.get(\"spawn_time\", \"\"),\n",
        "        \"multipliers\": \",\".join(map(str, pokemon.get(\"multipliers\") or  [])),\n",
        "        \"weakness\": \",\".join(pokemon.get(\"weaknesses\", [])),\n",
        "        \"next_evolution\": \",\".join([evolution[\"name\"] for evolution in pokemon.get(\"next_evolution\", [])]),\n",
        "        \"prev_evolution\": \",\".join([evolution[\"name\"] for evolution in pokemon.get(\"prev_evolution\", [])])\n",
        "    })\n",
        "\n",
        "\n",
        "  # Create a DataFrame from the extracted data\n",
        "  df = pd.DataFrame(extracted_data)\n",
        "\n",
        "  # Save the DataFrame to Excel\n",
        "  df.to_excel(output_file, index=False)\n",
        "\n",
        "  print(\"Data converted and saved to\", output_file)\n"
      ]
    },
    {
      "cell_type": "code",
      "source": [
        "url = \"https://raw.githubusercontent.com/Biuni/PokemonGO-Pokedex/master/pokedex.json\"\n",
        "output_file = \"pokemon_data.xlsx\"\n",
        "download_and_convert_data(url, output_file)"
      ],
      "metadata": {
        "colab": {
          "base_uri": "https://localhost:8080/"
        },
        "id": "nYb08FnjU4nZ",
        "outputId": "58a6ad8e-d168-4303-e99c-8986126d591d"
      },
      "execution_count": 9,
      "outputs": [
        {
          "output_type": "stream",
          "name": "stdout",
          "text": [
            "Data converted and saved to pokemon_data.xlsx\n"
          ]
        }
      ]
    },
    {
      "cell_type": "code",
      "source": [],
      "metadata": {
        "id": "6KGoqU8uWinP"
      },
      "execution_count": null,
      "outputs": []
    }
  ]
}