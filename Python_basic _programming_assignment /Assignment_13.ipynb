{
  "nbformat": 4,
  "nbformat_minor": 0,
  "metadata": {
    "colab": {
      "provenance": [],
      "authorship_tag": "ABX9TyOidCC9oZ/6eDRbQu2tI/Sk",
      "include_colab_link": true
    },
    "kernelspec": {
      "name": "python3",
      "display_name": "Python 3"
    },
    "language_info": {
      "name": "python"
    }
  },
  "cells": [
    {
      "cell_type": "markdown",
      "metadata": {
        "id": "view-in-github",
        "colab_type": "text"
      },
      "source": [
        "<a href=\"https://colab.research.google.com/github/Somesh140/iNeauron_FSDS_Assignments/blob/main/Python_basic%20_programming_assignment%20/Assignment_13.ipynb\" target=\"_parent\"><img src=\"https://colab.research.google.com/assets/colab-badge.svg\" alt=\"Open In Colab\"/></a>"
      ]
    },
    {
      "cell_type": "markdown",
      "source": [
        "Question 1:\n",
        "Write a program that calculates and prints the value according to the given formula:\n",
        "Q = Square root of [(2 * C * D)/H]\n",
        "Following are the fixed values of C and H:\n",
        "C is 50. H is 30.\n",
        "D is the variable whose values should be input to your program in a comma-separated\n",
        "sequence.\n",
        "Example\n",
        "Let us assume the following comma separated input sequence is given to the program:\n",
        "100,150,180\n",
        "The output of the program should be:\n",
        "18,22,24\n",
        "\n",
        "Question 2:\n",
        "Write a program which takes 2 digits, X,Y as input and generates a 2-dimensional array. The\n",
        "element value in the i-th row and j-th column of the array should be i*j.\n",
        "Note: i=0,1.., X-1; j=0,1,¡Y-1.\n",
        "Example\n",
        "Suppose the following inputs are given to the program:\n",
        "3,5\n",
        "Then, the output of the program should be:\n",
        "[[0, 0, 0, 0, 0], [0, 1, 2, 3, 4], [0, 2, 4, 6, 8]]\n",
        "\n",
        "Question 3:\n",
        "Write a program that accepts a comma separated sequence of words as input and prints the\n",
        "words in a comma-separated sequence after sorting them alphabetically.\n",
        "Suppose the following input is supplied to the program:\n",
        "without,hello,bag,world\n",
        "Then, the output should be:\n",
        "bag,hello,without,world\n",
        "\n",
        "Question 4:\n",
        "Write a program that accepts a sequence of whitespace separated words as input and prints\n",
        "the words after removing all duplicate words and sorting them alphanumerically.\n",
        "Suppose the following input is supplied to the program:\n",
        "hello world and practice makes perfect and hello world again\n",
        "Then, the output should be:\n",
        "again and hello makes perfect practice world\n",
        "\n",
        "Question 5:\n",
        "Write a program that accepts a sentence and calculate the number of letters and digits.\n",
        "Suppose the following input is supplied to the program:\n",
        "hello world! 123\n",
        "Then, the output should be:\n",
        "LETTERS 10\n",
        "\n",
        "DIGITS 3\n",
        "\n",
        "Question 6:\n",
        "A website requires the users to input username and password to register. Write a program to\n",
        "check the validity of password input by users.\n",
        "Following are the criteria for checking the password:\n",
        "1. At least 1 letter between [a-z]\n",
        "2. At least 1 number between [0-9]\n",
        "1. At least 1 letter between [A-Z]\n",
        "3. At least 1 character from [$#@]\n",
        "4. Minimum length of transaction password: 6\n",
        "5. Maximum length of transaction password: 12\n",
        "Your program should accept a sequence of comma separated passwords and will check them\n",
        "according to the above criteria. Passwords that match the criteria are to be printed, each\n",
        "separated by a comma.\n",
        "Example\n",
        "If the following passwords are given as input to the program:\n",
        "ABd1234@1,a F1#,2w3E*,2We3345\n",
        "Then, the output of the program should be:\n",
        "ABd1234@1"
      ],
      "metadata": {
        "id": "9BAd1W0EhE7e"
      }
    },
    {
      "cell_type": "code",
      "execution_count": 2,
      "metadata": {
        "colab": {
          "base_uri": "https://localhost:8080/"
        },
        "id": "s8M1sbgYgTFE",
        "outputId": "e750ef29-2107-4cc9-e40f-b9fd4a6f68d4"
      },
      "outputs": [
        {
          "output_type": "stream",
          "name": "stdout",
          "text": [
            "Enter comma-separated values of D: 100,150,180\n",
            "18,22,24\n"
          ]
        }
      ],
      "source": [
        "#1 \n",
        "import math\n",
        "\n",
        "C = 50\n",
        "H = 30\n",
        "\n",
        "D = input(\"Enter comma-separated values of D: \")\n",
        "\n",
        "D = D.split(\",\")\n",
        "\n",
        "result = []\n",
        "\n",
        "for i in D:\n",
        "    Q = round(math.sqrt((2 * C * int(i))/H))\n",
        "    result.append(str(Q))\n",
        "\n",
        "print(\",\".join(result))"
      ]
    },
    {
      "cell_type": "code",
      "source": [
        "#2\n",
        "def generate_2D_array(X, Y):\n",
        "    result = []\n",
        "    for i in range(X):\n",
        "        row = []\n",
        "        for j in range(Y):\n",
        "            row.append(i * j)\n",
        "        result.append(row)\n",
        "    return result\n",
        "\n",
        "X, Y = input(\"Enter X and Y values: \").split(\",\")\n",
        "result = generate_2D_array(int(X), int(Y))\n",
        "print(result)\n"
      ],
      "metadata": {
        "colab": {
          "base_uri": "https://localhost:8080/"
        },
        "id": "YQqRB2qGhbGS",
        "outputId": "4646814f-57af-4fc1-94a0-fa215d9a87a6"
      },
      "execution_count": 3,
      "outputs": [
        {
          "output_type": "stream",
          "name": "stdout",
          "text": [
            "Enter X and Y values: 3,5\n",
            "[[0, 0, 0, 0, 0], [0, 1, 2, 3, 4], [0, 2, 4, 6, 8]]\n"
          ]
        }
      ]
    },
    {
      "cell_type": "code",
      "source": [
        "#3\n",
        "words = input(\"Enter comma-separated words: \")\n",
        "words = words.split(\",\")\n",
        "words.sort()\n",
        "print(\",\".join(words))\n"
      ],
      "metadata": {
        "colab": {
          "base_uri": "https://localhost:8080/"
        },
        "id": "hMqGVpfPiE8H",
        "outputId": "e713baac-fcab-49bc-9c75-2e6f394d781c"
      },
      "execution_count": 4,
      "outputs": [
        {
          "output_type": "stream",
          "name": "stdout",
          "text": [
            "Enter comma-separated words: without,hello,bag,world\n",
            "bag,hello,without,world\n"
          ]
        }
      ]
    },
    {
      "cell_type": "code",
      "source": [
        "#4\n",
        "words = input(\"Enter whitespace-separated words: \")\n",
        "words = words.split()\n",
        "words = list(set(words))\n",
        "words.sort()\n",
        "print(\" \".join(words))\n"
      ],
      "metadata": {
        "colab": {
          "base_uri": "https://localhost:8080/"
        },
        "id": "oVWGRH7xiSIB",
        "outputId": "06e71ea9-d229-449a-8bb1-437ea9dd8274"
      },
      "execution_count": 5,
      "outputs": [
        {
          "output_type": "stream",
          "name": "stdout",
          "text": [
            "Enter whitespace-separated words: hello world practice makes perfect hello world\n",
            "hello makes perfect practice world\n"
          ]
        }
      ]
    },
    {
      "cell_type": "code",
      "source": [
        "#5\n",
        "sentence = input(\"Enter a sentence: \")\n",
        "letters = 0\n",
        "digits = 0\n",
        "for char in sentence:\n",
        "    if char.isalpha():\n",
        "        letters += 1\n",
        "    elif char.isdigit():\n",
        "        digits += 1\n",
        "\n",
        "print(\"LETTERS\", letters)\n",
        "print(\"DIGITS\", digits)\n"
      ],
      "metadata": {
        "colab": {
          "base_uri": "https://localhost:8080/"
        },
        "id": "0799Xq1HijAL",
        "outputId": "443cc77c-3e22-4509-fa39-5dd691347f4e"
      },
      "execution_count": 6,
      "outputs": [
        {
          "output_type": "stream",
          "name": "stdout",
          "text": [
            "Enter a sentence: hello world! 123\n",
            "LETTERS 10\n",
            "DIGITS 3\n"
          ]
        }
      ]
    },
    {
      "cell_type": "code",
      "source": [
        "#6\n",
        "import re\n",
        "\n",
        "passwords = input(\"Enter comma-separated passwords: \")\n",
        "passwords = passwords.split(\",\")\n",
        "\n",
        "valid_passwords = []\n",
        "\n",
        "for password in passwords:\n",
        "    if len(password) < 6 or len(password) > 12:\n",
        "        continue\n",
        "    if not re.search(\"[a-z]\", password):\n",
        "        continue\n",
        "    if not re.search(\"[A-Z]\", password):\n",
        "        continue\n",
        "    if not re.search(\"[0-9]\", password):\n",
        "        continue\n",
        "    if not re.search(\"[$#@]\", password):\n",
        "        continue\n",
        "    valid_passwords.append(password)\n",
        "\n",
        "print(\",\".join(valid_passwords))"
      ],
      "metadata": {
        "colab": {
          "base_uri": "https://localhost:8080/"
        },
        "id": "Za0vlQk_iwBN",
        "outputId": "411ce7f5-6ff1-4bf6-dbdc-8383503bace7"
      },
      "execution_count": 7,
      "outputs": [
        {
          "output_type": "stream",
          "name": "stdout",
          "text": [
            "Enter comma-separated passwords: ABd1234@1,a F1#,2w3E*,2We3345\n",
            "ABd1234@1\n"
          ]
        }
      ]
    },
    {
      "cell_type": "code",
      "source": [],
      "metadata": {
        "id": "hedk5fl-jIdB"
      },
      "execution_count": null,
      "outputs": []
    }
  ]
}