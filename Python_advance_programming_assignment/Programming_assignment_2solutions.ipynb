{
  "nbformat": 4,
  "nbformat_minor": 0,
  "metadata": {
    "colab": {
      "provenance": [],
      "authorship_tag": "ABX9TyNbjz/pfY7PETozKPfw3m2H"
    },
    "kernelspec": {
      "name": "python3",
      "display_name": "Python 3"
    },
    "language_info": {
      "name": "python"
    }
  },
  "cells": [
    {
      "cell_type": "markdown",
      "source": [
        "[Programming_assignment_2_question](https://docs.google.com/document/d/1tX6u1TzQhvcG1_R-6LB2r5PMKCfDpb35/edit?usp=sharing&ouid=102667678895147843990&rtpof=true&sd=true)"
      ],
      "metadata": {
        "id": "Btzy2A4zr4xQ"
      }
    },
    {
      "cell_type": "markdown",
      "source": [
        "Q1 Solution:"
      ],
      "metadata": {
        "id": "v_mx-NcusIIx"
      }
    },
    {
      "cell_type": "code",
      "execution_count": null,
      "metadata": {
        "colab": {
          "base_uri": "https://localhost:8080/"
        },
        "id": "fbswpycIrgzE",
        "outputId": "494577c1-9a13-418e-c5eb-73a62cff0350"
      },
      "outputs": [
        {
          "output_type": "stream",
          "name": "stdout",
          "text": [
            "1\n",
            "6\n",
            "16\n",
            "31\n",
            "51\n",
            "76\n",
            "106\n",
            "141\n"
          ]
        }
      ],
      "source": [
        "def pentagonal(num):\n",
        "  dots = 1\n",
        "  for i in range(1, num):\n",
        "    dots += (i * 5)\n",
        "  return dots\n",
        "\n",
        "\n",
        "\n",
        "print(pentagonal(1)) # 1\n",
        "print(pentagonal(2)) # 6\n",
        "print(pentagonal(3))\n",
        "print(pentagonal(4))\n",
        "print(pentagonal(5))\n",
        "print(pentagonal(6))\n",
        "print(pentagonal(7)) # 16\n",
        "print(pentagonal(8)) # 141"
      ]
    },
    {
      "cell_type": "markdown",
      "source": [
        "Q2 solution:"
      ],
      "metadata": {
        "id": "dwRY2S3wu3wI"
      }
    },
    {
      "cell_type": "code",
      "source": [
        "def encrypt(message):\n",
        "  vowels = {\"a\": \"0\", \"e\": \"1\", \"i\": \"2\", \"o\": \"2\", \"u\": \"3\"}\n",
        "  message = message[::-1]\n",
        "  for vowel in vowels:\n",
        "    message = message.replace(vowel, vowels[vowel])\n",
        "  return message + \"aca\"\n",
        "\n",
        "print(encrypt(\"banana\")) # \"0n0n0baca\"\n",
        "print(encrypt(\"karaca\")) # \"0c0r0kaca\"\n",
        "print(encrypt(\"burak\")) # \"k0r3baca\"\n",
        "print(encrypt(\"alpaca\")) # \"0c0pl0aca\""
      ],
      "metadata": {
        "id": "tbW9T-OEsn_X",
        "colab": {
          "base_uri": "https://localhost:8080/"
        },
        "outputId": "0e6a8401-41d0-44da-b480-7a65b571cfc0"
      },
      "execution_count": 7,
      "outputs": [
        {
          "output_type": "stream",
          "name": "stdout",
          "text": [
            "0n0n0baca\n",
            "0c0r0kaca\n",
            "k0r3baca\n",
            "0c0pl0aca\n"
          ]
        }
      ]
    },
    {
      "cell_type": "markdown",
      "source": [
        "Q3. Solution:"
      ],
      "metadata": {
        "id": "x3VjhB7d0NSa"
      }
    },
    {
      "cell_type": "code",
      "source": [
        "import datetime\n",
        "\n",
        "def has_friday_13(month, year):\n",
        "  date = datetime.date(year, month, 13)\n",
        "  return date.strftime(\"%A\") == \"Friday\"\n",
        "\n",
        "print(has_friday_13(3, 2020)) # True\n",
        "print(has_friday_13(10, 2017)) # True\n",
        "print(has_friday_13(1, 1985)) # False"
      ],
      "metadata": {
        "colab": {
          "base_uri": "https://localhost:8080/"
        },
        "id": "1anLdOa80Go5",
        "outputId": "c2494de8-772d-4134-85d7-536ffd673904"
      },
      "execution_count": 9,
      "outputs": [
        {
          "output_type": "stream",
          "name": "stdout",
          "text": [
            "True\n",
            "True\n",
            "False\n"
          ]
        }
      ]
    },
    {
      "cell_type": "markdown",
      "source": [
        "Q4 Solution:"
      ],
      "metadata": {
        "id": "Kh976u7h9Ax6"
      }
    },
    {
      "cell_type": "code",
      "source": [
        "import re\n",
        "\n",
        "lst = [\"bad cookie\", \"good cookie\", \"bad cookie\", \"good cookie\", \"good cookie\"]\n",
        "pattern = \"(?<!good )cookie\"\n",
        "print(len(re.findall(pattern, \", \".join(lst)))) # 2"
      ],
      "metadata": {
        "colab": {
          "base_uri": "https://localhost:8080/"
        },
        "id": "11L99LQd2X7H",
        "outputId": "f0f0a4f3-a3c0-4d03-cf6c-3aaaf6d7e53b"
      },
      "execution_count": 10,
      "outputs": [
        {
          "output_type": "stream",
          "name": "stdout",
          "text": [
            "2\n"
          ]
        }
      ]
    },
    {
      "cell_type": "markdown",
      "source": [
        "Q5 Solution:"
      ],
      "metadata": {
        "id": "k4v0WAg19VeD"
      }
    },
    {
      "cell_type": "code",
      "source": [
        "def pluralize(lst):\n",
        "  count = {}\n",
        "  for word in lst:\n",
        "    if word in count:\n",
        "      count[word] += 1\n",
        "    else:\n",
        "      count[word] = 1\n",
        "  return {word + \"s\" if count[word] > 1 else word for word in count }\n",
        "\n",
        "print(pluralize([\"cow\", \"pig\", \"cow\", \"cow\"])) # {\"cows\", \"pig\"}\n",
        "print(pluralize([\"table\", \"table\", \"table\"])) # {\"tables\"}\n",
        "print(pluralize([\"chair\", \"pencil\", \"arm\"])) # {\"chair\", \"pencil\", \"arm\"} "
      ],
      "metadata": {
        "colab": {
          "base_uri": "https://localhost:8080/"
        },
        "id": "V9H1-6-I8_Ef",
        "outputId": "2fc7375e-605e-4938-c24b-0c75791962d2"
      },
      "execution_count": 15,
      "outputs": [
        {
          "output_type": "stream",
          "name": "stdout",
          "text": [
            "{'pig', 'cows'}\n",
            "{'tables'}\n",
            "{'chair', 'pencil', 'arm'}\n"
          ]
        }
      ]
    },
    {
      "cell_type": "code",
      "source": [],
      "metadata": {
        "id": "CTpxYt0596sk"
      },
      "execution_count": null,
      "outputs": []
    }
  ]
}