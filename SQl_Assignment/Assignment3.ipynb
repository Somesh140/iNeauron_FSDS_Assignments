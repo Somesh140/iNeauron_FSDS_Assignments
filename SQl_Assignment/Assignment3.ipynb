{
  "nbformat": 4,
  "nbformat_minor": 0,
  "metadata": {
    "colab": {
      "provenance": [],
      "authorship_tag": "ABX9TyPWFvDI8xTuqHzUCsgrcCK8"
    },
    "kernelspec": {
      "name": "python3",
      "display_name": "Python 3"
    },
    "language_info": {
      "name": "python"
    }
  },
  "cells": [
    {
      "cell_type": "markdown",
      "source": [
        "Q-1. Write an SQL query to print the FIRST_NAME from Worker table after removing\n",
        "white spaces from the right side.\n",
        "\n",
        "Q-2. Write an SQL query that fetches the unique values of DEPARTMENT from Worker\n",
        "table and prints its length.\n",
        "\n",
        "Q-3. Write an SQL query to fetch nth max salaries from a table.\n",
        "\n",
        "\n",
        "\n",
        "```\n",
        "# 1\n",
        "SELECT RTRIM(FIRST_NAME) AS FIRST_NAME FROM Worker;\n",
        "\n",
        "#2\n",
        "SELECT COUNT(DISTINCT DEPARTMENT) AS DEPARTMENT_COUNT FROM Worker;\n",
        "\n",
        "#3\n",
        "SELECT DISTINCT Salary FROM Worker w1\n",
        "WHERE n = (SELECT COUNT(DISTINCT Salary) FROM Worker w2 WHERE w2.Salary > w1.Salary)\n",
        "\n",
        "```\n",
        "\n"
      ],
      "metadata": {
        "id": "Xj4XASa16C0u"
      }
    },
    {
      "cell_type": "code",
      "execution_count": null,
      "metadata": {
        "id": "PaWhCdCc5c_K"
      },
      "outputs": [],
      "source": []
    }
  ]
}