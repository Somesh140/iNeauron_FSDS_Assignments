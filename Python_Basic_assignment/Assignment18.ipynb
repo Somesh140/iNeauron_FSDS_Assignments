{
  "nbformat": 4,
  "nbformat_minor": 0,
  "metadata": {
    "colab": {
      "provenance": [],
      "authorship_tag": "ABX9TyM2qOFoFyo+m7rxcMhqwdtc"
    },
    "kernelspec": {
      "name": "python3",
      "display_name": "Python 3"
    },
    "language_info": {
      "name": "python"
    }
  },
  "cells": [
    {
      "cell_type": "markdown",
      "source": [
        "1. Create a zoo.py file first. Define the hours() function, which prints the string &#39;Open 9-5 daily&#39;.\n",
        "Then, use the interactive interpreter to import the zoo module and call its hours() function.\n",
        "2. In the interactive interpreter, import the zoo module as menagerie and call its hours() function.\n",
        "3. Using the interpreter, explicitly import and call the hours() function from zoo.\n",
        "4. Import the hours() function as info and call it.\n",
        "5. Create a plain dictionary with the key-value pairs &#39;a&#39;: 1, &#39;b&#39;: 2, and &#39;c&#39;: 3, and print it out.\n",
        "6.Make an OrderedDict called fancy from the same pairs listed in 5 and print it. Did it print in the\n",
        "same order as plain?\n",
        "7. Make a default dictionary called dict_of_lists and pass it the argument list. Make the list\n",
        "dict_of_lists[&#39;a&#39;] and append the value &#39;something for a&#39; to it in one assignment. Print\n",
        "dict_of_lists[&#39;a&#39;]."
      ],
      "metadata": {
        "id": "3AUCH9J7xNbL"
      }
    },
    {
      "cell_type": "markdown",
      "source": [
        "1. To create a zoo.py file and define the hours() function, you can use any text editor and save the file with the .py extension. Here is an example of what the code in the zoo.py file would look like:\n",
        "\n",
        "```python\n",
        "def hours():\n",
        "    print('Open 9-5 daily')\n",
        "```\n",
        "\n",
        "To use the interactive interpreter to import the zoo module and call its hours() function, you can follow these steps:\n",
        "\n",
        "```\n",
        "$ python\n",
        ">>> import zoo\n",
        ">>> zoo.hours()\n",
        "Open 9-5 daily\n",
        "```\n",
        "\n",
        "2. To import the zoo module as menagerie and call its hours() function, you can use the following code in the interactive interpreter:\n",
        "\n",
        "```\n",
        "$ python\n",
        ">>> import zoo as menagerie\n",
        ">>> menagerie.hours()\n",
        "Open 9-5 daily\n",
        "```\n",
        "\n",
        "3. To explicitly import and call the hours() function from zoo using the interpreter, you can use the following code:\n",
        "\n",
        "```\n",
        "$ python\n",
        ">>> from zoo import hours\n",
        ">>> hours()\n",
        "Open 9-5 daily\n",
        "```\n",
        "\n",
        "4. To import the hours() function as info and call it, you can use the following code:\n",
        "\n",
        "```\n",
        "$ python\n",
        ">>> from zoo import hours as info\n",
        ">>> info()\n",
        "Open 9-5 daily\n",
        "```\n",
        "\n",
        "5. To create a plain dictionary with the key-value pairs 'a': 1, 'b': 2, and 'c': 3, you can use the following code:\n",
        "\n",
        "```python\n",
        "plain_dict = {'a': 1, 'b': 2, 'c': 3}\n",
        "print(plain_dict)\n",
        "```\n",
        "\n",
        "This will output:\n",
        "\n",
        "```\n",
        "{'a': 1, 'b': 2, 'c': 3}\n",
        "```\n",
        "\n",
        "6. To make an OrderedDict called fancy from the same pairs listed in 5 and print it, you can use the following code:\n",
        "\n",
        "```python\n",
        "from collections import OrderedDict\n",
        "\n",
        "fancy_dict = OrderedDict([('a', 1), ('b', 2), ('c', 3)])\n",
        "print(fancy_dict)\n",
        "```\n",
        "\n",
        "This will output:\n",
        "\n",
        "```\n",
        "OrderedDict([('a', 1), ('b', 2), ('c', 3)])\n",
        "```\n",
        "\n",
        "Yes, it printed in the same order as plain.\n",
        "\n",
        "7. To make a default dictionary called dict_of_lists and pass it the argument list, make the list dict_of_lists['a'] and append the value 'something for a' to it in one assignment, and then print dict_of_lists['a'], you can use the following code:\n",
        "\n",
        "```python\n",
        "from collections import defaultdict\n",
        "\n",
        "dict_of_lists = defaultdict(list)\n",
        "dict_of_lists['a'].append('something for a')\n",
        "print(dict_of_lists['a'])\n",
        "```\n",
        "\n",
        "This will output:\n",
        "\n",
        "```\n",
        "['something for a']\n",
        "```\n",
        "\n",
        "The defaultdict automatically creates an empty list for the key 'a' when it doesn't exist yet, so we can directly append to it without having to initialize it first."
      ],
      "metadata": {
        "id": "EMd2i357xPZS"
      }
    },
    {
      "cell_type": "code",
      "execution_count": null,
      "metadata": {
        "id": "nksVfRPMxJvx"
      },
      "outputs": [],
      "source": []
    }
  ]
}