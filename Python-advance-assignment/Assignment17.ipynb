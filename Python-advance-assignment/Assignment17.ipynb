{
  "nbformat": 4,
  "nbformat_minor": 0,
  "metadata": {
    "colab": {
      "provenance": [],
      "authorship_tag": "ABX9TyPnAh8OOviS9sQEH+2dwfli",
      "include_colab_link": true
    },
    "kernelspec": {
      "name": "python3",
      "display_name": "Python 3"
    },
    "language_info": {
      "name": "python"
    }
  },
  "cells": [
    {
      "cell_type": "markdown",
      "metadata": {
        "id": "view-in-github",
        "colab_type": "text"
      },
      "source": [
        "<a href=\"https://colab.research.google.com/github/Somesh140/iNeauron_FSDS_Assignments/blob/main/Python-advance-assignment/Assignment17.ipynb\" target=\"_parent\"><img src=\"https://colab.research.google.com/assets/colab-badge.svg\" alt=\"Open In Colab\"/></a>"
      ]
    },
    {
      "cell_type": "markdown",
      "source": [
        "Q1. Explain the difference between greedy and non-greedy syntax with visual terms in as few words\n",
        "as possible. What is the bare minimum effort required to transform a greedy pattern into a non-greedy\n",
        "one? What characters or characters can you introduce or change?\n",
        "\n",
        "Q2. When exactly does greedy versus non-greedy make a difference?  What if you&#39;re looking for a\n",
        "non-greedy match but the only one available is greedy?\n",
        "\n",
        "Q3. In a simple match of a string, which looks only for one match and does not do any replacement, is\n",
        "the use of a nontagged group likely to make any practical difference?\n",
        "\n",
        "Q4. Describe a scenario in which using a nontagged category would have a significant impact on the\n",
        "program&#39;s outcomes.\n",
        "\n",
        "Q5. Unlike a normal regex pattern, a look-ahead condition does not consume the characters it\n",
        "examines. Describe a situation in which this could make a difference in the results of your\n",
        "programme.\n",
        "\n",
        "Q6. In standard expressions, what is the difference between positive look-ahead and negative look-\n",
        "ahead?\n",
        "\n",
        "Q7. What is the benefit of referring to groups by name rather than by number in a standard\n",
        "expression?\n",
        "\n",
        "Q8. Can you identify repeated items within a target string using named groups, as in &quot;The cow\n",
        "jumped over the moon&quot;?\n",
        "\n",
        "Q9. When parsing a string, what is at least one thing that the Scanner interface does for you that the\n",
        "re.findall feature does not?\n",
        "\n",
        "Q10. Does a scanner object have to be named scanner?"
      ],
      "metadata": {
        "id": "QKE7Evh8ztNJ"
      }
    },
    {
      "cell_type": "markdown",
      "source": [
        "#Answer"
      ],
      "metadata": {
        "id": "TRKxM4Izzupl"
      }
    },
    {
      "cell_type": "markdown",
      "source": [
        "Q1. The difference between greedy and non-greedy syntax:\n",
        "\n",
        "- Greedy: Matches as much as possible while still allowing the overall pattern to match.\n",
        "- Non-greedy: Matches as little as possible while still allowing the overall pattern to match.\n",
        "\n",
        "To transform a greedy pattern into a non-greedy one, you can introduce the question mark (`?`) after a quantifier. For example, changing `*` to `*?` or `+` to `+?`.\n",
        "\n",
        "Q2. Greedy versus non-greedy makes a difference when there are multiple possible matches within the input string. Greedy matching will try to match as much as possible, potentially consuming parts that could have been matched by subsequent patterns. In contrast, non-greedy matching will try to match as little as possible, allowing subsequent patterns to match more content.\n",
        "\n",
        "If you are looking for a non-greedy match, but the only available match is greedy, you can introduce a more specific constraint in your pattern to make it non-greedy. For example, by using a negated character class (`[^...]`) or a more specific pattern that restricts the possible matches.\n",
        "\n",
        "Q3. In a simple match of a string without any replacements, using a non-tagged group (a group without capturing parentheses) generally does not make a practical difference. Non-tagged groups are primarily used for grouping and altering the behavior of the pattern but do not affect the retrieval of matched content.\n",
        "\n",
        "Q4. A scenario where using a non-tagged category would have a significant impact on the program's outcomes is when you need to group multiple elements together but do not want to capture them for further processing. Non-tagged groups can be useful in such cases to improve the organization and readability of the pattern while avoiding unnecessary capturing of groups.\n",
        "\n",
        "Q5. The situation where a look-ahead condition not consuming characters could make a difference in the program's results is when you want to match a pattern based on the presence or absence of certain characters, but you don't want those characters to be included in the matched result. This can be useful for assertions or validations without affecting the actual content being matched.\n",
        "\n",
        "Q6. In standard regular expressions:\n",
        "\n",
        "- Positive Look-Ahead: It matches a pattern only if it is followed by another pattern. The syntax is `(?=...)`. For example, `foo(?=bar)` matches \"foo\" only if it is followed by \"bar\".\n",
        "\n",
        "- Negative Look-Ahead: It matches a pattern only if it is not followed by another pattern. The syntax is `(?!...)`. For example, `foo(?!bar)` matches \"foo\" only if it is not followed by \"bar\".\n",
        "\n",
        "Q7. The benefit of referring to groups by name rather than by number in a standard expression is improved code readability and maintainability. When using named groups, the pattern becomes self-descriptive, making it easier to understand the purpose of each captured group. Additionally, if the order of the groups changes, the code using named groups remains unaffected.\n",
        "\n",
        "Q8. Yes, you can identify repeated items within a target string using named groups. For example, in the string \"The cow jumped over the moon\", you can use the pattern `(?P<word>\\b\\w+\\b).*\\b(?P=word)\\b` to match and identify any repeated word in the string.\n",
        "\n",
        "Q9. When parsing a string, the Scanner interface provides tokenization capabilities, allowing you to break the input string into meaningful units (tokens) based on predefined patterns. It automatically handles the iteration over the string, skipping delimiters, and returning the next token. In contrast, the `re.findall` feature returns all non-overlapping matches of a pattern in a string without any tokenization.\n",
        "\n",
        "Q10. No, a scanner object does not have to be named \"scanner.\" You can choose any valid variable name according to the naming conventions of the programming language you are using. The name \"scanner\" is commonly used to convey the purpose of the object, but it is not a requirement."
      ],
      "metadata": {
        "id": "8AhQX-CCzwDm"
      }
    },
    {
      "cell_type": "code",
      "execution_count": null,
      "metadata": {
        "id": "xkIM2gGzzp4L"
      },
      "outputs": [],
      "source": []
    }
  ]
}