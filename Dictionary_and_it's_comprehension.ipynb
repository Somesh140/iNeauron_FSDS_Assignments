{
  "nbformat": 4,
  "nbformat_minor": 0,
  "metadata": {
    "colab": {
      "provenance": [],
      "authorship_tag": "ABX9TyMUWBOOLM3hROK8EcE6Ueau",
      "include_colab_link": true
    },
    "kernelspec": {
      "name": "python3",
      "display_name": "Python 3"
    },
    "language_info": {
      "name": "python"
    }
  },
  "cells": [
    {
      "cell_type": "markdown",
      "metadata": {
        "id": "view-in-github",
        "colab_type": "text"
      },
      "source": [
        "<a href=\"https://colab.research.google.com/github/Somesh140/iNeauron_FSDS_Assignments/blob/main/Dictionary_and_it's_comprehension.ipynb\" target=\"_parent\"><img src=\"https://colab.research.google.com/assets/colab-badge.svg\" alt=\"Open In Colab\"/></a>"
      ]
    },
    {
      "cell_type": "markdown",
      "source": [
        "Q14:\n",
        "Write a program to add multiple keys into dictionary;\n",
        "\n",
        "dictt= {'person':{ \"Name\" : \"Simulen\", \n",
        "          \"City\" : \"CA\", \n",
        "          \"Country\" : \"USA\"}}"
      ],
      "metadata": {
        "id": "5ozpJM1tvKZU"
      }
    },
    {
      "cell_type": "code",
      "source": [
        "dictt= {'person':{ \"Name\" : \"Simulen\", \n",
        "          \"City\" : \"CA\", \n",
        "          \"Country\" : \"USA\"}}\n",
        "\n",
        "dictt['person']['Company'] = 'Morgan stanely'\n",
        "print(dictt)"
      ],
      "metadata": {
        "colab": {
          "base_uri": "https://localhost:8080/"
        },
        "id": "Dg3BFxzdvKQO",
        "outputId": "de65eaa6-81ff-40ac-e4e8-6e1f5b04eb9e"
      },
      "execution_count": null,
      "outputs": [
        {
          "output_type": "stream",
          "name": "stdout",
          "text": [
            "{'person': {'Name': 'Simulen', 'City': 'CA', 'Country': 'USA', 'Company': 'Morgan stanely'}}\n"
          ]
        }
      ]
    },
    {
      "cell_type": "markdown",
      "source": [
        "Q15:\n",
        "Convert string to dictionary ; \\\n",
        "stringg= ‘ekeeda’\n"
      ],
      "metadata": {
        "id": "N5j79YHotiFC"
      }
    },
    {
      "cell_type": "code",
      "execution_count": null,
      "metadata": {
        "colab": {
          "base_uri": "https://localhost:8080/"
        },
        "id": "fj2a96MVtUXK",
        "outputId": "d1b30e68-3201-4460-ec41-f5e6d0f8b8bf"
      },
      "outputs": [
        {
          "output_type": "stream",
          "name": "stdout",
          "text": [
            "{'e': 3, 'k': 1, 'd': 1, 'a': 1}\n"
          ]
        }
      ],
      "source": [
        "stringg='ekeeda'\n",
        "temp= {}\n",
        "for word in stringg:\n",
        "    temp[word] = temp.get(word, 0) + 1\n",
        "print(temp)"
      ]
    },
    {
      "cell_type": "code",
      "source": [
        "new_dict={}\n",
        "for i in stringg:\n",
        "  if i not in new_dict:\n",
        "    new_dict[i]=1\n",
        "  else :\n",
        "    new_dict[i]+=1\n",
        "print(new_dict)"
      ],
      "metadata": {
        "colab": {
          "base_uri": "https://localhost:8080/"
        },
        "id": "6RvFHUidtwTb",
        "outputId": "4a5f7fcd-0a6e-42d4-b189-e7cb195aa58a"
      },
      "execution_count": null,
      "outputs": [
        {
          "output_type": "stream",
          "name": "stdout",
          "text": [
            "{'e': 3, 'k': 1, 'd': 1, 'a': 1}\n"
          ]
        }
      ]
    },
    {
      "cell_type": "markdown",
      "source": [
        "Q1:\n",
        "Use dictionary comprehension to make dictionary from following keys and values given;\n",
        "\n",
        "keys = ['E','K','E','E','D','A']\n",
        "values = [1,2,3,4,5,6]\n",
        "\n"
      ],
      "metadata": {
        "id": "EHxt0HJZk6mN"
      }
    },
    {
      "cell_type": "code",
      "source": [
        "keys = ['E','K','E','E','D','A']\n",
        "values = [1,2,3,4,5,6]"
      ],
      "metadata": {
        "id": "Jn0Bd47zuKFK"
      },
      "execution_count": null,
      "outputs": []
    },
    {
      "cell_type": "code",
      "source": [
        "myDict={k:v for k,v in zip(keys,values)}\n",
        "print(myDict)"
      ],
      "metadata": {
        "colab": {
          "base_uri": "https://localhost:8080/"
        },
        "id": "9hH4vkYZlSV0",
        "outputId": "c80bdc32-eec8-4c2a-9788-e4a569b5f8d1"
      },
      "execution_count": null,
      "outputs": [
        {
          "output_type": "stream",
          "name": "stdout",
          "text": [
            "{'E': 4, 'K': 2, 'D': 5, 'A': 6}\n"
          ]
        }
      ]
    },
    {
      "cell_type": "markdown",
      "source": [
        "Q2:Write a Python program to add a key to a dictionary.\n",
        "Dicti = {0:’a’, 1:’a’}\n"
      ],
      "metadata": {
        "id": "xr72Vsshlk37"
      }
    },
    {
      "cell_type": "code",
      "source": [
        "Dicti = {0:'a' , 1:'a'}\n",
        "Dicti[2]='a'\n",
        "print(Dicti)"
      ],
      "metadata": {
        "colab": {
          "base_uri": "https://localhost:8080/"
        },
        "id": "-pXPbrR9ldWG",
        "outputId": "b92c5997-86ef-46db-ca5d-daee6ad246ea"
      },
      "execution_count": null,
      "outputs": [
        {
          "output_type": "stream",
          "name": "stdout",
          "text": [
            "{0: 'a', 1: 'a', 2: 'a'}\n"
          ]
        }
      ]
    },
    {
      "cell_type": "markdown",
      "source": [
        "Q3:\n",
        "Write a program to concatenate the given dictionaries; \\\n",
        "dictt1={1:10, 2:20} \\\n",
        "dictt2={3:30, 4:40} \\\n",
        "dictt3={5:50,6:60} \\\n"
      ],
      "metadata": {
        "id": "heNlXJAGl9LC"
      }
    },
    {
      "cell_type": "code",
      "source": [
        "dictt1={1:10, 2:20}\n",
        "dictt2={3:30, 4:40}\n",
        "dictt3={5:50,6:60}\n",
        "dictt4={}\n",
        "for d in (dictt1, dictt2, dictt3):\n",
        "  dictt4.update(d)\n",
        "\n",
        "print(dictt4)"
      ],
      "metadata": {
        "colab": {
          "base_uri": "https://localhost:8080/"
        },
        "id": "gDyuhEwHlsY3",
        "outputId": "5dfacf5d-7868-4ecf-fb23-14b99c09baca"
      },
      "execution_count": null,
      "outputs": [
        {
          "output_type": "stream",
          "name": "stdout",
          "text": [
            "{1: 10, 2: 20, 3: 30, 4: 40, 5: 50, 6: 60}\n"
          ]
        }
      ]
    },
    {
      "cell_type": "markdown",
      "source": [
        "Q4:\n",
        "Create a dictionary having Values=key*key and keys ranging from 1 to n\n"
      ],
      "metadata": {
        "id": "AI0G_9qYmn3i"
      }
    },
    {
      "cell_type": "code",
      "source": [
        "dict1={}\n",
        "n=int(input(\"enter range integer\"))\n",
        "for i in range (1, n+1):\n",
        "  dict1[i]=i*i\n",
        "print(dict1)"
      ],
      "metadata": {
        "colab": {
          "base_uri": "https://localhost:8080/"
        },
        "id": "el-S0YJameHv",
        "outputId": "42a46f62-610b-4b1b-855d-8c9ec1a686ed"
      },
      "execution_count": null,
      "outputs": [
        {
          "output_type": "stream",
          "name": "stdout",
          "text": [
            "enter range integer5\n",
            "{1: 1, 2: 4, 3: 9, 4: 16, 5: 25}\n"
          ]
        }
      ]
    },
    {
      "cell_type": "markdown",
      "source": [
        "Q5:\n",
        "Write a Python program to convert given a dictionary to a list of tuples\n"
      ],
      "metadata": {
        "id": "FAOVT6MknJZw"
      }
    },
    {
      "cell_type": "code",
      "source": [
        "dictt1={1:10, 2:20}\n",
        "list(dictt1.items())"
      ],
      "metadata": {
        "colab": {
          "base_uri": "https://localhost:8080/"
        },
        "id": "fLMnyVp9nD6q",
        "outputId": "910836ee-ffdb-4f5b-ed90-fa9ddb02460b"
      },
      "execution_count": null,
      "outputs": [
        {
          "output_type": "execute_result",
          "data": {
            "text/plain": [
              "[(1, 10), (2, 20)]"
            ]
          },
          "metadata": {},
          "execution_count": 13
        }
      ]
    },
    {
      "cell_type": "markdown",
      "source": [
        "Q6:\n",
        "Write a program to make dictionary ranging between keys 7-14(both excluded) and the values are square of the keys"
      ],
      "metadata": {
        "id": "ytFS1hean2Hf"
      }
    },
    {
      "cell_type": "code",
      "source": [
        "dict1={}\n",
        "for i in range(8,14):\n",
        "  dict1[i]=i*i\n",
        "print(dict1)"
      ],
      "metadata": {
        "colab": {
          "base_uri": "https://localhost:8080/"
        },
        "id": "9WuXk6fenwCK",
        "outputId": "7af617cb-931f-4aa7-aa51-3125335224d0"
      },
      "execution_count": null,
      "outputs": [
        {
          "output_type": "stream",
          "name": "stdout",
          "text": [
            "{8: 64, 9: 81, 10: 100, 11: 121, 12: 144, 13: 169}\n"
          ]
        }
      ]
    },
    {
      "cell_type": "markdown",
      "source": [
        "Q7:\n",
        "Write a program to create a dictionary containing some values and add all the value from that dictionary;\n"
      ],
      "metadata": {
        "id": "eCDVmnxPqgkW"
      }
    },
    {
      "cell_type": "code",
      "source": [
        "dict1={1: 10, 2: 20, 3: 30, 4: 40, 5: 50, 6: 60}\n",
        "sum(dict1.values())\n"
      ],
      "metadata": {
        "colab": {
          "base_uri": "https://localhost:8080/"
        },
        "id": "xTA7rdS0qYZm",
        "outputId": "35b91481-a842-45f8-de72-4767a84e421a"
      },
      "execution_count": null,
      "outputs": [
        {
          "output_type": "execute_result",
          "data": {
            "text/plain": [
              "210"
            ]
          },
          "metadata": {},
          "execution_count": 15
        }
      ]
    },
    {
      "cell_type": "markdown",
      "source": [
        "Q8:\n",
        "From the dictionary given below, sort the elements based on the keys; \\\n",
        "dictt = {‘dh’:5, ‘ani’:6,’zimb’: 8}\n"
      ],
      "metadata": {
        "id": "CYxKSMBPsFmX"
      }
    },
    {
      "cell_type": "code",
      "source": [
        "dictt = {'dh':5, 'ani':6,'zimb': 8}\n",
        "\n",
        "dictt2={}\n",
        "for i in sorted(dictt):\n",
        "  dictt2[i]=dictt[i]\n",
        "print(dictt2)"
      ],
      "metadata": {
        "colab": {
          "base_uri": "https://localhost:8080/"
        },
        "id": "7QWtTSW0qtbM",
        "outputId": "d1b91048-b598-406c-bd1e-6dc7fff2099e"
      },
      "execution_count": null,
      "outputs": [
        {
          "output_type": "stream",
          "name": "stdout",
          "text": [
            "{'ani': 6, 'dh': 5, 'zimb': 8}\n"
          ]
        }
      ]
    },
    {
      "cell_type": "markdown",
      "source": [
        "Q9:\n",
        "Create a data for 2 students using dictionary and print it line by line;\n"
      ],
      "metadata": {
        "id": "jpYi6kUPtiU1"
      }
    },
    {
      "cell_type": "code",
      "source": [
        "students = {'Aex':{'class':'V',\n",
        "        'rolld_id':2},\n",
        "        'Puja':{'class':'V',\n",
        "        'roll_id':3}}\n",
        "for a in students:\n",
        "    print(a)\n",
        "    for b in students[a]:\n",
        "        print (b,':',students[a][b])"
      ],
      "metadata": {
        "colab": {
          "base_uri": "https://localhost:8080/"
        },
        "id": "SyCd1s9MsmwP",
        "outputId": "a17acc10-22bb-4542-810b-323738f227a4"
      },
      "execution_count": null,
      "outputs": [
        {
          "output_type": "stream",
          "name": "stdout",
          "text": [
            "Aex\n",
            "class : V\n",
            "rolld_id : 2\n",
            "Puja\n",
            "class : V\n",
            "roll_id : 3\n"
          ]
        }
      ]
    },
    {
      "cell_type": "markdown",
      "source": [
        "Q10:\n",
        "Print a dictionary with key values in a table manner;\n",
        "\n",
        "dict_num = {1: ‘a’, 2: ‘b’, 3: ‘c’, 4: ‘d’, 5: ‘e’, 6: ‘f’}\n"
      ],
      "metadata": {
        "id": "05QRHLHezZ0L"
      }
    },
    {
      "cell_type": "code",
      "source": [
        "dict_num = {1: 'a', 2: 'b', 3: 'c', 4: 'd', 5: 'e', 6: 'f'}\n",
        "for x,(y,z) in enumerate(dict_num.items()):\n",
        "  print(x,y,z)"
      ],
      "metadata": {
        "colab": {
          "base_uri": "https://localhost:8080/"
        },
        "id": "mDnWY-WpuEsn",
        "outputId": "43879cc0-1b6c-44ae-c4b5-a9d5f4a69b31"
      },
      "execution_count": null,
      "outputs": [
        {
          "output_type": "stream",
          "name": "stdout",
          "text": [
            "0 1 a\n",
            "1 2 b\n",
            "2 3 c\n",
            "3 4 d\n",
            "4 5 e\n",
            "5 6 f\n"
          ]
        }
      ]
    },
    {
      "cell_type": "code",
      "source": [
        "for x,y in dict_num.items():\n",
        "  print(x,y)"
      ],
      "metadata": {
        "colab": {
          "base_uri": "https://localhost:8080/"
        },
        "id": "INhyQrbS1M7L",
        "outputId": "7efae9c7-d4ef-473d-d545-abe2c129bd84"
      },
      "execution_count": null,
      "outputs": [
        {
          "output_type": "stream",
          "name": "stdout",
          "text": [
            "1 a\n",
            "2 b\n",
            "3 c\n",
            "4 d\n",
            "5 e\n",
            "6 f\n"
          ]
        }
      ]
    },
    {
      "cell_type": "markdown",
      "source": [
        "Q11:\n",
        "Print the dictionary where we drop the empty value from the dictionary; \\\n",
        "\tdict_num = {1: ‘a’, 2: ‘b’, 3: ‘c’, 4: ‘d’, 5: ‘e’, 6: None}\n"
      ],
      "metadata": {
        "id": "00bfjLgA1xuT"
      }
    },
    {
      "cell_type": "code",
      "source": [
        "dict_num = {1: 'a', 2: 'b', 3: 'c', 4: 'd', 5: 'e', 6: None}\n",
        "dict1={k:v for k,v in dict_num.items() if v is not None }\n",
        "print(dict1) "
      ],
      "metadata": {
        "colab": {
          "base_uri": "https://localhost:8080/"
        },
        "id": "z_tr0KET1qXB",
        "outputId": "d10ab7f2-39f8-49b8-cf39-250e6cde3106"
      },
      "execution_count": null,
      "outputs": [
        {
          "output_type": "stream",
          "name": "stdout",
          "text": [
            "{1: 'a', 2: 'b', 3: 'c', 4: 'd', 5: 'e'}\n"
          ]
        }
      ]
    },
    {
      "cell_type": "markdown",
      "source": [
        "Q12:\n",
        "Check if there’s a particular value in a dict; \\\n",
        "\n",
        "dicttt = {'a': 100, 'b': 200, 'c': 300}\n"
      ],
      "metadata": {
        "id": "T-HkgI6k2aFx"
      }
    },
    {
      "cell_type": "code",
      "source": [
        "dictt={'a':100,'b':200,'c':300}\n",
        "if 200 in dictt.values():\n",
        "  print (True)\n",
        "else:\n",
        "  print(False)"
      ],
      "metadata": {
        "colab": {
          "base_uri": "https://localhost:8080/"
        },
        "id": "0JHBRmAD2UeD",
        "outputId": "f822387a-f9c5-415d-dfdf-a8a150ec638c"
      },
      "execution_count": null,
      "outputs": [
        {
          "output_type": "stream",
          "name": "stdout",
          "text": [
            "True\n"
          ]
        }
      ]
    },
    {
      "cell_type": "markdown",
      "source": [
        "Q13:\n",
        "Check the key for the minimum value in a dictionary;"
      ],
      "metadata": {
        "id": "G2tOdL2YFyaO"
      }
    },
    {
      "cell_type": "code",
      "source": [
        "dictt = {\n",
        "  'Physics': 82,\n",
        "  'Math': 65,\n",
        "  'history': 75\n",
        "}\n",
        "min(dictt)"
      ],
      "metadata": {
        "colab": {
          "base_uri": "https://localhost:8080/",
          "height": 35
        },
        "id": "_rutP1iDCb3M",
        "outputId": "3a82ad27-d4bb-4c4c-9fc5-af2f9133b8ce"
      },
      "execution_count": null,
      "outputs": [
        {
          "output_type": "execute_result",
          "data": {
            "text/plain": [
              "'Math'"
            ],
            "application/vnd.google.colaboratory.intrinsic+json": {
              "type": "string"
            }
          },
          "metadata": {},
          "execution_count": 36
        }
      ]
    },
    {
      "cell_type": "code",
      "source": [],
      "metadata": {
        "id": "g6giwEZ3Kvj2"
      },
      "execution_count": null,
      "outputs": []
    }
  ]
}