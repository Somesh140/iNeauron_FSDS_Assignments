{
 "cells": [
  {
   "cell_type": "markdown",
   "id": "aca4a88e",
   "metadata": {},
   "source": [
    "## 1. Write a Python Program to Check if a Number is Positive, Negative or Zero?"
   ]
  },
  {
   "cell_type": "code",
   "execution_count": 2,
   "id": "c01b2dca",
   "metadata": {},
   "outputs": [
    {
     "name": "stdout",
     "output_type": "stream",
     "text": [
      "Enter a number: 2\n",
      "Positive number\n"
     ]
    }
   ],
   "source": [
    "#take input from the user\n",
    "num = float(input(\"Enter a number: \"))\n",
    "if num > 0:\n",
    "   print(\"Positive number\")\n",
    "elif num == 0:\n",
    "   print(\"Zero\")\n",
    "else:\n",
    "   print(\"Negative number\")"
   ]
  },
  {
   "cell_type": "markdown",
   "id": "0b40dbeb",
   "metadata": {},
   "source": [
    "## 2. Write a Python Program to Check if a Number is Odd or Even?"
   ]
  },
  {
   "cell_type": "code",
   "execution_count": 6,
   "id": "7e22640a",
   "metadata": {},
   "outputs": [
    {
     "name": "stdout",
     "output_type": "stream",
     "text": [
      "enter a number5\n",
      "Number is odd\n"
     ]
    }
   ],
   "source": [
    "# defining function\n",
    "def odd_even():\n",
    "    a = int(input(\"enter a number\"))\n",
    "    if a%2==0: \n",
    "        print(\" NUmber is even\")\n",
    "    else:\n",
    "        print(\"Number is odd\")\n",
    "odd_even() #calling function"
   ]
  },
  {
   "cell_type": "markdown",
   "id": "ee003271",
   "metadata": {},
   "source": [
    "## 3. Write a Python Program to Check Leap Year?"
   ]
  },
  {
   "cell_type": "code",
   "execution_count": 10,
   "id": "cccf453a",
   "metadata": {},
   "outputs": [
    {
     "name": "stdout",
     "output_type": "stream",
     "text": [
      "enter the year2000\n",
      "leap year\n"
     ]
    }
   ],
   "source": [
    "def leapyear(n):# creating function to check ehether leap year or not\n",
    "    if n%4==0:\n",
    "        print(\"leap year\")\n",
    "    else:\n",
    "        print(\"not a leap year\")\n",
    "n= int(input(\"enter the year\"))\n",
    "leapyear(n)"
   ]
  },
  {
   "cell_type": "markdown",
   "id": "24a0248e",
   "metadata": {},
   "source": [
    "## 4. Write a Python Program to Check Prime Number?"
   ]
  },
  {
   "cell_type": "code",
   "execution_count": 25,
   "id": "dddf7d34",
   "metadata": {},
   "outputs": [
    {
     "name": "stdout",
     "output_type": "stream",
     "text": [
      "enter a number37\n",
      "37  is a prime number\n"
     ]
    }
   ],
   "source": [
    "#take input from user\n",
    "a= int(input(\"enter a number\"))\n",
    "flag=False\n",
    "if a>1:\n",
    "    for i in range(2,int(a/2)+1):\n",
    "        if a%i==0:\n",
    "            flag=True\n",
    "            break\n",
    "#check wheth number is prime or not from value of flag \n",
    "if flag:\n",
    "    print(a, \" is not a prime number\")\n",
    "elif a<=1 and flag==False:\n",
    "    print(a,\" is not a prime number\")\n",
    "else:\n",
    "    print(a,\" is a prime number\")"
   ]
  },
  {
   "cell_type": "markdown",
   "id": "96d4ef78",
   "metadata": {},
   "source": [
    "## 5. Write a Python Program to Print all Prime Numbers in an Interval of 1-10000?"
   ]
  },
  {
   "cell_type": "code",
   "execution_count": 32,
   "id": "1ebd5a46",
   "metadata": {},
   "outputs": [
    {
     "name": "stdout",
     "output_type": "stream",
     "text": [
      "List of prime numbers between 1-10000\n",
      "\n",
      "[2, 3, 5, 7, 11, 13, 17, 19, 23, 29, 31, 37, 41, 43, 47, 53, 59, 61, 67, 71, 73, 79, 83, 89, 97, 101, 103, 107, 109, 113, 127, 131, 137, 139, 149, 151, 157, 163, 167, 173, 179, 181, 191, 193, 197, 199, 211, 223, 227, 229, 233, 239, 241, 251, 257, 263, 269, 271, 277, 281, 283, 293, 307, 311, 313, 317, 331, 337, 347, 349, 353, 359, 367, 373, 379, 383, 389, 397, 401, 409, 419, 421, 431, 433, 439, 443, 449, 457, 461, 463, 467, 479, 487, 491, 499, 503, 509, 521, 523, 541, 547, 557, 563, 569, 571, 577, 587, 593, 599, 601, 607, 613, 617, 619, 631, 641, 643, 647, 653, 659, 661, 673, 677, 683, 691, 701, 709, 719, 727, 733, 739, 743, 751, 757, 761, 769, 773, 787, 797, 809, 811, 821, 823, 827, 829, 839, 853, 857, 859, 863, 877, 881, 883, 887, 907, 911, 919, 929, 937, 941, 947, 953, 967, 971, 977, 983, 991, 997]\n"
     ]
    }
   ],
   "source": [
    "#solution\n",
    "l=[]\n",
    "for i in range(2,1000+1):\n",
    "    for j in range(2,int(i/2)+1):\n",
    "        if i%j==0:\n",
    "            break\n",
    "    else:\n",
    "           l.append(i)\n",
    "print(\"List of prime numbers between 1-10000\\n\")\n",
    "print(l)"
   ]
  }
 ],
 "metadata": {
  "kernelspec": {
   "display_name": "Python 3 (ipykernel)",
   "language": "python",
   "name": "python3"
  },
  "language_info": {
   "codemirror_mode": {
    "name": "ipython",
    "version": 3
   },
   "file_extension": ".py",
   "mimetype": "text/x-python",
   "name": "python",
   "nbconvert_exporter": "python",
   "pygments_lexer": "ipython3",
   "version": "3.9.7"
  }
 },
 "nbformat": 4,
 "nbformat_minor": 5
}
