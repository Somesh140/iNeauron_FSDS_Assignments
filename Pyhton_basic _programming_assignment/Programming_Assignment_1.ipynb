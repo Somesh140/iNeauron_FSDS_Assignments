{
 "cells": [
  {
   "cell_type": "markdown",
   "id": "fb9b2fc9",
   "metadata": {},
   "source": [
    "1.\tWrite a Python program to print \"Hello Python\"?"
   ]
  },
  {
   "cell_type": "code",
   "execution_count": 11,
   "id": "6d3a2d57",
   "metadata": {},
   "outputs": [
    {
     "name": "stdout",
     "output_type": "stream",
     "text": [
      "Hello Python\n"
     ]
    }
   ],
   "source": [
    "#solution\n",
    "print(\"Hello Python\")"
   ]
  },
  {
   "cell_type": "markdown",
   "id": "0bca0f9c",
   "metadata": {},
   "source": [
    "2.\tWrite a Python program to do arithmetical operations addition and division.?"
   ]
  },
  {
   "cell_type": "code",
   "execution_count": 12,
   "id": "272805f6",
   "metadata": {},
   "outputs": [
    {
     "data": {
      "text/plain": [
       "3"
      ]
     },
     "execution_count": 12,
     "metadata": {},
     "output_type": "execute_result"
    }
   ],
   "source": [
    "#solution\n",
    "1+2 #addition"
   ]
  },
  {
   "cell_type": "code",
   "execution_count": 13,
   "id": "b447bc93",
   "metadata": {},
   "outputs": [
    {
     "data": {
      "text/plain": [
       "3.0"
      ]
     },
     "execution_count": 13,
     "metadata": {},
     "output_type": "execute_result"
    }
   ],
   "source": [
    "6/2 #division"
   ]
  },
  {
   "cell_type": "markdown",
   "id": "2b5aaa2b",
   "metadata": {},
   "source": [
    "3. Write a Python program to find the area of a triangle?"
   ]
  },
  {
   "cell_type": "code",
   "execution_count": 14,
   "id": "ab5eb543",
   "metadata": {},
   "outputs": [
    {
     "name": "stdout",
     "output_type": "stream",
     "text": [
      "base of the triangle (unit)10\n",
      "Height of the triangle (unit)15\n",
      "Area of triangle is 75.0 \n"
     ]
    }
   ],
   "source": [
    "#solution\n",
    "b = int(input(\"base of the triangle (unit)\"))\n",
    "h = int(input(\"Height of the triangle (unit)\"))\n",
    "area = 0.5*b*h\n",
    "print(\"Area of triangle is {} \".format(area))"
   ]
  },
  {
   "cell_type": "markdown",
   "id": "9b1bcbc8",
   "metadata": {},
   "source": [
    "4.\tWrite a Python program to swap two variables?"
   ]
  },
  {
   "cell_type": "code",
   "execution_count": 15,
   "id": "9475a0fa",
   "metadata": {},
   "outputs": [
    {
     "name": "stdout",
     "output_type": "stream",
     "text": [
      "value of a is 10 and value of b is 20\n",
      "after swapping\n",
      "Value of a is 20 and value of b is 10\n"
     ]
    }
   ],
   "source": [
    "#solution\n",
    "a = 10\n",
    "b = 20\n",
    "print(\"value of a is {} and value of b is {}\".format(a,b))\n",
    "print(\"after swapping\")\n",
    "temp = a\n",
    "a = b\n",
    "b = temp\n",
    "print(\"Value of a is {} and value of b is {}\".format(a,b))"
   ]
  },
  {
   "cell_type": "markdown",
   "id": "ba33c009",
   "metadata": {},
   "source": [
    "5.\tWrite a Python program to generate a random number?"
   ]
  },
  {
   "cell_type": "code",
   "execution_count": 20,
   "id": "e8fa811f",
   "metadata": {},
   "outputs": [
    {
     "name": "stdout",
     "output_type": "stream",
     "text": [
      "random number is 0.27072295709301997\n"
     ]
    }
   ],
   "source": [
    "#solution\n",
    "import numpy as np\n",
    "print(\"random number is {}\".format(np.random.random()))\n"
   ]
  }
 ],
 "metadata": {
  "kernelspec": {
   "display_name": "Python 3 (ipykernel)",
   "language": "python",
   "name": "python3"
  },
  "language_info": {
   "codemirror_mode": {
    "name": "ipython",
    "version": 3
   },
   "file_extension": ".py",
   "mimetype": "text/x-python",
   "name": "python",
   "nbconvert_exporter": "python",
   "pygments_lexer": "ipython3",
   "version": "3.9.7"
  }
 },
 "nbformat": 4,
 "nbformat_minor": 5
}
