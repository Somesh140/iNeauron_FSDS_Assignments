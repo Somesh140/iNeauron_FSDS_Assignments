{
  "nbformat": 4,
  "nbformat_minor": 0,
  "metadata": {
    "colab": {
      "provenance": [],
      "authorship_tag": "ABX9TyPpEgIZ73dHQWHHwsAsMyqr",
      "include_colab_link": true
    },
    "kernelspec": {
      "name": "python3",
      "display_name": "Python 3"
    },
    "language_info": {
      "name": "python"
    }
  },
  "cells": [
    {
      "cell_type": "markdown",
      "metadata": {
        "id": "view-in-github",
        "colab_type": "text"
      },
      "source": [
        "<a href=\"https://colab.research.google.com/github/Somesh140/iNeauron_FSDS_Assignments/blob/main/Python_Basic_assignment/Assignment_12.ipynb\" target=\"_parent\"><img src=\"https://colab.research.google.com/assets/colab-badge.svg\" alt=\"Open In Colab\"/></a>"
      ]
    },
    {
      "cell_type": "markdown",
      "source": [
        "1. In what modes should the PdfFileReader() and PdfFileWriter() File objects will be opened?\n",
        "2. From a PdfFileReader object, how do you get a Page object for page 5?\n",
        "3. What PdfFileReader variable stores the number of pages in the PDF document?\n",
        "4. If a PdfFileReader object’s PDF is encrypted with the password swordfish, what must you do\n",
        "before you can obtain Page objects from it?\n",
        "5. What methods do you use to rotate a page?\n",
        "6. What is the difference between a Run object and a Paragraph object?\n",
        "7. How do you obtain a list of Paragraph objects for a Document object that’s stored in a variable\n",
        "named doc?\n",
        "8. What type of object has bold, underline, italic, strike, and outline variables?\n",
        "9. What is the difference between False, True, and None for the bold variable?\n",
        "10. How do you create a Document object for a new Word document?\n",
        "11. How do you add a paragraph with the text &#39;Hello, there!&#39; to a Document object stored in a\n",
        "variable named doc?\n",
        "12. What integers represent the levels of headings available in Word documents?"
      ],
      "metadata": {
        "id": "H5PstVcKj2Yo"
      }
    },
    {
      "cell_type": "markdown",
      "source": [
        "Answer\n",
        "\n",
        "\n",
        "---\n",
        "\n",
        "1. PdfFileReader() should be opened in 'rb' (read binary) mode, and PdfFileWriter() should be opened in 'wb' (write binary) mode.\n",
        "2. You can get a Page object for page 5 from a PdfFileReader object using the `getPage()` method: `page5 = pdf_reader.getPage(4)` (page numbering starts at 0).\n",
        "3. The `numPages` variable stores the number of pages in the PDF document: `num_pages = pdf_reader.numPages`\n",
        "4. Before obtaining Page objects from an encrypted PDF, you must decrypt it using the `decrypt()` method: `pdf_reader.decrypt('swordfish')`\n",
        "5. You can rotate a page using the `rotateClockwise()` or `rotateCounterClockwise()` methods of a Page object: `page.rotateClockwise(90)` would rotate the page 90 degrees clockwise.\n",
        "6. A Paragraph object represents a single paragraph of text in a Word document, while a Run object represents a contiguous run of text with the same style.\n",
        "7. You can obtain a list of Paragraph objects from a Document object using the `paragraphs` attribute: `paragraphs = doc.paragraphs`\n",
        "8. A Run object has bold, underline, italic, strike, and outline variables. \n",
        "9. For the bold variable, False means the text is not bold, True means the text is bold, and None means the text inherits the bold setting from the parent style.\n",
        "10. You can create a Document object for a new Word document using the `docx.Document()` function: `doc = docx.Document()`.\n",
        "11. You can add a paragraph with the text 'Hello, there!' to a Document object stored in a variable named doc using the `add_paragraph()` method: `doc.add_paragraph('Hello, there!')`\n",
        "12. The integers representing the levels of headings available in Word documents are 0 (default paragraph style), 1 (heading level 1), 2 (heading level 2), 3 (heading level 3), and 4 (heading level 4)."
      ],
      "metadata": {
        "id": "2Kxeo5-xj5Du"
      }
    },
    {
      "cell_type": "code",
      "execution_count": null,
      "metadata": {
        "id": "J0SAiBTZj1LQ"
      },
      "outputs": [],
      "source": []
    }
  ]
}