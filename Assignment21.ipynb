{
  "nbformat": 4,
  "nbformat_minor": 0,
  "metadata": {
    "colab": {
      "provenance": [],
      "authorship_tag": "ABX9TyPwFWkklJ52lmp5/wL6LkTI"
    },
    "kernelspec": {
      "name": "python3",
      "display_name": "Python 3"
    },
    "language_info": {
      "name": "python"
    }
  },
  "cells": [
    {
      "cell_type": "markdown",
      "source": [
        "1. Add the current date to the text file today.txt as a string.\n",
        "2. Read the text file today.txt into the string today_string\n",
        "3. Parse the date from today_string.\n",
        "4. List the files in your current directory\n",
        "5. Create a list of all of the files in your parent directory (minimum five files should be available).\n",
        "6. Use multiprocessing to create three separate processes. Make each one wait a random number of\n",
        "seconds between one and five, print the current time, and then exit.\n",
        "7. Create a date object of your day of birth.\n",
        "8. What day of the week was your day of birth?\n",
        "9. When will you be (or when were you) 10,000 days old?"
      ],
      "metadata": {
        "id": "bZe17dtF3tlS"
      }
    },
    {
      "cell_type": "code",
      "execution_count": 1,
      "metadata": {
        "id": "RG7z6nfV3khV"
      },
      "outputs": [],
      "source": [
        "#1 To add the current date to the text file today.txt as a string, you can use Python's datetime module as follows:\n",
        "import datetime\n",
        "\n",
        "current_date = datetime.datetime.today().strftime('%Y-%m-%d')\n",
        "with open('today.txt', 'w') as f:\n",
        "    f.write(current_date)\n"
      ]
    },
    {
      "cell_type": "markdown",
      "source": [
        "This will write the current date as a string in the format YYYY-MM-DD to the file 'today.txt'."
      ],
      "metadata": {
        "id": "8yq9Cpnd38Fw"
      }
    },
    {
      "cell_type": "code",
      "source": [
        "#2 To read the text file today.txt into the string today_string, you can use the following code:\n",
        "with open('today.txt', 'r') as f:\n",
        "    today_string = f.read()\n"
      ],
      "metadata": {
        "id": "9xLYcxYM349v"
      },
      "execution_count": 2,
      "outputs": []
    },
    {
      "cell_type": "markdown",
      "source": [
        "This will read the contents of the file 'today.txt' into the string variable today_string."
      ],
      "metadata": {
        "id": "uCValuy_4MdW"
      }
    },
    {
      "cell_type": "code",
      "source": [
        "#3 To parse the date from today_string, you can use the datetime module's strptime function:\n",
        "parsed_date = datetime.datetime.strptime(today_string, '%Y-%m-%d')\n"
      ],
      "metadata": {
        "id": "wauHAYNl4EuL"
      },
      "execution_count": 3,
      "outputs": []
    },
    {
      "cell_type": "markdown",
      "source": [
        "This will parse the date string in the format YYYY-MM-DD and create a datetime object called parsed_date."
      ],
      "metadata": {
        "id": "zAXtYvTE4Ryb"
      }
    },
    {
      "cell_type": "code",
      "source": [
        "#4 To list the files in your current directory, you can use the os module:\n",
        "import os\n",
        "\n",
        "current_dir = os.getcwd()\n",
        "files_in_dir = os.listdir(current_dir)\n",
        "print(files_in_dir)\n"
      ],
      "metadata": {
        "colab": {
          "base_uri": "https://localhost:8080/"
        },
        "id": "tw09Nbjh4QOd",
        "outputId": "9724ddb6-6ad4-470c-a7ab-d9358798ed70"
      },
      "execution_count": 4,
      "outputs": [
        {
          "output_type": "stream",
          "name": "stdout",
          "text": [
            "['.config', 'today.txt', 'sample_data']\n"
          ]
        }
      ]
    },
    {
      "cell_type": "markdown",
      "source": [
        "This will print a list of all files and directories in the current directory."
      ],
      "metadata": {
        "id": "7guWULVB4Zvg"
      }
    },
    {
      "cell_type": "code",
      "source": [
        "#5 To create a list of all of the files in your parent directory, you can use the os module:\n",
        "parent_dir = os.path.abspath(os.path.join(current_dir, os.pardir))\n",
        "files_in_parent_dir = os.listdir(parent_dir)\n",
        "print(files_in_parent_dir[:5]) # Print first five files in parent directory\n"
      ],
      "metadata": {
        "colab": {
          "base_uri": "https://localhost:8080/"
        },
        "id": "4R-9cBi84mKa",
        "outputId": "33136c5d-7310-45ac-9659-67fc8ac7ec28"
      },
      "execution_count": 6,
      "outputs": [
        {
          "output_type": "stream",
          "name": "stdout",
          "text": [
            "['dev', 'sbin', 'root', 'boot', 'bin']\n"
          ]
        }
      ]
    },
    {
      "cell_type": "markdown",
      "source": [
        "This will print a list of the first five files in the parent directory."
      ],
      "metadata": {
        "id": "NJ0IV0X64679"
      }
    },
    {
      "cell_type": "code",
      "source": [
        "#6 To use multiprocessing to create three separate processes that wait a random number of seconds between one and five, print the current time, and then exit, you can use the multiprocessing module:\n",
        "import multiprocessing\n",
        "import random\n",
        "import time\n",
        "import datetime\n",
        "\n",
        "def print_time():\n",
        "    wait_time = random.randint(1,5)\n",
        "    time.sleep(wait_time)\n",
        "    current_time = datetime.datetime.now()\n",
        "    print(f\"Process {multiprocessing.current_process().name} waited {wait_time} seconds and printed at {current_time}\")\n",
        "\n",
        "if __name__ == '__main__':\n",
        "    for i in range(3):\n",
        "        process = multiprocessing.Process(target=print_time, name=f\"Process-{i}\")\n",
        "        process.start()\n"
      ],
      "metadata": {
        "id": "ypTdXLVZ4WeI"
      },
      "execution_count": 5,
      "outputs": []
    },
    {
      "cell_type": "markdown",
      "source": [
        "This will create three separate processes that each wait a random number of seconds between one and five, print the current time, and then exit."
      ],
      "metadata": {
        "id": "SI9ooJOO4pwp"
      }
    },
    {
      "cell_type": "code",
      "source": [
        "#7 To create a date object of your day of birth, you can use the datetime module:\n",
        "birthday = datetime.date(year=1990, month=4, day=25)\n"
      ],
      "metadata": {
        "id": "idXde9RZ481z"
      },
      "execution_count": 7,
      "outputs": []
    },
    {
      "cell_type": "markdown",
      "source": [
        "This will create a date object representing April 25th, 1990."
      ],
      "metadata": {
        "id": "_Al-7q5K5DY0"
      }
    },
    {
      "cell_type": "code",
      "source": [
        "#8 To determine the day of the week of your day of birth, you can use the strftime method to format the date object as a string in the format \"%A\", which represents the full weekday name:\n",
        "weekday_name = birthday.strftime(\"%A\")\n",
        "print(weekday_name)\n"
      ],
      "metadata": {
        "colab": {
          "base_uri": "https://localhost:8080/"
        },
        "id": "mPrrtz_A5AyS",
        "outputId": "8b73bd64-b566-4181-c84b-5640efe67d70"
      },
      "execution_count": 8,
      "outputs": [
        {
          "output_type": "stream",
          "name": "stdout",
          "text": [
            "Wednesday\n"
          ]
        }
      ]
    },
    {
      "cell_type": "code",
      "source": [
        "#9 To determine when you will be (or when you were) 10,000 days old, you can add 10,000 days to your birthday using the timedelta class from the datetime module:\n",
        "ten_thousand_days = datetime.timedelta(days=10000)\n",
        "ten_thousand_days_old = birthday + ten_thousand_days\n",
        "print(ten_thousand_days_old)\n"
      ],
      "metadata": {
        "colab": {
          "base_uri": "https://localhost:8080/"
        },
        "id": "_7s4CX425LRf",
        "outputId": "fc809dad-2bf2-4f0b-9975-d93131b111a3"
      },
      "execution_count": 9,
      "outputs": [
        {
          "output_type": "stream",
          "name": "stdout",
          "text": [
            "2017-09-10\n"
          ]
        }
      ]
    }
  ]
}