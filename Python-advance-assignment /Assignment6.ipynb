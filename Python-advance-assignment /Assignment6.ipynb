{
  "nbformat": 4,
  "nbformat_minor": 0,
  "metadata": {
    "colab": {
      "provenance": [],
      "authorship_tag": "ABX9TyNKMoG6R/wxPlts6TysH7To",
      "include_colab_link": true
    },
    "kernelspec": {
      "name": "python3",
      "display_name": "Python 3"
    },
    "language_info": {
      "name": "python"
    }
  },
  "cells": [
    {
      "cell_type": "markdown",
      "metadata": {
        "id": "view-in-github",
        "colab_type": "text"
      },
      "source": [
        "<a href=\"https://colab.research.google.com/github/Somesh140/iNeauron_FSDS_Assignments/blob/main/Python-advance-assignment%20/Assignment6.ipynb\" target=\"_parent\"><img src=\"https://colab.research.google.com/assets/colab-badge.svg\" alt=\"Open In Colab\"/></a>"
      ]
    },
    {
      "cell_type": "markdown",
      "source": [
        "Q1. Describe three applications for exception processing.\n",
        "\n",
        "Q2. What happens if you don&#39;t do something extra to treat an exception?\n",
        "\n",
        "Q3. What are your options for recovering from an exception in your script?\n",
        "\n",
        "Q4. Describe two methods for triggering exceptions in your script.\n",
        "\n",
        "Q5. Identify two methods for specifying actions to be executed at termination time, regardless of\n",
        "whether or not an exception exists."
      ],
      "metadata": {
        "id": "DsDiFlW6siYT"
      }
    },
    {
      "cell_type": "code",
      "execution_count": 1,
      "metadata": {
        "id": "NtU1VEi1sher"
      },
      "outputs": [],
      "source": [
        "#Answer"
      ]
    },
    {
      "cell_type": "markdown",
      "source": [
        "A1. Exception processing is a mechanism in programming languages, including Python, to handle and manage exceptional or error conditions during program execution. Here are three applications for exception processing:\n",
        "\n",
        "1. Error Handling: Exceptions are commonly used to handle errors and exceptional situations that may occur during program execution. By using try-except blocks, you can catch and handle specific types of exceptions, allowing your program to gracefully recover from errors and continue execution without crashing.\n",
        "\n",
        "2. Input Validation: Exceptions can be used to validate and handle invalid input. For example, if your program expects a numeric input but receives a string, you can raise a specific exception (e.g., `ValueError`) and provide appropriate feedback or ask for valid input.\n",
        "\n",
        "3. Resource Management: Exceptions are helpful for managing resources like files, network connections, or database connections. By using try-finally blocks or the `with` statement, you can ensure that resources are properly released or closed, even if exceptions occur during their usage. This helps prevent resource leaks and ensures proper cleanup.\n",
        "\n",
        "A2. If you don't handle or treat an exception, it will propagate up the call stack until it either reaches an exception handler or causes the program to terminate. If an unhandled exception propagates to the top-level of your program, it will typically result in an error message being displayed, along with a traceback that shows the sequence of function calls leading to the unhandled exception. The program will then exit, and any further code execution will be halted.\n",
        "\n",
        "A3. When recovering from an exception in your script, you have a few options:\n",
        "\n",
        "1. Handle and Continue: You can use a try-except block to catch specific exceptions, handle them within the block, and continue with the execution of the program. By handling exceptions appropriately, you can provide alternate paths or fallback strategies to mitigate the impact of the exception and ensure the program continues running.\n",
        "\n",
        "2. Retry Mechanism: In some cases, you may want to attempt the failed operation again after an exception occurs. You can use a loop combined with a try-except block to implement a retry mechanism. For example, if a network connection fails, you can catch the exception, wait for a period, and then retry the operation.\n",
        "\n",
        "3. Graceful Termination: In certain situations, it may not be possible or appropriate to recover from an exception. In such cases, you can catch the exception, perform any necessary cleanup operations, and exit the program gracefully. This ensures that resources are properly released and any pending actions are completed before the program terminates.\n",
        "\n",
        "A4. Two methods for triggering exceptions in your script are:\n",
        "\n",
        "1. Raise Statement: You can use the `raise` statement to explicitly raise an exception at any point in your code. By specifying the type of exception to be raised (e.g., `raise ValueError(\"Invalid value\")`), you can indicate that a particular condition or error has occurred and needs to be handled.\n",
        "\n",
        "2. Built-in Functions: Several built-in functions in Python can raise exceptions under certain conditions. For example, the `int()` function raises a `ValueError` if the provided input cannot be converted to an integer. Similarly, the `open()` function raises a `FileNotFoundError` if the specified file does not exist.\n",
        "\n",
        "A5. Two methods for specifying actions to be executed at termination time, regardless of whether or not an exception exists, are:\n",
        "\n",
        "1. try-finally: The `try-finally` block allows you to specify cleanup code that will be executed regardless of whether an exception occurs or not. The code inside the `finally` block will always be executed, ensuring that necessary cleanup operations are performed. For example, you can close open files or release other resources in the `finally` block.\n",
        "\n",
        "2. atexit Module: The `atexit` module in Python provides a way\n",
        "\n",
        "atexit Module: The atexit module in Python allows you to register functions to be called when the program is about to exit, whether normally or due to an unhandled exception. You can use the atexit.register() function to register your desired function(s) to be executed at program termination. These functions can perform cleanup tasks, close resources, or perform any necessary actions. Here's an example:\n",
        "\n",
        "\n",
        "```\n",
        "import atexit\n",
        "\n",
        "def cleanup():\n",
        "    # Perform cleanup operations here\n",
        "    print(\"Performing cleanup...\")\n",
        "\n",
        "atexit.register(cleanup)\n",
        "\n",
        "```\n",
        "In this example, the cleanup function will be called when the program exits, regardless of whether an exception occurs or not.\n",
        "\n",
        "finally Block in Exception Handling: The finally block can be used in conjunction with exception handling to specify code that must be executed regardless of whether an exception is raised or not. The code in the finally block is guaranteed to be executed before leaving the try-except block. It is commonly used for cleanup operations or releasing resources that need to occur regardless of the exception outcome. Here's an example:\n",
        "\n",
        "\n",
        "\n",
        "```\n",
        "try:\n",
        "    # Code that may raise an exception\n",
        "    # ...\n",
        "except Exception:\n",
        "    # Exception handling code\n",
        "    # ...\n",
        "finally:\n",
        "    # Cleanup code to be executed always\n",
        "    # ...\n",
        "\n",
        "```\n",
        "In this example, the code in the finally block will be executed even if an exception is raised and caught in the except block. It ensures that the specified actions are performed before leaving the try-except block.\n",
        "\n",
        "Both the atexit module and the finally block provide mechanisms to handle cleanup or termination actions, allowing you to ensure that important tasks are executed regardless of the program's execution path or whether exceptions occur.\n",
        "\n"
      ],
      "metadata": {
        "id": "75jJRTEesoAw"
      }
    },
    {
      "cell_type": "code",
      "source": [],
      "metadata": {
        "id": "Alrx-YBfsnHa"
      },
      "execution_count": null,
      "outputs": []
    }
  ]
}