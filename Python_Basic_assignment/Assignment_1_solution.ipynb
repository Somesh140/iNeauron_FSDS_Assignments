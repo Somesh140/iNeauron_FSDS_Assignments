{
  "nbformat": 4,
  "nbformat_minor": 0,
  "metadata": {
    "colab": {
      "name": "Assignment_1_solution.ipynb",
      "provenance": []
    },
    "kernelspec": {
      "name": "python3",
      "display_name": "Python 3"
    },
    "language_info": {
      "name": "python"
    }
  },
  "cells": [
    {
      "cell_type": "markdown",
      "source": [
        "##1. In the below elements which of them are values or an expression? eg:- values can be integer or string and expressions will be mathematical operators. * 'hello' -87.8 -/+6. \n",
        "\n",
        "##Answer \n",
        "*-/+ are expressions.\n",
        " \n",
        "'hello' -87.8 6 are values\n",
        "\n"
      ],
      "metadata": {
        "id": "E69upgxRV8RR"
      }
    },
    {
      "cell_type": "markdown",
      "source": [
        "##2. What is the difference between string and variable?\n",
        "\n",
        "## Answer\n",
        "\n",
        "A Variable is astore of information, and a String is a type of information you would store in a Variable. A String is a group of characters or a single character usually enclosed in Double quotes \" \" or single quotes ' '"
      ],
      "metadata": {
        "id": "6kbY_F_5X3fa"
      }
    },
    {
      "cell_type": "markdown",
      "source": [
        "##3. Describe three different data types.\n",
        "\n",
        "##Answer\n",
        "\n",
        "int - datatype for integer values\n",
        "\n",
        "float - is a data type composed of a number that is not an integer, because it includes a fraction represented in decimal format. \n",
        "\n",
        "string-  A string is a collection of one or more characters put in a single quote, double-quote or triple quote"
      ],
      "metadata": {
        "id": "IzfigpuaX3co"
      }
    },
    {
      "cell_type": "markdown",
      "source": [
        "##4. What is an expression made up of? What do all expressions do?\n",
        "\n",
        "##Answer\n",
        "\n",
        "An expression is a combination of values, variables, operators, and calls to functions. Expressions need to be evaluated. If you ask Python to print an expression, the interpreter evaluates the expression and displays the result.\n",
        "eg. 4/2 is an expression."
      ],
      "metadata": {
        "id": "Y1zYj5Q6X3Zd"
      }
    },
    {
      "cell_type": "markdown",
      "source": [
        "##5. This assignment statements, like spam = 10. What is the difference between an expression and a statement?\n",
        "\n",
        "##Answer\n",
        "\n",
        "Statements represent an action or command e.g print statements, assignment statements. Expression is a combination of variables, operations and values that yields a result value."
      ],
      "metadata": {
        "id": "GXbsBMMWX3Wl"
      }
    },
    {
      "cell_type": "markdown",
      "source": [
        "##6. After running the following code, what does the variable bacon contain?\n",
        "bacon = 22\n",
        "\n",
        "bacon + 1\n",
        "\n",
        "##Answer \n",
        "\n",
        "22\n"
      ],
      "metadata": {
        "id": "b1NJNa_mX3To"
      }
    },
    {
      "cell_type": "code",
      "source": [
        "bacon = 22 # Code execution\n",
        "bacon + 1\n",
        "print(bacon)"
      ],
      "metadata": {
        "colab": {
          "base_uri": "https://localhost:8080/"
        },
        "id": "3G2tqjpgbIpC",
        "outputId": "e8212acc-75ce-4b44-90cc-825221f8f873"
      },
      "execution_count": 2,
      "outputs": [
        {
          "output_type": "stream",
          "name": "stdout",
          "text": [
            "22\n"
          ]
        }
      ]
    },
    {
      "cell_type": "markdown",
      "source": [
        "##7. What should the values of the following two terms be?\n",
        "'spam' + 'spamspam'\n",
        "\n",
        "'spam' * 3\n",
        "\n",
        "##Answer\n",
        "\n",
        "'spamspamspam' in both cases. \n"
      ],
      "metadata": {
        "id": "cgLQnC7iX3Q0"
      }
    },
    {
      "cell_type": "code",
      "source": [
        "'spam' + 'spamspam' # string concatenation"
      ],
      "metadata": {
        "colab": {
          "base_uri": "https://localhost:8080/",
          "height": 35
        },
        "id": "KpSwcG6zcFQn",
        "outputId": "8376c152-e0cb-4f74-c997-890a6d507d4d"
      },
      "execution_count": 4,
      "outputs": [
        {
          "output_type": "execute_result",
          "data": {
            "text/plain": [
              "'spamspamspam'"
            ],
            "application/vnd.google.colaboratory.intrinsic+json": {
              "type": "string"
            }
          },
          "metadata": {},
          "execution_count": 4
        }
      ]
    },
    {
      "cell_type": "code",
      "source": [
        "'spam' * 3 #string multiplication"
      ],
      "metadata": {
        "colab": {
          "base_uri": "https://localhost:8080/",
          "height": 35
        },
        "id": "imcB_0dEccKV",
        "outputId": "80f9d89d-7d4d-42ba-f3c8-0e172e6f0964"
      },
      "execution_count": 5,
      "outputs": [
        {
          "output_type": "execute_result",
          "data": {
            "text/plain": [
              "'spamspamspam'"
            ],
            "application/vnd.google.colaboratory.intrinsic+json": {
              "type": "string"
            }
          },
          "metadata": {},
          "execution_count": 5
        }
      ]
    },
    {
      "cell_type": "markdown",
      "source": [
        "##8. Why is eggs a valid variable name while 100 is invalid?\n",
        "\n",
        "##Answer\n",
        "\n",
        "As per python,Variable names cannot begin with a number. The python rules for naming a variable are :-\n",
        "\n",
        "Variable name must start with a letter or the underscore character.\n",
        "Variable name cannot start with a number.\n",
        "Variable name can only contain alpha-numeric characters and underscores (A-z, 0-9, & _ ).\n",
        "Variable names are case-sensitive.\n",
        "The reserved words(keywords) cannot be used naming the variable."
      ],
      "metadata": {
        "id": "7_-xxKZIX3Hi"
      }
    },
    {
      "cell_type": "code",
      "source": [
        "eggs=700\n"
      ],
      "metadata": {
        "id": "vcla6XxTdHR1"
      },
      "execution_count": 7,
      "outputs": []
    },
    {
      "cell_type": "code",
      "source": [
        "100=\"store\""
      ],
      "metadata": {
        "colab": {
          "base_uri": "https://localhost:8080/",
          "height": 130
        },
        "id": "xwXAh6X_dNtc",
        "outputId": "2dbaa65c-aaeb-43a8-c7df-424a53fce78a"
      },
      "execution_count": 8,
      "outputs": [
        {
          "output_type": "error",
          "ename": "SyntaxError",
          "evalue": "ignored",
          "traceback": [
            "\u001b[0;36m  File \u001b[0;32m\"<ipython-input-8-a9ff39b52819>\"\u001b[0;36m, line \u001b[0;32m1\u001b[0m\n\u001b[0;31m    100=\"store\"\u001b[0m\n\u001b[0m               ^\u001b[0m\n\u001b[0;31mSyntaxError\u001b[0m\u001b[0;31m:\u001b[0m can't assign to literal\n"
          ]
        }
      ]
    },
    {
      "cell_type": "markdown",
      "source": [
        "##9. What three functions can be used to get the integer, floating-point number, or string version of a value?\n",
        "\n",
        "##Answer\n",
        "\n",
        "The int(),float(),and str() functions will evaluate to the integer,floating-point number,string version of the value passed to them.\n"
      ],
      "metadata": {
        "id": "y2d3oOAHX3CG"
      }
    },
    {
      "cell_type": "code",
      "source": [
        "# Examples:\n",
        "print('int(10.0) -> ',int(10.0)) # int() function converts given input to int\n",
        "print('float(10) -> ',float(10)) # float() function converts given input to float\n",
        "print('str(10) -> ',str(10)) # str() function converts given input to string"
      ],
      "metadata": {
        "colab": {
          "base_uri": "https://localhost:8080/"
        },
        "id": "SZRTI48RdqJV",
        "outputId": "8c46694c-f209-4aa5-e59e-f98e9d9e886d"
      },
      "execution_count": 9,
      "outputs": [
        {
          "output_type": "stream",
          "name": "stdout",
          "text": [
            "int(10.0) ->  10\n",
            "float(10) ->  10.0\n",
            "str(10) ->  10\n"
          ]
        }
      ]
    },
    {
      "cell_type": "markdown",
      "source": [
        "##10. Why does this expression cause an error? How can you fix it?\n",
        "\n",
        "'I have eaten ' + 99 + ' burritos.'\n",
        "\n",
        "##Answer\n",
        "can only concatenate str (not \"int\") to str\n",
        "hence convert 99 to string. as shown below\n"
      ],
      "metadata": {
        "id": "4um96kuOX267"
      }
    },
    {
      "cell_type": "code",
      "source": [
        "'I have eaten ' + str(99) + ' burritos.'\n"
      ],
      "metadata": {
        "colab": {
          "base_uri": "https://localhost:8080/",
          "height": 35
        },
        "id": "hTHgit-Ld6SM",
        "outputId": "22dfd9db-5248-4517-e505-bdf23e3c0024"
      },
      "execution_count": 11,
      "outputs": [
        {
          "output_type": "execute_result",
          "data": {
            "text/plain": [
              "'I have eaten 99 burritos.'"
            ],
            "application/vnd.google.colaboratory.intrinsic+json": {
              "type": "string"
            }
          },
          "metadata": {},
          "execution_count": 11
        }
      ]
    }
  ]
}