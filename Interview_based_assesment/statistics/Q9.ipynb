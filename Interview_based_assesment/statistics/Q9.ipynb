{
  "nbformat": 4,
  "nbformat_minor": 0,
  "metadata": {
    "colab": {
      "provenance": [],
      "authorship_tag": "ABX9TyOvPXavpi8BI/1D379Lt4My",
      "include_colab_link": true
    },
    "kernelspec": {
      "name": "python3",
      "display_name": "Python 3"
    },
    "language_info": {
      "name": "python"
    }
  },
  "cells": [
    {
      "cell_type": "markdown",
      "metadata": {
        "id": "view-in-github",
        "colab_type": "text"
      },
      "source": [
        "<a href=\"https://colab.research.google.com/github/Somesh140/iNeauron_FSDS_Assignments/blob/main/Interview_based_assesment/statistics/Q9.ipynb\" target=\"_parent\"><img src=\"https://colab.research.google.com/assets/colab-badge.svg\" alt=\"Open In Colab\"/></a>"
      ]
    },
    {
      "cell_type": "code",
      "execution_count": 7,
      "metadata": {
        "colab": {
          "base_uri": "https://localhost:8080/"
        },
        "id": "3D9IMo0eIPTQ",
        "outputId": "0a212cef-370b-4da5-bc5b-5667f24f262a"
      },
      "outputs": [
        {
          "output_type": "stream",
          "name": "stdout",
          "text": [
            "ANOVA Results:\n",
            "F-statistic: 12.025830258302586\n",
            "p-value: 0.0007760917135044952\n",
            "The mean scores of the students are not the same.\n",
            "Student with the highest score: Jeevan\n"
          ]
        }
      ],
      "source": [
        "import pandas as pd\n",
        "import numpy as np\n",
        "from scipy.stats import f_oneway\n",
        "\n",
        "# Create a list of marks of each student with the given data\n",
        "Karan= [85,90,92]\n",
        "Deepa=[70,80,85] \n",
        "Karthik=[90,85,88] \n",
        "Chandan=[75,70,75]\n",
        "Jeevan=[95,92,96]\n",
        "\n",
        "def get_key_from_value(dictionary, value):\n",
        "    for key, val in dictionary.items():\n",
        "        if val == value:\n",
        "            return key\n",
        "    return None\n",
        "\n",
        "mean_score={\"Karan\":np.mean(Karan),\"Deepa\":np.mean(Deepa),\"Karthik\":np.mean(Karthik),\"Chandan\":np.mean(Chandan),\"Jeevan\":np.mean(Jeevan)}\n",
        "\n",
        "# Perform one-way ANOVA\n",
        "f_stat, p_value = f_oneway(Karan, Deepa, Karthik,Chandan,Jeevan)\n",
        "\n",
        "# Print the ANOVA results\n",
        "print(\"ANOVA Results:\")\n",
        "print(\"F-statistic:\", f_stat)\n",
        "print(\"p-value:\", p_value)\n",
        "\n",
        "# Check if there are significant differences in mean scores\n",
        "if p_value < 0.05:\n",
        "    print(\"The mean scores of the students are not the same.\")\n",
        "    \n",
        "    # Find the student with the highest mean score\n",
        "    \n",
        "    max_score=max(mean_score.values())\n",
        "    student_with_max_score=get_key_from_value(mean_score,max_score)\n",
        "\n",
        "    print(\"Student with the highest score:\", student_with_max_score)\n",
        "else:\n",
        "    print(\"The mean scores of the students are the same.\")\n"
      ]
    },
    {
      "cell_type": "code",
      "source": [],
      "metadata": {
        "id": "sPWFX-67Kk8V"
      },
      "execution_count": null,
      "outputs": []
    }
  ]
}