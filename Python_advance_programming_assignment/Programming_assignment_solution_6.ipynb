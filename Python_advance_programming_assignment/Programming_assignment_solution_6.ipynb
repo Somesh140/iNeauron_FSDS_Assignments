{
  "nbformat": 4,
  "nbformat_minor": 0,
  "metadata": {
    "colab": {
      "provenance": [],
      "authorship_tag": "ABX9TyOA2r9EOV2WM0kQQxyWf4fr"
    },
    "kernelspec": {
      "name": "python3",
      "display_name": "Python 3"
    },
    "language_info": {
      "name": "python"
    }
  },
  "cells": [
    {
      "cell_type": "markdown",
      "source": [
        "[Programming_assignment_6](https://docs.google.com/document/d/17MDO_V36rMCWF0JZhJKQqVu2Rwg9U3lu/edit?usp=sharing&ouid=102667678895147843990&rtpof=true&sd=true)"
      ],
      "metadata": {
        "id": "6qXNQH_ywKEt"
      }
    },
    {
      "cell_type": "markdown",
      "source": [
        "Q1 Solution"
      ],
      "metadata": {
        "id": "-Yg8Ba85wUpG"
      }
    },
    {
      "cell_type": "code",
      "source": [
        "from collections import defaultdict\n",
        "\n",
        "def find_the_difference(s: str, t: str) -> str:\n",
        "    # Create a hash table to store the frequencies of each letter in s\n",
        "    letter_counts = defaultdict(int)\n",
        "    for ch in s:\n",
        "        letter_counts[ch] += 1\n",
        "        #print(letter_counts)\n",
        "    # Iterate over t and decrement the count of each letter in the hash table\n",
        "    for ch in t:\n",
        "        letter_counts[ch] -= 1\n",
        "        #print(letter_counts)\n",
        "    # Find the letter that remains in the hash table\n",
        "    for ch in letter_counts:\n",
        "        if letter_counts[ch] == -1:\n",
        "            return ch\n",
        "    \n",
        "    # If no letter remains, return an empty string\n",
        "    return \"\"\n",
        "\n",
        "\n",
        "print(find_the_difference(\"abcd\", \"abcde\"))# -> \"e\"\n",
        "print(find_the_difference(\"\", \"y\")) #-> \"y\"\n",
        "print(find_the_difference(\"ae\", \"aea\")) #-> \"a\""
      ],
      "metadata": {
        "colab": {
          "base_uri": "https://localhost:8080/"
        },
        "id": "Pb3Z8NLkw9-b",
        "outputId": "30c43ff3-aeaf-4e31-dac8-950b5aa3e513"
      },
      "execution_count": 11,
      "outputs": [
        {
          "output_type": "stream",
          "name": "stdout",
          "text": [
            "e\n",
            "y\n",
            "a\n"
          ]
        }
      ]
    },
    {
      "cell_type": "markdown",
      "source": [
        "Q2 solution:"
      ],
      "metadata": {
        "id": "BczSNvp8z6pM"
      }
    },
    {
      "cell_type": "code",
      "source": [
        "def count_datatypes(*args):\n",
        "    # Initialize a list with 6 zeros (one for each data type)\n",
        "    counts = [0, 0, 0, 0, 0, 0]\n",
        "    \n",
        "    # Iterate over the arguments\n",
        "    for arg in args:\n",
        "        # Check the type of the argument and increment the corresponding\n",
        "        # element in the counts list\n",
        "        if type(arg) == int:\n",
        "            counts[0] += 1\n",
        "        elif type(arg) == str:\n",
        "            counts[1] += 1\n",
        "        elif type(arg) == bool:\n",
        "            counts[2] += 1\n",
        "        elif type(arg) == list:\n",
        "            counts[3] += 1\n",
        "        elif type(arg) == tuple:\n",
        "            counts[4] += 1\n",
        "        elif type(arg) == dict:\n",
        "            counts[5] += 1\n",
        "    \n",
        "    # Return the counts list\n",
        "    return counts\n",
        "\n",
        "count_datatypes(1, 45, \"Hi\", False)# ➞ [2, 1, 1, 0, 0, 0]"
      ],
      "metadata": {
        "colab": {
          "base_uri": "https://localhost:8080/"
        },
        "id": "E8_3Co_FyP_E",
        "outputId": "b8955027-a02d-41c1-d91b-67d5704f9211"
      },
      "execution_count": 12,
      "outputs": [
        {
          "output_type": "execute_result",
          "data": {
            "text/plain": [
              "[2, 1, 1, 0, 0, 0]"
            ]
          },
          "metadata": {},
          "execution_count": 12
        }
      ]
    },
    {
      "cell_type": "markdown",
      "source": [
        "Q3 Solution:"
      ],
      "metadata": {
        "id": "Wt6dDwTD1cJ_"
      }
    },
    {
      "cell_type": "code",
      "source": [
        "def fib_str(length, first, second):\n",
        "    # Create a list to hold the letters in the Fibonacci string\n",
        "    fib_list = [first, second]\n",
        "\n",
        "    # Loop through the length of the desired Fibonacci string, starting at 2 (since we already have the first two letters)\n",
        "    for i in range(2, length):\n",
        "        # Concatenate the previous two letters and add them to the list\n",
        "        fib_list.append(fib_list[i-2] + fib_list[i-1])\n",
        "\n",
        "    # Return the list of letters as a string, separated by commas\n",
        "    return \", \".join(fib_list)\n",
        "\n",
        "# Test the function with length 3 and the letters \"j\" and \"h\"\n",
        "print(fib_str(3, \"j\", \"h\"))\n"
      ],
      "metadata": {
        "colab": {
          "base_uri": "https://localhost:8080/"
        },
        "id": "b1VBZr2_04gd",
        "outputId": "3abe2e18-a6f0-4fcc-afa4-af978bdbca1a"
      },
      "execution_count": 13,
      "outputs": [
        {
          "output_type": "stream",
          "name": "stdout",
          "text": [
            "j, h, jh\n"
          ]
        }
      ]
    },
    {
      "cell_type": "markdown",
      "source": [
        "Q4 Solution:"
      ],
      "metadata": {
        "id": "FQFm4hxn3pgx"
      }
    },
    {
      "cell_type": "code",
      "source": [
        "def one_three_nines(num):\n",
        "    # Initialize the count of ones, threes, and nines to 0\n",
        "    ones = 0\n",
        "    threes = 0\n",
        "    nines = 0\n",
        "\n",
        "    # Loop until the number is 0\n",
        "    while num > 0:\n",
        "        # If the number is divisible by 9, add 1 to the nines count and subtract 9 from the number\n",
        "        if num >= 9:\n",
        "            nines += 1\n",
        "            num -= 9\n",
        "        # If the number is divisible by 3 but not 9, add 1 to the threes count and subtract 3 from the number\n",
        "        elif num >= 3 :\n",
        "            threes += 1\n",
        "            num -= 3\n",
        "        # If the number is not divisible by 3 or 9, add 1 to the ones count and subtract 1 from the number\n",
        "        else:\n",
        "            ones += 1\n",
        "            num -= 1\n",
        "\n",
        "    # Return the answer string with the counts of ones, threes, and nines\n",
        "    return \"nines: {}, threes: {}, ones: {}\".format(nines, threes, ones)\n",
        "\n",
        "# Test the function with the number 11\n",
        "print(one_three_nines(11))\n",
        "print(one_three_nines(15))\n",
        "print(one_three_nines(22))"
      ],
      "metadata": {
        "colab": {
          "base_uri": "https://localhost:8080/"
        },
        "id": "Zjo8iDyp2ugQ",
        "outputId": "5b6baab5-deae-4e82-bcec-305cc99665d1"
      },
      "execution_count": 15,
      "outputs": [
        {
          "output_type": "stream",
          "name": "stdout",
          "text": [
            "nines: 1, threes: 0, ones: 2\n",
            "nines: 1, threes: 2, ones: 0\n",
            "nines: 2, threes: 1, ones: 1\n"
          ]
        }
      ]
    },
    {
      "cell_type": "markdown",
      "source": [
        "Q5 Solution:"
      ],
      "metadata": {
        "id": "rORy-ccs5h8L"
      }
    },
    {
      "cell_type": "code",
      "source": [
        "def fib(n):\n",
        "    # Handle the base case where n is 0 or 1\n",
        "    if n == 0:\n",
        "        return 0\n",
        "    elif n == 1:\n",
        "        return 1\n",
        "\n",
        "    # Initialize the previous two numbers in the sequence to 0 and 1\n",
        "    prev1 = 0\n",
        "    prev2 = 1\n",
        "\n",
        "    # Loop through the sequence up to the nth value\n",
        "    for i in range(2, n+1):\n",
        "        # Calculate the next number in the sequence as the sum of the previous two numbers\n",
        "        current = prev1 + prev2\n",
        "\n",
        "        # Update the previous two numbers for the next iteration\n",
        "        prev1 = prev2\n",
        "        prev2 = current\n",
        "\n",
        "    # Return the nth value in the sequence\n",
        "    return current\n",
        "\n",
        "# Test the function with n = 6\n",
        "print(fib(6))\n",
        "print(fib(1))\n",
        "print(fib(1))"
      ],
      "metadata": {
        "colab": {
          "base_uri": "https://localhost:8080/"
        },
        "id": "hucZEO565RW3",
        "outputId": "e32c376b-bcaf-4586-bfce-3cb345d7c043"
      },
      "execution_count": 17,
      "outputs": [
        {
          "output_type": "stream",
          "name": "stdout",
          "text": [
            "8\n",
            "1\n",
            "1\n"
          ]
        }
      ]
    },
    {
      "cell_type": "code",
      "source": [],
      "metadata": {
        "id": "cPwG6YKz65KX"
      },
      "execution_count": null,
      "outputs": []
    }
  ]
}