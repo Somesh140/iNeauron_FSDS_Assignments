{
  "nbformat": 4,
  "nbformat_minor": 0,
  "metadata": {
    "colab": {
      "provenance": [],
      "authorship_tag": "ABX9TyM82nhyW+cMAidJ5L+TdFsu",
      "include_colab_link": true
    },
    "kernelspec": {
      "name": "python3",
      "display_name": "Python 3"
    },
    "language_info": {
      "name": "python"
    }
  },
  "cells": [
    {
      "cell_type": "markdown",
      "metadata": {
        "id": "view-in-github",
        "colab_type": "text"
      },
      "source": [
        "<a href=\"https://colab.research.google.com/github/Somesh140/iNeauron_FSDS_Assignments/blob/main/Python_Basic_assignment/Assignment_5.ipynb\" target=\"_parent\"><img src=\"https://colab.research.google.com/assets/colab-badge.svg\" alt=\"Open In Colab\"/></a>"
      ]
    },
    {
      "cell_type": "markdown",
      "source": [
        "1. What does an empty dictionary&#39;s code look like?\n",
        "2. What is the value of a dictionary value with the key &#39;foo&#39; and the value 42?\n",
        "3. What is the most significant distinction between a dictionary and a list?\n",
        "4. What happens if you try to access spam[&#39;foo&#39;] if spam is {&#39;bar&#39;: 100}?\n",
        "5. If a dictionary is stored in spam, what is the difference between the expressions &#39;cat&#39; in spam and\n",
        "&#39;cat&#39; in spam.keys()?\n",
        "6. If a dictionary is stored in spam, what is the difference between the expressions &#39;cat&#39; in spam and\n",
        "&#39;cat&#39; in spam.values()?\n",
        "7. What is a shortcut for the following code?\n",
        "if &#39;color&#39; not in spam:\n",
        "spam[&#39;color&#39;] = &#39;black&#39;\n",
        "\n",
        "8. How do you &quot;pretty print&quot; dictionary values using which module and function?"
      ],
      "metadata": {
        "id": "X7OHkQx07kBw"
      }
    },
    {
      "cell_type": "markdown",
      "source": [
        "# Answer\n",
        "\n",
        "1. An empty dictionary's code looks like this: {}\n",
        "\n",
        "2. The value of a dictionary value with the key 'foo' and the value 42 is 42.\n",
        "\n",
        "3. The most significant distinction between a dictionary and a list is that a dictionary is an unordered collection of key-value pairs, while a list is an ordered collection of elements.\n",
        "\n",
        "4. If you try to access spam['foo'] if spam is {'bar': 100}, a KeyError will be raised because the key 'foo' does not exist in the dictionary.\n",
        "\n",
        "5. If a dictionary is stored in spam, the expression 'cat' in spam checks if the key 'cat' exists in the dictionary, while the expression 'cat' in spam.keys() checks if 'cat' is one of the keys in the dictionary.\n",
        "\n",
        "6. If a dictionary is stored in spam, the expression 'cat' in spam checks if the value 'cat' exists in the dictionary (as a value paired with any key), while the expression 'cat' in spam.values() checks if 'cat' is one of the values in the dictionary.\n",
        "\n",
        "7. A shortcut for the following code is: spam.setdefault('color', 'black')\n",
        "\n",
        "8. To \"pretty print\" dictionary values, you can use the pprint module's pprint() function. For example, you can import the module and use pprint() like this:\n",
        "\n",
        "\n",
        "\n",
        "```\n",
        "import pprint\n",
        "\n",
        "my_dict = {'key1': 'value1', 'key2': 'value2', 'key3': {'subkey1': 'subvalue1'}}\n",
        "pprint.pprint(my_dict)\n",
        "\n",
        "```\n",
        "\n"
      ],
      "metadata": {
        "id": "0wTf7tNB7qX6"
      }
    },
    {
      "cell_type": "code",
      "source": [],
      "metadata": {
        "id": "2zRd_Yml7nJh"
      },
      "execution_count": null,
      "outputs": []
    }
  ]
}