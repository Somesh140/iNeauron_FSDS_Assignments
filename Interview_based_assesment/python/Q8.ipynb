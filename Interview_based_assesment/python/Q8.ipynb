{
  "nbformat": 4,
  "nbformat_minor": 0,
  "metadata": {
    "colab": {
      "provenance": [],
      "authorship_tag": "ABX9TyNaBtD6wvonnh4+XQAYtGtC",
      "include_colab_link": true
    },
    "kernelspec": {
      "name": "python3",
      "display_name": "Python 3"
    },
    "language_info": {
      "name": "python"
    }
  },
  "cells": [
    {
      "cell_type": "markdown",
      "metadata": {
        "id": "view-in-github",
        "colab_type": "text"
      },
      "source": [
        "<a href=\"https://colab.research.google.com/github/Somesh140/iNeauron_FSDS_Assignments/blob/main/Interview_based_assesment/python/Q8.ipynb\" target=\"_parent\"><img src=\"https://colab.research.google.com/assets/colab-badge.svg\" alt=\"Open In Colab\"/></a>"
      ]
    },
    {
      "cell_type": "markdown",
      "source": [
        "Get all the overall ratings for each season and using plots compare the ratings for all the\n",
        "seasons, like season 1 ratings, season 2, and so on.\n",
        "● Get all the episode names, whose average rating is more than 8 for every season\n",
        "● Get all the episode names that aired before May 2019\n",
        "● Get the episode name from each season with the highest and lowest rating\n",
        "● Get the summary for the most popular ( ratings ) episode in every season"
      ],
      "metadata": {
        "id": "SfKYND0VE4ld"
      }
    },
    {
      "cell_type": "code",
      "execution_count": 2,
      "metadata": {
        "colab": {
          "base_uri": "https://localhost:8080/"
        },
        "id": "xiMrDHJNExvk",
        "outputId": "3d118600-3cce-4bf8-bfec-ab7c1751672a"
      },
      "outputs": [
        {
          "output_type": "stream",
          "name": "stdout",
          "text": [
            "Data saved to episodes.csv\n"
          ]
        }
      ],
      "source": [
        "# data from question \n",
        "import requests\n",
        "import json\n",
        "from datetime import datetime\n",
        "import csv\n",
        "\n",
        "def download_data(api_url):\n",
        "    response = requests.get(api_url)\n",
        "    if response.status_code == 200:\n",
        "        return response.json()\n",
        "    else:\n",
        "        print(\"Error downloading data. Status code:\", response.status_code)\n",
        "        return None\n",
        "\n",
        "def format_airdate(airdate):\n",
        "    formatted_date = datetime.strptime(airdate, '%Y-%m-%d').date()\n",
        "    return formatted_date\n",
        "\n",
        "def format_airtime(airtime):\n",
        "    formatted_time = datetime.strptime(airtime, '%H:%M').strftime('%I:%M %p')\n",
        "    return formatted_time\n",
        "\n",
        "def extract_data(data):\n",
        "    extracted_data = []\n",
        "    show_data = data['_embedded']['episodes']\n",
        "    for episode in show_data:\n",
        "        episode_data = {}\n",
        "        episode_data['id'] = episode['id']\n",
        "        episode_data['url'] = episode['url']\n",
        "        episode_data['name'] = episode['name']\n",
        "        episode_data['season'] = episode['season']\n",
        "        episode_data['number'] = episode['number']\n",
        "        episode_data['type'] = episode['type']\n",
        "        episode_data['airdate'] = format_airdate(episode['airdate'])\n",
        "        episode_data['airtime'] = format_airtime(episode['airtime'])\n",
        "        episode_data['runtime'] = episode['runtime']\n",
        "        episode_data['average_rating'] = episode['rating']['average']\n",
        "        episode_data['summary'] = episode['summary'].strip('<p>').strip('</p>')\n",
        "        episode_data['medium_image_link'] = episode['image']['medium']\n",
        "        episode_data['original_image_link'] = episode['image']['original']\n",
        "        extracted_data.append(episode_data)\n",
        "    return extracted_data\n",
        "\n",
        "# Main program\n",
        "api_link = \"http://api.tvmaze.com/singlesearch/shows?q=westworld&embed=episodes\"\n",
        "data = download_data(api_link)\n",
        "if data is not None:\n",
        "    extracted_data = extract_data(data)\n",
        "\n",
        "    # Save the data to a CSV file\n",
        "    filename = \"episodes.csv\"\n",
        "    with open(filename, 'w', newline='', encoding='utf-8') as csvfile:\n",
        "        writer = csv.DictWriter(csvfile, fieldnames=extracted_data[0].keys())\n",
        "        writer.writeheader()\n",
        "        writer.writerows(extracted_data)\n",
        "\n",
        "    print(\"Data saved to\", filename)\n",
        "else:\n",
        "    print(\"Data extraction failed.\")\n"
      ]
    },
    {
      "cell_type": "code",
      "source": [
        "import pandas as pd"
      ],
      "metadata": {
        "id": "K8dgnOZXGhBX"
      },
      "execution_count": 3,
      "outputs": []
    },
    {
      "cell_type": "code",
      "source": [
        "df=pd.read_csv(\"episodes.csv\")"
      ],
      "metadata": {
        "id": "xtYEt94xVOtJ"
      },
      "execution_count": 5,
      "outputs": []
    },
    {
      "cell_type": "code",
      "source": [
        "df.head()"
      ],
      "metadata": {
        "colab": {
          "base_uri": "https://localhost:8080/",
          "height": 721
        },
        "id": "RM-LKBMmVtvT",
        "outputId": "a04dc569-b88e-43e2-e127-5dc046115745"
      },
      "execution_count": 6,
      "outputs": [
        {
          "output_type": "execute_result",
          "data": {
            "text/plain": [
              "       id                                                url  \\\n",
              "0  869671  https://www.tvmaze.com/episodes/869671/westwor...   \n",
              "1  911201  https://www.tvmaze.com/episodes/911201/westwor...   \n",
              "2  911204  https://www.tvmaze.com/episodes/911204/westwor...   \n",
              "3  911205  https://www.tvmaze.com/episodes/911205/westwor...   \n",
              "4  927174  https://www.tvmaze.com/episodes/927174/westwor...   \n",
              "\n",
              "                name  season  number     type     airdate   airtime  runtime  \\\n",
              "0       The Original       1       1  regular  2016-10-02  09:00 PM       68   \n",
              "1           Chestnut       1       2  regular  2016-10-09  09:00 PM       60   \n",
              "2          The Stray       1       3  regular  2016-10-16  09:00 PM       60   \n",
              "3  Dissonance Theory       1       4  regular  2016-10-23  09:00 PM       60   \n",
              "4        Contrapasso       1       5  regular  2016-10-30  09:00 PM       60   \n",
              "\n",
              "   average_rating                                            summary  \\\n",
              "0             8.0  A woman named Dolores is a free spirit in the ...   \n",
              "1             7.7  Bernard suspects that someone is sabotaging th...   \n",
              "2             7.6  Bernard continues to investigate Dolores' supp...   \n",
              "3             7.9  While Dolores joins William and Logan on their...   \n",
              "4             8.0  Dolores takes the first step on her path of di...   \n",
              "\n",
              "                                   medium_image_link  \\\n",
              "0  https://static.tvmaze.com/uploads/images/mediu...   \n",
              "1  https://static.tvmaze.com/uploads/images/mediu...   \n",
              "2  https://static.tvmaze.com/uploads/images/mediu...   \n",
              "3  https://static.tvmaze.com/uploads/images/mediu...   \n",
              "4  https://static.tvmaze.com/uploads/images/mediu...   \n",
              "\n",
              "                                 original_image_link  \n",
              "0  https://static.tvmaze.com/uploads/images/origi...  \n",
              "1  https://static.tvmaze.com/uploads/images/origi...  \n",
              "2  https://static.tvmaze.com/uploads/images/origi...  \n",
              "3  https://static.tvmaze.com/uploads/images/origi...  \n",
              "4  https://static.tvmaze.com/uploads/images/origi...  "
            ],
            "text/html": [
              "\n",
              "  <div id=\"df-628ca508-4d0d-4367-95eb-bd8ec3445d7a\">\n",
              "    <div class=\"colab-df-container\">\n",
              "      <div>\n",
              "<style scoped>\n",
              "    .dataframe tbody tr th:only-of-type {\n",
              "        vertical-align: middle;\n",
              "    }\n",
              "\n",
              "    .dataframe tbody tr th {\n",
              "        vertical-align: top;\n",
              "    }\n",
              "\n",
              "    .dataframe thead th {\n",
              "        text-align: right;\n",
              "    }\n",
              "</style>\n",
              "<table border=\"1\" class=\"dataframe\">\n",
              "  <thead>\n",
              "    <tr style=\"text-align: right;\">\n",
              "      <th></th>\n",
              "      <th>id</th>\n",
              "      <th>url</th>\n",
              "      <th>name</th>\n",
              "      <th>season</th>\n",
              "      <th>number</th>\n",
              "      <th>type</th>\n",
              "      <th>airdate</th>\n",
              "      <th>airtime</th>\n",
              "      <th>runtime</th>\n",
              "      <th>average_rating</th>\n",
              "      <th>summary</th>\n",
              "      <th>medium_image_link</th>\n",
              "      <th>original_image_link</th>\n",
              "    </tr>\n",
              "  </thead>\n",
              "  <tbody>\n",
              "    <tr>\n",
              "      <th>0</th>\n",
              "      <td>869671</td>\n",
              "      <td>https://www.tvmaze.com/episodes/869671/westwor...</td>\n",
              "      <td>The Original</td>\n",
              "      <td>1</td>\n",
              "      <td>1</td>\n",
              "      <td>regular</td>\n",
              "      <td>2016-10-02</td>\n",
              "      <td>09:00 PM</td>\n",
              "      <td>68</td>\n",
              "      <td>8.0</td>\n",
              "      <td>A woman named Dolores is a free spirit in the ...</td>\n",
              "      <td>https://static.tvmaze.com/uploads/images/mediu...</td>\n",
              "      <td>https://static.tvmaze.com/uploads/images/origi...</td>\n",
              "    </tr>\n",
              "    <tr>\n",
              "      <th>1</th>\n",
              "      <td>911201</td>\n",
              "      <td>https://www.tvmaze.com/episodes/911201/westwor...</td>\n",
              "      <td>Chestnut</td>\n",
              "      <td>1</td>\n",
              "      <td>2</td>\n",
              "      <td>regular</td>\n",
              "      <td>2016-10-09</td>\n",
              "      <td>09:00 PM</td>\n",
              "      <td>60</td>\n",
              "      <td>7.7</td>\n",
              "      <td>Bernard suspects that someone is sabotaging th...</td>\n",
              "      <td>https://static.tvmaze.com/uploads/images/mediu...</td>\n",
              "      <td>https://static.tvmaze.com/uploads/images/origi...</td>\n",
              "    </tr>\n",
              "    <tr>\n",
              "      <th>2</th>\n",
              "      <td>911204</td>\n",
              "      <td>https://www.tvmaze.com/episodes/911204/westwor...</td>\n",
              "      <td>The Stray</td>\n",
              "      <td>1</td>\n",
              "      <td>3</td>\n",
              "      <td>regular</td>\n",
              "      <td>2016-10-16</td>\n",
              "      <td>09:00 PM</td>\n",
              "      <td>60</td>\n",
              "      <td>7.6</td>\n",
              "      <td>Bernard continues to investigate Dolores' supp...</td>\n",
              "      <td>https://static.tvmaze.com/uploads/images/mediu...</td>\n",
              "      <td>https://static.tvmaze.com/uploads/images/origi...</td>\n",
              "    </tr>\n",
              "    <tr>\n",
              "      <th>3</th>\n",
              "      <td>911205</td>\n",
              "      <td>https://www.tvmaze.com/episodes/911205/westwor...</td>\n",
              "      <td>Dissonance Theory</td>\n",
              "      <td>1</td>\n",
              "      <td>4</td>\n",
              "      <td>regular</td>\n",
              "      <td>2016-10-23</td>\n",
              "      <td>09:00 PM</td>\n",
              "      <td>60</td>\n",
              "      <td>7.9</td>\n",
              "      <td>While Dolores joins William and Logan on their...</td>\n",
              "      <td>https://static.tvmaze.com/uploads/images/mediu...</td>\n",
              "      <td>https://static.tvmaze.com/uploads/images/origi...</td>\n",
              "    </tr>\n",
              "    <tr>\n",
              "      <th>4</th>\n",
              "      <td>927174</td>\n",
              "      <td>https://www.tvmaze.com/episodes/927174/westwor...</td>\n",
              "      <td>Contrapasso</td>\n",
              "      <td>1</td>\n",
              "      <td>5</td>\n",
              "      <td>regular</td>\n",
              "      <td>2016-10-30</td>\n",
              "      <td>09:00 PM</td>\n",
              "      <td>60</td>\n",
              "      <td>8.0</td>\n",
              "      <td>Dolores takes the first step on her path of di...</td>\n",
              "      <td>https://static.tvmaze.com/uploads/images/mediu...</td>\n",
              "      <td>https://static.tvmaze.com/uploads/images/origi...</td>\n",
              "    </tr>\n",
              "  </tbody>\n",
              "</table>\n",
              "</div>\n",
              "      <button class=\"colab-df-convert\" onclick=\"convertToInteractive('df-628ca508-4d0d-4367-95eb-bd8ec3445d7a')\"\n",
              "              title=\"Convert this dataframe to an interactive table.\"\n",
              "              style=\"display:none;\">\n",
              "        \n",
              "  <svg xmlns=\"http://www.w3.org/2000/svg\" height=\"24px\"viewBox=\"0 0 24 24\"\n",
              "       width=\"24px\">\n",
              "    <path d=\"M0 0h24v24H0V0z\" fill=\"none\"/>\n",
              "    <path d=\"M18.56 5.44l.94 2.06.94-2.06 2.06-.94-2.06-.94-.94-2.06-.94 2.06-2.06.94zm-11 1L8.5 8.5l.94-2.06 2.06-.94-2.06-.94L8.5 2.5l-.94 2.06-2.06.94zm10 10l.94 2.06.94-2.06 2.06-.94-2.06-.94-.94-2.06-.94 2.06-2.06.94z\"/><path d=\"M17.41 7.96l-1.37-1.37c-.4-.4-.92-.59-1.43-.59-.52 0-1.04.2-1.43.59L10.3 9.45l-7.72 7.72c-.78.78-.78 2.05 0 2.83L4 21.41c.39.39.9.59 1.41.59.51 0 1.02-.2 1.41-.59l7.78-7.78 2.81-2.81c.8-.78.8-2.07 0-2.86zM5.41 20L4 18.59l7.72-7.72 1.47 1.35L5.41 20z\"/>\n",
              "  </svg>\n",
              "      </button>\n",
              "      \n",
              "  <style>\n",
              "    .colab-df-container {\n",
              "      display:flex;\n",
              "      flex-wrap:wrap;\n",
              "      gap: 12px;\n",
              "    }\n",
              "\n",
              "    .colab-df-convert {\n",
              "      background-color: #E8F0FE;\n",
              "      border: none;\n",
              "      border-radius: 50%;\n",
              "      cursor: pointer;\n",
              "      display: none;\n",
              "      fill: #1967D2;\n",
              "      height: 32px;\n",
              "      padding: 0 0 0 0;\n",
              "      width: 32px;\n",
              "    }\n",
              "\n",
              "    .colab-df-convert:hover {\n",
              "      background-color: #E2EBFA;\n",
              "      box-shadow: 0px 1px 2px rgba(60, 64, 67, 0.3), 0px 1px 3px 1px rgba(60, 64, 67, 0.15);\n",
              "      fill: #174EA6;\n",
              "    }\n",
              "\n",
              "    [theme=dark] .colab-df-convert {\n",
              "      background-color: #3B4455;\n",
              "      fill: #D2E3FC;\n",
              "    }\n",
              "\n",
              "    [theme=dark] .colab-df-convert:hover {\n",
              "      background-color: #434B5C;\n",
              "      box-shadow: 0px 1px 3px 1px rgba(0, 0, 0, 0.15);\n",
              "      filter: drop-shadow(0px 1px 2px rgba(0, 0, 0, 0.3));\n",
              "      fill: #FFFFFF;\n",
              "    }\n",
              "  </style>\n",
              "\n",
              "      <script>\n",
              "        const buttonEl =\n",
              "          document.querySelector('#df-628ca508-4d0d-4367-95eb-bd8ec3445d7a button.colab-df-convert');\n",
              "        buttonEl.style.display =\n",
              "          google.colab.kernel.accessAllowed ? 'block' : 'none';\n",
              "\n",
              "        async function convertToInteractive(key) {\n",
              "          const element = document.querySelector('#df-628ca508-4d0d-4367-95eb-bd8ec3445d7a');\n",
              "          const dataTable =\n",
              "            await google.colab.kernel.invokeFunction('convertToInteractive',\n",
              "                                                     [key], {});\n",
              "          if (!dataTable) return;\n",
              "\n",
              "          const docLinkHtml = 'Like what you see? Visit the ' +\n",
              "            '<a target=\"_blank\" href=https://colab.research.google.com/notebooks/data_table.ipynb>data table notebook</a>'\n",
              "            + ' to learn more about interactive tables.';\n",
              "          element.innerHTML = '';\n",
              "          dataTable['output_type'] = 'display_data';\n",
              "          await google.colab.output.renderOutput(dataTable, element);\n",
              "          const docLink = document.createElement('div');\n",
              "          docLink.innerHTML = docLinkHtml;\n",
              "          element.appendChild(docLink);\n",
              "        }\n",
              "      </script>\n",
              "    </div>\n",
              "  </div>\n",
              "  "
            ]
          },
          "metadata": {},
          "execution_count": 6
        }
      ]
    },
    {
      "cell_type": "code",
      "source": [
        "# Get all the overall ratings for each season and using plots compare the ratings for all the\n",
        "# seasons, like season 1 ratings, season 2, and so on.\n",
        "df.groupby(\"season\")[\"average_rating\"].sum().plot(kind=\"bar\")"
      ],
      "metadata": {
        "colab": {
          "base_uri": "https://localhost:8080/",
          "height": 462
        },
        "id": "y9ASk7FQV6Ky",
        "outputId": "0340aa5d-be2c-4153-f39d-2a544247e876"
      },
      "execution_count": 10,
      "outputs": [
        {
          "output_type": "execute_result",
          "data": {
            "text/plain": [
              "<Axes: xlabel='season'>"
            ]
          },
          "metadata": {},
          "execution_count": 10
        },
        {
          "output_type": "display_data",
          "data": {
            "text/plain": [
              "<Figure size 640x480 with 1 Axes>"
            ],
            "image/png": "[encoded data removed]"
          },
          "metadata": {}
        }
      ]
    },
    {
      "cell_type": "code",
      "source": [
        "# Get all the episode names, whose average rating is more than 8 for every season\n",
        "df[df[\"average_rating\"]>8][[\"season\",\"name\"]]"
      ],
      "metadata": {
        "colab": {
          "base_uri": "https://localhost:8080/",
          "height": 237
        },
        "id": "qHYL9Ek_ZUvP",
        "outputId": "961d2637-7153-44ef-d1d4-fe213fee0502"
      },
      "execution_count": 15,
      "outputs": [
        {
          "output_type": "execute_result",
          "data": {
            "text/plain": [
              "    season                       name\n",
              "6        1              Trompe L'Oeil\n",
              "8        1  The Well-Tempered Clavier\n",
              "9        1         The Bicameral Mind\n",
              "17       2                    Kiksuya\n",
              "18       2            Vanishing Point\n",
              "19       2              The Passenger"
            ],
            "text/html": [
              "\n",
              "  <div id=\"df-c001d547-2198-487e-aa37-ee4e56bdfed1\">\n",
              "    <div class=\"colab-df-container\">\n",
              "      <div>\n",
              "<style scoped>\n",
              "    .dataframe tbody tr th:only-of-type {\n",
              "        vertical-align: middle;\n",
              "    }\n",
              "\n",
              "    .dataframe tbody tr th {\n",
              "        vertical-align: top;\n",
              "    }\n",
              "\n",
              "    .dataframe thead th {\n",
              "        text-align: right;\n",
              "    }\n",
              "</style>\n",
              "<table border=\"1\" class=\"dataframe\">\n",
              "  <thead>\n",
              "    <tr style=\"text-align: right;\">\n",
              "      <th></th>\n",
              "      <th>season</th>\n",
              "      <th>name</th>\n",
              "    </tr>\n",
              "  </thead>\n",
              "  <tbody>\n",
              "    <tr>\n",
              "      <th>6</th>\n",
              "      <td>1</td>\n",
              "      <td>Trompe L'Oeil</td>\n",
              "    </tr>\n",
              "    <tr>\n",
              "      <th>8</th>\n",
              "      <td>1</td>\n",
              "      <td>The Well-Tempered Clavier</td>\n",
              "    </tr>\n",
              "    <tr>\n",
              "      <th>9</th>\n",
              "      <td>1</td>\n",
              "      <td>The Bicameral Mind</td>\n",
              "    </tr>\n",
              "    <tr>\n",
              "      <th>17</th>\n",
              "      <td>2</td>\n",
              "      <td>Kiksuya</td>\n",
              "    </tr>\n",
              "    <tr>\n",
              "      <th>18</th>\n",
              "      <td>2</td>\n",
              "      <td>Vanishing Point</td>\n",
              "    </tr>\n",
              "    <tr>\n",
              "      <th>19</th>\n",
              "      <td>2</td>\n",
              "      <td>The Passenger</td>\n",
              "    </tr>\n",
              "  </tbody>\n",
              "</table>\n",
              "</div>\n",
              "      <button class=\"colab-df-convert\" onclick=\"convertToInteractive('df-c001d547-2198-487e-aa37-ee4e56bdfed1')\"\n",
              "              title=\"Convert this dataframe to an interactive table.\"\n",
              "              style=\"display:none;\">\n",
              "        \n",
              "  <svg xmlns=\"http://www.w3.org/2000/svg\" height=\"24px\"viewBox=\"0 0 24 24\"\n",
              "       width=\"24px\">\n",
              "    <path d=\"M0 0h24v24H0V0z\" fill=\"none\"/>\n",
              "    <path d=\"M18.56 5.44l.94 2.06.94-2.06 2.06-.94-2.06-.94-.94-2.06-.94 2.06-2.06.94zm-11 1L8.5 8.5l.94-2.06 2.06-.94-2.06-.94L8.5 2.5l-.94 2.06-2.06.94zm10 10l.94 2.06.94-2.06 2.06-.94-2.06-.94-.94-2.06-.94 2.06-2.06.94z\"/><path d=\"M17.41 7.96l-1.37-1.37c-.4-.4-.92-.59-1.43-.59-.52 0-1.04.2-1.43.59L10.3 9.45l-7.72 7.72c-.78.78-.78 2.05 0 2.83L4 21.41c.39.39.9.59 1.41.59.51 0 1.02-.2 1.41-.59l7.78-7.78 2.81-2.81c.8-.78.8-2.07 0-2.86zM5.41 20L4 18.59l7.72-7.72 1.47 1.35L5.41 20z\"/>\n",
              "  </svg>\n",
              "      </button>\n",
              "      \n",
              "  <style>\n",
              "    .colab-df-container {\n",
              "      display:flex;\n",
              "      flex-wrap:wrap;\n",
              "      gap: 12px;\n",
              "    }\n",
              "\n",
              "    .colab-df-convert {\n",
              "      background-color: #E8F0FE;\n",
              "      border: none;\n",
              "      border-radius: 50%;\n",
              "      cursor: pointer;\n",
              "      display: none;\n",
              "      fill: #1967D2;\n",
              "      height: 32px;\n",
              "      padding: 0 0 0 0;\n",
              "      width: 32px;\n",
              "    }\n",
              "\n",
              "    .colab-df-convert:hover {\n",
              "      background-color: #E2EBFA;\n",
              "      box-shadow: 0px 1px 2px rgba(60, 64, 67, 0.3), 0px 1px 3px 1px rgba(60, 64, 67, 0.15);\n",
              "      fill: #174EA6;\n",
              "    }\n",
              "\n",
              "    [theme=dark] .colab-df-convert {\n",
              "      background-color: #3B4455;\n",
              "      fill: #D2E3FC;\n",
              "    }\n",
              "\n",
              "    [theme=dark] .colab-df-convert:hover {\n",
              "      background-color: #434B5C;\n",
              "      box-shadow: 0px 1px 3px 1px rgba(0, 0, 0, 0.15);\n",
              "      filter: drop-shadow(0px 1px 2px rgba(0, 0, 0, 0.3));\n",
              "      fill: #FFFFFF;\n",
              "    }\n",
              "  </style>\n",
              "\n",
              "      <script>\n",
              "        const buttonEl =\n",
              "          document.querySelector('#df-c001d547-2198-487e-aa37-ee4e56bdfed1 button.colab-df-convert');\n",
              "        buttonEl.style.display =\n",
              "          google.colab.kernel.accessAllowed ? 'block' : 'none';\n",
              "\n",
              "        async function convertToInteractive(key) {\n",
              "          const element = document.querySelector('#df-c001d547-2198-487e-aa37-ee4e56bdfed1');\n",
              "          const dataTable =\n",
              "            await google.colab.kernel.invokeFunction('convertToInteractive',\n",
              "                                                     [key], {});\n",
              "          if (!dataTable) return;\n",
              "\n",
              "          const docLinkHtml = 'Like what you see? Visit the ' +\n",
              "            '<a target=\"_blank\" href=https://colab.research.google.com/notebooks/data_table.ipynb>data table notebook</a>'\n",
              "            + ' to learn more about interactive tables.';\n",
              "          element.innerHTML = '';\n",
              "          dataTable['output_type'] = 'display_data';\n",
              "          await google.colab.output.renderOutput(dataTable, element);\n",
              "          const docLink = document.createElement('div');\n",
              "          docLink.innerHTML = docLinkHtml;\n",
              "          element.appendChild(docLink);\n",
              "        }\n",
              "      </script>\n",
              "    </div>\n",
              "  </div>\n",
              "  "
            ]
          },
          "metadata": {},
          "execution_count": 15
        }
      ]
    },
    {
      "cell_type": "code",
      "source": [
        "# Get all the episode names that aired before May 2019\n",
        "df[pd.to_datetime(df[\"airdate\"])<pd.Timestamp(\"2019-05-01\")][\"name\"]"
      ],
      "metadata": {
        "colab": {
          "base_uri": "https://localhost:8080/"
        },
        "id": "HWZqhj-YbVcD",
        "outputId": "dcfa0ece-0821-4b71-9122-b76907619a19"
      },
      "execution_count": 19,
      "outputs": [
        {
          "output_type": "execute_result",
          "data": {
            "text/plain": [
              "0                  The Original\n",
              "1                      Chestnut\n",
              "2                     The Stray\n",
              "3             Dissonance Theory\n",
              "4                   Contrapasso\n",
              "5                 The Adversary\n",
              "6                 Trompe L'Oeil\n",
              "7                   Trace Decay\n",
              "8     The Well-Tempered Clavier\n",
              "9            The Bicameral Mind\n",
              "10           Journey Into Night\n",
              "11                      Reunion\n",
              "12              Virtù e Fortuna\n",
              "13     The Riddle of the Sphinx\n",
              "14                 Akane No Mai\n",
              "15                  Phase Space\n",
              "16                 Les Écorchés\n",
              "17                      Kiksuya\n",
              "18              Vanishing Point\n",
              "19                The Passenger\n",
              "Name: name, dtype: object"
            ]
          },
          "metadata": {},
          "execution_count": 19
        }
      ]
    },
    {
      "cell_type": "code",
      "source": [
        "# Get the episode name from each season with the highest and lowest rating\n",
        "# Sort the DataFrame by season and average_rating\n",
        "df_sorted = df.sort_values(['season', 'average_rating'])\n",
        "\n",
        "# Group the DataFrame by season and find episodes with highest and lowest ratings\n",
        "grouped_df = df_sorted.groupby('season')\n",
        "episodes_with_highest_rating = grouped_df.last()\n",
        "episodes_with_lowest_rating = grouped_df.first()"
      ],
      "metadata": {
        "id": "ogl6dcnUhvjs"
      },
      "execution_count": 26,
      "outputs": []
    },
    {
      "cell_type": "code",
      "source": [
        "# Print the episode name from each season with the highest and lowest rating\n",
        "print(\"Episodes with highest and lowest ratings per season:\")\n",
        "for season, episode in episodes_with_highest_rating.iterrows():\n",
        "    print(\"Season\", season, \"- Episode with highest rating:\", episode['name'])\n",
        "\n",
        "for season, episode in episodes_with_lowest_rating.iterrows():\n",
        "    print(\"Season\", season, \"- Episode with lowest rating:\", episode['name'])"
      ],
      "metadata": {
        "colab": {
          "base_uri": "https://localhost:8080/"
        },
        "id": "KOWsCasakKh7",
        "outputId": "b02cd27b-e817-446e-b4f0-437a28fabcab"
      },
      "execution_count": 29,
      "outputs": [
        {
          "output_type": "stream",
          "name": "stdout",
          "text": [
            "Episodes with highest and lowest ratings per season:\n",
            "Season 1 - Episode with highest rating: The Bicameral Mind\n",
            "Season 2 - Episode with highest rating: Kiksuya\n",
            "Season 3 - Episode with highest rating: The Mother of Exiles\n",
            "Season 4 - Episode with highest rating: Zhuangzi\n",
            "Season 1 - Episode with lowest rating: The Stray\n",
            "Season 2 - Episode with lowest rating: Akane No Mai\n",
            "Season 3 - Episode with lowest rating: Decoherence\n",
            "Season 4 - Episode with lowest rating: The Auguries\n"
          ]
        }
      ]
    },
    {
      "cell_type": "code",
      "source": [],
      "metadata": {
        "id": "wpwAHUmTlC0o"
      },
      "execution_count": null,
      "outputs": []
    }
  ]
}