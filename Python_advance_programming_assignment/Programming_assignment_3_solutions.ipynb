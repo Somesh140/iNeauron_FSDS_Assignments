{
  "nbformat": 4,
  "nbformat_minor": 0,
  "metadata": {
    "colab": {
      "provenance": [],
      "authorship_tag": "ABX9TyP1fG+DUnhtjsFIifYj7IDA"
    },
    "kernelspec": {
      "name": "python3",
      "display_name": "Python 3"
    },
    "language_info": {
      "name": "python"
    }
  },
  "cells": [
    {
      "cell_type": "markdown",
      "source": [
        "Q1. Solution:"
      ],
      "metadata": {
        "id": "I2hwf55TCRUc"
      }
    },
    {
      "cell_type": "code",
      "source": [
        "def arithmetic_operation(string):\n",
        "  op1,op,op2=string.split()\n",
        "  op1=int(op1)\n",
        "  op2=int(op2)\n",
        "  if op==\"+\":\n",
        "    res=op1+op2\n",
        "    return res\n",
        "  elif op==\"-\":\n",
        "    res=op1-op2\n",
        "    return res\n",
        "  elif op==\"*\":\n",
        "    res=op1*op2\n",
        "    return res\n",
        "  elif op==\"//\":\n",
        "    if op2!=0:\n",
        "      res=op1//op2\n",
        "      return res\n",
        "    else :\n",
        "      return -1\n",
        "  else :\n",
        "    raise ValueError(\"Enter operator as +,-,/,*\")\n",
        "\n"
      ],
      "metadata": {
        "id": "JlA2oNp1KGUV"
      },
      "execution_count": 13,
      "outputs": []
    },
    {
      "cell_type": "code",
      "source": [
        "print(arithmetic_operation(\"12 + 12\"))\n",
        "print(arithmetic_operation(\"12 - 12\"))\n",
        "print(arithmetic_operation(\"12 * 12\"))\n",
        "print(arithmetic_operation(\"12 // 0\"))"
      ],
      "metadata": {
        "colab": {
          "base_uri": "https://localhost:8080/"
        },
        "id": "l2Kz9YfBWju_",
        "outputId": "d92ad8c6-9f0f-4521-a20e-9bd3242a24b6"
      },
      "execution_count": 19,
      "outputs": [
        {
          "output_type": "stream",
          "name": "stdout",
          "text": [
            "24\n",
            "0\n",
            "144\n",
            "-1\n"
          ]
        }
      ]
    },
    {
      "cell_type": "markdown",
      "source": [
        "Q2 Solution"
      ],
      "metadata": {
        "id": "rT9RjjiWKGkI"
      }
    },
    {
      "cell_type": "code",
      "execution_count": 10,
      "metadata": {
        "colab": {
          "base_uri": "https://localhost:8080/"
        },
        "id": "gKsbSw2DCIg9",
        "outputId": "35d3d142-f220-49ee-9a42-240ad783585c"
      },
      "outputs": [
        {
          "output_type": "stream",
          "name": "stdout",
          "text": [
            "True\n",
            "True\n",
            "True\n"
          ]
        }
      ],
      "source": [
        "\n",
        "import math\n",
        "\n",
        "def perimeter(points):\n",
        "    # find the distances between the points\n",
        "    d1 = math.sqrt((points[1][0] - points[0][0])**2 + (points[1][1] - points[0][1])**2)\n",
        "    d2 = math.sqrt((points[2][0] - points[1][0])**2 + (points[2][1] - points[1][1])**2)\n",
        "    d3 = math.sqrt((points[2][0] - points[0][0])**2 + (points[2][1] - points[0][1])**2)\n",
        "\n",
        "    # return the sum of the sides\n",
        "    return round((d1 + d2 + d3),2)\n",
        "\n",
        "print(perimeter([ [15, 7], [5, 22], [11, 1] ]) == 47.08)\n",
        "print(perimeter([ [0, 0], [0, 1], [1, 0] ]) == 3.41)\n",
        "print(perimeter([ [-10, -10], [10, 10 ], [-10, 10] ]) == 68.28)"
      ]
    },
    {
      "cell_type": "markdown",
      "source": [
        "Q3 Solution:"
      ],
      "metadata": {
        "id": "w9JEK_nwl229"
      }
    },
    {
      "cell_type": "code",
      "source": [
        "from typing import List\n",
        "\n",
        "def tallest_skyscraper(skyline: List[List[int]]) -> int:\n",
        "    # Initialize the tallest height to 0\n",
        "    tallest_height = 0\n",
        "    \n",
        "    # Iterate over each column of the skyline\n",
        "    for col in zip(*skyline):\n",
        "        # Count the number of buildings in the current column\n",
        "        height = col.count(1)\n",
        "        # Update the tallest height if necessary\n",
        "        tallest_height = max(tallest_height, height)\n",
        "    \n",
        "    # Return the tallest height\n",
        "    return tallest_height\n",
        "\n",
        "skyline = [[0, 0, 0, 0, 0, 0],\n",
        "           [0, 0, 0, 0, 1, 0],\n",
        "           [0, 0, 1, 0, 1, 0],\n",
        "           [0, 1, 1, 1, 1, 0],\n",
        "           [1, 1, 1, 1, 1, 1]]\n",
        "\n",
        "tallest_skyscraper(skyline)  # Returns 4\n"
      ],
      "metadata": {
        "colab": {
          "base_uri": "https://localhost:8080/"
        },
        "id": "JWdvT-v2KPqo",
        "outputId": "b34854f4-81f6-415a-8caf-bc97070a380d"
      },
      "execution_count": 32,
      "outputs": [
        {
          "output_type": "execute_result",
          "data": {
            "text/plain": [
              "4"
            ]
          },
          "metadata": {},
          "execution_count": 32
        }
      ]
    },
    {
      "cell_type": "code",
      "source": [
        "for i in zip(*skyline):\n",
        "  print(i)"
      ],
      "metadata": {
        "colab": {
          "base_uri": "https://localhost:8080/"
        },
        "id": "_uY2x-aauSWX",
        "outputId": "35f7e6af-1895-4c9a-f8c1-8c89ccf1c8cd"
      },
      "execution_count": 29,
      "outputs": [
        {
          "output_type": "stream",
          "name": "stdout",
          "text": [
            "(0, 0, 0, 0, 1)\n",
            "(0, 0, 0, 1, 1)\n",
            "(0, 0, 1, 1, 1)\n",
            "(0, 0, 0, 1, 1)\n",
            "(0, 1, 1, 1, 1)\n",
            "(0, 0, 0, 0, 1)\n"
          ]
        }
      ]
    },
    {
      "cell_type": "code",
      "source": [
        "for i in skyline:\n",
        "  print(i)"
      ],
      "metadata": {
        "colab": {
          "base_uri": "https://localhost:8080/"
        },
        "id": "9XDDB4AjxH8_",
        "outputId": "021c363e-9f06-491d-ece3-1127a5925512"
      },
      "execution_count": 31,
      "outputs": [
        {
          "output_type": "stream",
          "name": "stdout",
          "text": [
            "[0, 0, 0, 0, 0, 0]\n",
            "[0, 0, 0, 0, 1, 0]\n",
            "[0, 0, 1, 0, 1, 0]\n",
            "[0, 1, 1, 1, 1, 0]\n",
            "[1, 1, 1, 1, 1, 1]\n"
          ]
        }
      ]
    },
    {
      "cell_type": "markdown",
      "source": [
        "Q4 Solution:\n"
      ],
      "metadata": {
        "id": "AQVR0_dSnB9D"
      }
    },
    {
      "cell_type": "code",
      "source": [
        "def bonus(days):\n",
        "  # Threshold target for the bonus scheme\n",
        "  threshold = 32\n",
        "  \n",
        "  # Calculate the bonus based on the number of days\n",
        "  if days <= threshold:\n",
        "    # No bonus if the employee has claimed 32 days or fewer\n",
        "    bonus = 0\n",
        "  elif days <= 40:\n",
        "    # Bonus of SGD325 per day if the employee has claimed more than 32 days but fewer than 41 days\n",
        "    bonus = (days - threshold) * 325\n",
        "  elif days <= 48:\n",
        "    # Bonus of SGD550 per day if the employee has claimed more than 40 days but fewer than 49 days\n",
        "    bonus = (days - threshold - 8) * 550 + 8 * 325\n",
        "  else:\n",
        "    # Bonus of SGD600 per day if the employee has claimed 49 days or more\n",
        "    bonus = (days - threshold - 8 - 7) * 600 + 8 * 325 + 7 * 550\n",
        "    \n",
        "  # Return the calculated bonus\n",
        "  return bonus\n",
        "\n",
        "\n",
        "b = bonus(15)\n",
        "print(b) # 0\n",
        "\n",
        "b = bonus(37)\n",
        "print(b) # 1625\n",
        "\n",
        "b = bonus(50)\n",
        "print(b) # 8200\n"
      ],
      "metadata": {
        "colab": {
          "base_uri": "https://localhost:8080/"
        },
        "id": "CD5IqSHfnHkF",
        "outputId": "d68b61e3-b90f-41c8-ad17-55357088518f"
      },
      "execution_count": 34,
      "outputs": [
        {
          "output_type": "stream",
          "name": "stdout",
          "text": [
            "0\n",
            "1625\n",
            "8250\n"
          ]
        }
      ]
    },
    {
      "cell_type": "markdown",
      "source": [
        "Q5 Solution:"
      ],
      "metadata": {
        "id": "1z6dDPyTnJU7"
      }
    },
    {
      "cell_type": "code",
      "source": [
        "def is_disarium(n: int) -> bool:\n",
        "    # Convert the number to a string and find the length of the string\n",
        "    str_n = str(n)\n",
        "    length = len(str_n)\n",
        "    \n",
        "    # Compute the sum of the digits raised to their respective positions\n",
        "    sum = 0\n",
        "    for i, digit in enumerate(str_n):\n",
        "        sum += int(digit)**(i+1)\n",
        "    \n",
        "    # Return whether the sum is equal to the original number\n",
        "    return sum == n\n",
        "\n",
        "\n",
        "print(is_disarium(175))  # Returns True\n",
        "print(is_disarium(89))   # Returns True\n",
        "print(is_disarium(564))  # Returns False\n"
      ],
      "metadata": {
        "colab": {
          "base_uri": "https://localhost:8080/"
        },
        "id": "D9NBrBT-nLMy",
        "outputId": "62e4ae1c-f4eb-4202-8524-31b8f9e24067"
      },
      "execution_count": 21,
      "outputs": [
        {
          "output_type": "stream",
          "name": "stdout",
          "text": [
            "True\n",
            "True\n",
            "False\n"
          ]
        }
      ]
    },
    {
      "cell_type": "code",
      "source": [],
      "metadata": {
        "id": "SEERnoQcneIG"
      },
      "execution_count": null,
      "outputs": []
    }
  ]
}