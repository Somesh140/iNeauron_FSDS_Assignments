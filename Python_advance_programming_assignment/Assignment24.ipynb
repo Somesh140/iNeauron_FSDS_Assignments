{
  "nbformat": 4,
  "nbformat_minor": 0,
  "metadata": {
    "colab": {
      "provenance": [],
      "authorship_tag": "ABX9TyN/mGV0nPQAx73hw5/jvVIZ",
      "include_colab_link": true
    },
    "kernelspec": {
      "name": "python3",
      "display_name": "Python 3"
    },
    "language_info": {
      "name": "python"
    }
  },
  "cells": [
    {
      "cell_type": "markdown",
      "metadata": {
        "id": "view-in-github",
        "colab_type": "text"
      },
      "source": [
        "<a href=\"https://colab.research.google.com/github/Somesh140/iNeauron_FSDS_Assignments/blob/main/Python_advance_programming_assignment/Assignment24.ipynb\" target=\"_parent\"><img src=\"https://colab.research.google.com/assets/colab-badge.svg\" alt=\"Open In Colab\"/></a>"
      ]
    },
    {
      "cell_type": "markdown",
      "source": [
        "1. Implement a class iterator to flatten a nested list of lists of integers. Each\n",
        "list element is either an integer or a list. There can be many levels of nested\n",
        "lists in lists.\n",
        "  The class initializes with a nested list. It also has two methods:\n",
        "  1. next() returns an integer in the order of appearance.\n",
        "  2. hasNext() returns True / False regarding if all integers have been\n",
        "  retrieved or not.\n",
        "  Write the Class implementation for three required methods.\n",
        "  Examples\n",
        "  ni, actual = NestedIterator([[1, 1], 2, [1, 1]]), []\n",
        "  while ni.hasNext():\n",
        "  actual.append(ni.next())\n",
        "  actual ➞ [1, 1, 2, 1, 1]\n",
        "  ni, actual = NestedIterator([1, [4, [6]]]), []\n",
        "  while ni.hasNext():\n",
        "  actual.append(ni.next())\n",
        "  actual ➞ [1, 4, 6]\n",
        "  ni, actual = NestedIterator([[[]], []]), []\n",
        "  while ni.hasNext():\n",
        "  actual.append(ni.next())\n",
        "  actual ➞ []"
      ],
      "metadata": {
        "id": "0KDo1uxYbLes"
      }
    },
    {
      "cell_type": "code",
      "execution_count": 1,
      "metadata": {
        "id": "BjNw22yKZ386"
      },
      "outputs": [],
      "source": [
        "class NestedIterator:\n",
        "    def __init__(self, nestedList):\n",
        "        self.stack = []\n",
        "        self.flatten(nestedList)\n",
        "    \n",
        "    def flatten(self, nestedList):\n",
        "        for i in range(len(nestedList) - 1, -1, -1):\n",
        "            if isinstance(nestedList[i], list):\n",
        "                self.flatten(nestedList[i])\n",
        "            else:\n",
        "                self.stack.append(nestedList[i])\n",
        "    \n",
        "    def hasNext(self):\n",
        "        return len(self.stack) > 0\n",
        "    \n",
        "    def next(self):\n",
        "        return self.stack.pop()\n"
      ]
    },
    {
      "cell_type": "code",
      "source": [
        "ni = NestedIterator([[1, 1], 2, [1, 1]])\n",
        "actual = []\n",
        "while ni.hasNext():\n",
        "    actual.append(ni.next())\n",
        "print(actual)  # Output: [1, 1, 2, 1, 1]\n"
      ],
      "metadata": {
        "colab": {
          "base_uri": "https://localhost:8080/"
        },
        "id": "gT3KTTSzbQPl",
        "outputId": "5baa4b13-b366-4012-c4e2-e0dd2a023b42"
      },
      "execution_count": 2,
      "outputs": [
        {
          "output_type": "stream",
          "name": "stdout",
          "text": [
            "[1, 1, 2, 1, 1]\n"
          ]
        }
      ]
    },
    {
      "cell_type": "code",
      "source": [
        "ni = NestedIterator([1, [4, [6]]])\n",
        "actual = []\n",
        "while ni.hasNext():\n",
        "    actual.append(ni.next())\n",
        "print(actual)  # Output: [1, 4, 6]\n"
      ],
      "metadata": {
        "colab": {
          "base_uri": "https://localhost:8080/"
        },
        "id": "_FUlTvGIbSTN",
        "outputId": "2dee7437-edac-4b4c-c73a-d4ea75d44176"
      },
      "execution_count": 3,
      "outputs": [
        {
          "output_type": "stream",
          "name": "stdout",
          "text": [
            "[1, 4, 6]\n"
          ]
        }
      ]
    },
    {
      "cell_type": "code",
      "source": [
        "ni = NestedIterator([[[]], []])\n",
        "actual = []\n",
        "while ni.hasNext():\n",
        "    actual.append(ni.next())\n",
        "print(actual)  # Output: []\n"
      ],
      "metadata": {
        "colab": {
          "base_uri": "https://localhost:8080/"
        },
        "id": "3oIMTrAsbTXw",
        "outputId": "629e4b38-78e1-4713-def1-5b84b0222670"
      },
      "execution_count": 4,
      "outputs": [
        {
          "output_type": "stream",
          "name": "stdout",
          "text": [
            "[]\n"
          ]
        }
      ]
    },
    {
      "cell_type": "markdown",
      "source": [
        "2. Implement the class Shape that receives perimeter and density function\n",
        "into __init__ method. The list of consecutive corners defines shape of a 2-\n",
        "dimensional object. The density function defines the mass distribution inside\n",
        "the shape. To compute mass in a certain point m(x, y) = small_square *\n",
        "density(x, y). The __init__ method calls other internal methods that compute\n",
        "three characteristics of the shape:\n",
        "- area\n",
        "- total mass\n",
        "- center of mass (xc, yc)\n",
        "The computational grid has distance between two neighboring points as 2 *\n",
        "delta, the distance between a grid point and the perimeter wall is delta.\n",
        "Examples\n",
        "\n",
        "sh_ex1 = Shape([(1, 1), (3, 1), (3, 2), (1, 2)], lambda x, y: 100 + 100 * x)\n",
        "sh_ex1.area ➞ 2.0\n",
        "sh_ex1.mass ➞ 600.0\n",
        "sh_ex1.mass_center ➞ (2.1, 1.5)"
      ],
      "metadata": {
        "id": "_87Phb5ncIEq"
      }
    },
    {
      "cell_type": "code",
      "source": [
        "class Shape:\n",
        "    def __init__(self, corners, density):\n",
        "        self.corners = corners\n",
        "        self.density = density\n",
        "        self.delta = 0.001  # Grid distance\n",
        "        self.compute_area()\n",
        "        self.compute_total_mass()\n",
        "        self.compute_mass_center()\n",
        "\n",
        "    def compute_area(self):\n",
        "        self.area = 0.0\n",
        "        n = len(self.corners)\n",
        "        for i in range(n):\n",
        "            x1, y1 = self.corners[i]\n",
        "            x2, y2 = self.corners[(i + 1) % n]\n",
        "            self.area += (x1 * y2 - x2 * y1)\n",
        "        self.area *= 0.5\n",
        "\n",
        "    def compute_total_mass(self):\n",
        "        self.mass = 0.0\n",
        "        x_min = min(self.corners, key=lambda p: p[0])[0]\n",
        "        x_max = max(self.corners, key=lambda p: p[0])[0]\n",
        "        y_min = min(self.corners, key=lambda p: p[1])[1]\n",
        "        y_max = max(self.corners, key=lambda p: p[1])[1]\n",
        "\n",
        "        for x in self.range_with_delta(x_min, x_max):\n",
        "            for y in self.range_with_delta(y_min, y_max):\n",
        "                if self.is_inside_shape(x, y):\n",
        "                    self.mass += self.small_square(x, y) * self.density(x, y)\n",
        "\n",
        "    def range_with_delta(self, start, stop):\n",
        "        return (start + self.delta * i for i in range(int((stop - start) / self.delta) + 1))\n",
        "\n",
        "    def small_square(self, x, y):\n",
        "        return self.delta * self.delta\n",
        "\n",
        "    def is_inside_shape(self, x, y):\n",
        "        n = len(self.corners)\n",
        "        inside = False\n",
        "        p2x, p2y = self.corners[n - 1]\n",
        "        for i in range(n):\n",
        "            p1x, p1y = self.corners[i]\n",
        "            if (p1y < y and p2y >= y) or (p2y < y and p1y >= y):\n",
        "                if p1x + (y - p1y) / (p2y - p1y) * (p2x - p1x) < x:\n",
        "                    inside = not inside\n",
        "            p2x, p2y = p1x, p1y\n",
        "        return inside\n",
        "\n",
        "    def compute_mass_center(self):\n",
        "        self.mass_center = (0.0, 0.0)\n",
        "        x_min = min(self.corners, key=lambda p: p[0])[0]\n",
        "        x_max = max(self.corners, key=lambda p: p[0])[0]\n",
        "        y_min = min(self.corners, key=lambda p: p[1])[1]\n",
        "        y_max = max(self.corners, key=lambda p: p[1])[1]\n",
        "\n",
        "        xc = 0.0\n",
        "        yc = 0.0\n",
        "        count = 0\n",
        "\n",
        "        for x in self.range_with_delta(x_min, x_max):\n",
        "            for y in self.range_with_delta(y_min, y_max):\n",
        "                if self.is_inside_shape(x, y):\n",
        "                    mass = self.small_square(x, y) * self.density(x, y)\n",
        "                    xc += x * mass\n",
        "                    yc += y * mass\n",
        "                    count += 1\n",
        "\n",
        "        if count > 0:\n",
        "            xc /= self.mass\n",
        "            yc /= self.mass\n",
        "\n",
        "        self.mass_center = (xc, yc)\n"
      ],
      "metadata": {
        "id": "OVwiSiunbVPo"
      },
      "execution_count": 5,
      "outputs": []
    },
    {
      "cell_type": "code",
      "source": [
        "sh_ex1 = Shape([(1, 1), (3, 1), (3, 2), (1, 2)], lambda x, y: 100 + 100 * x)\n",
        "print(sh_ex1.area)  # Output: 2.0\n",
        "print(sh_ex1.mass)  # Output: 600.0\n",
        "print(sh_ex1.mass_center)  # Output: (2.1, 1.5)\n"
      ],
      "metadata": {
        "colab": {
          "base_uri": "https://localhost:8080/"
        },
        "id": "JHoAR9BgcHCw",
        "outputId": "0d41707a-8209-4d6e-9b96-bfb9aed06695"
      },
      "execution_count": 6,
      "outputs": [
        {
          "output_type": "stream",
          "name": "stdout",
          "text": [
            "2.0\n",
            "600.1000000001233\n",
            "(2.111592567899631, 1.500499999999623)\n"
          ]
        }
      ]
    },
    {
      "cell_type": "markdown",
      "source": [
        "3. Given a 3x3 matrix of a completed tic-tac-toe game, create a function that\n",
        "returns whether the game is a win for &quot;X&quot;, &quot;O&quot;, or a &quot;Draw&quot;, where &quot;X&quot; and &quot;O&quot;\n",
        "represent themselves on the matrix, and &quot;E&quot; represents an empty spot.\n",
        "Examples\n",
        "tic_tac_toe([\n",
        "[&quot;X&quot;, &quot;O&quot;, &quot;X&quot;],\n",
        "[&quot;O&quot;, &quot;X&quot;, &quot;O&quot;],\n",
        "[&quot;O&quot;, &quot;X&quot;, &quot;X&quot;]\n",
        "]) ➞ &quot;X&quot;\n",
        "tic_tac_toe([\n",
        "[&quot;O&quot;, &quot;O&quot;, &quot;O&quot;],\n",
        "[&quot;O&quot;, &quot;X&quot;, &quot;X&quot;],\n",
        "[&quot;E&quot;, &quot;X&quot;, &quot;X&quot;]\n",
        "]) ➞ &quot;O&quot;\n",
        "\n",
        "tic_tac_toe([\n",
        "[&quot;X&quot;, &quot;X&quot;, &quot;O&quot;],\n",
        "[&quot;O&quot;, &quot;O&quot;, &quot;X&quot;],\n",
        "[&quot;X&quot;, &quot;X&quot;, &quot;O&quot;]\n",
        "]) ➞ &quot;Draw&quot;"
      ],
      "metadata": {
        "id": "sXzYhqJ5diSy"
      }
    },
    {
      "cell_type": "code",
      "source": [
        "def tic_tac_toe(board):\n",
        "    # Check rows\n",
        "    for row in board:\n",
        "        if row[0] == row[1] == row[2] != 'E':\n",
        "            return row[0]\n",
        "\n",
        "    # Check columns\n",
        "    for col in range(3):\n",
        "        if board[0][col] == board[1][col] == board[2][col] != 'E':\n",
        "            return board[0][col]\n",
        "\n",
        "    # Check diagonals\n",
        "    if (board[0][0] == board[1][1] == board[2][2] != 'E') or (board[0][2] == board[1][1] == board[2][0] != 'E'):\n",
        "        return board[1][1]\n",
        "\n",
        "    # Check for a draw\n",
        "    if all('E' not in row for row in board):\n",
        "        return 'Draw'\n",
        "\n",
        "    # No winner yet\n",
        "    return None\n"
      ],
      "metadata": {
        "id": "xO7YNnHqdDTp"
      },
      "execution_count": 7,
      "outputs": []
    },
    {
      "cell_type": "code",
      "source": [
        "board1 = [\n",
        "    [\"X\", \"O\", \"X\"],\n",
        "    [\"O\", \"X\", \"O\"],\n",
        "    [\"O\", \"X\", \"X\"]\n",
        "]\n",
        "print(tic_tac_toe(board1))  # Output: \"X\"\n",
        "\n",
        "board2 = [\n",
        "    [\"O\", \"O\", \"O\"],\n",
        "    [\"O\", \"X\", \"X\"],\n",
        "    [\"E\", \"X\", \"X\"]\n",
        "]\n",
        "print(tic_tac_toe(board2))  # Output: \"O\"\n",
        "\n",
        "board3 = [\n",
        "    [\"X\", \"X\", \"O\"],\n",
        "    [\"O\", \"O\", \"X\"],\n",
        "    [\"X\", \"X\", \"O\"]\n",
        "]\n",
        "print(tic_tac_toe(board3))  # Output: \"Draw\"\n"
      ],
      "metadata": {
        "colab": {
          "base_uri": "https://localhost:8080/"
        },
        "id": "ubdgHFtFdy2N",
        "outputId": "1bfe4f4e-9b91-48ae-e9d7-828abd4fb2cf"
      },
      "execution_count": 8,
      "outputs": [
        {
          "output_type": "stream",
          "name": "stdout",
          "text": [
            "X\n",
            "O\n",
            "Draw\n"
          ]
        }
      ]
    },
    {
      "cell_type": "markdown",
      "source": [
        "4. Your computer might have been infected by a virus! Create a function that\n",
        "finds the viruses in files and removes them from your computer.\n",
        "Examples\n",
        "remove_virus(&quot;PC Files: spotifysetup.exe, virus.exe, dog.jpg&quot;) ➞ &quot;PC Files:\n",
        "spotifysetup.exe, dog.jpg&quot;\n",
        "remove_virus(&quot;PC Files: antivirus.exe, cat.pdf, lethalmalware.exe,\n",
        "dangerousvirus.exe &quot;) ➞ &quot;PC Files: antivirus.exe, cat.pdf&quot;\n",
        "remove_virus(&quot;PC Files: notvirus.exe, funnycat.gif&quot;) ➞ &quot;PC Files:\n",
        "notvirus.exe, funnycat.gif&quot;)"
      ],
      "metadata": {
        "id": "-WfIEPOBdk6D"
      }
    },
    {
      "cell_type": "code",
      "source": [
        "def remove_virus(files):\n",
        "    # Split the string into parts before and after the file list\n",
        "    prefix, file_list = files.split(\":\")\n",
        "    \n",
        "    # Split the file list into individual files\n",
        "    files = file_list.split(\",\")\n",
        "    \n",
        "    # Filter out the virus files\n",
        "    clean_files = [file.strip() for file in files if \"virus\" not in file.lower() and \"malware\" not in file.lower()]\n",
        "    \n",
        "    # Join the clean files back into a string\n",
        "    clean_file_list = \", \".join(clean_files)\n",
        "    \n",
        "    # Return the updated string\n",
        "    return prefix + \": \" + clean_file_list\n"
      ],
      "metadata": {
        "id": "nC5sjgovdnzm"
      },
      "execution_count": 9,
      "outputs": []
    },
    {
      "cell_type": "code",
      "source": [
        "print(remove_virus(\"PC Files: spotifysetup.exe, virus.exe, dog.jpg\"))\n",
        "# Output: \"PC Files: spotifysetup.exe, dog.jpg\"\n",
        "\n",
        "print(remove_virus(\"PC Files: antivirus.exe, cat.pdf, lethalmalware.exe, dangerousvirus.exe\"))\n",
        "# Output: \"PC Files: antivirus.exe, cat.pdf\"\n",
        "\n",
        "print(remove_virus(\"PC Files: notvirus.exe, funnycat.gif\"))\n",
        "# Output: \"PC Files: notvirus.exe, funnycat.gif\"\n"
      ],
      "metadata": {
        "colab": {
          "base_uri": "https://localhost:8080/"
        },
        "id": "NcQH28JCd2f3",
        "outputId": "54664da1-5947-420d-b9d8-bd76c524afca"
      },
      "execution_count": 10,
      "outputs": [
        {
          "output_type": "stream",
          "name": "stdout",
          "text": [
            "PC Files: spotifysetup.exe, dog.jpg\n",
            "PC Files: cat.pdf\n",
            "PC Files: funnycat.gif\n"
          ]
        }
      ]
    },
    {
      "cell_type": "markdown",
      "source": [
        "5. In a video game, a meteor will fall toward the main character&#39;s home\n",
        "planet. Given the meteor&#39;s trajectory as a string in the form y = mx + b and\n",
        "the character&#39;s position as a tuple of (x, y), return True if the meteor will hit\n",
        "the character and False if it will not.\n",
        "Examples\n",
        "will_hit(&quot;y = 2x - 5&quot;, (0, 0)) ➞ False\n",
        "will_hit(&quot;y = -4x + 6&quot;, (1, 2)) ➞ True\n",
        "will_hit(&quot;y = 2x + 6&quot;, (3, 2)) ➞ False"
      ],
      "metadata": {
        "id": "SbO2mM_Td8oR"
      }
    },
    {
      "cell_type": "code",
      "source": [
        "def will_hit(trajectory, character_position):\n",
        "    # Extract m and b from the trajectory equation\n",
        "    equation_parts = trajectory.split(\" \")\n",
        "    m = int(equation_parts[2][:-1])\n",
        "    b = int(equation_parts[4])\n",
        "    \n",
        "    # Extract character's coordinates\n",
        "    x, y = character_position\n",
        "    \n",
        "    # Calculate y value based on the trajectory equation\n",
        "    calculated_y = m * x + b\n",
        "    \n",
        "    # Check if the calculated y matches the character's y coordinate\n",
        "    if calculated_y == y:\n",
        "        return True\n",
        "    else:\n",
        "        return False\n"
      ],
      "metadata": {
        "id": "X5mRqcMAd4S-"
      },
      "execution_count": 11,
      "outputs": []
    },
    {
      "cell_type": "code",
      "source": [
        "print(will_hit(\"y = 2x - 5\", (0, 0)))\n",
        "# Output: False\n",
        "\n",
        "print(will_hit(\"y = -4x + 6\", (1, 2)))\n",
        "# Output: True\n",
        "\n",
        "print(will_hit(\"y = 2x + 6\", (3, 2)))\n",
        "# Output: False\n"
      ],
      "metadata": {
        "colab": {
          "base_uri": "https://localhost:8080/"
        },
        "id": "AwEnNl78eG0p",
        "outputId": "82c35f89-76b1-4014-853f-81ae78f9f216"
      },
      "execution_count": 12,
      "outputs": [
        {
          "output_type": "stream",
          "name": "stdout",
          "text": [
            "False\n",
            "True\n",
            "False\n"
          ]
        }
      ]
    },
    {
      "cell_type": "code",
      "source": [],
      "metadata": {
        "id": "xKI8o4yjeJM7"
      },
      "execution_count": null,
      "outputs": []
    }
  ]
}