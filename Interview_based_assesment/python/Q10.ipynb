{
  "nbformat": 4,
  "nbformat_minor": 0,
  "metadata": {
    "colab": {
      "provenance": [],
      "authorship_tag": "ABX9TyMyJye0RbWCMI76a4wTRC+G",
      "include_colab_link": true
    },
    "kernelspec": {
      "name": "python3",
      "display_name": "Python 3"
    },
    "language_info": {
      "name": "python"
    }
  },
  "cells": [
    {
      "cell_type": "markdown",
      "metadata": {
        "id": "view-in-github",
        "colab_type": "text"
      },
      "source": [
        "<a href=\"https://colab.research.google.com/github/Somesh140/iNeauron_FSDS_Assignments/blob/main/Interview_based_assesment/python/Q10.ipynb\" target=\"_parent\"><img src=\"https://colab.research.google.com/assets/colab-badge.svg\" alt=\"Open In Colab\"/></a>"
      ]
    },
    {
      "cell_type": "markdown",
      "source": [
        "Write a program to count the number of verbs, nouns, pronouns, and adjectives in a given particular phrase or\n",
        "paragraph, and return their respective count as a dictionary.\n",
        "Note -\n",
        "1. Write code comments wherever required for code\n",
        "2. You have to write at least 2 additional test cases in which your program will run successfully and provide\n",
        "an explanation for the same."
      ],
      "metadata": {
        "id": "zl6XPKCl9Phc"
      }
    },
    {
      "cell_type": "code",
      "execution_count": 1,
      "metadata": {
        "id": "i3j84NK389Cr"
      },
      "outputs": [],
      "source": [
        "import nltk"
      ]
    },
    {
      "cell_type": "code",
      "source": [
        "from nltk.tokenize import word_tokenize\n",
        "from nltk.corpus import wordnet as wn"
      ],
      "metadata": {
        "id": "CHQet6aX-YkO"
      },
      "execution_count": 3,
      "outputs": []
    },
    {
      "cell_type": "code",
      "source": [
        "nltk.download('averaged_perceptron_tagger')"
      ],
      "metadata": {
        "colab": {
          "base_uri": "https://localhost:8080/"
        },
        "id": "i2SQUABr-kIJ",
        "outputId": "736f7e3b-b119-40ee-bb4c-4f9ce88a0630"
      },
      "execution_count": 6,
      "outputs": [
        {
          "output_type": "stream",
          "name": "stderr",
          "text": [
            "[nltk_data] Downloading package averaged_perceptron_tagger to\n",
            "[nltk_data]     /root/nltk_data...\n",
            "[nltk_data]   Unzipping taggers/averaged_perceptron_tagger.zip.\n"
          ]
        },
        {
          "output_type": "execute_result",
          "data": {
            "text/plain": [
              "True"
            ]
          },
          "metadata": {},
          "execution_count": 6
        }
      ]
    },
    {
      "cell_type": "code",
      "source": [
        "nltk.download('punkt')"
      ],
      "metadata": {
        "colab": {
          "base_uri": "https://localhost:8080/"
        },
        "id": "rP5DvLebBfIm",
        "outputId": "934d7ba5-1150-4cca-83de-63711c198b53"
      },
      "execution_count": 14,
      "outputs": [
        {
          "output_type": "stream",
          "name": "stderr",
          "text": [
            "[nltk_data] Downloading package punkt to /root/nltk_data...\n",
            "[nltk_data]   Unzipping tokenizers/punkt.zip.\n"
          ]
        },
        {
          "output_type": "execute_result",
          "data": {
            "text/plain": [
              "True"
            ]
          },
          "metadata": {},
          "execution_count": 14
        }
      ]
    },
    {
      "cell_type": "code",
      "source": [
        "from nltk.tokenize import word_tokenize\n",
        "from nltk.corpus import wordnet as wn\n",
        "\n",
        "def count_pos_tag(text):\n",
        "  # Tokenize the text into words\n",
        "  words= word_tokenize(text)\n",
        "\n",
        "  # Initialize count variables\n",
        "  verb_count=0\n",
        "  noun_count=0\n",
        "  pronoun_count=0\n",
        "  adjective_count=0\n",
        "\n",
        "  for word in words:\n",
        "    # get pos_tag for the word\n",
        "    pos_tags=nltk.pos_tag([word])\n",
        "\n",
        "    #check if the word is verb\n",
        "    if pos_tags[0][1].startswith('VB'):\n",
        "            verb_count += 1\n",
        "    # Check if the word is a noun\n",
        "    elif pos_tags[0][1].startswith('NN'):\n",
        "        noun_count += 1\n",
        "    # Check if the word is a pronoun\n",
        "    elif pos_tags[0][1].startswith('PRP'):\n",
        "        pronoun_count += 1\n",
        "    # Check if the word is an adjective\n",
        "    elif pos_tags[0][1].startswith('JJ'):\n",
        "        adjective_count += 1\n",
        "\n",
        "  #Create a dictionary to store the counts\n",
        "  counts = {\n",
        "      'verbs': verb_count,\n",
        "      'nouns': noun_count,\n",
        "      'pronouns': pronoun_count,\n",
        "      'adjectives': adjective_count\n",
        "  }\n",
        "  \n",
        "  return counts      \n"
      ],
      "metadata": {
        "id": "7MX3UXvI9TcN"
      },
      "execution_count": 18,
      "outputs": []
    },
    {
      "cell_type": "code",
      "source": [
        "# Test the function \n",
        "phrase = \"The cat chased the mouse\"\n",
        "result = count_pos_tag(phrase)\n",
        "print(result)  "
      ],
      "metadata": {
        "colab": {
          "base_uri": "https://localhost:8080/"
        },
        "id": "3M-dtJ3wBMpj",
        "outputId": "ad1a38ae-67c3-456c-cd18-0aa7ebe4c352"
      },
      "execution_count": 19,
      "outputs": [
        {
          "output_type": "stream",
          "name": "stdout",
          "text": [
            "{'verbs': 1, 'nouns': 2, 'pronouns': 0, 'adjectives': 0}\n"
          ]
        }
      ]
    },
    {
      "cell_type": "code",
      "source": [
        "#Test case 1\n",
        "paragraph = \"I love eating delicious food. The beautiful sunset painted the sky with vibrant colors.\"\n",
        "result = count_pos_tag(paragraph)\n",
        "print(result)"
      ],
      "metadata": {
        "colab": {
          "base_uri": "https://localhost:8080/"
        },
        "id": "yycUGBa7-UC3",
        "outputId": "3bc63725-0cdb-4918-d3dc-24c4bf5490ed"
      },
      "execution_count": 20,
      "outputs": [
        {
          "output_type": "stream",
          "name": "stdout",
          "text": [
            "{'verbs': 2, 'nouns': 7, 'pronouns': 1, 'adjectives': 1}\n"
          ]
        }
      ]
    },
    {
      "cell_type": "code",
      "source": [
        "# Test case 2\n",
        "phrase = \"He is a tall and handsome man\"\n",
        "result = count_pos_tag(phrase)\n",
        "print(result)"
      ],
      "metadata": {
        "colab": {
          "base_uri": "https://localhost:8080/"
        },
        "id": "TuQp_dcpCV3f",
        "outputId": "605ecf14-df8e-4a1c-83a5-d036edb2be01"
      },
      "execution_count": 21,
      "outputs": [
        {
          "output_type": "stream",
          "name": "stdout",
          "text": [
            "{'verbs': 1, 'nouns': 3, 'pronouns': 1, 'adjectives': 0}\n"
          ]
        }
      ]
    }
  ]
}