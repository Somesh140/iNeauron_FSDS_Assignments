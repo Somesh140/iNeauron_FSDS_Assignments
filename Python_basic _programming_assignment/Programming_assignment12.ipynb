{
  "nbformat": 4,
  "nbformat_minor": 0,
  "metadata": {
    "colab": {
      "provenance": [],
      "authorship_tag": "ABX9TyNj1Vv8+o0Ut1rEm79x7f8e",
      "include_colab_link": true
    },
    "kernelspec": {
      "name": "python3",
      "display_name": "Python 3"
    },
    "language_info": {
      "name": "python"
    }
  },
  "cells": [
    {
      "cell_type": "markdown",
      "metadata": {
        "id": "view-in-github",
        "colab_type": "text"
      },
      "source": [
        "<a href=\"https://colab.research.google.com/github/Somesh140/iNeauron_FSDS_Assignments/blob/main/Python_basic%20_programming_assignment/Programming_assignment12.ipynb\" target=\"_parent\"><img src=\"https://colab.research.google.com/assets/colab-badge.svg\" alt=\"Open In Colab\"/></a>"
      ]
    },
    {
      "cell_type": "markdown",
      "source": [
        "1. Write a Python program to Extract Unique values dictionary values?\n",
        "2. Write a Python program to find the sum of all items in a dictionary?\n",
        "3. Write a Python program to Merging two Dictionaries?\n",
        "4. Write a Python program to convert key-values list to flat dictionary?\n",
        "5. Write a Python program to insertion at the beginning in OrderedDict?\n",
        "6. Write a Python program to check order of character in string using OrderedDict()?\n",
        "7. Write a Python program to sort Python Dictionaries by Key or Value?"
      ],
      "metadata": {
        "id": "gEM1ShOzr8H0"
      }
    },
    {
      "cell_type": "code",
      "execution_count": 1,
      "metadata": {
        "colab": {
          "base_uri": "https://localhost:8080/"
        },
        "id": "p28SR1MEre3b",
        "outputId": "bcbf0edc-9ea2-49cd-fb25-0e2509580d46"
      },
      "outputs": [
        {
          "output_type": "stream",
          "name": "stdout",
          "text": [
            "Unique Values:  [1, 2, 3]\n"
          ]
        }
      ],
      "source": [
        "#1 Python program to Extract Unique values dictionary values:\n",
        "my_dict = {'a': 1, 'b': 2, 'c': 1, 'd': 3, 'e': 2}\n",
        "\n",
        "unique_values = list(set(my_dict.values()))\n",
        "\n",
        "print(\"Unique Values: \", unique_values)\n"
      ]
    },
    {
      "cell_type": "code",
      "source": [
        "#2 Python program to find the sum of all items in a dictionary:\n",
        "my_dict = {'a': 10, 'b': 20, 'c': 30, 'd': 40}\n",
        "\n",
        "sum_values = sum(my_dict.values())\n",
        "\n",
        "print(\"Sum of Values: \", sum_values)\n"
      ],
      "metadata": {
        "colab": {
          "base_uri": "https://localhost:8080/"
        },
        "id": "EuJNiiqrsWQL",
        "outputId": "3064c89c-72c5-4d9f-cd45-4e6017f49b48"
      },
      "execution_count": 2,
      "outputs": [
        {
          "output_type": "stream",
          "name": "stdout",
          "text": [
            "Sum of Values:  100\n"
          ]
        }
      ]
    },
    {
      "cell_type": "code",
      "source": [
        "#3 Python program to Merging two Dictionaries:\n",
        "dict1 = {'a': 10, 'b': 20}\n",
        "dict2 = {'c': 30, 'd': 40}\n",
        "\n",
        "merged_dict = {**dict1, **dict2}\n",
        "\n",
        "print(\"Merged Dictionary: \", merged_dict)\n"
      ],
      "metadata": {
        "colab": {
          "base_uri": "https://localhost:8080/"
        },
        "id": "KsXsiWWtsdRZ",
        "outputId": "061f4b7a-ca95-400f-8464-17b2ef3669cd"
      },
      "execution_count": 3,
      "outputs": [
        {
          "output_type": "stream",
          "name": "stdout",
          "text": [
            "Merged Dictionary:  {'a': 10, 'b': 20, 'c': 30, 'd': 40}\n"
          ]
        }
      ]
    },
    {
      "cell_type": "code",
      "source": [
        "#4 Python program to convert key-values list to flat dictionary:\n",
        "keys = ['a', 'b', 'c']\n",
        "values = [1, 2, 3]\n",
        "\n",
        "flat_dict = dict(zip(keys, values))\n",
        "\n",
        "print(\"Flat Dictionary: \", flat_dict)\n"
      ],
      "metadata": {
        "colab": {
          "base_uri": "https://localhost:8080/"
        },
        "id": "bAhY4X6Isk5I",
        "outputId": "f2fb4d26-0016-4aad-ac02-d172333d0421"
      },
      "execution_count": 4,
      "outputs": [
        {
          "output_type": "stream",
          "name": "stdout",
          "text": [
            "Flat Dictionary:  {'a': 1, 'b': 2, 'c': 3}\n"
          ]
        }
      ]
    },
    {
      "cell_type": "code",
      "source": [
        "#5 Python program to insertion at the beginning in OrderedDict:\n",
        "from collections import OrderedDict\n",
        "\n",
        "my_dict = OrderedDict([('a', 1), ('b', 2)])\n",
        "\n",
        "my_dict.update({'c': 3})\n",
        "my_dict.move_to_end('c', last=False)\n",
        "\n",
        "print(\"Ordered Dictionary: \", my_dict)\n"
      ],
      "metadata": {
        "colab": {
          "base_uri": "https://localhost:8080/"
        },
        "id": "j0h4qY09st2s",
        "outputId": "876dc202-cac2-43b1-f0b8-a3eaa9bcf4b8"
      },
      "execution_count": 5,
      "outputs": [
        {
          "output_type": "stream",
          "name": "stdout",
          "text": [
            "Ordered Dictionary:  OrderedDict([('c', 3), ('a', 1), ('b', 2)])\n"
          ]
        }
      ]
    },
    {
      "cell_type": "code",
      "source": [
        "#6 Python program to check order of character in string using OrderedDict():\n",
        "from collections import OrderedDict\n",
        "\n",
        "def check_order(input_str, pattern):\n",
        "    # creating an ordered dictionary\n",
        "    dict_pattern = OrderedDict.fromkeys(pattern)\n",
        "\n",
        "    # initializing count for each character\n",
        "    count = 0\n",
        "    for key, value in dict_pattern.items():\n",
        "        dict_pattern[key] = count\n",
        "        count += 1\n",
        "\n",
        "    # finding the order of characters\n",
        "    order = []\n",
        "    for char in input_str:\n",
        "        if char in dict_pattern:\n",
        "            order.append(dict_pattern[char])\n",
        "\n",
        "    # checking if the order is ascending or not\n",
        "    return order == sorted(order)\n",
        "\n",
        "input_str = \"hello world\"\n",
        "pattern = \"hlo\"\n",
        "\n",
        "if check_order(input_str, pattern):\n",
        "    print(\"Order of characters is correct\")\n",
        "else:\n",
        "    print(\"Order of characters is incorrect\")\n"
      ],
      "metadata": {
        "colab": {
          "base_uri": "https://localhost:8080/"
        },
        "id": "2_mzucTFszi8",
        "outputId": "c46327ca-bb86-4de8-9c7e-b4c74acbd505"
      },
      "execution_count": 6,
      "outputs": [
        {
          "output_type": "stream",
          "name": "stdout",
          "text": [
            "Order of characters is incorrect\n"
          ]
        }
      ]
    },
    {
      "cell_type": "code",
      "source": [
        "#7 Python program to sort Python Dictionaries by Key or Value:\n",
        "my_dict = {'a': 10, 'c': 30, 'b': 20, 'd': 40}\n",
        "\n",
        "sorted_dict = {k: v for k, v in sorted(my_dict.items(), key=lambda item: item[0])}\n",
        "\n",
        "print(\"Sorted Dictionary by Key: \", sorted_dict)\n"
      ],
      "metadata": {
        "colab": {
          "base_uri": "https://localhost:8080/"
        },
        "id": "SlOw5cIgs5Nb",
        "outputId": "b67d182a-8991-4e16-a66d-5e43ff91837a"
      },
      "execution_count": 7,
      "outputs": [
        {
          "output_type": "stream",
          "name": "stdout",
          "text": [
            "Sorted Dictionary by Key:  {'a': 10, 'b': 20, 'c': 30, 'd': 40}\n"
          ]
        }
      ]
    },
    {
      "cell_type": "code",
      "source": [],
      "metadata": {
        "id": "b-CoTviEs_RT"
      },
      "execution_count": null,
      "outputs": []
    }
  ]
}