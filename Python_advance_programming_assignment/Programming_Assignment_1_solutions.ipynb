{
  "nbformat": 4,
  "nbformat_minor": 0,
  "metadata": {
    "colab": {
      "provenance": [],
      "authorship_tag": "ABX9TyPrPxeFgF1n/Ks9kRrQeIOK",
      "include_colab_link": true
    },
    "kernelspec": {
      "name": "python3",
      "display_name": "Python 3"
    },
    "language_info": {
      "name": "python"
    }
  },
  "cells": [
    {
      "cell_type": "markdown",
      "metadata": {
        "id": "view-in-github",
        "colab_type": "text"
      },
      "source": [
        "<a href=\"https://colab.research.google.com/github/Somesh140/iNeauron_FSDS_Assignments/blob/main/Python_advance_programming_assignment/Programming_Assignment_1_solutions.ipynb\" target=\"_parent\"><img src=\"https://colab.research.google.com/assets/colab-badge.svg\" alt=\"Open In Colab\"/></a>"
      ]
    },
    {
      "cell_type": "markdown",
      "source": [
        "[Programming_Assignment_1_Questions](https://docs.google.com/document/d/1FpCb2K-qh1clSBBywTz2w9LOkkH_QadA/edit?usp=sharing&ouid=102667678895147843990&rtpof=true&sd=true)"
      ],
      "metadata": {
        "id": "zzJIHja2I-bU"
      }
    },
    {
      "cell_type": "markdown",
      "source": [
        "Q1. Solution:"
      ],
      "metadata": {
        "id": "FytYcFAvMPUg"
      }
    },
    {
      "cell_type": "code",
      "source": [
        "def check_score(lst):\n",
        "  score = 0\n",
        "  for sublist in lst:\n",
        "    for symbol in sublist:\n",
        "      if symbol == \"#\":\n",
        "        score += 5\n",
        "      elif symbol == \"O\":\n",
        "       score += 3\n",
        "      elif symbol == \"X\":\n",
        "       score += 1\n",
        "      elif symbol == \"!\":\n",
        "       score -= 1\n",
        "      elif symbol == \"!!\":\n",
        "       score -= 3\n",
        "      elif symbol == \"!!!\":\n",
        "       score -= 5\n",
        "\n",
        "  if score < 0:\n",
        "    return 0\n",
        "  else:\n",
        "    return score\n",
        "\n",
        "print(check_score([\n",
        "[\"#\", \"!\"],\n",
        "[\"!!\", \"X\"]\n",
        "])) # 2\n",
        "print(check_score([\n",
        "[\"!!!\", \"O\", \"!\"],\n",
        "[\"X\", \"#\", \"!!!\"],\n",
        "[\"!!\", \"X\", \"O\"]\n",
        "])) # 0"
      ],
      "metadata": {
        "colab": {
          "base_uri": "https://localhost:8080/"
        },
        "id": "EGo1tisjKjcV",
        "outputId": "5e45df19-7823-473b-8d97-512ac1c4137a"
      },
      "execution_count": null,
      "outputs": [
        {
          "output_type": "stream",
          "name": "stdout",
          "text": [
            "2\n",
            "0\n"
          ]
        }
      ]
    },
    {
      "cell_type": "markdown",
      "source": [
        "Q2 Solution:"
      ],
      "metadata": {
        "id": "PywuPSrWMo9s"
      }
    },
    {
      "cell_type": "code",
      "source": [
        "def combinations(*args):\n",
        "  total = 1\n",
        "  for num in args:\n",
        "    total *= num\n",
        "  return total\n",
        "\n",
        "print(combinations(2, 3)) # 6\n",
        "print(combinations(3, 7, 4)) # 84\n",
        "print(combinations(2, 3, 4, 5)) # 120"
      ],
      "metadata": {
        "colab": {
          "base_uri": "https://localhost:8080/"
        },
        "id": "XV3i77a5LmNO",
        "outputId": "653c0e3c-ea64-4be1-8877-6e6c84faf790"
      },
      "execution_count": null,
      "outputs": [
        {
          "output_type": "stream",
          "name": "stdout",
          "text": [
            "6\n",
            "84\n",
            "120\n"
          ]
        }
      ]
    },
    {
      "cell_type": "markdown",
      "source": [
        "Q3 Solution:"
      ],
      "metadata": {
        "id": "jw93JSo9NCpS"
      }
    },
    {
      "cell_type": "code",
      "source": [
        "def encode_morse(string):\n",
        "  char_to_dots = {\n",
        "              'A': '.-', 'B': '-...', 'C': '-.-.', 'D': '-..', 'E': '.', 'F': '..-.',\n",
        "              'G': '--.', 'H': '....', 'I': '..', 'J': '.---', 'K': '-.-', 'L': '.-..',\n",
        "              'M': '--', 'N': '-.', 'O': '---', 'P': '.--.', 'Q': '--.-', 'R': '.-.',\n",
        "              'S': '...', 'T': '-', 'U': '..-', 'V': '...-', 'W': '.--', 'X': '-..-',\n",
        "              'Y': '-.--', 'Z': '--..', ' ': ' ', '0': '-----',\n",
        "              '1': '.----', '2': '..---', '3': '...--', '4': '....-', '5': '.....',\n",
        "              '6': '-....', '7': '--...', '8': '---..', '9': '----.',\n",
        "              '&': '.-...', '\"': '.----.', '@': '.--.-.', ')': '-.--.-', '(': '-.--.',\n",
        "              ':': '---...', ',': '--..--', '=': '-...-', '!': '-.-.--', '.': '.-.-.-',\n",
        "              '-': '-....-', '+': '.-.-.', '\"': '.-..-.', '?': '..--..', '/': '-..-.'\n",
        "              }\n",
        "\n",
        "  morse = \"\"\n",
        "  for char in string.upper():\n",
        "     if char != \" \": \n",
        "      morse += char_to_dots[char] +\" \"\n",
        "  return morse.strip()\n",
        "\n",
        "print(encode_morse(\"EDABBIT CHALLENGE\")) # \". -.. .- -... -... .. - -.-. .... .- .-.. .-.. . -. --. .\"\n",
        "print(encode_morse(\"HELP ME !\")) # \".... . .-.. .--. -- . -.-.--\""
      ],
      "metadata": {
        "colab": {
          "base_uri": "https://localhost:8080/"
        },
        "id": "8A0gLc_vM5lB",
        "outputId": "c140ba63-da3f-4338-9f84-742abd1fe34b"
      },
      "execution_count": null,
      "outputs": [
        {
          "output_type": "stream",
          "name": "stdout",
          "text": [
            ". -.. .- -... -... .. - -.-. .... .- .-.. .-.. . -. --. .\n",
            ".... . .-.. .--. -- . -.-.--\n"
          ]
        }
      ]
    },
    {
      "cell_type": "code",
      "source": [
        "assert encode_morse(\"HELP ME !\")== \".... . .-.. .--. -- . -.-.--\", \"No match\""
      ],
      "metadata": {
        "id": "Yxx8rbSOOPc0"
      },
      "execution_count": null,
      "outputs": []
    },
    {
      "cell_type": "markdown",
      "source": [
        "Q4 Solution"
      ],
      "metadata": {
        "id": "6toX0JFvhAzO"
      }
    },
    {
      "cell_type": "code",
      "source": [
        "def prime(n):\n",
        "  if n == 2:\n",
        "    return True\n",
        "  if n % 2 == 0 or n == 1:\n",
        "    return False\n",
        "  for i in range(3, int(n**0.5) + 1, 2):\n",
        "    if n % i == 0:\n",
        "      return False\n",
        "    else :\n",
        "      return True\n",
        "\n",
        "print(prime(7)) # True\n",
        "print(prime(56963)) # True\n",
        "print(prime(5151512515524)) # False"
      ],
      "metadata": {
        "colab": {
          "base_uri": "https://localhost:8080/"
        },
        "id": "8vfCv9hFhAGT",
        "outputId": "966f9d8e-d510-4b90-b2da-aa620c9a5061"
      },
      "execution_count": null,
      "outputs": [
        {
          "output_type": "stream",
          "name": "stdout",
          "text": [
            "None\n",
            "True\n",
            "False\n"
          ]
        }
      ]
    },
    {
      "cell_type": "markdown",
      "source": [
        "Q5 Solution:"
      ],
      "metadata": {
        "id": "YkgfG4Q7j6HM"
      }
    },
    {
      "cell_type": "code",
      "source": [
        "def to_boolean_list(word):\n",
        "  alpha = \"abcdefghijklmnopqrstuvwxyz\"\n",
        "  bitstring = \"\"\n",
        "  for char in word:\n",
        "    bitstring += \"1\" if alpha.index(char) % 2 == 0 else \"0\"\n",
        "    boolean_list = [bit == \"1\" for bit in bitstring]\n",
        "  return boolean_list\n",
        "\n",
        "print(to_boolean_list(\"deep\")) # [False, True, True, False]\n",
        "print(to_boolean_list(\"loves\")) # [False, True, False, True, True]\n",
        "print(to_boolean_list(\"tesh\")) # [False, True, True, False]"
      ],
      "metadata": {
        "colab": {
          "base_uri": "https://localhost:8080/"
        },
        "id": "MccVgcV7Owqn",
        "outputId": "2e0b3d2d-29ec-4612-b672-35377380488a"
      },
      "execution_count": 37,
      "outputs": [
        {
          "output_type": "stream",
          "name": "stdout",
          "text": [
            "[False, True, True, False]\n",
            "[False, True, False, True, True]\n",
            "[False, True, True, False]\n"
          ]
        }
      ]
    },
    {
      "cell_type": "code",
      "source": [],
      "metadata": {
        "id": "KeHFRixApM4N"
      },
      "execution_count": null,
      "outputs": []
    }
  ]
}