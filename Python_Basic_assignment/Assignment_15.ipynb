{
  "nbformat": 4,
  "nbformat_minor": 0,
  "metadata": {
    "colab": {
      "provenance": [],
      "authorship_tag": "ABX9TyMU3naQJjfxF2kLTjArrXe4",
      "include_colab_link": true
    },
    "kernelspec": {
      "name": "python3",
      "display_name": "Python 3"
    },
    "language_info": {
      "name": "python"
    }
  },
  "cells": [
    {
      "cell_type": "markdown",
      "metadata": {
        "id": "view-in-github",
        "colab_type": "text"
      },
      "source": [
        "<a href=\"https://colab.research.google.com/github/Somesh140/iNeauron_FSDS_Assignments/blob/main/Python_Basic_assignment/Assignment_15.ipynb\" target=\"_parent\"><img src=\"https://colab.research.google.com/assets/colab-badge.svg\" alt=\"Open In Colab\"/></a>"
      ]
    },
    {
      "cell_type": "markdown",
      "source": [
        "1. How many seconds are in an hour? Use the interactive interpreter as a calculator and multiply the\n",
        "number of seconds in a minute (60) by the number of minutes in an hour (also 60).\n",
        "sol. 60\n",
        "2. Assign the result from the previous task (seconds in an hour) to a variable called\n",
        "seconds_per_hour.\n",
        "3. How many seconds do you think there are in a day? Make use of the variables seconds per hour\n",
        "and minutes per hour.\n",
        "4. Calculate seconds per day again, but this time save the result in a variable called seconds_per_day\n",
        "5. Divide seconds_per_day by seconds_per_hour. Use floating-point (/) division.\n",
        "6. Divide seconds_per_day by seconds_per_hour, using integer (//) division. Did this number agree\n",
        "with the floating-point value from the previous question, aside from the final .0?\n",
        "7. Write a generator, genPrimes, that returns the sequence of prime numbers on successive calls to\n",
        "its next() method: 2, 3, 5, 7, 11, ..."
      ],
      "metadata": {
        "id": "vssN-jsZouHT"
      }
    },
    {
      "cell_type": "markdown",
      "source": [
        "Answer\n",
        "\n",
        "\n",
        "---\n",
        "\n",
        "\n",
        "\n",
        "---\n",
        "\n",
        "\n",
        "\n",
        "1. There are 3600 seconds in an hour (60 seconds/minute * 60 minutes/hour).\n",
        "2. `seconds_per_hour = 3600`\n",
        "3. There are 86,400 seconds in a day (60 seconds/minute * 60 minutes/hour * 24 hours/day).\n",
        "4. `seconds_per_day = 86400`\n",
        "5. `seconds_per_day / seconds_per_hour` returns 24.0.\n",
        "6. `seconds_per_day // seconds_per_hour` also returns 24, since the result of the division is a whole number.\n",
        "7. Here is one way to implement the `genPrimes` generator in Python:\n",
        "\n",
        "```python\n",
        "def genPrimes():\n",
        "    primes = []   # keep track of prime numbers found so far\n",
        "    n = 2         # start with the first prime number\n",
        "    while True:   # loop indefinitely\n",
        "        is_prime = True\n",
        "        for p in primes:\n",
        "            if n % p == 0:\n",
        "                is_prime = False\n",
        "                break\n",
        "        if is_prime:\n",
        "            primes.append(n)\n",
        "            yield n\n",
        "        n += 1\n",
        "```\n",
        "\n",
        "This generator works by keeping track of all the prime numbers it has found so far in a list, and checking each new number to see if it is divisible by any of the primes found so far. If it is not divisible by any of them, then it is a new prime and gets added to the list of primes, and is also yielded by the generator so it can be used by the caller. The generator continues indefinitely, always yielding the next prime number in the sequence."
      ],
      "metadata": {
        "id": "QOmia-wRoyAQ"
      }
    },
    {
      "cell_type": "code",
      "execution_count": null,
      "metadata": {
        "id": "kZR6dx2foja9"
      },
      "outputs": [],
      "source": []
    }
  ]
}