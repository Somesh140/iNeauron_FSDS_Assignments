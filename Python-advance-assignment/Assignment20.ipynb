{
  "nbformat": 4,
  "nbformat_minor": 0,
  "metadata": {
    "colab": {
      "provenance": [],
      "authorship_tag": "ABX9TyNeOdEn5Nm26tqBnesCB4yT",
      "include_colab_link": true
    },
    "kernelspec": {
      "name": "python3",
      "display_name": "Python 3"
    },
    "language_info": {
      "name": "python"
    }
  },
  "cells": [
    {
      "cell_type": "markdown",
      "metadata": {
        "id": "view-in-github",
        "colab_type": "text"
      },
      "source": [
        "<a href=\"https://colab.research.google.com/github/Somesh140/iNeauron_FSDS_Assignments/blob/main/Python-advance-assignment/Assignment20.ipynb\" target=\"_parent\"><img src=\"https://colab.research.google.com/assets/colab-badge.svg\" alt=\"Open In Colab\"/></a>"
      ]
    },
    {
      "cell_type": "markdown",
      "source": [
        "1. Compare and contrast the float and Decimal classes&#39; benefits and drawbacks.\n",
        "\n",
        "2. Decimal(&#39;1.200&#39;) and Decimal(&#39;1.2&#39;) are two objects to consider. In what sense are these the same\n",
        "object? Are these just two ways of representing the exact same value, or do they correspond to\n",
        "different internal states?\n",
        "\n",
        "3. What happens if the equality of Decimal(&#39;1.200&#39;) and Decimal(&#39;1.2&#39;) is checked?\n",
        "\n",
        "4. Why is it preferable to start a Decimal object with a string rather than a floating-point value?\n",
        "\n",
        "5. In an arithmetic phrase, how simple is it to combine Decimal objects with integers?\n",
        "\n",
        "6. Can Decimal objects and floating-point values be combined easily?\n",
        "\n",
        "7. Using the Fraction class but not the Decimal class, give an example of a quantity that can be\n",
        "expressed with absolute precision.\n",
        "\n",
        "8. Describe a quantity that can be accurately expressed by the Decimal or Fraction classes but not by\n",
        "a floating-point value.\n",
        "\n",
        "Q9.Consider the following two fraction objects: Fraction(1, 2) and Fraction(1, 2). (5, 10). Is the internal\n",
        "state of these two objects the same? Why do you think that is?\n",
        "\n",
        "Q10. How do the Fraction class and the integer type (int) relate to each other? Containment or\n",
        "inheritance?"
      ],
      "metadata": {
        "id": "i8fCFXGlRMQO"
      }
    },
    {
      "cell_type": "markdown",
      "source": [
        "1. Float and Decimal classes:\n",
        "   - Float:\n",
        "     - Benefits:\n",
        "       - Floats are built-in data types in Python and provide a convenient way to represent and perform arithmetic on real numbers.\n",
        "       - Floats use a fixed amount of memory and are generally faster for numerical computations.\n",
        "       - Floats have a wide range of supported values and can handle very large and very small numbers.\n",
        "     - Drawbacks:\n",
        "       - Floats are represented in binary format, which can lead to precision issues and rounding errors, especially when performing arithmetic operations.\n",
        "       - Floats have a limited precision and cannot accurately represent some decimal numbers.\n",
        "       - Comparing floats for equality can be problematic due to the precision issues.\n",
        "\n",
        "   - Decimal:\n",
        "     - Benefits:\n",
        "       - The Decimal class in the `decimal` module provides arbitrary-precision decimal arithmetic, allowing for accurate representation and computation of decimal numbers.\n",
        "       - Decimals have a higher precision compared to floats and can represent decimal numbers with arbitrary precision.\n",
        "       - Decimals are suitable for applications that require accurate decimal arithmetic, such as financial calculations.\n",
        "     - Drawbacks:\n",
        "       - Decimal arithmetic is generally slower and consumes more memory compared to float arithmetic.\n",
        "       - Decimal objects may not support some mathematical operations or functions that are available for floats.\n",
        "\n",
        "2. Decimal('1.200') and Decimal('1.2') are two different objects. Although they represent the same value numerically, they correspond to different internal states. The Decimal class retains the exact representation of the input value and maintains the original decimal precision. In this case, the first Decimal object preserves the trailing zero in the input string, while the second Decimal object does not.\n",
        "\n",
        "3. When the equality of Decimal('1.200') and Decimal('1.2') is checked, the result will be `False`. Although they represent the same value numerically, they correspond to different internal states due to the preservation of trailing zeros in the first Decimal object.\n",
        "\n",
        "4. It is preferable to start a Decimal object with a string rather than a floating-point value because floating-point representations can introduce precision issues. When a float is converted to a Decimal, the original float representation may not accurately preserve the exact decimal value. Starting with a string allows for an exact representation of the decimal value without any loss of precision.\n",
        "\n",
        "5. In an arithmetic phrase, combining Decimal objects with integers is straightforward. Decimal objects can be directly involved in arithmetic operations with integers, and the result will be a Decimal object.\n",
        "\n",
        "6. Decimal objects and floating-point values can be combined, but there may be precision issues due to the inherent limitations of floating-point representation. When a Decimal and a float are combined in an arithmetic operation, the result will be a float.\n",
        "\n",
        "7. An example of a quantity that can be expressed with absolute precision using the Fraction class is a fraction such as `Fraction(3, 4)` (or any fraction with integers as numerator and denominator). Fractions in the Fraction class retain their exact representation without any rounding or precision issues.\n",
        "\n",
        "8. A quantity that can be accurately expressed by the Decimal or Fraction classes but not by a floating-point value is a decimal number with recurring digits or an irrational number. For example, the value of π (pi) or the square root of 2 cannot be represented precisely using a float, but they can be represented accurately using the Decimal or Fraction class.\n",
        "\n",
        "9. The internal state of the Fraction objects `Fraction(1, 2)` and `Fraction(1, 2)` is the same. Both objects represent the fraction 1/2, and their internal state retains the numerator and denominator values. The internal state of Fraction objects is based on the numerator and denominator, and in this case, both objects have the same values.\n",
        "\n",
        "10. The Fraction class and the integer type (int) relate to\n",
        "\n",
        " each other through inheritance. The Fraction class is a subclass of the abstract base class Rational, which itself is a subclass of the abstract base class Integral. The Integral class is the base class for integer types, including int. Therefore, the Fraction class inherits properties and methods from both the Rational and Integral classes, allowing for arithmetic operations and comparisons between Fraction objects and integers."
      ],
      "metadata": {
        "id": "D8FfvhuURRn7"
      }
    },
    {
      "cell_type": "code",
      "execution_count": null,
      "metadata": {
        "id": "HiDO2BdwRDmD"
      },
      "outputs": [],
      "source": []
    }
  ]
}