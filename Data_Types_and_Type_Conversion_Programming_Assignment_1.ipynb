{
  "nbformat": 4,
  "nbformat_minor": 0,
  "metadata": {
    "colab": {
      "provenance": [],
      "authorship_tag": "ABX9TyOh2nGSuW+KzaXA5wkuhxyf",
      "include_colab_link": true
    },
    "kernelspec": {
      "name": "python3",
      "display_name": "Python 3"
    },
    "language_info": {
      "name": "python"
    }
  },
  "cells": [
    {
      "cell_type": "markdown",
      "metadata": {
        "id": "view-in-github",
        "colab_type": "text"
      },
      "source": [
        "<a href=\"https://colab.research.google.com/github/Somesh140/iNeauron_FSDS_Assignments/blob/main/Data_Types_and_Type_Conversion_Programming_Assignment_1.ipynb\" target=\"_parent\"><img src=\"https://colab.research.google.com/assets/colab-badge.svg\" alt=\"Open In Colab\"/></a>"
      ]
    },
    {
      "cell_type": "markdown",
      "source": [
        "Q1. Create a string with a name 'country' and 'India' as its elements . Perform the following:\n",
        " a.Find its length\n",
        " b. extract its first two letters\n"
      ],
      "metadata": {
        "id": "WV2vKBwSC2VE"
      }
    },
    {
      "cell_type": "code",
      "execution_count": null,
      "metadata": {
        "colab": {
          "base_uri": "https://localhost:8080/"
        },
        "id": "yxnzv-a6Cd7r",
        "outputId": "4d52138a-37b7-4c9f-af0b-fc797cb0fce8"
      },
      "outputs": [
        {
          "output_type": "stream",
          "name": "stdout",
          "text": [
            "c o\n"
          ]
        }
      ],
      "source": [
        "s=\"country India\"\n",
        "len(s)\n",
        "print(s[0],s[1])"
      ]
    },
    {
      "cell_type": "code",
      "source": [
        "s=('Country India')\n",
        "print(s,'=',len(s),',',s[0:2],',',s[8:10])"
      ],
      "metadata": {
        "colab": {
          "base_uri": "https://localhost:8080/"
        },
        "id": "YIQ3cRh1C3oI",
        "outputId": "f2c03693-a79f-4a24-ff42-f83b2e4ad4a2"
      },
      "execution_count": null,
      "outputs": [
        {
          "output_type": "stream",
          "name": "stdout",
          "text": [
            "Country India = 13 , Co , In\n"
          ]
        }
      ]
    },
    {
      "cell_type": "markdown",
      "source": [
        "Q2. Write a program to perform following list operations on the list given below:\n",
        "\n",
        "a. Check the length of mix_list_1 \\\n",
        "B. Concatenate the mix_list_1 and mix_list_2 \\\n",
        "C. Repeat the mix_list_2 three times\n",
        "\n",
        "Lists to perform operations:\n",
        "\n",
        "mix_list_1 = ['Learn', 24, 'Blue', False, -8]\n",
        "\n",
        "mix_list_2 = [4, 7, 'Summer']\n"
      ],
      "metadata": {
        "id": "jZK__Q30DnP2"
      }
    },
    {
      "cell_type": "code",
      "source": [
        "mix_list_1 = ['Learn', 24, 'Blue', False, -8]\n",
        "mix_list_2 = [4, 7, 'Summer']\n",
        "\n",
        "print(len(mix_list_1))\n",
        "mix_list_1.extend(mix_list_2)\n",
        "print(mix_list_1)\n",
        "print(mix_list_2*3)"
      ],
      "metadata": {
        "colab": {
          "base_uri": "https://localhost:8080/"
        },
        "id": "742GG5nQDZqP",
        "outputId": "10aaab46-193e-4424-fb90-3c762ce628ac"
      },
      "execution_count": null,
      "outputs": [
        {
          "output_type": "stream",
          "name": "stdout",
          "text": [
            "5\n",
            "['Learn', 24, 'Blue', False, -8, 4, 7, 'Summer']\n",
            "[4, 7, 'Summer', 4, 7, 'Summer', 4, 7, 'Summer']\n"
          ]
        }
      ]
    },
    {
      "cell_type": "code",
      "source": [
        "#A- \n",
        "mix_list_1 = ['Learn', 24, 'Blue', False, -8]\n",
        "mix_list_2 = [4, 7, 'Summer']\n",
        "print(len(mix_list_1))\n",
        "\n",
        "#B- \n",
        "mix_list_1=['Learn',24,'Blue',-8]\n",
        "mix_list_2=[4,7,'Summer']\n",
        "con=mix_list_1+mix_list_2\n",
        "print(con)\n",
        "\n",
        "#C- \n",
        "print(3*mix_list_2)\n"
      ],
      "metadata": {
        "colab": {
          "base_uri": "https://localhost:8080/"
        },
        "id": "Edptb6CYEEFy",
        "outputId": "32ae575a-584d-4ccb-b066-160dfe870206"
      },
      "execution_count": null,
      "outputs": [
        {
          "output_type": "stream",
          "name": "stdout",
          "text": [
            "5\n",
            "['Learn', 24, 'Blue', -8, 4, 7, 'Summer']\n",
            "[4, 7, 'Summer', 4, 7, 'Summer', 4, 7, 'Summer']\n"
          ]
        }
      ]
    },
    {
      "cell_type": "markdown",
      "source": [
        "Q3.  Write the program to multiply the two lists\n",
        "Lists to perform multiplication:\n",
        "\n",
        "num_list_1 = [1, 2, 3, 4]\n",
        "\n",
        "num_list_2 = [0, 5, 2, 1]\n"
      ],
      "metadata": {
        "id": "HnSTVyZQFbbT"
      }
    },
    {
      "cell_type": "code",
      "source": [
        "num_list_1 = [1, 2, 3, 4]\n",
        "\n",
        "num_list_2 = [0, 5, 2, 1]\n",
        "\n",
        "a=[num_list_1[i]*num_list_2[i] for i in range(len(num_list_1))]\n",
        "print(a)"
      ],
      "metadata": {
        "colab": {
          "base_uri": "https://localhost:8080/"
        },
        "id": "DTE4fnylFD2x",
        "outputId": "8c1f0bc3-d04c-4927-b4a0-5dfac55d0dde"
      },
      "execution_count": null,
      "outputs": [
        {
          "output_type": "stream",
          "name": "stdout",
          "text": [
            "[0, 10, 6, 4]\n"
          ]
        }
      ]
    },
    {
      "cell_type": "markdown",
      "source": [
        "Q4.  Write a code to retrieve elements from a list\n",
        "\n",
        "a. First element \\\n",
        "b. Second last element\\\n",
        "c. First three elements\\\n",
        "d. Slice the list from 1st index till the last index with an increment of an index by 2\\\n",
        "Use the below list:\n",
        "\n",
        "mix_list = ['Python', 1, 2, 3, 'Data', True]\n"
      ],
      "metadata": {
        "id": "K8oqUQEyGnM4"
      }
    },
    {
      "cell_type": "code",
      "source": [
        "mix_list = ['Python', 1, 2, 3, 'Data', True]\n",
        "\n",
        "print(mix_list[0])\n",
        "print(mix_list[-2])\n",
        "print(mix_list[0:3])\n",
        "print(mix_list[0::2])\n"
      ],
      "metadata": {
        "colab": {
          "base_uri": "https://localhost:8080/"
        },
        "id": "PVHMYdTkGGEr",
        "outputId": "9094b71e-d2c7-4b30-ec8f-80bd16ef71d0"
      },
      "execution_count": null,
      "outputs": [
        {
          "output_type": "stream",
          "name": "stdout",
          "text": [
            "Python\n",
            "Data\n",
            "['Python', 1, 2]\n",
            "['Python', 2, 'Data']\n"
          ]
        }
      ]
    },
    {
      "cell_type": "code",
      "source": [
        "#A- \n",
        "mix_list = ['Python', 1, 2, 3, 'Data', True]\n",
        "print(mix_list[0])\n",
        "\n",
        "#B- \n",
        "print(mix_list[4])\n",
        "#Or \n",
        "print(mix_list[-2])\n",
        "\n",
        "#C- \n",
        "print(mix_list[0:3])\n",
        " \n",
        "#D- \n",
        "print(mix_list[0:6:2])\n"
      ],
      "metadata": {
        "colab": {
          "base_uri": "https://localhost:8080/"
        },
        "id": "bbs-pkaMIO85",
        "outputId": "eaad518b-9575-4e7a-f46b-a80801dfc4d8"
      },
      "execution_count": null,
      "outputs": [
        {
          "output_type": "stream",
          "name": "stdout",
          "text": [
            "Python\n",
            "Data\n",
            "Data\n",
            "['Python', 1, 2]\n",
            "['Python', 2, 'Data']\n"
          ]
        }
      ]
    },
    {
      "cell_type": "markdown",
      "source": [
        "Q5. Write a program to perform following built-in list operations:\n",
        "\n",
        "a. Min(list)\\\n",
        "b. Max(list)\\\n",
        "c. Sort the elements (use sort() and sorted() function)\\\n",
        "d. Create a copy of a list\\\n",
        "e. Remove element '5' from the list\\\n",
        "\n",
        "Use the below list\n",
        "\n",
        "num_list = [4, 5, 7, -2, 0, 1]\n",
        "\n"
      ],
      "metadata": {
        "id": "P6U_VtIWJnDY"
      }
    },
    {
      "cell_type": "code",
      "source": [
        "num_list = [4, 5, 7, -2, 0, 1]\n",
        "\n",
        "print(min(num_list))\n",
        "print(max(num_list))\n",
        "a=sorted(num_list)\n",
        "print(a)\n",
        "num_list.sort()\n",
        "print(num_list)\n",
        "num_list1=num_list.copy()\n",
        "print(num_list1)\n",
        "num_list1.remove(5)\n",
        "print(num_list1)"
      ],
      "metadata": {
        "colab": {
          "base_uri": "https://localhost:8080/"
        },
        "id": "wDhShYrTH51I",
        "outputId": "25998e3f-edea-4596-9b95-a14fcec14b2b"
      },
      "execution_count": null,
      "outputs": [
        {
          "output_type": "stream",
          "name": "stdout",
          "text": [
            "-2\n",
            "7\n",
            "[-2, 0, 1, 4, 5, 7]\n",
            "[-2, 0, 1, 4, 5, 7]\n",
            "[-2, 0, 1, 4, 5, 7]\n",
            "[-2, 0, 1, 4, 7]\n"
          ]
        }
      ]
    },
    {
      "cell_type": "code",
      "source": [
        "num_list.sort()"
      ],
      "metadata": {
        "colab": {
          "base_uri": "https://localhost:8080/"
        },
        "id": "vL8Z4wpSK_v0",
        "outputId": "f01df617-2c39-46c8-d748-6d70988bf4b3"
      },
      "execution_count": null,
      "outputs": [
        {
          "output_type": "execute_result",
          "data": {
            "text/plain": [
              "[4, 5, 7, -2, 0, 1]"
            ]
          },
          "metadata": {},
          "execution_count": 17
        }
      ]
    },
    {
      "cell_type": "markdown",
      "source": [
        "Q6.Write a code to perform operations on tuple:\n",
        "\n",
        "a. Check the length of num_tuple\\\n",
        "b. Concatenate the num_tuple and mix_tuple\\\n",
        "c. Repeat the mix_tuple two times \\\n",
        "Tuples to perform operations:\\\n",
        "\n",
        "num_tuple = (4, 4, 8) \\\n",
        "\n",
        "mix_tuple = 'John', 5, -2 \\\n"
      ],
      "metadata": {
        "id": "HkZg-NQLQKlt"
      }
    },
    {
      "cell_type": "code",
      "source": [
        "num_tuple = (4, 4, 8)\n",
        "\n",
        "print(len(num_tuple))\n",
        "\n",
        "mix_tuple= 'John', 5, -2\n",
        "\n",
        "mix_tuple2=num_tuple+ mix_tuple\n",
        "print(mix_tuple2)\n",
        "\n",
        "print(mix_tuple*2)"
      ],
      "metadata": {
        "id": "d2vamWjKLEFK",
        "colab": {
          "base_uri": "https://localhost:8080/"
        },
        "outputId": "b84b3a2e-c7ba-4946-eb3b-1cdf126e299a"
      },
      "execution_count": null,
      "outputs": [
        {
          "output_type": "stream",
          "name": "stdout",
          "text": [
            "3\n",
            "(4, 4, 8, 'John', 5, -2)\n",
            "('John', 5, -2, 'John', 5, -2)\n"
          ]
        }
      ]
    },
    {
      "cell_type": "markdown",
      "source": [
        "Q7.Replace the elements in the given tuple:\n",
        "\n",
        "a. Replace '2' with '3' \\\n",
        "b. Replace 'True' in first element with 'False' \\\n",
        "Use the tuple below:\n",
        "\n",
        "mix_tuple = (['a', 1, True], 2, 'Science', -5)\n"
      ],
      "metadata": {
        "id": "UFp-0TLkZN3t"
      }
    },
    {
      "cell_type": "code",
      "source": [
        "mix_tuple = (['a', 1, True], 2, 'Science', -5)\n",
        "\n",
        "mix_tuple= mix_tuple[:1] + (3,) + mix_tuple[3:]"
      ],
      "metadata": {
        "id": "qIKGS8MlZMNr"
      },
      "execution_count": null,
      "outputs": []
    },
    {
      "cell_type": "markdown",
      "source": [
        "Q8.  Write the program to perform following manipulations:\n",
        "\n",
        "a. Add '7' to the given set \\\n",
        "b. Remove '3' from a given set \\\n",
        "c. Clear the set \\\n",
        "Use the below set for manipulation \\\n",
        "\n",
        "num_set = {1, 2, 3, 4, 5, 6}\n"
      ],
      "metadata": {
        "id": "2Fsr-ZUO1BG6"
      }
    },
    {
      "cell_type": "code",
      "source": [
        "num_set = {1, 2, 3, 4, 5, 6}\n",
        "num_set.add(7)\n",
        "print(num_set)"
      ],
      "metadata": {
        "id": "U3joQ_iVZ87P",
        "colab": {
          "base_uri": "https://localhost:8080/"
        },
        "outputId": "2791e2b0-325a-4d17-a6e5-64f85bbeabf6"
      },
      "execution_count": null,
      "outputs": [
        {
          "output_type": "stream",
          "name": "stdout",
          "text": [
            "{1, 2, 3, 4, 5, 6, 7}\n"
          ]
        }
      ]
    },
    {
      "cell_type": "code",
      "source": [
        "num_set.remove(3)\n",
        "print(num_set)"
      ],
      "metadata": {
        "colab": {
          "base_uri": "https://localhost:8080/"
        },
        "id": "Q-pz12v1Tz2w",
        "outputId": "6b2d5321-c0a2-4dd2-aa8d-a886eaf440e7"
      },
      "execution_count": null,
      "outputs": [
        {
          "output_type": "stream",
          "name": "stdout",
          "text": [
            "{1, 2, 4, 5, 6, 7}\n"
          ]
        }
      ]
    },
    {
      "cell_type": "code",
      "source": [
        "num_set.clear()\n",
        "print(num_set)"
      ],
      "metadata": {
        "colab": {
          "base_uri": "https://localhost:8080/"
        },
        "id": "IYhd2eYHUFDR",
        "outputId": "11d482f9-0722-4a8b-881a-a9d70efbfff9"
      },
      "execution_count": null,
      "outputs": [
        {
          "output_type": "stream",
          "name": "stdout",
          "text": [
            "set()\n"
          ]
        }
      ]
    },
    {
      "cell_type": "markdown",
      "source": [
        "Q9.Write a program to perform following set operations:\n",
        "\n",
        "a. Union \\\n",
        "b. Intersection \\\n",
        "c. Set of all the elements of set A that are not in set B \\\n",
        "d. Set of all the elements of set B that are not in set A \\\n",
        "e. Symmetric difference \\\n",
        "Use the below set: \\\n",
        "\n",
        "A = {1, 4, 5, 2, 6, 3, 40, 7, 87, 4, 71}\n",
        "\n",
        "B = {3, 42, 51, 6, 7, 8, 54, 5}\n"
      ],
      "metadata": {
        "id": "UmM_x0lXUPCH"
      }
    },
    {
      "cell_type": "code",
      "source": [
        "A = {1, 4, 5, 2, 6, 3, 40, 7, 87, 4, 71}\n",
        "\n",
        "B = {3, 42, 51, 6, 7, 8, 54, 5}"
      ],
      "metadata": {
        "id": "L5311a5QUIxi"
      },
      "execution_count": null,
      "outputs": []
    },
    {
      "cell_type": "code",
      "source": [
        "print(A.union(B))"
      ],
      "metadata": {
        "colab": {
          "base_uri": "https://localhost:8080/"
        },
        "id": "jGDm3TOvUePm",
        "outputId": "935c8ef9-fd52-4d79-fe05-b10ffae233c3"
      },
      "execution_count": null,
      "outputs": [
        {
          "output_type": "stream",
          "name": "stdout",
          "text": [
            "{1, 2, 3, 4, 5, 6, 7, 40, 71, 8, 42, 51, 54, 87}\n"
          ]
        }
      ]
    },
    {
      "cell_type": "code",
      "source": [
        "print(A.intersection(B))"
      ],
      "metadata": {
        "colab": {
          "base_uri": "https://localhost:8080/"
        },
        "id": "SJzNC-ZKUjrz",
        "outputId": "5c7ad5f5-f6ab-4a17-d6d9-56fe616c89ec"
      },
      "execution_count": null,
      "outputs": [
        {
          "output_type": "stream",
          "name": "stdout",
          "text": [
            "{3, 5, 6, 7}\n"
          ]
        }
      ]
    },
    {
      "cell_type": "code",
      "source": [
        "print(A-B)"
      ],
      "metadata": {
        "colab": {
          "base_uri": "https://localhost:8080/"
        },
        "id": "YaksxXS5Uq6R",
        "outputId": "73d00780-df4a-4ecf-e747-eacdcd74f57a"
      },
      "execution_count": null,
      "outputs": [
        {
          "output_type": "stream",
          "name": "stdout",
          "text": [
            "{1, 2, 4, 71, 40, 87}\n"
          ]
        }
      ]
    },
    {
      "cell_type": "code",
      "source": [
        "print(B-A)"
      ],
      "metadata": {
        "colab": {
          "base_uri": "https://localhost:8080/"
        },
        "id": "qmhkVM1iUtQe",
        "outputId": "53ee21bd-5828-4105-f82c-7039b8a8bf74"
      },
      "execution_count": null,
      "outputs": [
        {
          "output_type": "stream",
          "name": "stdout",
          "text": [
            "{8, 42, 51, 54}\n"
          ]
        }
      ]
    },
    {
      "cell_type": "code",
      "source": [
        "print(A.symmetric_difference(B))"
      ],
      "metadata": {
        "colab": {
          "base_uri": "https://localhost:8080/"
        },
        "id": "2_jr1Dm2UvsV",
        "outputId": "a255ea7c-bd43-4517-eb42-3d53298767ab"
      },
      "execution_count": null,
      "outputs": [
        {
          "output_type": "stream",
          "name": "stdout",
          "text": [
            "{1, 2, 4, 71, 8, 40, 42, 51, 54, 87}\n"
          ]
        }
      ]
    },
    {
      "cell_type": "markdown",
      "source": [
        "Q10. Write a code to add a key to a dictionary\n",
        "Use the given dictionary and add a key (4:16)\n",
        "\n",
        "square_dictionary = {1:1, 2:4, 3:9}\n"
      ],
      "metadata": {
        "id": "e84WZClKVGEW"
      }
    },
    {
      "cell_type": "code",
      "source": [
        "square_dictionary = {1:1, 2:4, 3:9}"
      ],
      "metadata": {
        "id": "-6eb0aW_VFoR"
      },
      "execution_count": null,
      "outputs": []
    },
    {
      "cell_type": "code",
      "source": [
        "square_dictionary[4]=16\n",
        "print(square_dictionary)"
      ],
      "metadata": {
        "colab": {
          "base_uri": "https://localhost:8080/"
        },
        "id": "fvURE7FEU2Bz",
        "outputId": "c673add1-aa96-4ea7-e9fd-1d47da655423"
      },
      "execution_count": null,
      "outputs": [
        {
          "output_type": "stream",
          "name": "stdout",
          "text": [
            "{1: 1, 2: 4, 3: 9, 4: 16}\n"
          ]
        }
      ]
    },
    {
      "cell_type": "markdown",
      "source": [
        "Q11..(i)Count the occurence of \"me\" in the given string below. \\\n",
        "(ii)Extract \"python@gmail\" \\\n",
        "string=\"Hello,please meet me at 4pm @coffeehouseccd or email me python@gmail.com\"\n"
      ],
      "metadata": {
        "id": "fcYnwr7WVdHv"
      }
    },
    {
      "cell_type": "code",
      "source": [
        "\n",
        "string=\"Hello,please meet me at 4pm @coffeehouseccd or email me python@gmail.com\"\n",
        "string.count(\"me\")"
      ],
      "metadata": {
        "colab": {
          "base_uri": "https://localhost:8080/"
        },
        "id": "P11Qwl5NVRYY",
        "outputId": "85ef76ca-2a42-48ff-9512-14953e64dc6b"
      },
      "execution_count": null,
      "outputs": [
        {
          "output_type": "execute_result",
          "data": {
            "text/plain": [
              "3"
            ]
          },
          "metadata": {},
          "execution_count": 16
        }
      ]
    },
    {
      "cell_type": "code",
      "source": [
        "for i in string.split():\n",
        "    if i.endswith(\".com\"):\n",
        "        print(i.split(\".\")[0])\n"
      ],
      "metadata": {
        "colab": {
          "base_uri": "https://localhost:8080/"
        },
        "id": "XsSBmogjVzHy",
        "outputId": "a7b16573-7a27-4712-d199-900dd42b618f"
      },
      "execution_count": null,
      "outputs": [
        {
          "output_type": "stream",
          "name": "stdout",
          "text": [
            "python@gmail\n"
          ]
        }
      ]
    },
    {
      "cell_type": "markdown",
      "source": [
        "Q12.Extract '09' from this:\n",
        "G=[\"2022-09-03\"]\n"
      ],
      "metadata": {
        "id": "dZMMlFpzWMmD"
      }
    },
    {
      "cell_type": "code",
      "source": [
        "G=[\"2022-09-03\"]\n",
        "G[0][5:7]"
      ],
      "metadata": {
        "colab": {
          "base_uri": "https://localhost:8080/",
          "height": 35
        },
        "id": "Rg5z2bt4V-iQ",
        "outputId": "f37bf6dd-c99b-4de3-ca3b-c73b0cfbb21f"
      },
      "execution_count": null,
      "outputs": [
        {
          "output_type": "execute_result",
          "data": {
            "text/plain": [
              "'09'"
            ],
            "application/vnd.google.colaboratory.intrinsic+json": {
              "type": "string"
            }
          },
          "metadata": {},
          "execution_count": 22
        }
      ]
    },
    {
      "cell_type": "markdown",
      "source": [
        "Q13.Extract 3000 from the given list\n",
        "Y=[1,3,4,6,7,9,10, 4+7j, \"Hello world\", [2000,3000,1000]]"
      ],
      "metadata": {
        "id": "i3Bte1zEWZ_k"
      }
    },
    {
      "cell_type": "code",
      "source": [
        "Y=[1,3,4,6,7,9,10, 4+7j, \"Hello world\", [2000,3000,1000]]\n",
        "Y[9][1]"
      ],
      "metadata": {
        "colab": {
          "base_uri": "https://localhost:8080/"
        },
        "id": "qQXdtXJ7WQ7X",
        "outputId": "5413f261-faf9-41c6-cc09-9176665c3592"
      },
      "execution_count": null,
      "outputs": [
        {
          "output_type": "execute_result",
          "data": {
            "text/plain": [
              "3000"
            ]
          },
          "metadata": {},
          "execution_count": 24
        }
      ]
    },
    {
      "cell_type": "markdown",
      "source": [
        "Q14.Can a list be converted into a set? Explain with the help of an example"
      ],
      "metadata": {
        "id": "umCtOr7oWnPa"
      }
    },
    {
      "cell_type": "code",
      "source": [
        "x=[5,7,8]\n",
        "print(type(x))\n",
        "\n",
        "y=set(x)\n",
        "print(type(y))\n"
      ],
      "metadata": {
        "colab": {
          "base_uri": "https://localhost:8080/"
        },
        "id": "woCzjjqYWeMM",
        "outputId": "78c48fb2-486a-4b8b-c4ca-c2d90e001085"
      },
      "execution_count": null,
      "outputs": [
        {
          "output_type": "stream",
          "name": "stdout",
          "text": [
            "<class 'list'>\n",
            "<class 'set'>\n"
          ]
        }
      ]
    },
    {
      "cell_type": "markdown",
      "source": [
        "Q15.Assume you have two lists a=[1,3,5,7] b=[2,4,6,8,10]  \n",
        "i.First task is to create a list which has elements from both the list & name it 'ab'  \n",
        "ii.Write a function which can reverse the elements of ab.\n"
      ],
      "metadata": {
        "id": "1tf25o8IYAP3"
      }
    },
    {
      "cell_type": "code",
      "source": [
        "a=[1,3,5,7]\n",
        "b=[2,4,6,8,10]"
      ],
      "metadata": {
        "id": "tdwjcW_RX__f"
      },
      "execution_count": null,
      "outputs": []
    },
    {
      "cell_type": "code",
      "source": [
        "ab=a+b\n",
        "print(ab)"
      ],
      "metadata": {
        "colab": {
          "base_uri": "https://localhost:8080/"
        },
        "id": "FJNRZLDAWvz4",
        "outputId": "b7ca7dcb-1862-43d6-f68c-8ea8c0f9134e"
      },
      "execution_count": null,
      "outputs": [
        {
          "output_type": "stream",
          "name": "stdout",
          "text": [
            "[1, 3, 5, 7, 2, 4, 6, 8, 10]\n"
          ]
        }
      ]
    },
    {
      "cell_type": "code",
      "source": [
        "ab[::-1]"
      ],
      "metadata": {
        "colab": {
          "base_uri": "https://localhost:8080/"
        },
        "id": "L9LgXrQDY0Pu",
        "outputId": "2b72f13d-995d-4c84-c02e-4aee58678896"
      },
      "execution_count": null,
      "outputs": [
        {
          "output_type": "execute_result",
          "data": {
            "text/plain": [
              "[10, 8, 6, 4, 2, 7, 5, 3, 1]"
            ]
          },
          "metadata": {},
          "execution_count": 28
        }
      ]
    },
    {
      "cell_type": "code",
      "source": [],
      "metadata": {
        "id": "5HkwlSYYY5NJ"
      },
      "execution_count": null,
      "outputs": []
    }
  ]
}