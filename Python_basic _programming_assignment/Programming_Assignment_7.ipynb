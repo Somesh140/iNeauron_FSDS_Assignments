{
  "nbformat": 4,
  "nbformat_minor": 0,
  "metadata": {
    "colab": {
      "provenance": [],
      "authorship_tag": "ABX9TyOx6RonpuDDE4ohOuby8fy0",
      "include_colab_link": true
    },
    "kernelspec": {
      "name": "python3",
      "display_name": "Python 3"
    },
    "language_info": {
      "name": "python"
    }
  },
  "cells": [
    {
      "cell_type": "markdown",
      "metadata": {
        "id": "view-in-github",
        "colab_type": "text"
      },
      "source": [
        "<a href=\"https://colab.research.google.com/github/Somesh140/iNeauron_FSDS_Assignments/blob/main/Python_basic%20_programming_assignment/Programming_Assignment_7.ipynb\" target=\"_parent\"><img src=\"https://colab.research.google.com/assets/colab-badge.svg\" alt=\"Open In Colab\"/></a>"
      ]
    },
    {
      "cell_type": "markdown",
      "source": [
        "1. Write a Python Program to find sum of array?\n",
        "2. Write a Python Program to find largest element in an array?\n",
        "3. Write a Python Program for array rotation?\n",
        "4. Write a Python Program to Split the array and add the first part to the end?\n",
        "5. Write a Python Program to check if given array is Monotonic?"
      ],
      "metadata": {
        "id": "4EYV_XRDnlz6"
      }
    },
    {
      "cell_type": "code",
      "execution_count": 1,
      "metadata": {
        "colab": {
          "base_uri": "https://localhost:8080/"
        },
        "id": "h6Hus15qBiGm",
        "outputId": "d4643fc2-74e7-4a05-d6c3-39e7a79d2415"
      },
      "outputs": [
        {
          "output_type": "stream",
          "name": "stdout",
          "text": [
            "Sum of array: 15\n"
          ]
        }
      ],
      "source": [
        "#1 Write a Python Program to find sum of array?\n",
        "def sum_array(arr):\n",
        "    sum = 0\n",
        "    for i in arr:\n",
        "        sum += i\n",
        "    return sum\n",
        "\n",
        "arr = [1, 2, 3, 4, 5]\n",
        "print(\"Sum of array:\", sum_array(arr))\n"
      ]
    },
    {
      "cell_type": "code",
      "source": [
        "#2 Write a Python Program to find largest element in an array?\n",
        "def find_largest(arr):\n",
        "    largest = arr[0]\n",
        "    for i in range(1, len(arr)):\n",
        "        if arr[i] > largest:\n",
        "            largest = arr[i]\n",
        "    return largest\n",
        "\n",
        "arr = [10, 20, 30, 40, 50]\n",
        "print(\"Largest element in array:\", find_largest(arr))\n"
      ],
      "metadata": {
        "colab": {
          "base_uri": "https://localhost:8080/"
        },
        "id": "fSEUjAGGn1cT",
        "outputId": "099715be-6103-4e5a-9751-9c5ceb746346"
      },
      "execution_count": 2,
      "outputs": [
        {
          "output_type": "stream",
          "name": "stdout",
          "text": [
            "Largest element in array: 50\n"
          ]
        }
      ]
    },
    {
      "cell_type": "code",
      "source": [
        "#3 Write a Python Program for array rotation?\n",
        "def rotate_array(arr, d):\n",
        "    n = len(arr)\n",
        "    d = d % n\n",
        "    for i in range(d):\n",
        "        temp = arr[0]\n",
        "        for j in range(n-1):\n",
        "            arr[j] = arr[j+1]\n",
        "        arr[n-1] = temp\n",
        "\n",
        "arr = [1, 2, 3, 4, 5]\n",
        "rotate_array(arr, 2)\n",
        "print(\"Rotated array:\", arr)\n"
      ],
      "metadata": {
        "colab": {
          "base_uri": "https://localhost:8080/"
        },
        "id": "ReTE5Yf_n73n",
        "outputId": "7bc21a55-8565-47e6-960d-1925151461c4"
      },
      "execution_count": 3,
      "outputs": [
        {
          "output_type": "stream",
          "name": "stdout",
          "text": [
            "Rotated array: [3, 4, 5, 1, 2]\n"
          ]
        }
      ]
    },
    {
      "cell_type": "code",
      "source": [
        "#4 Write a Python Program to Split the array and add the first part to the end?\n",
        "def split_and_add(arr, n):\n",
        "    arr = arr[n:] + arr[:n]\n",
        "    return arr\n",
        "\n",
        "arr = [1, 2, 3, 4, 5]\n",
        "n = 2\n",
        "print(\"Array after splitting and adding first part to end:\", split_and_add(arr, n))\n"
      ],
      "metadata": {
        "colab": {
          "base_uri": "https://localhost:8080/"
        },
        "id": "vtJxsdeCoIJ8",
        "outputId": "eb0b6d5a-5e6e-45bd-80cc-acbd01344f1f"
      },
      "execution_count": 4,
      "outputs": [
        {
          "output_type": "stream",
          "name": "stdout",
          "text": [
            "Array after splitting and adding first part to end: [3, 4, 5, 1, 2]\n"
          ]
        }
      ]
    },
    {
      "cell_type": "code",
      "source": [
        "#5 Write a Python Program to check if given array is Monotonic?\n",
        "def is_monotonic(arr):\n",
        "    increasing = decreasing = True\n",
        "    for i in range(1, len(arr)):\n",
        "        if arr[i] > arr[i-1]:\n",
        "            decreasing = False\n",
        "        elif arr[i] < arr[i-1]:\n",
        "            increasing = False\n",
        "    return increasing or decreasing\n",
        "\n",
        "arr = [1, 2, 3, 4, 5]\n",
        "print(\"Is array monotonic:\", is_monotonic(arr))\n"
      ],
      "metadata": {
        "colab": {
          "base_uri": "https://localhost:8080/"
        },
        "id": "ju665IfwoOdm",
        "outputId": "2adadb67-2629-4d49-8a52-f5d5b8157295"
      },
      "execution_count": 5,
      "outputs": [
        {
          "output_type": "stream",
          "name": "stdout",
          "text": [
            "Is array monotonic: True\n"
          ]
        }
      ]
    },
    {
      "cell_type": "code",
      "source": [],
      "metadata": {
        "id": "QTetw1PzoUZ5"
      },
      "execution_count": null,
      "outputs": []
    }
  ]
}