{
 "cells": [
  {
   "cell_type": "markdown",
   "id": "fd3c562f",
   "metadata": {},
   "source": [
    "1. Write a Python program to convert kilometers to miles?"
   ]
  },
  {
   "cell_type": "code",
   "execution_count": 25,
   "id": "d7dbe0e9",
   "metadata": {},
   "outputs": [
    {
     "name": "stdout",
     "output_type": "stream",
     "text": [
      "enter distance in kilometers145\n",
      " distance in miles is 90.1\n"
     ]
    }
   ],
   "source": [
    "#solution\n",
    "try:\n",
    "    km = int(input(\"enter distance in kilometers\"))\n",
    "    miles = round(0.62137*km,2)\n",
    "    print(\" distance in miles is {}\".format(miles))\n",
    "except:\n",
    "    print(\"enter only integers\" )\n"
   ]
  },
  {
   "cell_type": "markdown",
   "id": "8f13b005",
   "metadata": {},
   "source": [
    "2. Write a Python program to convert Celsius to Fahrenheit?"
   ]
  },
  {
   "cell_type": "code",
   "execution_count": 28,
   "id": "74c055f8",
   "metadata": {},
   "outputs": [
    {
     "name": "stdout",
     "output_type": "stream",
     "text": [
      "enter temperature in celsius32\n",
      "temperature is Fahrenheit is 89.6\n"
     ]
    }
   ],
   "source": [
    "#solution\n",
    "try:\n",
    "    \n",
    "    C = float(input(\"enter temperature in celsius\"))\n",
    "    F = round(C*1.8+32,2)\n",
    "    print(\"temperature is Fahrenheit is {}\".format(F))\n",
    "except Exception as e: \n",
    "    print(e)"
   ]
  },
  {
   "cell_type": "markdown",
   "id": "abdfd6fe",
   "metadata": {},
   "source": [
    "3. Write a Python program to display calendar?"
   ]
  },
  {
   "cell_type": "code",
   "execution_count": 23,
   "id": "124ee35e",
   "metadata": {},
   "outputs": [
    {
     "name": "stdout",
     "output_type": "stream",
     "text": [
      "Enter the year (yyyy)214\n",
      "enter the month (mm) 12\n",
      "    December 214\n",
      "Mo Tu We Th Fr Sa Su\n",
      "          1  2  3  4\n",
      " 5  6  7  8  9 10 11\n",
      "12 13 14 15 16 17 18\n",
      "19 20 21 22 23 24 25\n",
      "26 27 28 29 30 31\n",
      "\n"
     ]
    }
   ],
   "source": [
    "#importing calendar module\n",
    "import calendar\n",
    "# month and year input from user\n",
    "try:\n",
    "    y= int(input(\"Enter the year (yyyy)\"))\n",
    "    try:\n",
    "        m = int(input(\"enter the month (mm) \"))\n",
    "        \n",
    "        #display the calender \n",
    "        print(calendar.month(y,m))\n",
    "    \n",
    "    except Exception as e :\n",
    "        \n",
    "        print(e,\"Value should be between 01-12\")\n",
    "\n",
    "except :\n",
    "    print(\"ERROR: enter only integers\")"
   ]
  },
  {
   "cell_type": "markdown",
   "id": "618e9588",
   "metadata": {},
   "source": [
    "4. Write a Python program to solve quadratic equation?"
   ]
  },
  {
   "cell_type": "code",
   "execution_count": 5,
   "id": "b86499a1",
   "metadata": {},
   "outputs": [
    {
     "name": "stdout",
     "output_type": "stream",
     "text": [
      " Program to solve quadratic equation of the form ax**2 +bx + c\n",
      "enter the value of coefficient a1\n",
      "enter the value of coefficient b2\n",
      "enter the value of coefficient c1\n",
      "the solution are (-1+0j) and (-1+0j)\n"
     ]
    }
   ],
   "source": [
    "import cmath\n",
    "print(\" Program to solve quadratic equation of the form ax**2 +bx + c\")\n",
    "try:\n",
    "    a = int(input(\"enter the value of coefficient a\"))\n",
    "    b = int(input(\"enter the value of coefficient b\"))\n",
    "    c = int(input(\"enter the value of coefficient c\"))\n",
    "    #calculate the discriminant\n",
    "    d =(b**2)-(4*a*c)\n",
    "    \n",
    "    # 2 solutions\n",
    "    x1 = (-b-cmath.sqrt(d))/(2*a)\n",
    "    x2 = (-b+cmath.sqrt(d))/(2*a)\n",
    "    print(\"the solution are {} and {}\".format(x1,x2))\n",
    "except Exception as e:\n",
    "    print(\"ERROR:\",e)"
   ]
  },
  {
   "cell_type": "markdown",
   "id": "193a2377",
   "metadata": {},
   "source": [
    "5. Write a Python program to swap two variables without temp variable?"
   ]
  },
  {
   "cell_type": "code",
   "execution_count": 6,
   "id": "26f9a01d",
   "metadata": {},
   "outputs": [
    {
     "name": "stdout",
     "output_type": "stream",
     "text": [
      "enter value of xsomesh\n",
      " enter value of yTrivedi\n",
      "Before swapping: \n",
      "Value of x :  somesh  and y :  Trivedi\n",
      "After swapping: \n",
      "Value of x :  Trivedi  and y :  somesh\n"
     ]
    }
   ],
   "source": [
    "# python code to swap  2 variables without tep variable\n",
    "\n",
    "x = input(\"enter value of x\")\n",
    "y = input(\" enter value of y\")\n",
    "\n",
    "print (\"Before swapping: \")\n",
    "print(\"Value of x : \", x, \" and y : \", y)\n",
    " \n",
    "# code to swap 'x' and 'y'\n",
    "x, y = y, x\n",
    " \n",
    "print (\"After swapping: \")\n",
    "print(\"Value of x : \", x, \" and y : \", y)"
   ]
  }
 ],
 "metadata": {
  "kernelspec": {
   "display_name": "Python 3 (ipykernel)",
   "language": "python",
   "name": "python3"
  },
  "language_info": {
   "codemirror_mode": {
    "name": "ipython",
    "version": 3
   },
   "file_extension": ".py",
   "mimetype": "text/x-python",
   "name": "python",
   "nbconvert_exporter": "python",
   "pygments_lexer": "ipython3",
   "version": "3.9.7"
  }
 },
 "nbformat": 4,
 "nbformat_minor": 5
}
