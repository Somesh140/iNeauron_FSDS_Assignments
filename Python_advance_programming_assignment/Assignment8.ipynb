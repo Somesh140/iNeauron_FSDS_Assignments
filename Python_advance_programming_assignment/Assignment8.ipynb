{
  "nbformat": 4,
  "nbformat_minor": 0,
  "metadata": {
    "colab": {
      "provenance": [],
      "authorship_tag": "ABX9TyMZ8hWy5ADZ0D4a8CMDoaS0",
      "include_colab_link": true
    },
    "kernelspec": {
      "name": "python3",
      "display_name": "Python 3"
    },
    "language_info": {
      "name": "python"
    }
  },
  "cells": [
    {
      "cell_type": "markdown",
      "metadata": {
        "id": "view-in-github",
        "colab_type": "text"
      },
      "source": [
        "<a href=\"https://colab.research.google.com/github/Somesh140/iNeauron_FSDS_Assignments/blob/main/Python_advance_programming_assignment/Assignment8.ipynb\" target=\"_parent\"><img src=\"https://colab.research.google.com/assets/colab-badge.svg\" alt=\"Open In Colab\"/></a>"
      ]
    },
    {
      "cell_type": "markdown",
      "source": [
        "1. Given a sentence as txt, return True if any two adjacent words have this\n",
        "property: One word ends with a vowel, while the word immediately after\n",
        "begins with a vowel (a e i o u).\n",
        "Examples\n",
        "vowel_links(&quot;a very large appliance&quot;) ➞ True\n",
        "vowel_links(&quot;go to edabit&quot;) ➞ True\n",
        "vowel_links(&quot;an open fire&quot;) ➞ False\n",
        "vowel_links(&quot;a sudden applause&quot;) ➞ False\n",
        "2. You are given three inputs: a string, one letter, and a second letter.\n",
        "Write a function that returns True if every instance of the first letter occurs\n",
        "before every instance of the second letter.\n",
        "Examples\n",
        "first_before_second(&quot;a rabbit jumps joyfully&quot;, &quot;a&quot;, &quot;j&quot;) ➞ True\n",
        "# Every instance of &quot;a&quot; occurs before every instance of &quot;j&quot;.\n",
        "first_before_second(&quot;knaves knew about waterfalls&quot;, &quot;k&quot;, &quot;w&quot;) ➞ True\n",
        "first_before_second(&quot;happy birthday&quot;, &quot;a&quot;, &quot;y&quot;) ➞ False\n",
        "# The &quot;a&quot; in &quot;birthday&quot; occurs after the &quot;y&quot; in &quot;happy&quot;.\n",
        "first_before_second(&quot;precarious kangaroos&quot;, &quot;k&quot;, &quot;a&quot;) ➞ False\n",
        "3. Create a function that returns the characters from a list or string r on odd or\n",
        "even positions, depending on the specifier s. The specifier will be &quot;odd&quot; for\n",
        "items on odd positions (1, 3, 5, ...) and &quot;even&quot; for items on even positions (2,\n",
        "4, 6, ...).\n",
        "Examples\n",
        "char_at_pos([2, 4, 6, 8, 10], &quot;even&quot;) ➞ [4, 8]\n",
        "# 4 &amp; 8 occupy the 2nd &amp; 4th positions\n",
        "char_at_pos(&quot;EDABIT&quot;, &quot;odd&quot;) ➞ &quot;EAI&quot;\n",
        "# &quot;E&quot;, &quot;A&quot; and &quot;I&quot; occupy the 1st, 3rd and 5th positions\n",
        "\n",
        "char_at_pos([&quot;A&quot;, &quot;R&quot;, &quot;B&quot;, &quot;I&quot;, &quot;T&quot;, &quot;R&quot;, &quot;A&quot;, &quot;R&quot;, &quot;I&quot;, &quot;L&quot;, &quot;Y&quot;], &quot;odd&quot;) ➞ [&quot;A&quot;,\n",
        "&quot;B&quot;, &quot;T&quot;, &quot;A&quot;, &quot;I&quot;, &quot;Y&quot;]\n",
        "4. Write a function that returns the greatest common divisor of all list\n",
        "elements. If the greatest common divisor is 1, return 1.\n",
        "Examples\n",
        "GCD([10, 20, 40]) ➞ 10\n",
        "GCD([1, 2, 3, 100]) ➞ 1\n",
        "GCD([1024, 192, 2048, 512]) ➞ 64\n",
        "5. A number/string is a palindrome if the digits/characters are the same when\n",
        "read both forward and backward. Examples include &quot;racecar&quot; and 12321.\n",
        "Given a positive number n, check if n or the binary representation of n is\n",
        "palindromic. Return the following:\n",
        "- &quot;Decimal only.&quot; if only n is a palindrome.\n",
        "- &quot;Binary only.&quot; if only the binary representation of n is a palindrome.\n",
        "- &quot;Decimal and binary.&quot; if both are palindromes.\n",
        "- &quot;Neither!&quot; if neither are palindromes.\n",
        "Examples\n",
        "palindrome_type(1306031) ➞ &quot;Decimal only.&quot;\n",
        "# decimal = 1306031\n",
        "# binary = &quot;100111110110110101111&quot;\n",
        "palindrome_type(427787) ➞ &quot;Binary only.&quot;\n",
        "# decimal = 427787\n",
        "# binary = &quot;1101000011100001011&quot;\n",
        "palindrome_type(313) ➞ &quot;Decimal and binary.&quot;\n",
        "# decimal = 313\n",
        "# binary = 100111001\n",
        "palindrome_type(934) ➞ &quot;Neither!&quot;\n",
        "# decimal = 934\n",
        "# binary = &quot;1110100110&quot;"
      ],
      "metadata": {
        "id": "U9HxZD8x2kCF"
      }
    },
    {
      "cell_type": "markdown",
      "source": [
        "#Answer"
      ],
      "metadata": {
        "id": "_wYABAN_2oGu"
      }
    },
    {
      "cell_type": "code",
      "execution_count": 1,
      "metadata": {
        "id": "qJ_MbWg62cVs"
      },
      "outputs": [],
      "source": [
        "#1\n",
        "def vowel_links(txt):\n",
        "    words = txt.lower().split()\n",
        "    for i in range(len(words) - 1):\n",
        "        if words[i][-1] in 'aeiou' and words[i + 1][0] in 'aeiou':\n",
        "            return True\n",
        "    return False\n"
      ]
    },
    {
      "cell_type": "code",
      "source": [
        "vowel_links(\"A very large appliance\")"
      ],
      "metadata": {
        "colab": {
          "base_uri": "https://localhost:8080/"
        },
        "id": "Si3FFNFN2wzq",
        "outputId": "9cf6379b-83f6-4ba5-971d-6df35cae31ef"
      },
      "execution_count": 2,
      "outputs": [
        {
          "output_type": "execute_result",
          "data": {
            "text/plain": [
              "True"
            ]
          },
          "metadata": {},
          "execution_count": 2
        }
      ]
    },
    {
      "cell_type": "code",
      "source": [
        "#2\n",
        "def first_before_second(txt, first, second):\n",
        "    first_positions = []\n",
        "    second_positions = []\n",
        "    for i in range(len(txt)):\n",
        "        if txt[i] == first:\n",
        "            first_positions.append(i)\n",
        "        elif txt[i] == second:\n",
        "            second_positions.append(i)\n",
        "            if any(pos_first > i for pos_first in first_positions):\n",
        "                return False\n",
        "    return True\n"
      ],
      "metadata": {
        "id": "z23G-nc926gE"
      },
      "execution_count": 3,
      "outputs": []
    },
    {
      "cell_type": "code",
      "source": [
        "first_before_second(\"a rabbit jumps joyfully\",\"a\",\"j\")"
      ],
      "metadata": {
        "colab": {
          "base_uri": "https://localhost:8080/"
        },
        "id": "rX2PF0aK3fm2",
        "outputId": "a5ae5f3c-8d49-442b-b942-4bd75423ab3f"
      },
      "execution_count": 5,
      "outputs": [
        {
          "output_type": "execute_result",
          "data": {
            "text/plain": [
              "True"
            ]
          },
          "metadata": {},
          "execution_count": 5
        }
      ]
    },
    {
      "cell_type": "code",
      "source": [
        "#3 \n",
        "def char_at_pos(r, s):\n",
        "    if s == \"odd\":\n",
        "        return r[::2]  # Get characters at odd positions\n",
        "    elif s == \"even\":\n",
        "        return r[1::2]  # Get characters at even positions\n"
      ],
      "metadata": {
        "id": "ddjiIn753kwm"
      },
      "execution_count": 6,
      "outputs": []
    },
    {
      "cell_type": "code",
      "source": [
        "char_at_pos(\"EDABIT\",\"odd\")"
      ],
      "metadata": {
        "colab": {
          "base_uri": "https://localhost:8080/",
          "height": 36
        },
        "id": "ZYurQNki3y5Q",
        "outputId": "91533446-ecb3-43c4-e18f-2c32e1fc74f0"
      },
      "execution_count": 7,
      "outputs": [
        {
          "output_type": "execute_result",
          "data": {
            "text/plain": [
              "'EAI'"
            ],
            "application/vnd.google.colaboratory.intrinsic+json": {
              "type": "string"
            }
          },
          "metadata": {},
          "execution_count": 7
        }
      ]
    },
    {
      "cell_type": "code",
      "source": [
        "#4 \n",
        "import math\n",
        "\n",
        "def GCD(lst):\n",
        "    gcd = lst[0]\n",
        "    for i in range(1, len(lst)):\n",
        "        gcd = math.gcd(gcd, lst[i])\n",
        "        if gcd == 1:\n",
        "            return 1\n",
        "    return gcd\n"
      ],
      "metadata": {
        "id": "J9G_cprG33LD"
      },
      "execution_count": 8,
      "outputs": []
    },
    {
      "cell_type": "code",
      "source": [
        "GCD([10,20,40])"
      ],
      "metadata": {
        "colab": {
          "base_uri": "https://localhost:8080/"
        },
        "id": "q4Lq7GOe39X9",
        "outputId": "8ad1b9f9-c09e-4033-9ba2-fda08cb509e9"
      },
      "execution_count": 9,
      "outputs": [
        {
          "output_type": "execute_result",
          "data": {
            "text/plain": [
              "10"
            ]
          },
          "metadata": {},
          "execution_count": 9
        }
      ]
    },
    {
      "cell_type": "code",
      "source": [
        "#5 \n",
        "def palindrome_type(n):\n",
        "    decimal_str = str(n)\n",
        "    binary_str = bin(n)[2:]  # Convert to binary and remove the '0b' prefix\n",
        "    if decimal_str == decimal_str[::-1] and binary_str == binary_str[::-1]:\n",
        "        return \"Decimal and binary.\"\n",
        "    elif decimal_str == decimal_str[::-1]:\n",
        "        return \"Decimal only.\"\n",
        "    elif binary_str == binary_str[::-1]:\n",
        "        return \"Binary only.\"\n",
        "    else:\n",
        "        return \"Neither!\""
      ],
      "metadata": {
        "id": "BBn5WWEx4DRi"
      },
      "execution_count": 10,
      "outputs": []
    },
    {
      "cell_type": "code",
      "source": [
        "palindrome_type(313)"
      ],
      "metadata": {
        "colab": {
          "base_uri": "https://localhost:8080/",
          "height": 36
        },
        "id": "QL_yN2fH4NB8",
        "outputId": "e82e99e0-c0b8-4500-9375-221f1ae3b923"
      },
      "execution_count": 11,
      "outputs": [
        {
          "output_type": "execute_result",
          "data": {
            "text/plain": [
              "'Decimal and binary.'"
            ],
            "application/vnd.google.colaboratory.intrinsic+json": {
              "type": "string"
            }
          },
          "metadata": {},
          "execution_count": 11
        }
      ]
    },
    {
      "cell_type": "code",
      "source": [],
      "metadata": {
        "id": "yWDGSXjx4S96"
      },
      "execution_count": null,
      "outputs": []
    }
  ]
}