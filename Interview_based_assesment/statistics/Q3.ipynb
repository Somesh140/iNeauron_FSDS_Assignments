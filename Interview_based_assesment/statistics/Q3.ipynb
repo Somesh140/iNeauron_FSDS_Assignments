{
  "cells": [
    {
      "cell_type": "markdown",
      "metadata": {
        "id": "view-in-github",
        "colab_type": "text"
      },
      "source": [
        "<a href=\"https://colab.research.google.com/github/Somesh140/iNeauron_FSDS_Assignments/blob/main/Interview_based_assesment/statistics/Q3.ipynb\" target=\"_parent\"><img src=\"https://colab.research.google.com/assets/colab-badge.svg\" alt=\"Open In Colab\"/></a>"
      ]
    },
    {
      "cell_type": "code",
      "source": [
        "import numpy as np\n",
        "import pandas as pd\n",
        "\n",
        "# Read the data\n",
        "URL=\"https://drive.google.com/file/d/1mCjtYHiX--mMUjicuaP2gH3k-SnFxt8Y/view?usp=sharing\"\n",
        "reconstructed_url='https://drive.google.com/uc?id=' + URL.split('/')[-2]\n",
        "data = pd.read_csv(reconstructed_url)\n",
        "data.head()"
      ],
      "metadata": {
        "colab": {
          "base_uri": "https://localhost:8080/",
          "height": 206
        },
        "id": "QUOquzs8Ekg6",
        "outputId": "d6a6b7df-4e05-43b4-9218-7d9003e1086a"
      },
      "execution_count": 6,
      "outputs": [
        {
          "output_type": "execute_result",
          "data": {
            "text/plain": [
              "   Patient ID   Blood Pressure Before (mmHg)   Blood Pressure After (mmHg)\n",
              "0           1                            130                           120\n",
              "1           2                            142                           135\n",
              "2           3                            120                           118\n",
              "3           4                            135                           127\n",
              "4           5                            148                           140"
            ],
            "text/html": [
              "\n",
              "  <div id=\"df-a510fc1b-c89b-4dba-838b-75159f51ef66\">\n",
              "    <div class=\"colab-df-container\">\n",
              "      <div>\n",
              "<style scoped>\n",
              "    .dataframe tbody tr th:only-of-type {\n",
              "        vertical-align: middle;\n",
              "    }\n",
              "\n",
              "    .dataframe tbody tr th {\n",
              "        vertical-align: top;\n",
              "    }\n",
              "\n",
              "    .dataframe thead th {\n",
              "        text-align: right;\n",
              "    }\n",
              "</style>\n",
              "<table border=\"1\" class=\"dataframe\">\n",
              "  <thead>\n",
              "    <tr style=\"text-align: right;\">\n",
              "      <th></th>\n",
              "      <th>Patient ID</th>\n",
              "      <th>Blood Pressure Before (mmHg)</th>\n",
              "      <th>Blood Pressure After (mmHg)</th>\n",
              "    </tr>\n",
              "  </thead>\n",
              "  <tbody>\n",
              "    <tr>\n",
              "      <th>0</th>\n",
              "      <td>1</td>\n",
              "      <td>130</td>\n",
              "      <td>120</td>\n",
              "    </tr>\n",
              "    <tr>\n",
              "      <th>1</th>\n",
              "      <td>2</td>\n",
              "      <td>142</td>\n",
              "      <td>135</td>\n",
              "    </tr>\n",
              "    <tr>\n",
              "      <th>2</th>\n",
              "      <td>3</td>\n",
              "      <td>120</td>\n",
              "      <td>118</td>\n",
              "    </tr>\n",
              "    <tr>\n",
              "      <th>3</th>\n",
              "      <td>4</td>\n",
              "      <td>135</td>\n",
              "      <td>127</td>\n",
              "    </tr>\n",
              "    <tr>\n",
              "      <th>4</th>\n",
              "      <td>5</td>\n",
              "      <td>148</td>\n",
              "      <td>140</td>\n",
              "    </tr>\n",
              "  </tbody>\n",
              "</table>\n",
              "</div>\n",
              "      <button class=\"colab-df-convert\" onclick=\"convertToInteractive('df-a510fc1b-c89b-4dba-838b-75159f51ef66')\"\n",
              "              title=\"Convert this dataframe to an interactive table.\"\n",
              "              style=\"display:none;\">\n",
              "        \n",
              "  <svg xmlns=\"http://www.w3.org/2000/svg\" height=\"24px\"viewBox=\"0 0 24 24\"\n",
              "       width=\"24px\">\n",
              "    <path d=\"M0 0h24v24H0V0z\" fill=\"none\"/>\n",
              "    <path d=\"M18.56 5.44l.94 2.06.94-2.06 2.06-.94-2.06-.94-.94-2.06-.94 2.06-2.06.94zm-11 1L8.5 8.5l.94-2.06 2.06-.94-2.06-.94L8.5 2.5l-.94 2.06-2.06.94zm10 10l.94 2.06.94-2.06 2.06-.94-2.06-.94-.94-2.06-.94 2.06-2.06.94z\"/><path d=\"M17.41 7.96l-1.37-1.37c-.4-.4-.92-.59-1.43-.59-.52 0-1.04.2-1.43.59L10.3 9.45l-7.72 7.72c-.78.78-.78 2.05 0 2.83L4 21.41c.39.39.9.59 1.41.59.51 0 1.02-.2 1.41-.59l7.78-7.78 2.81-2.81c.8-.78.8-2.07 0-2.86zM5.41 20L4 18.59l7.72-7.72 1.47 1.35L5.41 20z\"/>\n",
              "  </svg>\n",
              "      </button>\n",
              "      \n",
              "  <style>\n",
              "    .colab-df-container {\n",
              "      display:flex;\n",
              "      flex-wrap:wrap;\n",
              "      gap: 12px;\n",
              "    }\n",
              "\n",
              "    .colab-df-convert {\n",
              "      background-color: #E8F0FE;\n",
              "      border: none;\n",
              "      border-radius: 50%;\n",
              "      cursor: pointer;\n",
              "      display: none;\n",
              "      fill: #1967D2;\n",
              "      height: 32px;\n",
              "      padding: 0 0 0 0;\n",
              "      width: 32px;\n",
              "    }\n",
              "\n",
              "    .colab-df-convert:hover {\n",
              "      background-color: #E2EBFA;\n",
              "      box-shadow: 0px 1px 2px rgba(60, 64, 67, 0.3), 0px 1px 3px 1px rgba(60, 64, 67, 0.15);\n",
              "      fill: #174EA6;\n",
              "    }\n",
              "\n",
              "    [theme=dark] .colab-df-convert {\n",
              "      background-color: #3B4455;\n",
              "      fill: #D2E3FC;\n",
              "    }\n",
              "\n",
              "    [theme=dark] .colab-df-convert:hover {\n",
              "      background-color: #434B5C;\n",
              "      box-shadow: 0px 1px 3px 1px rgba(0, 0, 0, 0.15);\n",
              "      filter: drop-shadow(0px 1px 2px rgba(0, 0, 0, 0.3));\n",
              "      fill: #FFFFFF;\n",
              "    }\n",
              "  </style>\n",
              "\n",
              "      <script>\n",
              "        const buttonEl =\n",
              "          document.querySelector('#df-a510fc1b-c89b-4dba-838b-75159f51ef66 button.colab-df-convert');\n",
              "        buttonEl.style.display =\n",
              "          google.colab.kernel.accessAllowed ? 'block' : 'none';\n",
              "\n",
              "        async function convertToInteractive(key) {\n",
              "          const element = document.querySelector('#df-a510fc1b-c89b-4dba-838b-75159f51ef66');\n",
              "          const dataTable =\n",
              "            await google.colab.kernel.invokeFunction('convertToInteractive',\n",
              "                                                     [key], {});\n",
              "          if (!dataTable) return;\n",
              "\n",
              "          const docLinkHtml = 'Like what you see? Visit the ' +\n",
              "            '<a target=\"_blank\" href=https://colab.research.google.com/notebooks/data_table.ipynb>data table notebook</a>'\n",
              "            + ' to learn more about interactive tables.';\n",
              "          element.innerHTML = '';\n",
              "          dataTable['output_type'] = 'display_data';\n",
              "          await google.colab.output.renderOutput(dataTable, element);\n",
              "          const docLink = document.createElement('div');\n",
              "          docLink.innerHTML = docLinkHtml;\n",
              "          element.appendChild(docLink);\n",
              "        }\n",
              "      </script>\n",
              "    </div>\n",
              "  </div>\n",
              "  "
            ]
          },
          "metadata": {},
          "execution_count": 6
        }
      ]
    },
    {
      "cell_type": "code",
      "source": [
        "data.columns"
      ],
      "metadata": {
        "colab": {
          "base_uri": "https://localhost:8080/"
        },
        "id": "qvHlGUyQKu0e",
        "outputId": "ba9b94cd-8e95-4a9f-818f-b5a4ea858f2e"
      },
      "execution_count": 11,
      "outputs": [
        {
          "output_type": "execute_result",
          "data": {
            "text/plain": [
              "Index(['Patient ID', ' Blood Pressure Before (mmHg)',\n",
              "       ' Blood Pressure After (mmHg)'],\n",
              "      dtype='object')"
            ]
          },
          "metadata": {},
          "execution_count": 11
        }
      ]
    },
    {
      "cell_type": "code",
      "source": [
        "data[\" Blood Pressure Before (mmHg)\"].max()"
      ],
      "metadata": {
        "colab": {
          "base_uri": "https://localhost:8080/"
        },
        "id": "OrYGBgxCLZID",
        "outputId": "36fb9318-971d-4d9e-80ed-06fbb257a983"
      },
      "execution_count": 14,
      "outputs": [
        {
          "output_type": "execute_result",
          "data": {
            "text/plain": [
              "148"
            ]
          },
          "metadata": {},
          "execution_count": 14
        }
      ]
    },
    {
      "cell_type": "code",
      "source": [
        "data[\" Blood Pressure Before (mmHg)\"].min()"
      ],
      "metadata": {
        "colab": {
          "base_uri": "https://localhost:8080/"
        },
        "id": "dGPvRwLaLsvm",
        "outputId": "7334ee39-18fa-4f3e-846c-df56fc17c8d9"
      },
      "execution_count": 15,
      "outputs": [
        {
          "output_type": "execute_result",
          "data": {
            "text/plain": [
              "120"
            ]
          },
          "metadata": {},
          "execution_count": 15
        }
      ]
    },
    {
      "cell_type": "code",
      "source": [
        "data[\" Blood Pressure After (mmHg)\"].max()"
      ],
      "metadata": {
        "colab": {
          "base_uri": "https://localhost:8080/"
        },
        "id": "mk-K1sObLvbM",
        "outputId": "b29b51b3-f182-4f68-cb42-417b3d3993b0"
      },
      "execution_count": 16,
      "outputs": [
        {
          "output_type": "execute_result",
          "data": {
            "text/plain": [
              "141"
            ]
          },
          "metadata": {},
          "execution_count": 16
        }
      ]
    },
    {
      "cell_type": "code",
      "source": [
        "data[\" Blood Pressure After (mmHg)\"].min()"
      ],
      "metadata": {
        "colab": {
          "base_uri": "https://localhost:8080/"
        },
        "id": "yl2-3ZnrNIEN",
        "outputId": "ddac2ce1-c7c2-4643-9729-1ecbf63e430d"
      },
      "execution_count": 17,
      "outputs": [
        {
          "output_type": "execute_result",
          "data": {
            "text/plain": [
              "118"
            ]
          },
          "metadata": {},
          "execution_count": 17
        }
      ]
    },
    {
      "cell_type": "code",
      "source": [
        "# Calculate the dispersion\n",
        "before_dispersion = data[\" Blood Pressure Before (mmHg)\"].max() - data[\" Blood Pressure Before (mmHg)\"].min()\n",
        "after_dispersion = data[\" Blood Pressure After (mmHg)\"].max() - data[\" Blood Pressure After (mmHg)\"].min()\n",
        "before_variance = np.var(data[\" Blood Pressure Before (mmHg)\"])\n",
        "after_variance = np.var(data[\" Blood Pressure After (mmHg)\"])\n",
        "before_std = np.std(data[\" Blood Pressure Before (mmHg)\"])\n",
        "after_std = np.std(data[\" Blood Pressure After (mmHg)\"])\n",
        "\n",
        "print(\"Blood Pressure Before Dispersion:\")\n",
        "print(\"Range:\", before_dispersion)\n",
        "print(\"Variance:\", before_variance)\n",
        "print(\"Standard Deviation:\", before_std)\n",
        "\n",
        "print(\"\\nBlood Pressure After Dispersion:\")\n",
        "print(\"Range:\", after_dispersion)\n",
        "print(\"Variance:\", after_variance)\n",
        "print(\"Standard Deviation:\", after_std)\n"
      ],
      "metadata": {
        "colab": {
          "base_uri": "https://localhost:8080/"
        },
        "id": "fCWE7hFyNJzA",
        "outputId": "26368346-9b84-4e35-db72-a572cc23025c"
      },
      "execution_count": 21,
      "outputs": [
        {
          "output_type": "stream",
          "name": "stdout",
          "text": [
            "Blood Pressure Before Dispersion:\n",
            "Range: 28\n",
            "Variance: 43.10189999999999\n",
            "Standard Deviation: 6.56520372875054\n",
            "\n",
            "Blood Pressure After Dispersion:\n",
            "Range: 23\n",
            "Variance: 46.97039999999999\n",
            "Standard Deviation: 6.853495458523336\n"
          ]
        }
      ]
    },
    {
      "cell_type": "code",
      "source": [
        "# Calculate the mean\n",
        "before_mean = np.mean(data[\" Blood Pressure Before (mmHg)\"])\n",
        "after_mean = np.mean(data[\" Blood Pressure After (mmHg)\"])\n",
        "\n",
        "# Calculate the standard error\n",
        "before_se = before_std / np.sqrt(len(data[\" Blood Pressure Before (mmHg)\"]))\n",
        "after_se = after_std / np.sqrt(len(data[\" Blood Pressure After (mmHg)\"]))\n",
        "\n",
        "# Calculate the confidence interval\n",
        "before_ci = (before_mean - 1.96 * before_se, before_mean + 1.96 * before_se)\n",
        "after_ci = (after_mean - 1.96 * after_se, after_mean + 1.96 * after_se)\n",
        "\n",
        "print(\"Blood Pressure Before:\")\n",
        "print(\"Mean:\", before_mean)\n",
        "print(\"Confidence Interval:\", before_ci)\n",
        "\n",
        "print(\"\\nBlood Pressure After:\")\n",
        "print(\"Mean:\", after_mean)\n",
        "print(\"Confidence Interval:\", after_ci)\n",
        "\n",
        "# Plot the means with error bars\n",
        "import matplotlib.pyplot as plt\n",
        "\n",
        "x = ['Before', 'After']\n",
        "means = [before_mean, after_mean]\n",
        "cis = [before_ci, after_ci]\n",
        "\n",
        "plt.errorbar(x, means, yerr=[(ci[1]-mean, mean-ci[0]) for mean, ci in zip(means, cis)], fmt='o')\n",
        "plt.xlabel('Condition')\n",
        "plt.ylabel('Blood Pressure')\n",
        "plt.title('Mean Blood Pressure with 95% Confidence Interval')\n",
        "plt.show()"
      ],
      "metadata": {
        "colab": {
          "base_uri": "https://localhost:8080/",
          "height": 599
        },
        "id": "1o-_6lgnOOC6",
        "outputId": "cf6ad63a-a0d3-4a9d-af3e-e4b61fd85c81"
      },
      "execution_count": 22,
      "outputs": [
        {
          "output_type": "stream",
          "name": "stdout",
          "text": [
            "Blood Pressure Before:\n",
            "Mean: 133.91\n",
            "Confidence Interval: (132.6232200691649, 135.1967799308351)\n",
            "\n",
            "Blood Pressure After:\n",
            "Mean: 128.36\n",
            "Confidence Interval: (127.01671489012944, 129.7032851098706)\n"
          ]
        },
        {
          "output_type": "display_data",
          "data": {
            "text/plain": [
              "<Figure size 640x480 with 1 Axes>"
            ],
            "image/png": "[encoded data removed]"
          },
          "metadata": {}
        }
      ]
    },
    {
      "cell_type": "code",
      "source": [
        "# Calculate the Mean Absolute Deviation (MAD)\n",
        "before_mad = np.mean(np.abs(data[\" Blood Pressure Before (mmHg)\"] - before_mean))\n",
        "after_mad = np.mean(np.abs(data[\" Blood Pressure After (mmHg)\"] - after_mean))\n",
        "\n",
        "# Calculate the Standard Deviation (SD)\n",
        "before_sd = np.std(data[\" Blood Pressure Before (mmHg)\"])\n",
        "after_sd = np.std(data[\" Blood Pressure After (mmHg)\"])\n",
        "\n",
        "print(\"Blood Pressure Before:\")\n",
        "print(\"Mean Absolute Deviation (MAD):\", before_mad)\n",
        "print(\"Standard Deviation (SD):\", before_sd)\n",
        "\n",
        "print(\"\\nBlood Pressure After:\")\n",
        "print(\"Mean Absolute Deviation (MAD):\", after_mad)\n",
        "print(\"Standard Deviation (SD):\", after_sd)\n"
      ],
      "metadata": {
        "colab": {
          "base_uri": "https://localhost:8080/"
        },
        "id": "s3i7zSwTS3j8",
        "outputId": "db44fa01-b77b-457b-8183-9680b39775ca"
      },
      "execution_count": 24,
      "outputs": [
        {
          "output_type": "stream",
          "name": "stdout",
          "text": [
            "Blood Pressure Before:\n",
            "Mean Absolute Deviation (MAD): 5.7118\n",
            "Standard Deviation (SD): 6.56520372875054\n",
            "\n",
            "Blood Pressure After:\n",
            "Mean Absolute Deviation (MAD): 5.9\n",
            "Standard Deviation (SD): 6.853495458523336\n"
          ]
        }
      ]
    },
    {
      "cell_type": "code",
      "source": [
        "#Calculate the correlation coefficient and check the significance of it at 1% level of significance.\n",
        "# Calculate the correlation coefficient\n",
        "from scipy.stats import t\n",
        "correlation = np.corrcoef(data[\" Blood Pressure Before (mmHg)\"], data[\" Blood Pressure After (mmHg)\"])[0, 1]\n",
        "\n",
        "# Check significance at the 1% level\n",
        "n = len(data[\" Blood Pressure Before (mmHg)\"])\n",
        "df = n - 2\n",
        "critical_value = 2.626  # From t-distribution table for alpha = 0.01 (two-tailed test)\n",
        "\n",
        "t_value = correlation * np.sqrt((n - 2) / (1 - correlation**2))\n",
        "p_value = 2 * (1 - t.cdf(abs(t_value), df))\n",
        "\n",
        "print(\"Correlation Coefficient:\", correlation)\n",
        "print(\"t-value:\", t_value)\n",
        "print(\"p-value:\", p_value)\n",
        "print(\"Significant at 1% level:\", p_value < 0.01)\n"
      ],
      "metadata": {
        "colab": {
          "base_uri": "https://localhost:8080/"
        },
        "id": "PAvwf1K2YC4N",
        "outputId": "19c7db72-eaaf-4edd-ce85-a56554bdd3a7"
      },
      "execution_count": 25,
      "outputs": [
        {
          "output_type": "stream",
          "name": "stdout",
          "text": [
            "Correlation Coefficient: 0.9779485966556016\n",
            "t-value: 46.35573256849115\n",
            "p-value: 0.0\n",
            "Significant at 1% level: True\n"
          ]
        }
      ]
    },
    {
      "cell_type": "markdown",
      "source": [
        "we can reject the null hypothesis and conclude that there is a significant correlation between the two variables."
      ],
      "metadata": {
        "id": "FZC_tZU8iJOv"
      }
    },
    {
      "cell_type": "code",
      "source": [
        "from scipy.stats import pearsonr\n",
        "a=pearsonr(data[\" Blood Pressure Before (mmHg)\"], data[\" Blood Pressure After (mmHg)\"])"
      ],
      "metadata": {
        "id": "CweJ2dRliJ7p"
      },
      "execution_count": 28,
      "outputs": []
    },
    {
      "cell_type": "code",
      "source": [
        "a.confidence_interval()"
      ],
      "metadata": {
        "colab": {
          "base_uri": "https://localhost:8080/"
        },
        "id": "4ERb4T_7lxDt",
        "outputId": "49a9dad8-b18c-44ce-d18b-74bd229877bd"
      },
      "execution_count": 30,
      "outputs": [
        {
          "output_type": "execute_result",
          "data": {
            "text/plain": [
              "ConfidenceInterval(low=0.9673446365057968, high=0.9851352201264886)"
            ]
          },
          "metadata": {},
          "execution_count": 30
        }
      ]
    },
    {
      "cell_type": "code",
      "source": [],
      "metadata": {
        "id": "AhuTa-PQjm1W"
      },
      "execution_count": null,
      "outputs": []
    }
  ],
  "metadata": {
    "colab": {
      "provenance": [],
      "include_colab_link": true
    },
    "kernelspec": {
      "display_name": "Python 3",
      "name": "python3"
    }
  },
  "nbformat": 4,
  "nbformat_minor": 0
}