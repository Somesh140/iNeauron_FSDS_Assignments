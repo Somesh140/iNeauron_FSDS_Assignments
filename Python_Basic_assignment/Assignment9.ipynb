{
  "nbformat": 4,
  "nbformat_minor": 0,
  "metadata": {
    "colab": {
      "provenance": [],
      "authorship_tag": "ABX9TyOPjQsQWkNNNB76n2StrkFi",
      "include_colab_link": true
    },
    "kernelspec": {
      "name": "python3",
      "display_name": "Python 3"
    },
    "language_info": {
      "name": "python"
    }
  },
  "cells": [
    {
      "cell_type": "markdown",
      "metadata": {
        "id": "view-in-github",
        "colab_type": "text"
      },
      "source": [
        "<a href=\"https://colab.research.google.com/github/Somesh140/iNeauron_FSDS_Assignments/blob/main/Python_Basic_assignment/Assignment9.ipynb\" target=\"_parent\"><img src=\"https://colab.research.google.com/assets/colab-badge.svg\" alt=\"Open In Colab\"/></a>"
      ]
    },
    {
      "cell_type": "markdown",
      "source": [
        "1. To what does a relative path refer?\n",
        "2. What does an absolute path start with your operating system?\n",
        "3. What do the functions os.getcwd() and os.chdir() do?\n",
        "4. What are the . and .. folders?\n",
        "5. In C:\\bacon\\eggs\\spam.txt, which part is the dir name, and which part is the base name?\n",
        "6. What are the three “mode” arguments that can be passed to the open() function?\n",
        "7. What happens if an existing file is opened in write mode?\n",
        "8. How do you tell the difference between read() and readlines()?\n",
        "9. What data structure does a shelf value resemble?"
      ],
      "metadata": {
        "id": "z5CAmvSUeBD-"
      }
    },
    {
      "cell_type": "markdown",
      "source": [
        "Answer\n",
        "\n",
        "\n",
        "---\n",
        "1. A relative path refers to the path of a file or directory relative to the current working directory.\n",
        "2. An absolute path starts with the root directory of the operating system (e.g. C:\\ on Windows or / on Unix-based systems).\n",
        "3. os.getcwd() returns the current working directory, and os.chdir() changes the current working directory to the path specified as an argument.\n",
        "4. The . folder represents the current directory, while the .. folder represents the parent directory.\n",
        "5. The directory name is C:\\bacon\\eggs and the base name is spam.txt.\n",
        "6. The three mode arguments that can be passed to the open() function are 'r' for read mode, 'w' for write mode, and 'a' for append mode.\n",
        "7. If an existing file is opened in write mode, the contents of the file will be truncated (i.e. deleted) and replaced with the new data that is written to the file.\n",
        "8. read() returns the entire contents of a file as a single string, while readlines() returns a list of strings, where each string corresponds to a single line in the file.\n",
        "9. A shelf value in Python resembles a dictionary, as it stores key-value pairs. However, unlike a dictionary, the keys and values in a shelf are stored on disk rather than in memory.\n"
      ],
      "metadata": {
        "id": "oo9Ef_dieDCo"
      }
    },
    {
      "cell_type": "code",
      "execution_count": null,
      "metadata": {
        "id": "TagOObZ4d9lD"
      },
      "outputs": [],
      "source": []
    }
  ]
}