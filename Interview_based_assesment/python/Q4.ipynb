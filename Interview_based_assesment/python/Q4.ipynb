{
  "nbformat": 4,
  "nbformat_minor": 0,
  "metadata": {
    "colab": {
      "provenance": [],
      "authorship_tag": "ABX9TyPCaA1HNfMtNg4JGSUL6lAy",
      "include_colab_link": true
    },
    "kernelspec": {
      "name": "python3",
      "display_name": "Python 3"
    },
    "language_info": {
      "name": "python"
    }
  },
  "cells": [
    {
      "cell_type": "markdown",
      "metadata": {
        "id": "view-in-github",
        "colab_type": "text"
      },
      "source": [
        "<a href=\"https://colab.research.google.com/github/Somesh140/iNeauron_FSDS_Assignments/blob/main/Interview_based_assesment/python/Q4.ipynb\" target=\"_parent\"><img src=\"https://colab.research.google.com/assets/colab-badge.svg\" alt=\"Open In Colab\"/></a>"
      ]
    },
    {
      "cell_type": "markdown",
      "source": [
        "Write a program to download the data from the link given below and then read the data and convert the into\n",
        "the proper structure and return it as a CSV file.\n",
        "Link - https://data.nasa.gov/resource/y77d-th95.json\n",
        "Note - Write code comments wherever needed for code understanding\n",
        "\n",
        "\n",
        "\n",
        "\n",
        "Excepted Output Data Attributes\n",
        "● Name of Earth Meteorite - string id - ID of Earth\n",
        "● Meteorite - int nametype - string recclass - string\n",
        "● mass - Mass of Earth Meteorite - float year - Year at which Earth\n",
        "● Meteorite was hit - datetime format reclat - float recclong - float\n",
        "● point coordinates - list of int"
      ],
      "metadata": {
        "id": "T8OV8XDBZD1f"
      }
    },
    {
      "cell_type": "code",
      "execution_count": 16,
      "metadata": {
        "id": "1SuHdYR6Yrxw"
      },
      "outputs": [],
      "source": [
        "import requests\n",
        "import pandas as pd\n",
        "from datetime import datetime\n",
        "\n",
        "def download_convert_data(url,output_file):\n",
        "  # Download the data from the URL\n",
        "  response = requests.get(url)\n",
        "\n",
        "  # Read the JSON data\n",
        "  data = response.json()\n",
        "\n",
        "  extracted_data=[]\n",
        "  \n",
        "\n",
        "  for meteorite in data:\n",
        "    #Handling missing values of mass and converting it to float\n",
        "    mass = meteorite.get(\"mass\", \"\")\n",
        "    mass_float = float(mass) if mass and mass.isdigit() else 0.0\n",
        "    #converting year to datetime format\n",
        "    year_str = meteorite.get(\"year\", \"\")\n",
        "    year = datetime.strptime(year_str, \"%Y-%m-%dT%H:%M:%S.%f\").strftime(\"%Y-%m-%d %H:%M:%S.%f\") if year_str else \"\"\n",
        "    \n",
        "    reclat = float(meteorite.get(\"reclat\", \"\")) if meteorite.get(\"reclat\") else 0.0\n",
        "    reclong = float(meteorite.get(\"reclong\", \"\")) if meteorite.get(\"reclong\") else 0.0\n",
        "\n",
        "    coordinates = meteorite.get(\"geolocation\", {}).get(\"coordinates\", [])\n",
        "    coordinates = list(map(int, coordinates)) if isinstance(coordinates, list) else []\n",
        "\n",
        "    extracted_data.append({\n",
        "        \"name\": meteorite.get(\"name\", \"\"),\n",
        "        \"id\": meteorite.get(\"id\", \"\"),\n",
        "        \"nametype\": meteorite.get(\"nametype\", \"\"),\n",
        "        \"recclass\": meteorite.get(\"recclass\", \"\"),\n",
        "        \"mass\": mass_float,\n",
        "        \"year\": year,\n",
        "        \"reclat\": reclat,\n",
        "        \"reclong\": reclong,\n",
        "        \"coordinates\": coordinates\n",
        "    })\n",
        "    \n",
        "\n",
        "  #create dataframe from extracted data \n",
        "  df= pd.DataFrame(extracted_data)\n",
        "\n",
        "  # Save the DataFrame to csv\n",
        "  df.to_csv(output_file, index=False)\n",
        "\n",
        "  print(\"Data converted and saved to\", output_file)\n"
      ]
    },
    {
      "cell_type": "code",
      "source": [
        "url = \"https://data.nasa.gov/resource/y77d-th95.json\"\n",
        "output_file = \"meteorite_data.csv\"\n",
        "download_convert_data(url, output_file)"
      ],
      "metadata": {
        "colab": {
          "base_uri": "https://localhost:8080/"
        },
        "id": "y-QfmlRoZ3cV",
        "outputId": "8a56e8be-5198-4630-b066-31ec9cde7d80"
      },
      "execution_count": 17,
      "outputs": [
        {
          "output_type": "stream",
          "name": "stdout",
          "text": [
            "Data converted and saved to meteorite_data.csv\n"
          ]
        }
      ]
    },
    {
      "cell_type": "code",
      "source": [],
      "metadata": {
        "id": "tCEDSfP0jWmt"
      },
      "execution_count": null,
      "outputs": []
    }
  ]
}