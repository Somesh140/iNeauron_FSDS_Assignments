{
  "nbformat": 4,
  "nbformat_minor": 0,
  "metadata": {
    "colab": {
      "provenance": [],
      "authorship_tag": "ABX9TyPXATLa3KoCAyVpi/QxxaSV",
      "include_colab_link": true
    },
    "kernelspec": {
      "name": "python3",
      "display_name": "Python 3"
    },
    "language_info": {
      "name": "python"
    }
  },
  "cells": [
    {
      "cell_type": "markdown",
      "metadata": {
        "id": "view-in-github",
        "colab_type": "text"
      },
      "source": [
        "<a href=\"https://colab.research.google.com/github/Somesh140/iNeauron_FSDS_Assignments/blob/main/Python_advance_programming_assignment/Programming_assignment_4_solution.ipynb\" target=\"_parent\"><img src=\"https://colab.research.google.com/assets/colab-badge.svg\" alt=\"Open In Colab\"/></a>"
      ]
    },
    {
      "cell_type": "markdown",
      "source": [
        "[Programming_assignment_4](https://docs.google.com/document/d/17NwfzKbPd_0sF4PFt82AXZ9-7DqGQ_IJ/edit?usp=sharing&ouid=102667678895147843990&rtpof=true&sd=true)"
      ],
      "metadata": {
        "id": "vxDYpI-ahV38"
      }
    },
    {
      "cell_type": "markdown",
      "source": [
        "Q1 Solution:"
      ],
      "metadata": {
        "id": "euU5O0fllrAB"
      }
    },
    {
      "cell_type": "code",
      "execution_count": null,
      "metadata": {
        "colab": {
          "base_uri": "https://localhost:8080/"
        },
        "id": "zBDvMtkqhOIC",
        "outputId": "31f57ce7-648b-4ab5-baf8-1e83316006cb"
      },
      "outputs": [
        {
          "output_type": "stream",
          "name": "stdout",
          "text": [
            "5\n",
            "55\n",
            "6765\n",
            "12586269025\n"
          ]
        }
      ],
      "source": [
        "def fastFib(num):\n",
        "  if num <= 1:\n",
        "    return num\n",
        "  else:\n",
        "    fib = [0,1]\n",
        "    for i in range(2, num+1):\n",
        "      fib.append(fib[i-1] + fib[i-2])\n",
        "    return fib[num]\n",
        "\n",
        "print(fastFib(5)) #➞ 5\n",
        "print(fastFib(10)) #➞ 55\n",
        "print(fastFib(20)) #➞ 6765\n",
        "print(fastFib(50)) #➞ 12586269025"
      ]
    },
    {
      "cell_type": "markdown",
      "source": [
        "Q2 Solution:"
      ],
      "metadata": {
        "id": "FM4WV19a4iX7"
      }
    },
    {
      "cell_type": "code",
      "source": [
        "def convert_to_hex(string):\n",
        "  hex_str = \"\"\n",
        "  for char in string:\n",
        "    hex_str += hex(ord(char))[2:] + \" \"\n",
        "  return hex_str.strip()\n",
        "\n",
        "print(convert_to_hex(\"hello world\"))\n",
        "print(convert_to_hex(\"Big Boi\"))\n",
        "print(convert_to_hex(\"Marty Poppinson\"))"
      ],
      "metadata": {
        "colab": {
          "base_uri": "https://localhost:8080/"
        },
        "id": "G0rpc93PmM38",
        "outputId": "bdf0ea63-d95e-45a7-99c5-44f37c30e3ec"
      },
      "execution_count": null,
      "outputs": [
        {
          "output_type": "stream",
          "name": "stdout",
          "text": [
            "68 65 6c 6c 6f 20 77 6f 72 6c 64\n",
            "42 69 67 20 42 6f 69\n",
            "4d 61 72 74 79 20 50 6f 70 70 69 6e 73 6f 6e\n"
          ]
        }
      ]
    },
    {
      "cell_type": "markdown",
      "source": [
        "Q3 Solution:"
      ],
      "metadata": {
        "id": "b9NzzvJz6Dd_"
      }
    },
    {
      "cell_type": "code",
      "source": [
        "\n",
        "import re\n",
        "\n",
        "def uncensor(string1, string2):\n",
        "    chars = list(string2)\n",
        "    return re.sub(r'\\*', lambda m: chars.pop(0), string1)\n",
        "\n",
        "output = uncensor(\"Wh*r* d*d my v*w*ls g*\", \"eeioeo\")\n",
        "print(output)  # Where did my vowels go\n",
        "\n"
      ],
      "metadata": {
        "colab": {
          "base_uri": "https://localhost:8080/"
        },
        "id": "-rXHpFjB5Add",
        "outputId": "2740afdb-d471-4865-bbd9-49d37b7f02fa"
      },
      "execution_count": 2,
      "outputs": [
        {
          "output_type": "stream",
          "name": "stdout",
          "text": [
            "Where did my vowels go\n"
          ]
        }
      ]
    },
    {
      "cell_type": "markdown",
      "source": [
        "Q4 Solution:"
      ],
      "metadata": {
        "id": "pm0B92USDHQ7"
      }
    },
    {
      "cell_type": "code",
      "source": [
        "import socket\n",
        "\n",
        "def get_domain(ip_address):\n",
        "  try:\n",
        "    # Get the hostname and aliases for the given IP address\n",
        "    hostname, aliases, _ = socket.gethostbyaddr(ip_address)\n",
        "\n",
        "    # Return the hostname (which is the domain name associated with the IP address)\n",
        "    return hostname\n",
        "  except socket.herror:\n",
        "    # Return \"unknown\" if the IP address does not have a PTR DNS record\n",
        "    return \"unknown\"\n",
        "\n",
        "print(get_domain(\"8.8.8.8\")) #➞ \"dns.google\"\n",
        "print(get_domain(\"8.8.4.4\")) #➞ \"dns.google\"\n",
        "print(get_domain(\"192.168.1.1\")) #➞ \"unknown\"\n",
        "print(get_domain(\"0.0.0.0\"))"
      ],
      "metadata": {
        "colab": {
          "base_uri": "https://localhost:8080/"
        },
        "id": "nAlzdOo_8hGG",
        "outputId": "f2732af1-32cb-4b0e-ce90-735dfabffd0f"
      },
      "execution_count": null,
      "outputs": [
        {
          "output_type": "stream",
          "name": "stdout",
          "text": [
            "dns.google\n",
            "dns.google\n",
            "unknown\n",
            "unknown\n"
          ]
        }
      ]
    },
    {
      "cell_type": "markdown",
      "source": [
        "Q5 Solution:"
      ],
      "metadata": {
        "id": "_YRe6b0YIJUN"
      }
    },
    {
      "cell_type": "code",
      "source": [
        "def fact_of_fact(n):\n",
        "    def factorial(n):\n",
        "        # base case: 0! = 1\n",
        "        if n == 0:\n",
        "            return 1\n",
        "        # recursive case: n! = n * (n-1)!\n",
        "        else:\n",
        "            return n * factorial(n-1)\n",
        "\n",
        "    # initialize the result to be 1\n",
        "    result = 1\n",
        "\n",
        "    # multiply the factorial of each number from n down to 1\n",
        "    for i in range(n, 0, -1):\n",
        "        result *= factorial(i)\n",
        "\n",
        "    return result\n"
      ],
      "metadata": {
        "id": "9NFk5wQsDK8D"
      },
      "execution_count": null,
      "outputs": []
    },
    {
      "cell_type": "code",
      "source": [
        "fact_of_fact(4)"
      ],
      "metadata": {
        "colab": {
          "base_uri": "https://localhost:8080/"
        },
        "id": "Zem-K9yaI5Jl",
        "outputId": "a251ce01-ecc3-4260-d7a1-bd13ddfa2be8"
      },
      "execution_count": null,
      "outputs": [
        {
          "output_type": "execute_result",
          "data": {
            "text/plain": [
              "288"
            ]
          },
          "metadata": {},
          "execution_count": 36
        }
      ]
    },
    {
      "cell_type": "code",
      "source": [
        "fact_of_fact(5)"
      ],
      "metadata": {
        "colab": {
          "base_uri": "https://localhost:8080/"
        },
        "id": "hmThL00uI8cx",
        "outputId": "27ce7c9d-7f27-4172-fdb8-fc3a5ca37601"
      },
      "execution_count": null,
      "outputs": [
        {
          "output_type": "execute_result",
          "data": {
            "text/plain": [
              "34560"
            ]
          },
          "metadata": {},
          "execution_count": 37
        }
      ]
    },
    {
      "cell_type": "code",
      "source": [
        "fact_of_fact(6)"
      ],
      "metadata": {
        "colab": {
          "base_uri": "https://localhost:8080/"
        },
        "id": "YwQZ7oS8KSo6",
        "outputId": "f2b2b6ba-e471-4816-b3d4-b30f06888c96"
      },
      "execution_count": null,
      "outputs": [
        {
          "output_type": "execute_result",
          "data": {
            "text/plain": [
              "24883200"
            ]
          },
          "metadata": {},
          "execution_count": 39
        }
      ]
    },
    {
      "cell_type": "code",
      "source": [],
      "metadata": {
        "id": "xrbWT0kNKVf8"
      },
      "execution_count": null,
      "outputs": []
    }
  ]
}