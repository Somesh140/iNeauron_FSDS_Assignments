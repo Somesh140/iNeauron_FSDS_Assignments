{
  "nbformat": 4,
  "nbformat_minor": 0,
  "metadata": {
    "colab": {
      "provenance": [],
      "authorship_tag": "ABX9TyN82VKT8JTc4v+uOAESO4If",
      "include_colab_link": true
    },
    "kernelspec": {
      "name": "python3",
      "display_name": "Python 3"
    },
    "language_info": {
      "name": "python"
    }
  },
  "cells": [
    {
      "cell_type": "markdown",
      "metadata": {
        "id": "view-in-github",
        "colab_type": "text"
      },
      "source": [
        "<a href=\"https://colab.research.google.com/github/Somesh140/iNeauron_FSDS_Assignments/blob/main/Interview_based_assesment/statistics/Q10.ipynb\" target=\"_parent\"><img src=\"https://colab.research.google.com/assets/colab-badge.svg\" alt=\"Open In Colab\"/></a>"
      ]
    },
    {
      "cell_type": "code",
      "execution_count": 1,
      "metadata": {
        "colab": {
          "base_uri": "https://localhost:8080/"
        },
        "id": "_XcwRqgze5Dn",
        "outputId": "d9bb4837-0765-4f00-d8f7-ebb431fed9dd"
      },
      "outputs": [
        {
          "output_type": "stream",
          "name": "stdout",
          "text": [
            "Probability of exactly 20 bulbs being defective: 0.051616192536639335\n",
            "Probability of at least 10 bulbs being defective: 0.9998316463654902\n",
            "Probability of at most 15 bulbs being defective: 0.019858377163006223\n",
            "Expected number of defective bulbs: 25.0\n"
          ]
        }
      ],
      "source": [
        "from scipy.special import comb\n",
        "\n",
        "def calculate_probability(n, k, p):\n",
        "    # Calculate the probability using the binomial distribution formula\n",
        "    probability = comb(n, k) * (p ** k) * ((1 - p) ** (n - k))\n",
        "    return probability\n",
        "\n",
        "def calculate_cumulative_probability(n, p, min_value, max_value):\n",
        "    # Calculate the cumulative probability using the binomial distribution formula\n",
        "    cumulative_probability = 0\n",
        "    for k in range(min_value, max_value + 1):\n",
        "        cumulative_probability += calculate_probability(n, k, p)\n",
        "    return cumulative_probability\n",
        "\n",
        "def calculate_expected_value(n, p):\n",
        "    # Calculate the expected value using the formula E(X) = n * p\n",
        "    expected_value = n * p\n",
        "    return expected_value\n",
        "\n",
        "# Constants\n",
        "n = 500  # Total number of light bulbs\n",
        "p = 0.05  # Probability of a bulb being defective\n",
        "\n",
        "# a. Probability that exactly 20 bulbs are defective\n",
        "prob_20_defective = calculate_probability(n, 20, p)\n",
        "print(f\"Probability of exactly 20 bulbs being defective: {prob_20_defective}\")\n",
        "\n",
        "# b. Probability that at least 10 bulbs are defective\n",
        "prob_at_least_10_defective = 1 - calculate_cumulative_probability(n, p, 0, 9)\n",
        "print(f\"Probability of at least 10 bulbs being defective: {prob_at_least_10_defective}\")\n",
        "\n",
        "# c. Probability that at most 15 bulbs are defective\n",
        "prob_at_most_15_defective = calculate_cumulative_probability(n, p, 0, 15)\n",
        "print(f\"Probability of at most 15 bulbs being defective: {prob_at_most_15_defective}\")\n",
        "\n",
        "# d. Expected number of defective bulbs\n",
        "expected_defective_bulbs = calculate_expected_value(n, p)\n",
        "print(f\"Expected number of defective bulbs: {expected_defective_bulbs}\")\n"
      ]
    }
  ]
}