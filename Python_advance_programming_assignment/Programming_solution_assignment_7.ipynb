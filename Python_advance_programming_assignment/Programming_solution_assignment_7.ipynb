{
  "nbformat": 4,
  "nbformat_minor": 0,
  "metadata": {
    "colab": {
      "provenance": [],
      "authorship_tag": "ABX9TyOrsIbsCoJ4uJom3d1ufK4s"
    },
    "kernelspec": {
      "name": "python3",
      "display_name": "Python 3"
    },
    "language_info": {
      "name": "python"
    }
  },
  "cells": [
    {
      "cell_type": "markdown",
      "source": [
        "[Programming_assignment_7](https://docs.google.com/document/d/1gv-zWLDU73T7OTpEt2zDohUicfkF144l/edit?usp=sharing&ouid=102667678895147843990&rtpof=true&sd=true)"
      ],
      "metadata": {
        "id": "UUkZX7Hm9uWI"
      }
    },
    {
      "cell_type": "markdown",
      "source": [
        "Q1 Solution:"
      ],
      "metadata": {
        "id": "YGI1RKLrAO_d"
      }
    },
    {
      "cell_type": "code",
      "execution_count": null,
      "metadata": {
        "id": "b2z4imkQ9nBL"
      },
      "outputs": [],
      "source": [
        "def count_layers(rug):\n",
        "    # Initialize the count of layers to 0\n",
        "    count = 0\n",
        "\n",
        "    # Get the number of rows and columns in the rug\n",
        "    rows = len(rug)\n",
        "    cols = len(rug[0])\n",
        "\n",
        "    # Loop through the rows and columns of the rug, starting at the outermost layer and working inward\n",
        "    for i in range(rows//2):\n",
        "        for j in range(cols//2):\n",
        "            # Check if the current character is the same as the character at the corresponding position in the outermost layer\n",
        "            if rug[i][j] == rug[0][0] and rug[i][cols-1-j] == rug[0][cols-1] and rug[rows-1-i][j] == rug[rows-1][0] and rug[rows-1-i][cols-1-j] == rug[rows-1][cols-1]:\n",
        "                # If all the corresponding characters are the same, increment the layer count\n",
        "                count += 1\n",
        "            # If any of the corresponding characters are different, stop looping and return the current layer count\n",
        "            else:\n",
        "                return count\n",
        "\n",
        "    # Return the final layer count\n",
        "    return count\n",
        "\n",
        "# Test the function with the example rug\n",
        "print(count_layers([\n",
        "    \"AAAA\",\n",
        "    \"ABBA\",\n",
        "    \"AAAA\"\n",
        "]))\n"
      ]
    },
    {
      "cell_type": "markdown",
      "source": [
        "Q2 Solution:"
      ],
      "metadata": {
        "id": "sEVh9vjGilRK"
      }
    },
    {
      "cell_type": "code",
      "source": [
        "def unique_styles(a:list):\n",
        " \n",
        "  l=[]\n",
        "  for i in set(a):\n",
        "    l.extend(i.split(\",\"))\n",
        "\n",
        "  return len(set(l))\n",
        "\n",
        "print(unique_styles([\n",
        "\"Dub,Dancehall\",\n",
        "\"Industrial,Heavy Metal\",\n",
        "\"Techno,Dubstep\",\n",
        "\"Synth-pop,Euro-Disco\",\n",
        "\"Industrial,Techno,Minimal\"\n",
        "])) #➞ 9\n",
        "\n",
        "print(unique_styles([\n",
        "\n",
        "\"Soul\",\n",
        "\"House,Folk\",\n",
        "\"Trance,Downtempo,Big Beat,House\",\n",
        "\"Deep House\",\n",
        "\"Soul\"\n",
        "]))# ➞ 7\n",
        "\n"
      ],
      "metadata": {
        "colab": {
          "base_uri": "https://localhost:8080/"
        },
        "id": "P7V8oR-VinUY",
        "outputId": "ade31c21-3676-43b5-c1be-be61558afe52"
      },
      "execution_count": 7,
      "outputs": [
        {
          "output_type": "stream",
          "name": "stdout",
          "text": [
            "9\n",
            "7\n"
          ]
        }
      ]
    },
    {
      "cell_type": "markdown",
      "source": [
        "Q3 Solution:"
      ],
      "metadata": {
        "id": "cmBHOGr4lzDb"
      }
    },
    {
      "cell_type": "code",
      "source": [
        "def is_prime(primes, target):\n",
        "  # Set initial low and high indices for the binary search\n",
        "  low = 0\n",
        "  high = len(primes) - 1\n",
        "\n",
        "  # Iteratively search for the target in the list of primes\n",
        "  while low <= high:\n",
        "    # Find the middle index of the current search range\n",
        "    mid = (low + high) // 2\n",
        "\n",
        "    # Check if the target is at the middle index\n",
        "    if primes[mid] == target:\n",
        "      return \"yes\"\n",
        "\n",
        "    # If the target is less than the value at the middle index, set the new high index to be one less than the middle index\n",
        "    elif primes[mid] > target:\n",
        "      high = mid - 1\n",
        "\n",
        "    # Otherwise, set the new low index to be one more than the middle index\n",
        "    else:\n",
        "      low = mid + 1\n",
        "\n",
        "  # If we have not found the target by now, it means the target is not in the list of primes\n",
        "  return \"no\"\n",
        "\n",
        "primes = [2, 3, 5, 7, 11, 13, 17, 19, 23, 29, 31, 37, 41, 43, 47, 53, 59, 61, 67, 71, 73, 79, 83, 89, 97]\n",
        "print(is_prime(primes, 3))  # \"yes\"\n",
        "print(is_prime(primes, 4))  # \"no\"\n"
      ],
      "metadata": {
        "colab": {
          "base_uri": "https://localhost:8080/"
        },
        "id": "BM0r4j_7jg9p",
        "outputId": "aad589b1-16b9-4c99-8f92-e5563b73e367"
      },
      "execution_count": 8,
      "outputs": [
        {
          "output_type": "stream",
          "name": "stdout",
          "text": [
            "yes\n",
            "no\n"
          ]
        }
      ]
    },
    {
      "cell_type": "markdown",
      "source": [
        "Q4 Solution:"
      ],
      "metadata": {
        "id": "tdqqIJlbvl7o"
      }
    },
    {
      "cell_type": "code",
      "source": [
        "def power_ranger(n, a, b):\n",
        "  # Initialize a counter for the number of values\n",
        "  count = 0\n",
        "\n",
        "  # Iterate through all values in the range [a, b]\n",
        "  for i in range(0, b+1):\n",
        "    # Check if the nth power of the current value is in the range [a, b]\n",
        "    if a <= i**n <= b:\n",
        "      # If it is, increment the counter\n",
        "      count += 1\n",
        "\n",
        "  # Return the final count of values\n",
        "  return count\n",
        "\n",
        "print(power_ranger(2, 49, 65))  # 2\n",
        "print(power_ranger(3, 1, 27))  # 3\n",
        "power_ranger(4, 250, 1300)# ➞ 3"
      ],
      "metadata": {
        "colab": {
          "base_uri": "https://localhost:8080/"
        },
        "id": "DY901YlBq5vr",
        "outputId": "2dd0e2b9-a4bc-4061-c626-8697486dc047"
      },
      "execution_count": 13,
      "outputs": [
        {
          "output_type": "stream",
          "name": "stdout",
          "text": [
            "2\n",
            "3\n"
          ]
        },
        {
          "output_type": "execute_result",
          "data": {
            "text/plain": [
              "3"
            ]
          },
          "metadata": {},
          "execution_count": 13
        }
      ]
    },
    {
      "cell_type": "markdown",
      "source": [
        "Q5 Solution:"
      ],
      "metadata": {
        "id": "ToQC8t0GxHNO"
      }
    },
    {
      "cell_type": "code",
      "source": [
        "def rearranged_difference(num):\n",
        "  # Convert the number to a string and sort it in ascending order\n",
        "  min_sorted_str = \"\".join(sorted(str(num)))\n",
        "  max_sorted_str=\"\".join(sorted(str(num))[::-1])\n",
        "  # Convert the sorted string to a number, and compute its difference from the original number\n",
        "  return int(max_sorted_str) - int(min_sorted_str)\n",
        "print(rearranged_difference(972882))  # 760833\n",
        "print(rearranged_difference(3320707))  # 7709823\n"
      ],
      "metadata": {
        "colab": {
          "base_uri": "https://localhost:8080/"
        },
        "id": "FelJEnSwvtDp",
        "outputId": "7d3f295e-8890-48bf-b0d8-3709bfec2973"
      },
      "execution_count": 15,
      "outputs": [
        {
          "output_type": "stream",
          "name": "stdout",
          "text": [
            "760833\n",
            "7709823\n"
          ]
        }
      ]
    },
    {
      "cell_type": "code",
      "source": [],
      "metadata": {
        "id": "hK6gQxKLBBwr"
      },
      "execution_count": null,
      "outputs": []
    }
  ]
}