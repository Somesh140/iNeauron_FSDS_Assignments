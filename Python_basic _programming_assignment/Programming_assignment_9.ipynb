{
  "nbformat": 4,
  "nbformat_minor": 0,
  "metadata": {
    "colab": {
      "provenance": [],
      "authorship_tag": "ABX9TyPLACsn3W2c2//OmSkuzNCJ",
      "include_colab_link": true
    },
    "kernelspec": {
      "name": "python3",
      "display_name": "Python 3"
    },
    "language_info": {
      "name": "python"
    }
  },
  "cells": [
    {
      "cell_type": "markdown",
      "metadata": {
        "id": "view-in-github",
        "colab_type": "text"
      },
      "source": [
        "<a href=\"https://colab.research.google.com/github/Somesh140/iNeauron_FSDS_Assignments/blob/main/Python_basic%20_programming_assignment/Programming_assignment_9.ipynb\" target=\"_parent\"><img src=\"https://colab.research.google.com/assets/colab-badge.svg\" alt=\"Open In Colab\"/></a>"
      ]
    },
    {
      "cell_type": "markdown",
      "source": [
        "1. Write a Python program to check if the given number is a Disarium Number?\n",
        "2. Write a Python program to print all disarium numbers between 1 to 100?\n",
        "3. Write a Python program to check if the given number is Happy Number?\n",
        "4. Write a Python program to print all happy numbers between 1 and 100?\n",
        "5. Write a Python program to determine whether the given number is a Harshad Number?\n",
        "6. Write a Python program to print all pronic numbers between 1 and 100?\n",
        "---\n",
        "\n"
      ],
      "metadata": {
        "id": "ezrp-fq4c5_s"
      }
    },
    {
      "cell_type": "code",
      "execution_count": 1,
      "metadata": {
        "colab": {
          "base_uri": "https://localhost:8080/"
        },
        "id": "ChttVwJXc2RR",
        "outputId": "68556f82-824c-4d1f-cf09-3a940344ca58"
      },
      "outputs": [
        {
          "output_type": "stream",
          "name": "stdout",
          "text": [
            "175 is a Disarium number\n"
          ]
        }
      ],
      "source": [
        "#1\n",
        "# function to check if a number is a disarium number\n",
        "def is_disarium_number(num):\n",
        "    # find the number of digits in the number\n",
        "    n = len(str(num))\n",
        "    \n",
        "    # initialize the sum to 0\n",
        "    sum = 0\n",
        "    \n",
        "    # traverse through each digit in the number\n",
        "    temp = num\n",
        "    while temp > 0:\n",
        "        digit = temp % 10\n",
        "        sum += digit ** n\n",
        "        temp //= 10\n",
        "        n -= 1\n",
        "        \n",
        "    # check if the sum is equal to the original number\n",
        "    return num == sum\n",
        "\n",
        "# example usage\n",
        "num = 175\n",
        "if is_disarium_number(num):\n",
        "    print(num, \"is a Disarium number\")\n",
        "else:\n",
        "    print(num, \"is not a Disarium number\")\n"
      ]
    },
    {
      "cell_type": "code",
      "source": [
        "#2\n",
        "# function to check if a number is a disarium number\n",
        "def is_disarium_number(num):\n",
        "    # find the number of digits in the number\n",
        "    n = len(str(num))\n",
        "    \n",
        "    # initialize the sum to 0\n",
        "    sum = 0\n",
        "    \n",
        "    # traverse through each digit in the number\n",
        "    temp = num\n",
        "    while temp > 0:\n",
        "        digit = temp % 10\n",
        "        sum += digit ** n\n",
        "        temp //= 10\n",
        "        n -= 1\n",
        "        \n",
        "    # check if the sum is equal to the original number\n",
        "    return num == sum\n",
        "\n",
        "# iterate through all numbers between 1 and 100\n",
        "for i in range(1, 101):\n",
        "    if is_disarium_number(i):\n",
        "        print(i)\n"
      ],
      "metadata": {
        "colab": {
          "base_uri": "https://localhost:8080/"
        },
        "id": "L2W3jHQpdHxo",
        "outputId": "8887097e-831e-4cc0-90e0-34b3c3dc6a91"
      },
      "execution_count": 2,
      "outputs": [
        {
          "output_type": "stream",
          "name": "stdout",
          "text": [
            "1\n",
            "2\n",
            "3\n",
            "4\n",
            "5\n",
            "6\n",
            "7\n",
            "8\n",
            "9\n",
            "89\n"
          ]
        }
      ]
    },
    {
      "cell_type": "code",
      "source": [
        "#3\n",
        "# function to check if a number is a happy number\n",
        "def is_happy_number(num):\n",
        "    # keep track of seen numbers to avoid infinite loops\n",
        "    seen = set()\n",
        "    \n",
        "    # loop until the sum is 1 or a previously seen number\n",
        "    while num != 1 and num not in seen:\n",
        "        seen.add(num)\n",
        "        sum = 0\n",
        "        while num > 0:\n",
        "            digit = num % 10\n",
        "            sum += digit ** 2\n",
        "            num //= 10\n",
        "        num = sum\n",
        "        \n",
        "    return num == 1\n",
        "\n",
        "# example usage\n",
        "num = 19\n",
        "if is_happy_number(num):\n",
        "    print(num, \"is a Happy number\")\n",
        "else:\n",
        "    print(num, \"is not a Happy number\")\n"
      ],
      "metadata": {
        "colab": {
          "base_uri": "https://localhost:8080/"
        },
        "id": "yVSi7YFsdQ6z",
        "outputId": "4ce8aae8-7d02-4bfb-fbc2-1ec4e8efcfc7"
      },
      "execution_count": 3,
      "outputs": [
        {
          "output_type": "stream",
          "name": "stdout",
          "text": [
            "19 is a Happy number\n"
          ]
        }
      ]
    },
    {
      "cell_type": "code",
      "source": [
        "#4\n",
        "def is_happy_number(n):\n",
        "    seen = set()\n",
        "    while n not in seen:\n",
        "        seen.add(n)\n",
        "        n = sum(int(d) ** 2 for d in str(n))\n",
        "    return 1 in seen\n",
        "\n",
        "for i in range(1, 101):\n",
        "    if is_happy_number(i):\n",
        "        print(i)\n",
        "\n"
      ],
      "metadata": {
        "colab": {
          "base_uri": "https://localhost:8080/"
        },
        "id": "i0LQIBRidlbZ",
        "outputId": "b321b9c8-7096-4275-ebd5-65f2d8e5698c"
      },
      "execution_count": 5,
      "outputs": [
        {
          "output_type": "stream",
          "name": "stdout",
          "text": [
            "1\n",
            "7\n",
            "10\n",
            "13\n",
            "19\n",
            "23\n",
            "28\n",
            "31\n",
            "32\n",
            "44\n",
            "49\n",
            "68\n",
            "70\n",
            "79\n",
            "82\n",
            "86\n",
            "91\n",
            "94\n",
            "97\n",
            "100\n"
          ]
        }
      ]
    },
    {
      "cell_type": "code",
      "source": [
        "#5\n",
        "num = int(input(\"Enter a number: \"))\n",
        "\n",
        "# Find the sum of digits\n",
        "sum_of_digits = sum(int(digit) for digit in str(num))\n",
        "\n",
        "# Check if the number is divisible by the sum of its digits\n",
        "if num % sum_of_digits == 0:\n",
        "    print(num, \"is a Harshad number\")\n",
        "else:\n",
        "    print(num, \"is not a Harshad number\")\n"
      ],
      "metadata": {
        "colab": {
          "base_uri": "https://localhost:8080/"
        },
        "id": "3XSZEP5bdpSd",
        "outputId": "fbb992c3-3687-408b-be22-122b3571a8b7"
      },
      "execution_count": 6,
      "outputs": [
        {
          "output_type": "stream",
          "name": "stdout",
          "text": [
            "Enter a number: 18\n",
            "18 is a Harshad number\n"
          ]
        }
      ]
    },
    {
      "cell_type": "code",
      "source": [
        "#6\n",
        "for i in range(1, 101):\n",
        "    # Check if the number is pronic\n",
        "    for j in range(1, i):\n",
        "        if i == j * (j + 1):\n",
        "            print(i)\n",
        "            break\n"
      ],
      "metadata": {
        "colab": {
          "base_uri": "https://localhost:8080/"
        },
        "id": "RaVUNHa4e8V9",
        "outputId": "ffafe58b-4a26-4bd7-ed1e-ff6c505ace52"
      },
      "execution_count": 7,
      "outputs": [
        {
          "output_type": "stream",
          "name": "stdout",
          "text": [
            "2\n",
            "6\n",
            "12\n",
            "20\n",
            "30\n",
            "42\n",
            "56\n",
            "72\n",
            "90\n"
          ]
        }
      ]
    },
    {
      "cell_type": "code",
      "source": [],
      "metadata": {
        "id": "7_vtUHt2fC3s"
      },
      "execution_count": null,
      "outputs": []
    }
  ]
}