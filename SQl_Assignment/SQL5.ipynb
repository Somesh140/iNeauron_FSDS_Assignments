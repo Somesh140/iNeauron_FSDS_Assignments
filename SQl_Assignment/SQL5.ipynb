{
  "nbformat": 4,
  "nbformat_minor": 0,
  "metadata": {
    "colab": {
      "provenance": [],
      "authorship_tag": "ABX9TyOYG3n02JSWebdUZibA2QTv",
      "include_colab_link": true
    },
    "kernelspec": {
      "name": "python3",
      "display_name": "Python 3"
    },
    "language_info": {
      "name": "python"
    }
  },
  "cells": [
    {
      "cell_type": "markdown",
      "metadata": {
        "id": "view-in-github",
        "colab_type": "text"
      },
      "source": [
        "<a href=\"https://colab.research.google.com/github/Somesh140/iNeauron_FSDS_Assignments/blob/main/SQl_Assignment/SQL5.ipynb\" target=\"_parent\"><img src=\"https://colab.research.google.com/assets/colab-badge.svg\" alt=\"Open In Colab\"/></a>"
      ]
    },
    {
      "cell_type": "markdown",
      "source": [
        "Q-1. Write an SQL query to print details of workers excluding first names, “Vipul” and\n",
        "“Satish” from Worker table.\n",
        "\n",
        "Q-2. Write an SQL query to print details of the Workers whose FIRST_NAME ends with\n",
        "‘h’ and contains six alphabets.\n",
        "\n",
        "Q-3. Write a query to validate Email of Employee.\n"
      ],
      "metadata": {
        "id": "-bb5ATiXgAzs"
      }
    },
    {
      "cell_type": "code",
      "execution_count": null,
      "metadata": {
        "id": "94NUGckwfZt-"
      },
      "outputs": [],
      "source": [
        "#1\n",
        "SELECT *\n",
        "FROM Worker\n",
        "WHERE first_name NOT IN ('Vipul', 'Satish');\n"
      ]
    },
    {
      "cell_type": "code",
      "source": [
        "#2\n",
        "SELECT *\n",
        "FROM Worker\n",
        "WHERE LENGTH(first_name) = 6 AND RIGHT(first_name, 1) = 'h';\n"
      ],
      "metadata": {
        "id": "EERxLeeXgJyB"
      },
      "execution_count": null,
      "outputs": []
    },
    {
      "cell_type": "code",
      "source": [
        "#3\n",
        "SELECT email\n",
        "FROM Employee\n",
        "WHERE email REGEXP '^[a-zA-Z0-9._%+-]+@[a-zA-Z0-9.-]+\\\\.[a-zA-Z]{2,}$';\n"
      ],
      "metadata": {
        "id": "586J_iKCgZ1A"
      },
      "execution_count": null,
      "outputs": []
    }
  ]
}