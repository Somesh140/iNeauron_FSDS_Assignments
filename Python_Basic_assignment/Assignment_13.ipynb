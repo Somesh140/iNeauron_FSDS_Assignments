{
  "nbformat": 4,
  "nbformat_minor": 0,
  "metadata": {
    "colab": {
      "provenance": [],
      "authorship_tag": "ABX9TyPVqo3SK/fe2bZkm42vainR",
      "include_colab_link": true
    },
    "kernelspec": {
      "name": "python3",
      "display_name": "Python 3"
    },
    "language_info": {
      "name": "python"
    }
  },
  "cells": [
    {
      "cell_type": "markdown",
      "metadata": {
        "id": "view-in-github",
        "colab_type": "text"
      },
      "source": [
        "<a href=\"https://colab.research.google.com/github/Somesh140/iNeauron_FSDS_Assignments/blob/main/Python_Basic_assignment/Assignment_13.ipynb\" target=\"_parent\"><img src=\"https://colab.research.google.com/assets/colab-badge.svg\" alt=\"Open In Colab\"/></a>"
      ]
    },
    {
      "cell_type": "markdown",
      "source": [
        "1. What advantages do Excel spreadsheets have over CSV spreadsheets?\n",
        "2.What do you pass to csv.reader() and csv.writer() to create reader and writer objects?\n",
        "3. What modes do File objects for reader and writer objects need to be opened in?\n",
        "4. What method takes a list argument and writes it to a CSV file?\n",
        "5. What do the keyword arguments delimiter and line terminator do?\n",
        "6. What function takes a string of JSON data and returns a Python data structure?\n",
        "7. What function takes a Python data structure and returns a string of JSON data?"
      ],
      "metadata": {
        "id": "WFHfQRF0lPaE"
      }
    },
    {
      "cell_type": "markdown",
      "source": [
        "Answer\n",
        "\n",
        "---\n",
        "\n",
        "1. Excel spreadsheets have more features than CSV spreadsheets, such as formatting options, formulas, charts, and macros. Excel can also handle larger datasets and can be used for more complex analysis.\n",
        "2. To create reader and writer objects, you pass a File object to csv.reader() and csv.writer(), respectively.\n",
        "3. File objects for reader and writer objects need to be opened in text mode and with the appropriate newline argument. For example, to open a file for reading with a reader object, you would use `open('file.csv', 'rt', newline='')`.\n",
        "4. The writerow() method takes a list argument and writes it to a CSV file.\n",
        "5. The delimiter keyword argument specifies the character used to separate fields in the CSV file (default is comma), and the lineterminator keyword argument specifies the character used to terminate lines in the output CSV file (default is '\\r\\n').\n",
        "6. The json.loads() function takes a string of JSON data and returns a Python data structure.\n",
        "7. The json.dumps() function takes a Python data structure and returns a string of JSON data."
      ],
      "metadata": {
        "id": "WTShNaWElVzi"
      }
    },
    {
      "cell_type": "code",
      "execution_count": null,
      "metadata": {
        "id": "J6EPMKK7lOJW"
      },
      "outputs": [],
      "source": []
    }
  ]
}