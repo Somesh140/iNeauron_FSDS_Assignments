{
  "nbformat": 4,
  "nbformat_minor": 0,
  "metadata": {
    "colab": {
      "provenance": [],
      "authorship_tag": "ABX9TyMMSi3x/bYr4tj+LobDK3fe",
      "include_colab_link": true
    },
    "kernelspec": {
      "name": "python3",
      "display_name": "Python 3"
    },
    "language_info": {
      "name": "python"
    }
  },
  "cells": [
    {
      "cell_type": "markdown",
      "metadata": {
        "id": "view-in-github",
        "colab_type": "text"
      },
      "source": [
        "<a href=\"https://colab.research.google.com/github/Somesh140/iNeauron_FSDS_Assignments/blob/main/SQl_Assignment/SQL9.ipynb\" target=\"_parent\"><img src=\"https://colab.research.google.com/assets/colab-badge.svg\" alt=\"Open In Colab\"/></a>"
      ]
    },
    {
      "cell_type": "markdown",
      "source": [
        "Q-17. Write an SQL query to show the top n (say 10) records of a table.\n",
        "\n",
        "Q-18. Write an SQL query to determine the nth (say n=5) highest salary from a table."
      ],
      "metadata": {
        "id": "P8fm2jBLk8zE"
      }
    },
    {
      "cell_type": "code",
      "execution_count": null,
      "metadata": {
        "id": "M6EEyoHtk496"
      },
      "outputs": [],
      "source": [
        "#17\n",
        "SELECT *\n",
        "FROM myTable\n",
        "ORDER BY column DESC\n",
        "LIMIT 10;\n"
      ]
    },
    {
      "cell_type": "code",
      "source": [
        "#18\n",
        "SELECT DISTINCT salary\n",
        "FROM myTable\n",
        "ORDER BY salary DESC\n",
        "LIMIT 1 OFFSET 4;\n"
      ],
      "metadata": {
        "id": "YpyW_VlblDKG"
      },
      "execution_count": null,
      "outputs": []
    }
  ]
}