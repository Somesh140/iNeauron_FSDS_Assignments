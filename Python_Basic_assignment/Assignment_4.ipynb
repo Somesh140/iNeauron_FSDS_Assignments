{
  "nbformat": 4,
  "nbformat_minor": 0,
  "metadata": {
    "colab": {
      "provenance": [],
      "authorship_tag": "ABX9TyO2UC1V7zaadGAlaM8kc6CC",
      "include_colab_link": true
    },
    "kernelspec": {
      "name": "python3",
      "display_name": "Python 3"
    },
    "language_info": {
      "name": "python"
    }
  },
  "cells": [
    {
      "cell_type": "markdown",
      "metadata": {
        "id": "view-in-github",
        "colab_type": "text"
      },
      "source": [
        "<a href=\"https://colab.research.google.com/github/Somesh140/iNeauron_FSDS_Assignments/blob/main/Python_Basic_assignment/Assignment_4.ipynb\" target=\"_parent\"><img src=\"https://colab.research.google.com/assets/colab-badge.svg\" alt=\"Open In Colab\"/></a>"
      ]
    },
    {
      "cell_type": "markdown",
      "source": [
        "1. What exactly is []?\n",
        "\n",
        "2. In a list of values stored in a variable called spam, how would you assign the value &#39;hello&#39; as the\n",
        "third value? (Assume [2, 4, 6, 8, 10] are in spam.)\n",
        "Let&#39;s pretend the spam includes the list [&#39;a&#39;, &#39;b&#39;, &#39;c&#39;, &#39;d&#39;] for the next three queries.\n",
        "3. What is the value of spam[int(int(&#39;3&#39; * 2) / 11)]?\n",
        "4. What is the value of spam[-1]?\n",
        "5. What is the value of spam[:2]?\n",
        "Let&#39;s pretend bacon has the list [3.14, &#39;cat,&#39; 11, &#39;cat,&#39; True] for the next three questions.\n",
        "6. What is the value of bacon.index(&#39;cat&#39;)?\n",
        "7. How does bacon.append(99) change the look of the list value in bacon?\n",
        "8. How does bacon.remove(&#39;cat&#39;) change the look of the list in bacon?\n",
        "9. What are the list concatenation and list replication operators?\n",
        "10. What is difference between the list methods append() and insert()?\n",
        "11. What are the two methods for removing items from a list?\n",
        "12. Describe how list values and string values are identical.\n",
        "13. What&#39;s the difference between tuples and lists?\n",
        "14. How do you type a tuple value that only contains the integer 42?\n",
        "15. How do you get a list value&#39;s tuple form? How do you get a tuple value&#39;s list form?\n",
        "16. Variables that &quot;contain&quot; list values are not necessarily lists themselves. Instead, what do they\n",
        "contain?\n",
        "17. How do you distinguish between copy.copy() and copy.deepcopy()?"
      ],
      "metadata": {
        "id": "OJTLP97T_anN"
      }
    },
    {
      "cell_type": "markdown",
      "source": [
        "\n",
        "\n",
        "```\n",
        "1. [] is an empty list in Python.\n",
        "2. To assign 'hello' as the third value in the list stored in variable spam, you can use the following code: spam[2] = 'hello'.\n",
        "3. The value of spam[int(int('3' * 2) / 11)] is 'd', because '3' * 2 is '33', int('33') is 33, and 33 divided by 11 is 3, so spam[3] is 'd'.\n",
        "4. The value of spam[-1] is 'd', because -1 is the index of the last element in the list, which is 'd'.\n",
        "5. The value of spam[:2] is ['a', 'b'], because it includes all elements from the beginning of the list up to but not including the element at index 2.\n",
        "6. The value of bacon.index('cat') is 1, because the first occurrence of 'cat' in the list is at index 1.\n",
        "7. bacon.append(99) adds the integer 99 to the end of the list in bacon, so the new list is [3.14, 'cat', 11, 'cat', True, 99].\n",
        "8. bacon.remove('cat') removes the first occurrence of 'cat' from the list in bacon, so the new list is [3.14, 11, 'cat', True].\n",
        "9. The list concatenation operator is '+', which combines two lists into a single list. The list replication operator is '*', which creates a new list by repeating an existing list a specified number of times.\n",
        "10. The append() method adds a new element to the end of a list, while the insert() method adds a new element at a specified index in the list.\n",
        "11. The two methods for removing items from a list are the remove() method, which removes the first occurrence of a specified element from the list, and the pop() method, which removes and returns the element at a specified index in the list.\n",
        "12. Both list values and string values can be indexed, sliced, concatenated, and replicated. They are both sequences of elements, but lists can contain any type of element, while strings can only contain characters.\n",
        "13. Tuples and lists are both types of sequences in Python, but tuples are immutable, meaning they cannot be changed after they are created, while lists are mutable and can be modified.\n",
        "14. To create a tuple value that only contains the integer 42, you can use parentheses: (42,) Note the comma is necessary to distinguish it from an integer surrounded by parentheses.\n",
        "15. To get a list value's tuple form, you can use the tuple() function, which takes a list as an argument and returns a tuple with the same elements. To get a tuple value's list form, you can use the list() function, which takes a tuple as an argument and returns a list with the same elements.\n",
        "16. Variables that \"contain\" list values in Python actually contain references to the list objects, rather than the lists themselves. This means that multiple variables can reference the same list object, and modifying the list through one variable will affect all other variables that reference the same list.\n",
        "17. In Python, copy.copy() creates a shallow copy of a list, meaning it creates a new list object that contains references to the same elements as the original list. Modifying an element in the shallow copy will affect the corresponding element in the original list, but adding or removing elements will not. copy.deepcopy() creates a deep copy of a list, meaning it creates a new list object with new references to all of the elements in the original list. Modifying the deep copy will not affect the original list in any way.\n",
        "```\n",
        "\n"
      ],
      "metadata": {
        "id": "IXxfYSmwAR2J"
      }
    },
    {
      "cell_type": "markdown",
      "source": [],
      "metadata": {
        "id": "JWqKbOuN_Yll"
      }
    }
  ]
}