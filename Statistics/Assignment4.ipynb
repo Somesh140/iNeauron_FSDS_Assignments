{
  "nbformat": 4,
  "nbformat_minor": 0,
  "metadata": {
    "colab": {
      "provenance": [],
      "authorship_tag": "ABX9TyPaZ+ttF8CLKu1ME7B3RlfP",
      "include_colab_link": true
    },
    "kernelspec": {
      "name": "python3",
      "display_name": "Python 3"
    },
    "language_info": {
      "name": "python"
    }
  },
  "cells": [
    {
      "cell_type": "markdown",
      "metadata": {
        "id": "view-in-github",
        "colab_type": "text"
      },
      "source": [
        "<a href=\"https://colab.research.google.com/github/Somesh140/iNeauron_FSDS_Assignments/blob/main/Statistics/Assignment4.ipynb\" target=\"_parent\"><img src=\"https://colab.research.google.com/assets/colab-badge.svg\" alt=\"Open In Colab\"/></a>"
      ]
    },
    {
      "cell_type": "markdown",
      "source": [
        "1. Is it possible that an event is independent of itself? If so, when?\n",
        "2. Is it always true that if A and B are independent events, then Ac and Bc are independent\n",
        "events? Show that it is, or give a counterexample."
      ],
      "metadata": {
        "id": "rhHEno-6kBh6"
      }
    },
    {
      "cell_type": "markdown",
      "source": [
        "#Answer"
      ],
      "metadata": {
        "id": "GtyUxyhAkDh6"
      }
    },
    {
      "cell_type": "markdown",
      "source": [
        "1. No, it is not possible for an event to be independent of itself. The definition of independence requires two or more events to be considered. An event cannot be independent of itself because it is the same event.\n",
        "\n",
        "2. Yes, if A and B are independent events, then the complements of A and B (Ac and Bc) are also independent events. This can be shown with a example.\n",
        "\n",
        "example:\n",
        "Let's consider two events A and B such that A represents flipping a fair coin and getting heads, and B represents flipping the same fair coin and getting tails. These events are independent because the outcome of one does not affect the outcome of the other.\n",
        "\n",
        "Now, let's consider the complements of A and B. Ac represents flipping the coin and getting tails, and Bc represents flipping the coin and getting heads.\n",
        "\n",
        "P(A) = 0.5 (probability of getting heads) \\\n",
        "P(B) = 0.5 (probability of getting tails)\n",
        "\n",
        "P(Ac) = 0.5 (probability of getting tails) \\\n",
        "P(Bc) = 0.5 (probability of getting heads)\n",
        "\n",
        "To check for independence, we need to compare the joint probabilities with the product of the marginal probabilities.\n",
        "\n",
        "P(A and B) = P(getting heads and getting tails) = 0.5 * 0.5 = 0.25 \\\n",
        "P(A) * P(B) = 0.5 * 0.5 = 0.25\n",
        "\n",
        "P(Ac and Bc) = P(getting tails and getting heads) = 0.5 * 0.5 = 0.25 \\\n",
        "P(Ac) * P(Bc) = 0.5 * 0.5 = 0.25\n",
        "\n",
        "In this case, P(A and B) = P(A) * P(B), also P(Ac and Bc) = P(Ac) * P(Bc). Therefore, the complements Ac and Bc are independent events.\n",
        "\n",
        "Hence, it is always true that if A and B are independent events, then Ac and Bc are also independent events."
      ],
      "metadata": {
        "id": "r32aiPEYgjrt"
      }
    },
    {
      "cell_type": "code",
      "execution_count": null,
      "metadata": {
        "id": "IrLCs0figdnk"
      },
      "outputs": [],
      "source": []
    }
  ]
}