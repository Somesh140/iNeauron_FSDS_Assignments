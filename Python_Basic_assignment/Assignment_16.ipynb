{
  "nbformat": 4,
  "nbformat_minor": 0,
  "metadata": {
    "colab": {
      "provenance": [],
      "authorship_tag": "ABX9TyO/ufNdKdSbT3fIL42GUp9S",
      "include_colab_link": true
    },
    "kernelspec": {
      "name": "python3",
      "display_name": "Python 3"
    },
    "language_info": {
      "name": "python"
    }
  },
  "cells": [
    {
      "cell_type": "markdown",
      "metadata": {
        "id": "view-in-github",
        "colab_type": "text"
      },
      "source": [
        "<a href=\"https://colab.research.google.com/github/Somesh140/iNeauron_FSDS_Assignments/blob/main/Python_Basic_assignment/Assignment_16.ipynb\" target=\"_parent\"><img src=\"https://colab.research.google.com/assets/colab-badge.svg\" alt=\"Open In Colab\"/></a>"
      ]
    },
    {
      "cell_type": "markdown",
      "source": [
        "1. Create a list called years_list, starting with the year of your birth, and each year thereafter until\n",
        "the year of your fifth birthday. For example, if you were born in 1980. the list would be years_list =\n",
        "[1980, 1981, 1982, 1983, 1984, 1985].\n",
        "2. In which year in years_list was your third birthday? Remember, you were 0 years of age for your\n",
        "first year.\n",
        "3.In the years list, which year were you the oldest?\n",
        "4. Make a list called things with these three strings as elements: &quot;mozzarella&quot;, &quot;cinderella&quot;,\n",
        "&quot;salmonella&quot;.\n",
        "5. Capitalize the element in things that refers to a person and then print the list. Did it change the\n",
        "element in the list?\n",
        "6. Make a surprise list with the elements &quot;Groucho,&quot; &quot;Chico,&quot; and &quot;Harpo.&quot;\n",
        "7. Lowercase the last element of the surprise list, reverse it, and then capitalize it.\n",
        "8. Make an English-to-French dictionary called e2f and print it. Here are your starter words: dog is\n",
        "chien, cat is chat, and walrus is morse.\n",
        "9. Write the French word for walrus in your three-word dictionary e2f.\n",
        "10. Make a French-to-English dictionary called f2e from e2f. Use the items method.\n",
        "11. Print the English version of the French word chien using f2e.\n",
        "12. Make and print a set of English words from the keys in e2f.\n",
        "13. Make a multilevel dictionary called life. Use these strings for the topmost keys: &#39;animals&#39;, &#39;plants&#39;,\n",
        "and &#39;other&#39;. Make the &#39;animals&#39; key refer to another dictionary with the keys &#39;cats&#39;, &#39;octopi&#39;, and\n",
        "&#39;emus&#39;. Make the &#39;cats&#39; key refer to a list of strings with the values &#39;Henri&#39;, &#39;Grumpy&#39;, and &#39;Lucy&#39;.\n",
        "Make all the other keys refer to empty dictionaries.\n",
        "14. Print the top-level keys of life.\n",
        "15. Print the keys for life[&#39;animals&#39;].\n",
        "16. Print the values for life[&#39;animals&#39;][&#39;cats&#39;]"
      ],
      "metadata": {
        "id": "i1dJgDXCtjyR"
      }
    },
    {
      "cell_type": "markdown",
      "source": [
        "Answer\n",
        "\n",
        "\n",
        "---\n",
        "\n",
        "\n",
        "\n",
        "1. `years_list = [year for year in range(YEAR_OF_BIRTH, YEAR_OF_BIRTH+5)]` Replace `YEAR_OF_BIRTH` with your actual birth year.\n",
        "2. Your third birthday would be in the year `YEAR_OF_BIRTH+3`.\n",
        "3. The year you were the oldest would be `YEAR_OF_BIRTH+4`.\n",
        "4. `things = [\"mozzarella\", \"cinderella\", \"salmonella\"]`\n",
        "5. To capitalize the element that refers to a person, you can use the `title()` method: `things[1] = things[1].title()`. This will capitalize the first letter of the string, and return a new string with the changes applied. You can then print the list to see the changes: `print(things)`. The output should be: `[\"mozzarella\", \"Cinderella\", \"salmonella\"]`. Note that the element in the list has changed.\n",
        "6. `surprise = [\"Groucho\", \"Chico\", \"Harpo\"]`\n",
        "7. To lowercase the last element, you can use the `lower()` method: `surprise[-1] = surprise[-1].lower()`. To reverse the string, you can use slicing: `surprise[-1] = surprise[-1][::-1]`. Finally, you can capitalize the string using `title()`: `surprise[-1] = surprise[-1].title()`. The output of `print(surprise)` should be `[\"Groucho\", \"Chico\", \"Oprah\"]`.\n",
        "8. `e2f = {\"dog\": \"chien\", \"cat\": \"chat\", \"walrus\": \"morse\"}`\n",
        "9. The French word for walrus is `e2f[\"walrus\"]`, which would give you `\"morse\"`.\n",
        "10. `f2e = {french: english for english, french in e2f.items()}`\n",
        "11. To print the English word for `\"chien\"`, you can use `f2e[\"chien\"]`, which should give you `\"dog\"`.\n",
        "12. You can create a set of English words using `set(e2f.keys())`.\n",
        "13. `life = {\"animals\": {\"cats\": [\"Henri\", \"Grumpy\", \"Lucy\"], \"octopi\": {}, \"emus\": {}}, \"plants\": {}, \"other\": {}}`\n",
        "14. To print the top-level keys of `life`, you can use `print(life.keys())`.\n",
        "15. To print the keys for `life[\"animals\"]`, you can use `print(life[\"animals\"].keys())`.\n",
        "16. To print the values for `life[\"animals\"][\"cats\"]`, you can use `print(life[\"animals\"][\"cats\"])`. This should give you `[\"Henri\", \"Grumpy\", \"Lucy\"]`."
      ],
      "metadata": {
        "id": "0sJQ5JSVtsZk"
      }
    },
    {
      "cell_type": "code",
      "execution_count": null,
      "metadata": {
        "id": "DkS3S1wGtfYl"
      },
      "outputs": [],
      "source": []
    }
  ]
}