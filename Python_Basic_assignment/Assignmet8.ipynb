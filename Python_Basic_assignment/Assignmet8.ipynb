{
  "nbformat": 4,
  "nbformat_minor": 0,
  "metadata": {
    "colab": {
      "provenance": [],
      "authorship_tag": "ABX9TyNPfyHNIhsIIXpn7kaQnYRb",
      "include_colab_link": true
    },
    "kernelspec": {
      "name": "python3",
      "display_name": "Python 3"
    },
    "language_info": {
      "name": "python"
    }
  },
  "cells": [
    {
      "cell_type": "markdown",
      "metadata": {
        "id": "view-in-github",
        "colab_type": "text"
      },
      "source": [
        "<a href=\"https://colab.research.google.com/github/Somesh140/iNeauron_FSDS_Assignments/blob/main/Python_Basic_assignment/Assignmet8.ipynb\" target=\"_parent\"><img src=\"https://colab.research.google.com/assets/colab-badge.svg\" alt=\"Open In Colab\"/></a>"
      ]
    },
    {
      "cell_type": "markdown",
      "source": [
        "1. Is the Python Standard Library included with PyInputPlus?\n",
        "2. Why is PyInputPlus commonly imported with import pyinputplus as pypi?\n",
        "3. How do you distinguish between inputInt() and inputFloat()?\n",
        "4. Using PyInputPlus, how do you ensure that the user enters a whole number between 0 and 99?\n",
        "5. What is transferred to the keyword arguments allowRegexes and blockRegexes?\n",
        "6. If a blank input is entered three times, what does inputStr(limit=3) do?\n",
        "7. If blank input is entered three times, what does inputStr(limit=3, default=&#39;hello&#39;) do?"
      ],
      "metadata": {
        "id": "9DeiYqHSWUBn"
      }
    },
    {
      "cell_type": "markdown",
      "source": [
        "Answer\n",
        "\n",
        "---\n",
        "\n",
        "1. No, the Python Standard Library is not included with PyInputPlus. PyInputPlus is a third-party library that must be installed separately.\n",
        "\n",
        "2. PyInputPlus is commonly imported with the alias \"pypi\" to make it easier to use in code. Using \"pypi\" as an alias makes the code shorter and more readable. For example, instead of typing \"pyinputplus.inputInt()\", you can type \"pypi.inputInt()\".\n",
        "\n",
        "3. inputInt() is used to prompt the user to enter an integer value, whereas inputFloat() is used to prompt the user to enter a floating-point value. The difference is that inputInt() only accepts integer input, whereas inputFloat() can accept both integer and floating-point input.\n",
        "\n",
        "4. To ensure that the user enters a whole number between 0 and 99 using PyInputPlus, you can use the inputInt() function with the \"min\" and \"max\" keyword arguments. The following code snippet shows how to do this\n",
        "\n",
        "\n",
        "\n",
        "```\n",
        "import pyinputplus as pypi\n",
        "\n",
        "number = pypi.inputInt(prompt='Enter a number between 0 and 99: ', min=0, max=99)\n",
        "\n",
        "```\n",
        "5. The allowRegexes and blockRegexes keyword arguments in PyInputPlus are used to specify regular expressions that the input must match or must not match, respectively. allowRegexes specifies a list of regular expressions that the input must match, while blockRegexes specifies a list of regular expressions that the input must not match.\n",
        "\n",
        "6. If a blank input is entered three times with the inputStr(limit=3) function, a RetryLimitException is raised with the message \"Maximum retries exceeded.\" This means that the user has exceeded the maximum number of retries and cannot enter any more input.\n",
        "\n",
        "7. If blank input is entered three times with the inputStr(limit=3, default='hello') function, the default value \"hello\" is returned after the third failed attempt. This means that the user has exceeded the maximum number of retries, and the default value is used instead of the user's input. The following code snippet shows an example:\n",
        "\n",
        "\n",
        "```\n",
        "import pyinputplus as pypi\n",
        "\n",
        "name = pypi.inputStr(prompt='Enter your name: ', limit=3, default='hello')\n",
        "print('Your name is:', name)\n",
        "\n",
        "```\n",
        "If the user enters blank input three times, the output will be:\n",
        "\n",
        "\n",
        "\n",
        "```\n",
        "Your name is: hello\n",
        "\n",
        "```\n",
        "\n",
        "\n",
        "\n",
        "\n"
      ],
      "metadata": {
        "id": "v6Mq6x5xWV4-"
      }
    },
    {
      "cell_type": "code",
      "execution_count": null,
      "metadata": {
        "id": "_xM3d5_kWNiO"
      },
      "outputs": [],
      "source": []
    }
  ]
}