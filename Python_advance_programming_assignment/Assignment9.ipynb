{
  "nbformat": 4,
  "nbformat_minor": 0,
  "metadata": {
    "colab": {
      "provenance": [],
      "authorship_tag": "ABX9TyPNl9zcLklTbLlwJBnoy/k5",
      "include_colab_link": true
    },
    "kernelspec": {
      "name": "python3",
      "display_name": "Python 3"
    },
    "language_info": {
      "name": "python"
    }
  },
  "cells": [
    {
      "cell_type": "markdown",
      "metadata": {
        "id": "view-in-github",
        "colab_type": "text"
      },
      "source": [
        "<a href=\"https://colab.research.google.com/github/Somesh140/iNeauron_FSDS_Assignments/blob/main/Python_advance_programming_assignment/Assignment9.ipynb\" target=\"_parent\"><img src=\"https://colab.research.google.com/assets/colab-badge.svg\" alt=\"Open In Colab\"/></a>"
      ]
    },
    {
      "cell_type": "markdown",
      "source": [
        "1. YouTube offers different playback speed options for users. This allows\n",
        "users to increase or decrease the speed of the video content. Given the\n",
        "actual duration and playback speed of the video, calculate the playback\n",
        "duration of the video.\n",
        "Examples\n",
        "playback_duration(&quot;00:30:00&quot;, 2) ➞ &quot;00:15:00&quot;\n",
        "playback_duration(&quot;01:20:00&quot;, 1.5) ➞ &quot;00:53:20&quot;\n",
        "playback_duration(&quot;51:20:09&quot;, 0.5) ➞ &quot;102:40:18&quot;"
      ],
      "metadata": {
        "id": "atAzfwdRo_De"
      }
    },
    {
      "cell_type": "code",
      "execution_count": null,
      "metadata": {
        "id": "Y5FY_KwGo8XS"
      },
      "outputs": [],
      "source": [
        "def playback_duration(actual_duration, playback_speed):\n",
        "    # Step 1: Parse actual duration into hours, minutes, and seconds\n",
        "    actual_hours, actual_minutes, actual_seconds = map(int, actual_duration.split(':'))\n",
        "\n",
        "    # Step 2: Calculate total duration of the video in seconds\n",
        "    total_duration = actual_hours * 3600 + actual_minutes * 60 + actual_seconds\n",
        "\n",
        "    # Step 3: Calculate playback duration in seconds\n",
        "    playback_duration = total_duration / playback_speed\n",
        "\n",
        "    # Step 4: Convert playback duration back to hours, minutes, and seconds\n",
        "    playback_hours = int(playback_duration // 3600)\n",
        "    playback_minutes = int((playback_duration % 3600) // 60)\n",
        "    playback_seconds = int(playback_duration % 60)\n",
        "\n",
        "    # Step 5: Format the playback duration into the desired time format\n",
        "    playback_duration_formatted = \"{:02d}:{:02d}:{:02d}\".format(playback_hours, playback_minutes, playback_seconds)\n",
        "\n",
        "    return playback_duration_formatted\n"
      ]
    },
    {
      "cell_type": "code",
      "source": [
        "print(playback_duration(\"00:30:00\", 2))\n",
        "# Output: 00:15:00\n",
        "\n",
        "print(playback_duration(\"01:20:00\", 1.5))\n",
        "# Output: 00:53:20\n",
        "\n",
        "print(playback_duration(\"51:20:09\", 0.5))\n",
        "# Output: 102:40:18\n"
      ],
      "metadata": {
        "colab": {
          "base_uri": "https://localhost:8080/"
        },
        "id": "VR384fy8rvdy",
        "outputId": "fdaeebdd-9ffb-4f3b-8bef-b3a19f5fa4e6"
      },
      "execution_count": null,
      "outputs": [
        {
          "output_type": "stream",
          "name": "stdout",
          "text": [
            "00:15:00\n",
            "00:53:20\n",
            "102:40:18\n"
          ]
        }
      ]
    },
    {
      "cell_type": "markdown",
      "source": [
        "2. We needs your help to construct a building which will be a pile of n cubes.\n",
        "The cube at the bottom will have a volume of n^3, the cube above will have\n",
        "volume of (n-1)^3 and so on until the top which will have a volume of 1^3.\n",
        "Given the total volume m of the building, can you find the number of cubes n\n",
        "required for the building?\n",
        "In other words, you have to return an integer n such that:\n",
        "n^3 + (n-1)^3 + ... + 1^3 == m\n",
        "Return None if there is no such number.\n",
        "Examples\n",
        "pile_of_cubes(1071225) ➞ 45\n",
        "pile_of_cubes(4183059834009) ➞ 2022\n",
        "pile_of_cubes(16) ➞ None"
      ],
      "metadata": {
        "id": "sH7hPiDWuDlK"
      }
    },
    {
      "cell_type": "code",
      "source": [
        "def pile_of_cubes(m):\n",
        "    n = 1\n",
        "    while (n * (n + 1) // 2) ** 2 < m:\n",
        "        n += 1\n",
        "\n",
        "    if (n * (n + 1) // 2) ** 2 == m:\n",
        "        return n\n",
        "\n",
        "    return None\n"
      ],
      "metadata": {
        "id": "Ej10yQFUsZFk"
      },
      "execution_count": 1,
      "outputs": []
    },
    {
      "cell_type": "code",
      "source": [
        "print(pile_of_cubes(1071225))\n",
        "# Output: 45\n",
        "\n",
        "print(pile_of_cubes(4183059834009))\n",
        "# Output: 2022\n",
        "\n",
        "print(pile_of_cubes(16))\n",
        "# Output: None\n"
      ],
      "metadata": {
        "colab": {
          "base_uri": "https://localhost:8080/"
        },
        "id": "f9Bdjsf1uLe8",
        "outputId": "d5d66983-947d-4d11-9665-eb6cf267df3c"
      },
      "execution_count": 2,
      "outputs": [
        {
          "output_type": "stream",
          "name": "stdout",
          "text": [
            "45\n",
            "2022\n",
            "None\n"
          ]
        }
      ]
    },
    {
      "cell_type": "markdown",
      "source": [
        "3. A fulcrum of a list is an integer such that all elements to the left of it and all\n",
        "elements to the right of it sum to the same value. Write a function that finds\n",
        "the fulcrum of a list.\n",
        "To illustrate:\n",
        "find_fulcrum([3, 1, 5, 2, 4, 6, -1]) ➞ 2\n",
        "// Since [3, 1, 5] and [4, 6, -1] both sum to 9\n",
        "Examples\n",
        "\n",
        "find_fulcrum([1, 2, 4, 9, 10, -10, -9, 3]) ➞ 4\n",
        "find_fulcrum([9, 1, 9]) ➞ 1\n",
        "find_fulcrum([7, -1, 0, -1, 1, 1, 2, 3]) ➞ 0\n",
        "find_fulcrum([8, 8, 8, 8]) ➞ -1"
      ],
      "metadata": {
        "id": "ufr3qopvwnS2"
      }
    },
    {
      "cell_type": "code",
      "source": [
        "def find_fulcrum(lst):\n",
        "    for i in range(len(lst)):\n",
        "        left_sum = sum(lst[:i])\n",
        "        right_sum = sum(lst[i+1:])\n",
        "\n",
        "        if left_sum == right_sum:\n",
        "            return lst[i]\n",
        "\n",
        "    return -1\n"
      ],
      "metadata": {
        "id": "pPdSR4TZuN4j"
      },
      "execution_count": 3,
      "outputs": []
    },
    {
      "cell_type": "code",
      "source": [
        "print(find_fulcrum([3, 1, 5, 2, 4, 6, -1]))\n",
        "# Output: 2\n",
        "\n",
        "print(find_fulcrum([1, 2, 4, 9, 10, -10, -9, 3]))\n",
        "# Output: 4\n",
        "\n",
        "print(find_fulcrum([9, 1, 9]))\n",
        "# Output: 1\n",
        "\n",
        "print(find_fulcrum([7, -1, 0, -1, 1, 1, 2, 3]))\n",
        "# Output: 0\n",
        "\n",
        "print(find_fulcrum([8, 8, 8, 8]))\n",
        "# Output: -1\n"
      ],
      "metadata": {
        "colab": {
          "base_uri": "https://localhost:8080/"
        },
        "id": "vbU45fWKwqIq",
        "outputId": "c8a525a7-0b70-4b5d-e355-09bb1fdc245f"
      },
      "execution_count": 4,
      "outputs": [
        {
          "output_type": "stream",
          "name": "stdout",
          "text": [
            "2\n",
            "4\n",
            "1\n",
            "0\n",
            "-1\n"
          ]
        }
      ]
    },
    {
      "cell_type": "markdown",
      "source": [
        "4. Given a list of integers representing the color of each sock, determine how\n",
        "many pairs of socks with matching colors there are. For example, there are 7\n",
        "socks with colors [1, 2, 1, 2, 1, 3, 2]. There is one pair of color 1 and one of\n",
        "color 2. There are three odd socks left, one of each color. The number of\n",
        "pairs is 2.\n",
        "Create a function that returns an integer representing the number of matching\n",
        "pairs of socks that are available.\n",
        "Examples\n",
        "sock_merchant([10, 20, 20, 10, 10, 30, 50, 10, 20]) ➞ 3\n",
        "sock_merchant([50, 20, 30, 90, 30, 20, 50, 20, 90]) ➞ 4\n",
        "sock_merchant([]) ➞ 0"
      ],
      "metadata": {
        "id": "ZpX-bxukzX0a"
      }
    },
    {
      "cell_type": "code",
      "source": [
        "def sock_merchant(socks):\n",
        "    color_count = {}\n",
        "    pairs = 0\n",
        "\n",
        "    # Count the number of each color\n",
        "    for sock in socks:\n",
        "        if sock in color_count:\n",
        "            color_count[sock] += 1\n",
        "        else:\n",
        "            color_count[sock] = 1\n",
        "\n",
        "    # Count the pairs of each color\n",
        "    for count in color_count.values():\n",
        "        pairs += count // 2\n",
        "\n",
        "    return pairs\n"
      ],
      "metadata": {
        "id": "sY-hOjlWwuPZ"
      },
      "execution_count": 5,
      "outputs": []
    },
    {
      "cell_type": "code",
      "source": [
        "print(sock_merchant([10, 20, 20, 10, 10, 30, 50, 10, 20]))\n",
        "# Output: 3\n",
        "\n",
        "print(sock_merchant([50, 20, 30, 90, 30, 20, 50, 20, 90]))\n",
        "# Output: 4\n",
        "\n",
        "print(sock_merchant([]))\n",
        "# Output: 0\n"
      ],
      "metadata": {
        "colab": {
          "base_uri": "https://localhost:8080/"
        },
        "id": "6rmshPGjzj_7",
        "outputId": "ec40db0f-e037-4633-bd20-71c477696db7"
      },
      "execution_count": 6,
      "outputs": [
        {
          "output_type": "stream",
          "name": "stdout",
          "text": [
            "3\n",
            "4\n",
            "0\n"
          ]
        }
      ]
    },
    {
      "cell_type": "markdown",
      "source": [
        "5. Create a function that takes a string containing integers as well as other\n",
        "characters and return the sum of the negative integers only.\n",
        "Examples\n",
        "negative_sum(&quot;-12 13%14&amp;-11&quot;) ➞ -23\n",
        "# -12 + -11 = -23\n",
        "negative_sum(&quot;22 13%14&amp;-11-22 13 12&quot;) ➞ -33\n",
        "# -11 + -22 = -33"
      ],
      "metadata": {
        "id": "3q7TG7oezZxE"
      }
    },
    {
      "cell_type": "code",
      "source": [
        "import re\n",
        "\n",
        "def negative_sum(string):\n",
        "    # Use regular expression to extract negative integers\n",
        "    negative_integers = re.findall(r'-\\d+', string)\n",
        "\n",
        "    # Convert the extracted negative integers to integers and calculate their sum\n",
        "    sum_negative = sum(map(int, negative_integers))\n",
        "\n",
        "    return sum_negative\n"
      ],
      "metadata": {
        "id": "Bds3SfXTzdyE"
      },
      "execution_count": 7,
      "outputs": []
    },
    {
      "cell_type": "code",
      "source": [
        "print(negative_sum(\"-12 13%14&-11\"))\n",
        "# Output: -23\n",
        "\n",
        "print(negative_sum(\"22 13%14&-11-22 13 12\"))\n",
        "# Output: -33\n"
      ],
      "metadata": {
        "colab": {
          "base_uri": "https://localhost:8080/"
        },
        "id": "tbz_tla70aJJ",
        "outputId": "685315ee-99bf-4c1f-c510-696927206c1b"
      },
      "execution_count": 8,
      "outputs": [
        {
          "output_type": "stream",
          "name": "stdout",
          "text": [
            "-23\n",
            "-33\n"
          ]
        }
      ]
    },
    {
      "cell_type": "code",
      "source": [],
      "metadata": {
        "id": "nFzGODu50cCq"
      },
      "execution_count": null,
      "outputs": []
    }
  ]
}