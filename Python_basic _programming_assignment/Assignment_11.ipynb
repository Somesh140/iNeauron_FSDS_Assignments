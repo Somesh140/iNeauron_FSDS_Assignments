{
  "nbformat": 4,
  "nbformat_minor": 0,
  "metadata": {
    "colab": {
      "provenance": [],
      "authorship_tag": "ABX9TyOLaSiSc8vbeAucARdDwEvx",
      "include_colab_link": true
    },
    "kernelspec": {
      "name": "python3",
      "display_name": "Python 3"
    },
    "language_info": {
      "name": "python"
    }
  },
  "cells": [
    {
      "cell_type": "markdown",
      "metadata": {
        "id": "view-in-github",
        "colab_type": "text"
      },
      "source": [
        "<a href=\"https://colab.research.google.com/github/Somesh140/iNeauron_FSDS_Assignments/blob/main/Python_basic%20_programming_assignment/Assignment_11.ipynb\" target=\"_parent\"><img src=\"https://colab.research.google.com/assets/colab-badge.svg\" alt=\"Open In Colab\"/></a>"
      ]
    },
    {
      "cell_type": "markdown",
      "source": [
        "1. Write a Python program to find words which are greater than given length k?\n",
        "2. Write a Python program for removing i-th character from a string?\n",
        "3. Write a Python program to split and join a string?\n",
        "4. Write a Python to check if a given string is binary string or not?\n",
        "5. Write a Python program to find uncommon words from two Strings?\n",
        "6. Write a Python to find all duplicate characters in string?\n",
        "7. Write a Python Program to check if a string contains any special character?"
      ],
      "metadata": {
        "id": "WE6r3o-Zooyd"
      }
    },
    {
      "cell_type": "markdown",
      "source": [
        "#Answer"
      ],
      "metadata": {
        "id": "qhiDTnC-orKQ"
      }
    },
    {
      "cell_type": "code",
      "execution_count": 1,
      "metadata": {
        "colab": {
          "base_uri": "https://localhost:8080/"
        },
        "id": "DS-wIYghojmk",
        "outputId": "8128107c-56d7-4534-9546-a4e73f8467ee"
      },
      "outputs": [
        {
          "output_type": "stream",
          "name": "stdout",
          "text": [
            "['quick', 'brown', 'jumps']\n"
          ]
        }
      ],
      "source": [
        "#1 Python program to find words greater than given length k:\n",
        "def find_words_greater_than_k(string, k):\n",
        "    words = string.split()\n",
        "    result = []\n",
        "    for word in words:\n",
        "        if len(word) > k:\n",
        "            result.append(word)\n",
        "    return result\n",
        "\n",
        "# Example usage:\n",
        "string = \"The quick brown fox jumps over the lazy dog\"\n",
        "k = 4\n",
        "print(find_words_greater_than_k(string, k))  # Output: ['quick', 'brown', 'jumps']\n"
      ]
    },
    {
      "cell_type": "code",
      "source": [
        "#2 Python program for removing i-th character from a string:\n",
        "def remove_ith_char(string, i):\n",
        "    left_part = string[:i]\n",
        "    right_part = string[i+1:]\n",
        "    return left_part + right_part\n",
        "\n",
        "# Example usage:\n",
        "string = \"hello world\"\n",
        "i = 3\n",
        "print(remove_ith_char(string, i))  # Output: \"helo world\"\n"
      ],
      "metadata": {
        "colab": {
          "base_uri": "https://localhost:8080/"
        },
        "id": "Z5MWeDBJpBgE",
        "outputId": "9df9c5f0-69d7-4f01-d606-ed6c6837781b"
      },
      "execution_count": 2,
      "outputs": [
        {
          "output_type": "stream",
          "name": "stdout",
          "text": [
            "helo world\n"
          ]
        }
      ]
    },
    {
      "cell_type": "code",
      "source": [
        "#3 Python program to split and join a string:\n",
        "def split_and_join(string):\n",
        "    words = string.split()\n",
        "    return \"-\".join(words)\n",
        "\n",
        "# Example usage:\n",
        "string = \"The quick brown fox\"\n",
        "print(split_and_join(string))  # Output: \"The-quick-brown-fox\"\n"
      ],
      "metadata": {
        "colab": {
          "base_uri": "https://localhost:8080/"
        },
        "id": "0BwABAEnpKho",
        "outputId": "4874cf46-b0fd-4770-ee47-2dd7708fbf98"
      },
      "execution_count": 3,
      "outputs": [
        {
          "output_type": "stream",
          "name": "stdout",
          "text": [
            "The-quick-brown-fox\n"
          ]
        }
      ]
    },
    {
      "cell_type": "code",
      "source": [
        "#4 Python program to check if a given string is binary string or not:\n",
        "def is_binary_string(string):\n",
        "    for char in string:\n",
        "        if char not in ['0', '1']:\n",
        "            return False\n",
        "    return True\n",
        "\n",
        "# Example usage:\n",
        "string1 = \"101010\"\n",
        "string2 = \"120101\"\n",
        "print(is_binary_string(string1))  # Output: True\n",
        "print(is_binary_string(string2))  # Output: False\n"
      ],
      "metadata": {
        "colab": {
          "base_uri": "https://localhost:8080/"
        },
        "id": "IHUX0Si6pUx4",
        "outputId": "e8cd1831-6354-42a7-e27b-fd8249fcaa4e"
      },
      "execution_count": 4,
      "outputs": [
        {
          "output_type": "stream",
          "name": "stdout",
          "text": [
            "True\n",
            "False\n"
          ]
        }
      ]
    },
    {
      "cell_type": "code",
      "source": [
        "#5 Python program to find uncommon words from two strings:\n",
        "def find_uncommon_words(string1, string2):\n",
        "    set1 = set(string1.split())\n",
        "    set2 = set(string2.split())\n",
        "    uncommon = set1.symmetric_difference(set2)\n",
        "    return list(uncommon)\n",
        "\n",
        "# Example usage:\n",
        "string1 = \"The quick brown fox\"\n",
        "string2 = \"The lazy dog\"\n",
        "print(find_uncommon_words(string1, string2))  # Output: ['quick', 'brown', 'lazy', 'dog']\n"
      ],
      "metadata": {
        "colab": {
          "base_uri": "https://localhost:8080/"
        },
        "id": "yW76ucdxpbB-",
        "outputId": "a6bdf95b-e267-416a-98c9-ce83cb8d337d"
      },
      "execution_count": 6,
      "outputs": [
        {
          "output_type": "stream",
          "name": "stdout",
          "text": [
            "['quick', 'brown', 'dog', 'lazy', 'fox']\n"
          ]
        }
      ]
    },
    {
      "cell_type": "code",
      "source": [
        "#6 Python program to find all duplicate characters in a string:\n",
        "def find_duplicate_chars(string):\n",
        "    duplicates = []\n",
        "    for char in set(string):\n",
        "        if string.count(char) > 1:\n",
        "            duplicates.append(char)\n",
        "    return duplicates\n",
        "\n",
        "# Example usage:\n",
        "string = \"hello world\"\n",
        "print(find_duplicate_chars(string))  # Output: ['l', 'o']\n"
      ],
      "metadata": {
        "colab": {
          "base_uri": "https://localhost:8080/"
        },
        "id": "6MgGI1S8prkW",
        "outputId": "2cd47cc4-f21e-409c-d051-c2d2031bba19"
      },
      "execution_count": 7,
      "outputs": [
        {
          "output_type": "stream",
          "name": "stdout",
          "text": [
            "['o', 'l']\n"
          ]
        }
      ]
    },
    {
      "cell_type": "code",
      "source": [
        "#7 Python program to check if a string contains any special character:\n",
        "import re\n",
        "\n",
        "def has_special_chars(string):\n",
        "    regex = re.compile('[@_!#$%^&*()<>?/\\|}{~:]')  # List of special characters\n",
        "    return regex.search(string) is not None\n",
        "\n",
        "# Example usage:\n",
        "string1 = \"hello world\"\n",
        "string2 = \"hello@world\"\n",
        "print(has_special_chars(string1))  # Output: False\n",
        "print(has_special_chars(string2))  # Output: True"
      ],
      "metadata": {
        "colab": {
          "base_uri": "https://localhost:8080/"
        },
        "id": "-oPO9saXqHqP",
        "outputId": "c004de9c-1a9f-42e7-8209-ee615a69cae6"
      },
      "execution_count": 8,
      "outputs": [
        {
          "output_type": "stream",
          "name": "stdout",
          "text": [
            "False\n",
            "True\n"
          ]
        }
      ]
    },
    {
      "cell_type": "code",
      "source": [],
      "metadata": {
        "id": "bctQAU3vqRCM"
      },
      "execution_count": null,
      "outputs": []
    }
  ]
}