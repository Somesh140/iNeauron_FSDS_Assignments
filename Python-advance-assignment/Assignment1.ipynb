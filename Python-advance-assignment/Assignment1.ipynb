{
  "nbformat": 4,
  "nbformat_minor": 0,
  "metadata": {
    "colab": {
      "provenance": [],
      "authorship_tag": "ABX9TyOHekgh8agJMEZL7rZA9zIE",
      "include_colab_link": true
    },
    "kernelspec": {
      "name": "python3",
      "display_name": "Python 3"
    },
    "language_info": {
      "name": "python"
    }
  },
  "cells": [
    {
      "cell_type": "markdown",
      "metadata": {
        "id": "view-in-github",
        "colab_type": "text"
      },
      "source": [
        "<a href=\"https://colab.research.google.com/github/Somesh140/iNeauron_FSDS_Assignments/blob/main/Python-advance-assignment/Assignment1.ipynb\" target=\"_parent\"><img src=\"https://colab.research.google.com/assets/colab-badge.svg\" alt=\"Open In Colab\"/></a>"
      ]
    },
    {
      "cell_type": "markdown",
      "source": [
        "Q1. What is the purpose of Python&#39;s OOP?\n",
        "\n",
        "Q2. Where does an inheritance search look for an attribute?\n",
        "\n",
        "Q3. How do you distinguish between a class object and an instance object?\n",
        "\n",
        "Q4. What makes the first argument in a class’s method function special?\n",
        "\n",
        "Q5. What is the purpose of the __init__ method?\n",
        "\n",
        "Q6. What is the process for creating a class instance?\n",
        "\n",
        "Q7. What is the process for creating a class?\n",
        "\n",
        "Q8. How would you define the superclasses of a class?"
      ],
      "metadata": {
        "id": "AuBgmfUjwKde"
      }
    },
    {
      "cell_type": "markdown",
      "source": [
        "Answer\n",
        "\n",
        "\n",
        "---\n",
        "\n",
        "1. The purpose of Python's OOP is to provide a way to organize and structure code in a more modular and reusable way, by creating objects that encapsulate data and behavior. This allows for more efficient and flexible programming, as well as easier maintenance and scalability.\n",
        "\n",
        "2. Inheritance search for an attribute first looks in the instance object itself, and then in the class of the instance, and then in the superclasses of the class in a depth-first order, until the attribute is found or the search reaches the top of the inheritance hierarchy (i.e., the object class).\n",
        "\n",
        "3. A class object is a blueprint or a template for creating instances, while an instance object is a concrete object that is created from a class and has its own unique set of data attributes and methods.\n",
        "\n",
        "4. The first argument in a class's method function, conventionally named 'self', refers to the instance object that the method is called on. This allows the method to access and manipulate the instance's data attributes and call its other methods.\n",
        "\n",
        "5. The purpose of the init method is to initialize the data attributes of a newly created instance object, by taking input arguments and assigning them to instance variables. This method is called automatically when an instance is created.\n",
        "\n",
        "6. To create a class instance, you first need to create a class object that defines the blueprint of the instance. Then, you can create an instance object by calling the class object as if it were a function, passing any necessary input arguments. For example:\n",
        "\n",
        "```\n",
        "class MyClass:\n",
        "    def __init__(self, arg1, arg2):\n",
        "        self.attr1 = arg1\n",
        "        self.attr2 = arg2\n",
        "\n",
        "my_instance = MyClass(\"hello\", 42)\n",
        "```\n",
        "This creates a new instance of MyClass with the data attributes 'attr1' and 'attr2' initialized to \"hello\" and 42, respectively.\n",
        "\n",
        "7. To create a class, you define a new class object by using the 'class' keyword, followed by the class name and a colon. Then, you define the data attributes and methods of the class by writing them as indented blocks within the class definition. For example:\n",
        "\n",
        "```\n",
        "class MyClass:\n",
        "    def __init__(self, arg1, arg2):\n",
        "        self.attr1 = arg1\n",
        "        self.attr2 = arg2\n",
        "    \n",
        "    def my_method(self):\n",
        "        print(self.attr1 + \" \" + str(self.attr2))\n",
        "```\n",
        "This creates a new class object named MyClass with an init method that initializes the attributes 'attr1' and 'attr2', and a 'my_method' method that prints the values of these attributes.\n",
        "\n",
        "8. The superclasses of a class are the classes from which it directly or indirectly inherits attributes and methods. In Python, you can access the list of superclasses of a class by using the built-in attribute 'bases'. For example, if you have a class named 'MyClass' that inherits from two other classes 'Parent1' and 'Parent2', you can see the list of its superclasses as follows:\n",
        "\n",
        "```\n",
        "class Parent1:\n",
        "    pass\n",
        "\n",
        "class Parent2:\n",
        "    pass\n",
        "\n",
        "class MyClass(Parent1, Parent2):\n",
        "    pass\n",
        "\n",
        "print(MyClass.__bases__) # prints (<class '__main__.Parent1'>, <class '__main__.Parent2'>)\n",
        "```\n",
        "\n"
      ],
      "metadata": {
        "id": "z2u3vcH2wMrr"
      }
    },
    {
      "cell_type": "code",
      "execution_count": null,
      "metadata": {
        "id": "QeHdCUqOv5kL"
      },
      "outputs": [],
      "source": []
    }
  ]
}