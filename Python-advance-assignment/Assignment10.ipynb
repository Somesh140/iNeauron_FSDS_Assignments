{
  "nbformat": 4,
  "nbformat_minor": 0,
  "metadata": {
    "colab": {
      "provenance": [],
      "authorship_tag": "ABX9TyNzR/V63TvMiDYiFL9rLBTM",
      "include_colab_link": true
    },
    "kernelspec": {
      "name": "python3",
      "display_name": "Python 3"
    },
    "language_info": {
      "name": "python"
    }
  },
  "cells": [
    {
      "cell_type": "markdown",
      "metadata": {
        "id": "view-in-github",
        "colab_type": "text"
      },
      "source": [
        "<a href=\"https://colab.research.google.com/github/Somesh140/iNeauron_FSDS_Assignments/blob/main/Python-advance-assignment/Assignment10.ipynb\" target=\"_parent\"><img src=\"https://colab.research.google.com/assets/colab-badge.svg\" alt=\"Open In Colab\"/></a>"
      ]
    },
    {
      "cell_type": "markdown",
      "source": [
        "Q1. Difference between __getattr__ and __getattribute__:\n",
        "\n",
        "Both `__getattr__` and `__getattribute__` are special methods in Python that are used to handle attribute access in classes. However, there are some key differences between them:\n",
        "\n",
        "- `__getattr__`: This method is called when an attribute is not found through the usual process of attribute lookup. It is only invoked if the attribute is not present in the instance's dictionary (`__dict__`) and not found in its class or any superclass. It takes a single argument, the name of the attribute being accessed, and it can return a value or raise an AttributeError.\n",
        "\n",
        "- `__getattribute__`: This method is called for every attribute access, regardless of whether the attribute is present or not. It is invoked before `__getattr__` and is used to implement attribute access control. It takes a single argument, the name of the attribute being accessed, and it can return a value or raise an exception. Care should be taken when implementing `__getattribute__` to avoid infinite recursion by using the base class's implementation or accessing attributes through `object.__getattribute__()`.\n",
        "\n",
        "In summary, `__getattr__` is called when an attribute is not found through the usual lookup mechanism, while `__getattribute__` is called for every attribute access, even if the attribute exists.\n",
        "\n",
        "Q2. Difference between properties and descriptors:\n",
        "\n",
        "Properties and descriptors are both mechanisms in Python that allow you to define controlled access to attributes, but they have different levels of flexibility:\n",
        "\n",
        "- Properties: Properties are a high-level and convenient way to define attribute access in Python. They allow you to define special methods (`getter`, `setter`, `deleter`) for attribute access, which are automatically called when the attribute is accessed, assigned a value, or deleted. Properties are defined within a class and are accessed like ordinary attributes, without the need for explicit method calls.\n",
        "\n",
        "- Descriptors: Descriptors are a lower-level mechanism for attribute access control. They allow you to define classes that define the `__get__`, `__set__`, or `__delete__` methods, which are called when an attribute is accessed, assigned a value, or deleted. Descriptors are more flexible than properties and can be reused across multiple attributes or classes. They are typically used by defining a descriptor class and assigning an instance of that class to a class variable.\n",
        "\n",
        "In summary, properties provide a more convenient and declarative way to define attribute access control, while descriptors offer a lower-level and more reusable mechanism for the same purpose.\n",
        "\n",
        "Q3. Key differences in functionality between __getattr__, __getattribute__, properties, and descriptors:\n",
        "\n",
        "- `__getattr__`: This method is called only when an attribute is not found through the usual attribute lookup process. It can be used to dynamically generate or provide default values for attributes that are not explicitly defined in the class.\n",
        "\n",
        "- `__getattribute__`: This method is called for every attribute access, regardless of whether the attribute is present or not. It can be used to implement attribute access control or perform additional actions on attribute access.\n",
        "\n",
        "- Properties: Properties allow you to define special methods (`getter`, `setter`, `deleter`) that are automatically called when an attribute is accessed, assigned a value, or deleted. They provide a convenient way to define controlled attribute access.\n",
        "\n",
        "- Descriptors: Descriptors are classes that define the `__get__`, `__set__`, or `__delete__` methods, which are called when an attribute is accessed, assigned a value, or deleted. They offer a more flexible and reusable mechanism for attribute access control.\n",
        "\n",
        "In summary, `__getattr__` and `__getattribute__` are specific methods that handle attribute access in different ways, while properties and descriptors are"
      ],
      "metadata": {
        "id": "cxtjbBD9MdEi"
      }
    },
    {
      "cell_type": "code",
      "execution_count": null,
      "metadata": {
        "id": "xBA4O3EOMaaQ"
      },
      "outputs": [],
      "source": []
    }
  ]
}