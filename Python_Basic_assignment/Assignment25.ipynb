{
  "nbformat": 4,
  "nbformat_minor": 0,
  "metadata": {
    "colab": {
      "provenance": [],
      "authorship_tag": "ABX9TyMa24Pq22irjLVsHfez1uNr"
    },
    "kernelspec": {
      "name": "python3",
      "display_name": "Python 3"
    },
    "language_info": {
      "name": "python"
    }
  },
  "cells": [
    {
      "cell_type": "markdown",
      "source": [
        "1) . What is the difference between enclosing a list comprehension in square brackets and\n",
        "parentheses?\n",
        "\n",
        "2) What is the relationship between generators and iterators?\n",
        "\n",
        "3) What are the signs that a function is a generator function?\n",
        "\n",
        "4) What is the purpose of a yield statement?\n",
        "\n",
        "5) What is the relationship between map calls and list comprehensions? Make a comparison and\n",
        "contrast between the two."
      ],
      "metadata": {
        "id": "CCHjXnAi8c-n"
      }
    },
    {
      "cell_type": "markdown",
      "source": [
        "Answer\n",
        "\n",
        "\n",
        "---\n",
        "\n",
        "1. The difference between enclosing a list comprehension in square brackets and parentheses is that square brackets create a list comprehension while parentheses create a generator expression. List comprehensions are evaluated eagerly and produce a list of results, while generator expressions are evaluated lazily and produce a generator object that can be iterated over to produce the results.\n",
        "\n",
        "2. Generators and iterators are closely related concepts in Python. An iterator is an object that implements the iterator protocol, which consists of two methods: `__iter__()` and `__next__()`. A generator is a type of iterator that is defined using a special kind of function called a generator function. Generator functions use the `yield` keyword to return values one at a time, and they can be used to implement lazy evaluation and produce an infinite sequence of values.\n",
        "\n",
        "3. The signs that a function is a generator function include the use of the `yield` keyword to produce values, the fact that the function returns a generator object rather than a concrete value, and the fact that the function can be iterated over using a `for` loop or consumed using the `next()` function.\n",
        "\n",
        "4. The purpose of a `yield` statement is to produce a value from a generator function and suspend its execution until the next value is requested. When a generator function is called, it returns a generator object that can be used to iterate over the sequence of values produced by the function. Each time the `yield` keyword is encountered in the function, the value following it is returned to the caller, and the function's state is saved so that it can be resumed later.\n",
        "\n",
        "5. Map calls and list comprehensions are both ways of applying a function to a sequence of values in Python. Map calls apply a given function to every item in a sequence and return a new sequence with the results, while list comprehensions use a similar syntax but also allow for filtering and transforming the input sequence using conditions and expressions. List comprehensions are generally more flexible and expressive, but they can be less efficient than map calls for simple transformations. Map calls are generally more concise and efficient, but they cannot be used for filtering or other more complex operations. Here is an example in Python:\n",
        "\n",
        "```\n",
        "# using map\n",
        "squares = map(lambda x: x ** 2, [1, 2, 3, 4, 5])\n",
        "print(list(squares))  # prints [1, 4, 9, 16, 25]\n",
        "\n",
        "# using list comprehension\n",
        "squares = [x ** 2 for x in [1, 2, 3, 4, 5]]\n",
        "print(squares)  # prints [1, 4, 9, 16, 25]\n",
        "```\n",
        "\n",
        "In this example, both map and list comprehension are used to compute the squares of a sequence of integers. The map call uses a lambda expression to define the squaring function, while the list comprehension uses a simpler expression. Both produce the same result, but the list comprehension is more concise and easier to read.\n",
        "\n"
      ],
      "metadata": {
        "id": "z3Q5b8cg8nc4"
      }
    },
    {
      "cell_type": "code",
      "execution_count": null,
      "metadata": {
        "id": "2vsUvx0J8Z_S"
      },
      "outputs": [],
      "source": []
    }
  ]
}