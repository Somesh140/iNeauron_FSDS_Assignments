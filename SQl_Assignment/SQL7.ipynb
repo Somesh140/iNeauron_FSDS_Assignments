{
  "nbformat": 4,
  "nbformat_minor": 0,
  "metadata": {
    "colab": {
      "provenance": [],
      "authorship_tag": "ABX9TyOD/fhfC0Dn7MqhwHap9HYv",
      "include_colab_link": true
    },
    "kernelspec": {
      "name": "python3",
      "display_name": "Python 3"
    },
    "language_info": {
      "name": "python"
    }
  },
  "cells": [
    {
      "cell_type": "markdown",
      "metadata": {
        "id": "view-in-github",
        "colab_type": "text"
      },
      "source": [
        "<a href=\"https://colab.research.google.com/github/Somesh140/iNeauron_FSDS_Assignments/blob/main/SQl_Assignment/SQL7.ipynb\" target=\"_parent\"><img src=\"https://colab.research.google.com/assets/colab-badge.svg\" alt=\"Open In Colab\"/></a>"
      ]
    },
    {
      "cell_type": "markdown",
      "source": [
        "Q-13. Write an SQL query to show only odd rows from a table.\n",
        "\n",
        "Q-14. Write an SQL query to clone a new table from another table.\n"
      ],
      "metadata": {
        "id": "joRLpqi5izg_"
      }
    },
    {
      "cell_type": "code",
      "execution_count": null,
      "metadata": {
        "id": "qk9Mif4kiyMh"
      },
      "outputs": [],
      "source": [
        "#13\n",
        "SELECT *\n",
        "FROM myTable\n",
        "WHERE id % 2 = 1;\n"
      ]
    },
    {
      "cell_type": "code",
      "source": [
        "#14\n",
        "CREATE TABLE newTable LIKE oldTable;\n",
        "INSERT INTO newTable SELECT * FROM oldTable;\n"
      ],
      "metadata": {
        "id": "XwWX1hMXjERr"
      },
      "execution_count": null,
      "outputs": []
    }
  ]
}