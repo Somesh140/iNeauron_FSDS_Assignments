{
  "nbformat": 4,
  "nbformat_minor": 0,
  "metadata": {
    "colab": {
      "provenance": [],
      "authorship_tag": "ABX9TyNMKOnXr8qe/D+lakeUlVTB",
      "include_colab_link": true
    },
    "kernelspec": {
      "name": "python3",
      "display_name": "Python 3"
    },
    "language_info": {
      "name": "python"
    }
  },
  "cells": [
    {
      "cell_type": "markdown",
      "metadata": {
        "id": "view-in-github",
        "colab_type": "text"
      },
      "source": [
        "<a href=\"https://colab.research.google.com/github/Somesh140/iNeauron_FSDS_Assignments/blob/main/Python-advance-assignment%20/Assignment8.ipynb\" target=\"_parent\"><img src=\"https://colab.research.google.com/assets/colab-badge.svg\" alt=\"Open In Colab\"/></a>"
      ]
    },
    {
      "cell_type": "markdown",
      "source": [
        "Q1. What are the two latest user-defined exception constraints in Python 3.X?\n",
        "\n",
        "Q2. How are class-based exceptions that have been raised matched to handlers?\n",
        "\n",
        "Q3. Describe two methods for attaching context information to exception artefacts.\n",
        "\n",
        "Q4. Describe two methods for specifying the text of an exception object&#39;s error message.\n",
        "\n",
        "Q5. Why do you no longer use string-based exceptions?"
      ],
      "metadata": {
        "id": "UMMdJN32xZrH"
      }
    },
    {
      "cell_type": "code",
      "execution_count": null,
      "metadata": {
        "id": "9xtrKC3HxYuE"
      },
      "outputs": [],
      "source": [
        "#Answer"
      ]
    },
    {
      "cell_type": "markdown",
      "source": [
        "A1. The two latest user-defined exception constraints in Python 3.x are:\n",
        "\n",
        "1. Inheritance from the `BaseException` class: All user-defined exceptions in Python must inherit from the `BaseException` class, either directly or indirectly. This constraint ensures that user-defined exceptions are consistent with the exception hierarchy in Python, allowing them to be handled and processed by the standard exception handling mechanisms.\n",
        "\n",
        "2. Conventionally ending with \"Error\" or \"Exception\": It is a recommended convention for user-defined exceptions to have names that end with \"Error\" or \"Exception.\" This naming convention helps to clearly indicate that the class represents an exception and distinguishes it from other types of classes. While not strictly enforced by the language, following this convention improves code readability and maintainability.\n",
        "\n",
        "A2. Class-based exceptions that have been raised are matched to handlers based on the exception hierarchy and the order in which the except clauses appear. When an exception is raised, Python checks each except clause from top to bottom, looking for a matching exception class. It matches the raised exception to the first except clause that handles that type of exception (either the same exception class or its base classes). If a match is found, the corresponding except block is executed, and the program continues execution from there.\n",
        "\n",
        "The exception hierarchy allows for more general exception handlers to catch multiple related exception types, while more specific exception handlers can be defined for finer-grained exception handling.\n",
        "\n",
        "A3. Two methods for attaching context information to exception artifacts are:\n",
        "\n",
        "1. Exception Arguments: When raising an exception, you can pass additional arguments to the exception class constructor, providing context-specific information about the exception. These arguments can be accessed later when handling the exception to provide more details about the error condition. For example:\n",
        "\n",
        "```python\n",
        "class CustomException(Exception):\n",
        "    def __init__(self, message, context):\n",
        "        super().__init__(message)\n",
        "        self.context = context\n",
        "\n",
        "try:\n",
        "    # Some code that may raise an exception\n",
        "    raise CustomException(\"Something went wrong\", {\"key\": \"value\"})\n",
        "except CustomException as e:\n",
        "    print(e.context)  # Access the context information\n",
        "```\n",
        "\n",
        "2. Exception Attributes: You can define custom attributes within your exception class to store additional context information. By adding attributes to your custom exception class, you can provide specific details or metadata about the exception. These attributes can be accessed when handling the exception to gather context information. Here's an example:\n",
        "\n",
        "```python\n",
        "class CustomException(Exception):\n",
        "    def __init__(self, message):\n",
        "        super().__init__(message)\n",
        "        self.context = {\"key\": \"value\"}\n",
        "\n",
        "try:\n",
        "    # Some code that may raise an exception\n",
        "    raise CustomException(\"Something went wrong\")\n",
        "except CustomException as e:\n",
        "    print(e.context)  # Access the context information\n",
        "```\n",
        "\n",
        "A4. Two methods for specifying the text of an exception object's error message are:\n",
        "\n",
        "1. Custom Exception Message: You can define the error message directly in the `__init__` method of your custom exception class. By accepting a message argument and passing it to the base class constructor, you can set a specific error message for the exception. Here's an example:\n",
        "\n",
        "```python\n",
        "class CustomException(Exception):\n",
        "    def __init__(self, message):\n",
        "        super().__init__(message)\n",
        "\n",
        "raise CustomException(\"Custom error message\")\n",
        "```\n",
        "\n",
        "2. Formatting Exception Message: You can use string formatting to dynamically generate the error message based on the specific context or values. By combining string formatting syntax with the exception message, you can create a more detailed and informative error message. Here's an example:\n",
        "\n",
        "```python\n",
        "class CustomException(Exception):\n",
        "    def __init__(self, value):\n",
        "        self.value = value\n",
        "\n",
        "    def __str__(self):\n",
        "        return f\"CustomException: {self.value}\"\n",
        "\n",
        "raise CustomException(\"Invalid value\")\n",
        "```\n",
        "\n",
        "In this example, the `__str__()` method is overridden in the custom exception class to provide a formatted string representation of the exception, which includes the specific error message.\n",
        "\n",
        "A5. String-based exceptions are no longer recommended or commonly used in Python because they have several limitations and drawbacks. Here are some reasons why string-based exceptions are no longer favored:\n",
        "\n",
        "1. Lack of Type Information: String-based exceptions do not provide any type information about the exception. They are just plain strings, making it difficult to determine the type of error or exception that occurred. Type information is crucial for effective exception handling and allows for targeted handling of specific exception types.\n",
        "\n",
        "2. Limited Error Information: String-based exceptions only convey a simple error message as a string. They lack additional attributes or context information that can be attached to exception objects. This makes it challenging to provide detailed error information or metadata related to the exception.\n",
        "\n",
        "3. Reduced Code Readability: String-based exceptions make code less readable and maintainable. With string-based exceptions, it is not immediately clear what exceptions may be raised or caught in the code. Code using string-based exceptions is also more prone to misspellings or inconsistencies in exception names, leading to errors that are difficult to trace and handle.\n",
        "\n",
        "By using class-based exceptions in Python, we can leverage the exception hierarchy, provide meaningful error messages, attach additional context information, and benefit from the built-in exception handling mechanisms. Class-based exceptions improve code clarity, facilitate error handling, and enhance the overall robustness of Python programs.\n"
      ],
      "metadata": {
        "id": "oSpwmfQfxedZ"
      }
    },
    {
      "cell_type": "code",
      "source": [],
      "metadata": {
        "id": "k3GadczAyNWO"
      },
      "execution_count": null,
      "outputs": []
    }
  ]
}