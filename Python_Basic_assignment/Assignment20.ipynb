{
  "nbformat": 4,
  "nbformat_minor": 0,
  "metadata": {
    "colab": {
      "provenance": [],
      "authorship_tag": "ABX9TyO1TE4d6IaaoUwCgMIA/FyI",
      "include_colab_link": true
    },
    "kernelspec": {
      "name": "python3",
      "display_name": "Python 3"
    },
    "language_info": {
      "name": "python"
    }
  },
  "cells": [
    {
      "cell_type": "markdown",
      "metadata": {
        "id": "view-in-github",
        "colab_type": "text"
      },
      "source": [
        "<a href=\"https://colab.research.google.com/github/Somesh140/iNeauron_FSDS_Assignments/blob/main/Python_Basic_assignment/Assignment20.ipynb\" target=\"_parent\"><img src=\"https://colab.research.google.com/assets/colab-badge.svg\" alt=\"Open In Colab\"/></a>"
      ]
    },
    {
      "cell_type": "markdown",
      "source": [
        "1. Set the variable test1 to the string &#39;This is a test of the emergency text system,&#39; and save test1 to a\n",
        "file named test.txt.\n",
        "2. Read the contents of the file test.txt into the variable test2. Is there a difference between test 1\n",
        "and test 2?\n",
        "3. Create a CSV file called books.csv by using these lines:\n",
        "title,author,year\n",
        "The Weirdstone of Brisingamen,Alan Garner,1960\n",
        "Perdido Street Station,China Miéville,2000\n",
        "Thud!,Terry Pratchett,2005\n",
        "The Spellman Files,Lisa Lutz,2007\n",
        "Small Gods,Terry Pratchett,1992\n",
        "4. Use the sqlite3 module to create a SQLite database called books.db, and a table called books with\n",
        "these fields: title (text), author (text), and year (integer).\n",
        "5. Read books.csv and insert its data into the book table.\n",
        "6. Select and print the title column from the book table in alphabetical order.\n",
        "7. From the book table, select and print all columns in the order of publication.\n",
        "8. Use the sqlalchemy module to connect to the sqlite3 database books.db that you just made in\n",
        "exercise 6.\n",
        "9. Install the Redis server and the Python redis library (pip install redis) on your computer. Create a\n",
        "Redis hash called test with the fields count (1) and name (&#39;Fester Bestertester&#39;). Print all the fields for\n",
        "test.\n",
        "10. Increment the count field of test and print it."
      ],
      "metadata": {
        "id": "X7rN-5ud0Y0C"
      }
    },
    {
      "cell_type": "code",
      "execution_count": 1,
      "metadata": {
        "id": "TARFX6FW0V5e"
      },
      "outputs": [],
      "source": [
        "#1 Set the variable test1 to the string 'This is a test of the emergency text system,' and save test1 to a file named test.txt.\n",
        "test1 = 'This is a test of the emergency text system,'\n",
        "with open('test.txt', 'w') as f:\n",
        "    f.write(test1)\n"
      ]
    },
    {
      "cell_type": "code",
      "source": [
        "#2Read the contents of the file test.txt into the variable test2. Is there a difference between test 1 and test 2?\n",
        "with open('test.txt', 'r') as f:\n",
        "    test2 = f.read()\n",
        "\n",
        "print(test1 == test2)  # True\n"
      ],
      "metadata": {
        "colab": {
          "base_uri": "https://localhost:8080/"
        },
        "id": "HZoNwgWR0jpW",
        "outputId": "0c43a9c0-c5dc-4f6a-d310-89128d00926e"
      },
      "execution_count": 2,
      "outputs": [
        {
          "output_type": "stream",
          "name": "stdout",
          "text": [
            "True\n"
          ]
        }
      ]
    },
    {
      "cell_type": "markdown",
      "source": [
        "There is no difference between test1 and test2."
      ],
      "metadata": {
        "id": "fMzwc5Iu0xuJ"
      }
    },
    {
      "cell_type": "code",
      "source": [
        "#3 Create a CSV file called books.csv \n",
        "import csv\n",
        "\n",
        "data = [['title', 'author', 'year'],\n",
        "        ['The Weirdstone of Brisingamen', 'Alan Garner', '1960'],\n",
        "        ['Perdido Street Station', 'China Miéville', '2000'],\n",
        "        ['Thud!', 'Terry Pratchett', '2005'],\n",
        "        ['The Spellman Files', 'Lisa Lutz', '2007'],\n",
        "        ['Small Gods', 'Terry Pratchett', '1992']]\n",
        "\n",
        "with open('books.csv', 'w', newline='') as f:\n",
        "    writer = csv.writer(f)\n",
        "    writer.writerows(data)\n"
      ],
      "metadata": {
        "id": "3zGV9lc20q08"
      },
      "execution_count": 3,
      "outputs": []
    },
    {
      "cell_type": "code",
      "source": [
        "#4Use the sqlite3 module to create a SQLite database called books.db, and a table called books with these fields: title (text), author (text), and year (integer).\n",
        "import sqlite3\n",
        "\n",
        "conn = sqlite3.connect('books.db')\n",
        "c = conn.cursor()\n",
        "\n",
        "c.execute('''CREATE TABLE books\n",
        "             (title text, author text, year integer)''')\n",
        "\n",
        "conn.commit()\n",
        "conn.close()\n"
      ],
      "metadata": {
        "id": "ITWoLKKl04Ub"
      },
      "execution_count": 4,
      "outputs": []
    },
    {
      "cell_type": "code",
      "source": [
        "#5 Read books.csv and insert its data into the book table.\n",
        "import csv\n",
        "import sqlite3\n",
        "\n",
        "conn = sqlite3.connect('books.db')\n",
        "c = conn.cursor()\n",
        "\n",
        "with open('books.csv', 'r') as f:\n",
        "    reader = csv.reader(f)\n",
        "    next(reader)  # skip header row\n",
        "    for row in reader:\n",
        "        c.execute(\"INSERT INTO books VALUES (?, ?, ?)\", row)\n",
        "\n",
        "conn.commit()\n",
        "conn.close()\n"
      ],
      "metadata": {
        "id": "al5GBBVU1BDr"
      },
      "execution_count": 5,
      "outputs": []
    },
    {
      "cell_type": "code",
      "source": [
        "#6 Select and print the title column from the book table in alphabetical order.\n",
        "import sqlite3\n",
        "\n",
        "conn = sqlite3.connect('books.db')\n",
        "c = conn.cursor()\n",
        "\n",
        "for row in c.execute(\"SELECT title FROM books ORDER BY title\"):\n",
        "    print(row[0])\n",
        "\n",
        "conn.close()\n"
      ],
      "metadata": {
        "colab": {
          "base_uri": "https://localhost:8080/"
        },
        "id": "JIVQiXRb1I42",
        "outputId": "df6e053b-e1d5-466d-f1fa-60fa7f983208"
      },
      "execution_count": 6,
      "outputs": [
        {
          "output_type": "stream",
          "name": "stdout",
          "text": [
            "Perdido Street Station\n",
            "Small Gods\n",
            "The Spellman Files\n",
            "The Weirdstone of Brisingamen\n",
            "Thud!\n"
          ]
        }
      ]
    },
    {
      "cell_type": "code",
      "source": [
        "#7 From the book table, select and print all columns in the order of publication.\n",
        "import sqlite3\n",
        "\n",
        "conn = sqlite3.connect('books.db')\n",
        "c = conn.cursor()\n",
        "\n",
        "for row in c.execute(\"SELECT * FROM books ORDER BY year\"):\n",
        "    print(row)\n",
        "\n",
        "conn.close()\n"
      ],
      "metadata": {
        "colab": {
          "base_uri": "https://localhost:8080/"
        },
        "id": "BV9pg0S61Pah",
        "outputId": "71252f29-46c1-4aee-98c0-95acdebc19ec"
      },
      "execution_count": 7,
      "outputs": [
        {
          "output_type": "stream",
          "name": "stdout",
          "text": [
            "('The Weirdstone of Brisingamen', 'Alan Garner', 1960)\n",
            "('Small Gods', 'Terry Pratchett', 1992)\n",
            "('Perdido Street Station', 'China Miéville', 2000)\n",
            "('Thud!', 'Terry Pratchett', 2005)\n",
            "('The Spellman Files', 'Lisa Lutz', 2007)\n"
          ]
        }
      ]
    },
    {
      "cell_type": "code",
      "source": [
        "#8\n",
        "import sqlalchemy\n",
        "\n",
        "engine = sqlalchemy.create_engine('sqlite:///books.db')\n",
        "connection = engine.connect()\n"
      ],
      "metadata": {
        "id": "5a1IXUYR1UhS"
      },
      "execution_count": 8,
      "outputs": []
    },
    {
      "cell_type": "code",
      "source": [
        "%pip install redis-server redis\n"
      ],
      "metadata": {
        "colab": {
          "base_uri": "https://localhost:8080/"
        },
        "id": "4O-7udDc1vWW",
        "outputId": "a09c1345-1b23-46d7-b744-177864791490"
      },
      "execution_count": 13,
      "outputs": [
        {
          "output_type": "stream",
          "name": "stdout",
          "text": [
            "Looking in indexes: https://pypi.org/simple, https://us-python.pkg.dev/colab-wheels/public/simple/\n",
            "Collecting redis-server\n",
            "  Downloading redis_server-6.0.9-202010301343-cp39-cp39-manylinux2010_x86_64.whl (5.5 MB)\n",
            "\u001b[2K     \u001b[90m━━━━━━━━━━━━━━━━━━━━━━━━━━━━━━━━━━━━━━━━\u001b[0m \u001b[32m5.5/5.5 MB\u001b[0m \u001b[31m47.1 MB/s\u001b[0m eta \u001b[36m0:00:00\u001b[0m\n",
            "\u001b[?25hRequirement already satisfied: redis in /usr/local/lib/python3.9/dist-packages (4.5.4)\n",
            "Requirement already satisfied: async-timeout>=4.0.2 in /usr/local/lib/python3.9/dist-packages (from redis) (4.0.2)\n",
            "Installing collected packages: redis-server\n",
            "Successfully installed redis-server-6.0.9\n"
          ]
        }
      ]
    },
    {
      "cell_type": "code",
      "source": [
        "import redis_server\n",
        "!$redis_server.REDIS_SERVER_PATH --daemonize yes"
      ],
      "metadata": {
        "id": "jHVYLegi2vV5"
      },
      "execution_count": 14,
      "outputs": []
    },
    {
      "cell_type": "code",
      "source": [
        "#9\n",
        "import redis\n",
        "\n",
        "r = redis.Redis(host='localhost', port=6379, db=0)\n",
        "r.hmset('test', {'count': 1, 'name': 'Fester Bestertester'})\n",
        "\n",
        "# To print all the fields for test\n",
        "print(r.hgetall('test'))\n"
      ],
      "metadata": {
        "colab": {
          "base_uri": "https://localhost:8080/"
        },
        "id": "FusDKBfb1fj-",
        "outputId": "28a95d77-03f0-458d-f2c1-da7d0147fb63"
      },
      "execution_count": 16,
      "outputs": [
        {
          "output_type": "stream",
          "name": "stdout",
          "text": [
            "{b'count': b'1', b'name': b'Fester Bestertester'}\n"
          ]
        },
        {
          "output_type": "stream",
          "name": "stderr",
          "text": [
            "<ipython-input-16-5f2624ea3026>:5: DeprecationWarning: Redis.hmset() is deprecated. Use Redis.hset() instead.\n",
            "  r.hmset('test', {'count': 1, 'name': 'Fester Bestertester'})\n"
          ]
        }
      ]
    },
    {
      "cell_type": "code",
      "source": [
        "#10\n",
        "r.hincrby('test', 'count', amount=1)\n",
        "print(r.hget('test', 'count'))\n"
      ],
      "metadata": {
        "colab": {
          "base_uri": "https://localhost:8080/"
        },
        "id": "GXFjsS3b1m0Q",
        "outputId": "fbdf2e63-86bf-4ba2-d8ee-221c9fc15acf"
      },
      "execution_count": 17,
      "outputs": [
        {
          "output_type": "stream",
          "name": "stdout",
          "text": [
            "b'2'\n"
          ]
        }
      ]
    },
    {
      "cell_type": "code",
      "source": [],
      "metadata": {
        "id": "4g1g98eW27B9"
      },
      "execution_count": null,
      "outputs": []
    }
  ]
}