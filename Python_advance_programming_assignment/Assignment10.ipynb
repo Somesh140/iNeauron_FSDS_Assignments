{
  "nbformat": 4,
  "nbformat_minor": 0,
  "metadata": {
    "colab": {
      "provenance": [],
      "authorship_tag": "ABX9TyNTiLxXvly1isCQXIsMZHp4",
      "include_colab_link": true
    },
    "kernelspec": {
      "name": "python3",
      "display_name": "Python 3"
    },
    "language_info": {
      "name": "python"
    }
  },
  "cells": [
    {
      "cell_type": "markdown",
      "metadata": {
        "id": "view-in-github",
        "colab_type": "text"
      },
      "source": [
        "<a href=\"https://colab.research.google.com/github/Somesh140/iNeauron_FSDS_Assignments/blob/main/Python_advance_programming_assignment/Assignment10.ipynb\" target=\"_parent\"><img src=\"https://colab.research.google.com/assets/colab-badge.svg\" alt=\"Open In Colab\"/></a>"
      ]
    },
    {
      "cell_type": "markdown",
      "source": [
        "1. Create a function that takes the width, height and character and returns a\n",
        "picture frame as a 2D list.\n",
        "Examples\n",
        "get_frame(4, 5, &quot;#&quot;) ➞ [\n",
        "[&quot;####&quot;],\n",
        "[&quot;# #&quot;],\n",
        "[&quot;# #&quot;],\n",
        "[&quot;# #&quot;],\n",
        "[&quot;####&quot;]\n",
        "]\n",
        "# Frame is 4 characters wide and 5 characters tall.\n",
        "\n",
        "get_frame(10, 3, &quot;*&quot;) ➞ [\n",
        "[&quot;**********&quot;],\n",
        "[&quot;* *&quot;],\n",
        "[&quot;**********&quot;]\n",
        "]\n",
        "# Frame is 10 characters and wide and 3 characters tall.\n",
        "\n",
        "get_frame(2, 5, &quot;0&quot;) ➞ &quot;invalid&quot;\n",
        "# Frame&#39;s width is not more than 2."
      ],
      "metadata": {
        "id": "m3TAI7mK1mKW"
      }
    },
    {
      "cell_type": "code",
      "execution_count": 1,
      "metadata": {
        "id": "ZM1LTm-s1j6H"
      },
      "outputs": [],
      "source": [
        "def get_frame(width, height, character):\n",
        "    if width <= 2:\n",
        "        return \"invalid\"\n",
        "\n",
        "    frame = []\n",
        "\n",
        "    top_row = [character * width]\n",
        "    frame.append(top_row)\n",
        "\n",
        "    middle_row = [character + \" \" * (width - 2) + character]\n",
        "    for _ in range(height - 2):\n",
        "        frame.append(middle_row)\n",
        "\n",
        "    if height > 1:\n",
        "        bottom_row = [character * width]\n",
        "        frame.append(bottom_row)\n",
        "\n",
        "    return frame\n"
      ]
    },
    {
      "cell_type": "code",
      "source": [
        "print(get_frame(4, 5, \"#\"))\n",
        "# Output: [['####'], ['#  #'], ['#  #'], ['#  #'], ['####']]\n",
        "\n",
        "print(get_frame(10, 3, \"*\"))\n",
        "# Output: [['**********'], ['*        *'], ['**********']]\n",
        "\n",
        "print(get_frame(2, 5, \"0\"))\n",
        "# Output: invalid\n"
      ],
      "metadata": {
        "colab": {
          "base_uri": "https://localhost:8080/"
        },
        "id": "1GzGyicy7hCJ",
        "outputId": "1b33a683-867e-4d9f-ceed-8694bbd49ebd"
      },
      "execution_count": 2,
      "outputs": [
        {
          "output_type": "stream",
          "name": "stdout",
          "text": [
            "[['####'], ['#  #'], ['#  #'], ['#  #'], ['####']]\n",
            "[['**********'], ['*        *'], ['**********']]\n",
            "invalid\n"
          ]
        }
      ]
    },
    {
      "cell_type": "markdown",
      "source": [
        "2. Write three functions:\n",
        "  1. boolean_and\n",
        "  2. boolean_or\n",
        "  3. boolean_xor\n",
        "These functions should evaluate a list of True and False values, starting from\n",
        "the leftmost element and evaluating pairwise.\n",
        "Examples\n",
        "boolean_and([True, True, False, True]) ➞ False\n",
        "# [True, True, False, True] =&gt; [True, False, True] =&gt; [False, True] =&gt; False\n",
        "boolean_or([True, True, False, False]) ➞ True\n",
        "# [True, True, False, True] =&gt; [True, False, False] =&gt; [True, False] =&gt; True\n",
        "boolean_xor([True, True, False, False]) ➞ False\n",
        "# [True, True, False, False] =&gt; [False, False, False] =&gt; [False, False] =&gt;\n",
        "False"
      ],
      "metadata": {
        "id": "bD_GUgvz7mp0"
      }
    },
    {
      "cell_type": "code",
      "source": [
        "from functools import reduce\n",
        "\n",
        "def boolean_and(lst):\n",
        "    return reduce(lambda x, y: x and y, lst)\n",
        "\n",
        "def boolean_or(lst):\n",
        "    return reduce(lambda x, y: x or y, lst)\n",
        "\n",
        "def boolean_xor(lst):\n",
        "    return reduce(lambda x, y: x ^ y, lst)\n"
      ],
      "metadata": {
        "id": "QkUPtNeG7iqO"
      },
      "execution_count": 3,
      "outputs": []
    },
    {
      "cell_type": "code",
      "source": [
        "print(boolean_and([True, True, False, True]))\n",
        "# Output: False\n",
        "\n",
        "print(boolean_or([True, True, False, False]))\n",
        "# Output: True\n",
        "\n",
        "print(boolean_xor([True, True, False, False]))\n",
        "# Output: False\n"
      ],
      "metadata": {
        "colab": {
          "base_uri": "https://localhost:8080/"
        },
        "id": "m5DRPIXU8EU1",
        "outputId": "34ce4b95-6b16-4285-919b-91775c9dc011"
      },
      "execution_count": 4,
      "outputs": [
        {
          "output_type": "stream",
          "name": "stdout",
          "text": [
            "False\n",
            "True\n",
            "False\n"
          ]
        }
      ]
    },
    {
      "cell_type": "markdown",
      "source": [
        "3. Create a function that creates a box based on dimension n.\n",
        "Examples\n",
        "make_box(5) ➞ [\n",
        "&quot;#####&quot;,\n",
        "&quot;# #&quot;,\n",
        "&quot;# #&quot;,\n",
        "&quot;# #&quot;,\n",
        "&quot;#####&quot;\n",
        "]\n",
        "make_box(3) ➞ [\n",
        "&quot;###&quot;,\n",
        "&quot;# #&quot;,\n",
        "&quot;###&quot;\n",
        "]\n",
        "make_box(2) ➞ [\n",
        "&quot;##&quot;,\n",
        "&quot;##&quot;\n",
        "]\n",
        "make_box(1) ➞ [\n",
        "&quot;#&quot;\n",
        "]"
      ],
      "metadata": {
        "id": "aladqrV38Kgh"
      }
    },
    {
      "cell_type": "code",
      "source": [
        "def make_box(n):\n",
        "    box = []\n",
        "\n",
        "    if n >= 1:\n",
        "        top_bottom_row = \"#\" * n\n",
        "        box.append(top_bottom_row)\n",
        "\n",
        "        middle_row = \"#\" + \" \" * (n - 2) + \"#\"\n",
        "        for _ in range(n - 2):\n",
        "            box.append(middle_row)\n",
        "\n",
        "        if n > 1:\n",
        "            box.append(top_bottom_row)\n",
        "\n",
        "    return box\n"
      ],
      "metadata": {
        "id": "0E1SKQqt8GMZ"
      },
      "execution_count": 5,
      "outputs": []
    },
    {
      "cell_type": "code",
      "source": [
        "print(make_box(5))\n",
        "# Output: ['#####', '#   #', '#   #', '#   #', '#####']\n",
        "\n",
        "print(make_box(3))\n",
        "# Output: ['###', '# #', '###']\n",
        "\n",
        "print(make_box(2))\n",
        "# Output: ['##', '##']\n",
        "\n",
        "print(make_box(1))\n",
        "# Output: ['#']\n"
      ],
      "metadata": {
        "colab": {
          "base_uri": "https://localhost:8080/"
        },
        "id": "wTmVrQSm8WpU",
        "outputId": "51f2f6a3-c28c-4081-a79f-d39b3f70c88b"
      },
      "execution_count": 6,
      "outputs": [
        {
          "output_type": "stream",
          "name": "stdout",
          "text": [
            "['#####', '#   #', '#   #', '#   #', '#####']\n",
            "['###', '# #', '###']\n",
            "['##', '##']\n",
            "['#']\n"
          ]
        }
      ]
    },
    {
      "cell_type": "markdown",
      "source": [
        "4. Given a common phrase, return False if any individual word in the phrase\n",
        "contains duplicate letters. Return True otherwise.\n",
        "Examples\n",
        "no_duplicate_letters(&quot;Fortune favours the bold.&quot;) ➞ True\n",
        "no_duplicate_letters(&quot;You can lead a horse to water, but you can&#39;t make him\n",
        "drink.&quot;) ➞ True\n",
        "no_duplicate_letters(&quot;Look before you leap.&quot;) ➞ False\n",
        "# Duplicate letters in &quot;Look&quot; and &quot;before&quot;.\n",
        "no_duplicate_letters(&quot;An apple a day keeps the doctor away.&quot;) ➞ False\n",
        "# Duplicate letters in &quot;apple&quot;, &quot;keeps&quot;, &quot;doctor&quot;, and &quot;away&quot;."
      ],
      "metadata": {
        "id": "6zxhwtF38eMI"
      }
    },
    {
      "cell_type": "code",
      "source": [
        "def no_duplicate_letters(phrase):\n",
        "    words = phrase.split()\n",
        "\n",
        "    for word in words:\n",
        "        if has_duplicates(word):\n",
        "            return False\n",
        "\n",
        "    return True\n",
        "\n",
        "\n",
        "def has_duplicates(word):\n",
        "    # Convert the word to lowercase to ignore case-sensitive duplicates\n",
        "    word = word.lower()\n",
        "\n",
        "    # Create a set of unique letters in the word\n",
        "    unique_letters = set(word)\n",
        "\n",
        "    # If the length of the word is not equal to the length of the unique letters,\n",
        "    # it means there are duplicate letters in the word\n",
        "    return len(word) != len(unique_letters)\n"
      ],
      "metadata": {
        "id": "S-En2MrB8ZIk"
      },
      "execution_count": 7,
      "outputs": []
    },
    {
      "cell_type": "code",
      "source": [
        "print(no_duplicate_letters(\"Fortune favours the bold.\"))\n",
        "# Output: True\n",
        "\n",
        "print(no_duplicate_letters(\"You can lead a horse to water, but you can't make him drink.\"))\n",
        "# Output: True\n",
        "\n",
        "print(no_duplicate_letters(\"Look before you leap.\"))\n",
        "# Output: False\n",
        "\n",
        "print(no_duplicate_letters(\"An apple a day keeps the doctor away.\"))\n",
        "# Output: False\n"
      ],
      "metadata": {
        "colab": {
          "base_uri": "https://localhost:8080/"
        },
        "id": "pbZWFcOr-n72",
        "outputId": "ea5a54c0-4666-4031-8011-b3f233789c86"
      },
      "execution_count": 8,
      "outputs": [
        {
          "output_type": "stream",
          "name": "stdout",
          "text": [
            "True\n",
            "True\n",
            "False\n",
            "False\n"
          ]
        }
      ]
    },
    {
      "cell_type": "markdown",
      "source": [
        "5. Write a regular expression that will match the states that voted yes to\n",
        "President Trump&#39;s impeachment. You must use RegEx positive lookahead.\n",
        "Example\n",
        "txt = &quot;Texas = no, California = yes, Florida = yes, Michigan = no&quot;\n",
        "pattern = &quot;yourregularexpressionhere&quot;\n",
        "re.findall(pattern, txt) ➞ [&quot;California&quot;, &quot;Florida&quot;]"
      ],
      "metadata": {
        "id": "RplYsGB9-ygV"
      }
    },
    {
      "cell_type": "code",
      "source": [
        "import re\n",
        "\n",
        "txt = \"Texas = no, California = yes, Florida = yes, Michigan = no\"\n",
        "pattern = r\"\\b\\w+\\b(?=\\s*=\\s*yes)\"\n",
        "\n",
        "matches = re.findall(pattern, txt)\n",
        "print(matches)\n"
      ],
      "metadata": {
        "colab": {
          "base_uri": "https://localhost:8080/"
        },
        "id": "z4m4B5Ni-q26",
        "outputId": "fb40d321-7c37-4dd1-f2dc-7a7f6ebe1061"
      },
      "execution_count": 9,
      "outputs": [
        {
          "output_type": "stream",
          "name": "stdout",
          "text": [
            "['California', 'Florida']\n"
          ]
        }
      ]
    },
    {
      "cell_type": "code",
      "source": [],
      "metadata": {
        "id": "yNz0YMcp_xSf"
      },
      "execution_count": null,
      "outputs": []
    }
  ]
}