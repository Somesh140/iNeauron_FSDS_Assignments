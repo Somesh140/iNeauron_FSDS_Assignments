{
  "nbformat": 4,
  "nbformat_minor": 0,
  "metadata": {
    "colab": {
      "provenance": [],
      "authorship_tag": "ABX9TyNuJfhao635zaGTwtrmuKif",
      "include_colab_link": true
    },
    "kernelspec": {
      "name": "python3",
      "display_name": "Python 3"
    },
    "language_info": {
      "name": "python"
    }
  },
  "cells": [
    {
      "cell_type": "markdown",
      "metadata": {
        "id": "view-in-github",
        "colab_type": "text"
      },
      "source": [
        "<a href=\"https://colab.research.google.com/github/Somesh140/iNeauron_FSDS_Assignments/blob/main/Statistics/Assigment7.ipynb\" target=\"_parent\"><img src=\"https://colab.research.google.com/assets/colab-badge.svg\" alt=\"Open In Colab\"/></a>"
      ]
    },
    {
      "cell_type": "markdown",
      "source": [
        "A spam filter is designed by looking at commonly occurring phrases in spam. Suppose that\n",
        "80% of email is spam. In 10% of the spam emails, the phrase “free money” is used, whereas\n",
        "this phrase is only used in 1% of non-spam emails. A new email has just arrived, which does\n",
        "mention “free money”. What is the probability that it is spam?"
      ],
      "metadata": {
        "id": "2GVi7C3rYQdc"
      }
    },
    {
      "cell_type": "markdown",
      "source": [
        "#Answer\n"
      ],
      "metadata": {
        "id": "NWjCHErgYjV2"
      }
    },
    {
      "cell_type": "markdown",
      "source": [
        "To determine the probability that the new email is spam given that it mentions the phrase \"free money,\" we can use Bayes' theorem.\n",
        "\n",
        "Let's define the events:\n",
        "A = Email is spam\n",
        "\n",
        "B = Email mentions \"free money\"\n",
        "\n",
        "We want to calculate P(A|B), which is the probability that the email is spam given that it mentions \"free money.\"\n",
        "\n",
        "According to the problem statement: \\\n",
        "P(A) = 0.8 (Probability of an email being spam) \\\n",
        "P(B|A) = 0.1 (Probability of mentioning \"free money\" given that the email is spam) \\\n",
        "P(B|not A) = 0.01 (Probability of mentioning \"free money\" given that the email is not spam) \\\n",
        "\n",
        "We can calculate P(A|B) using Bayes' theorem: \\\n",
        "P(A|B) = (P(B|A) * P(A)) / P(B) \\\n",
        "\n",
        "To calculate P(B), we can use the law of total probability: \\\n",
        "P(B) = P(B|A) * P(A) + P(B|not A) * P(not A) \\\n",
        "      = 0.1 * 0.8 + 0.01 * 0.2 \\\n",
        "      = 0.08 + 0.002 \\\n",
        "      = 0.082 \\\n",
        "\n",
        "Now we can substitute the values into Bayes' theorem: \\\n",
        "P(A|B) = (0.1 * 0.8) / 0.082 \\\n",
        "       = 0.08 / 0.082 \\\n",
        "       ≈ 0.9756 \\\n",
        " \n",
        "Therefore, the probability that the new email is spam given that it mentions \"free money\" is approximately 0.9756, or 97.56%. \\"
      ],
      "metadata": {
        "id": "HsEWShBYZHNY"
      }
    }
  ]
}