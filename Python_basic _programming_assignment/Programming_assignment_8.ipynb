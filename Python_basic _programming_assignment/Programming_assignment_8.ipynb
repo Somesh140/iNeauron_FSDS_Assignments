{
  "nbformat": 4,
  "nbformat_minor": 0,
  "metadata": {
    "colab": {
      "provenance": [],
      "authorship_tag": "ABX9TyPfyQ/nroygwj7DT54aQhUQ",
      "include_colab_link": true
    },
    "kernelspec": {
      "name": "python3",
      "display_name": "Python 3"
    },
    "language_info": {
      "name": "python"
    }
  },
  "cells": [
    {
      "cell_type": "markdown",
      "metadata": {
        "id": "view-in-github",
        "colab_type": "text"
      },
      "source": [
        "<a href=\"https://colab.research.google.com/github/Somesh140/iNeauron_FSDS_Assignments/blob/main/Python_basic%20_programming_assignment/Programming_assignment_8.ipynb\" target=\"_parent\"><img src=\"https://colab.research.google.com/assets/colab-badge.svg\" alt=\"Open In Colab\"/></a>"
      ]
    },
    {
      "cell_type": "markdown",
      "source": [
        "Q 1. Write a Python Program to Add two Matrices ?"
      ],
      "metadata": {
        "id": "KboVFPYcZN-8"
      }
    },
    {
      "cell_type": "code",
      "execution_count": 1,
      "metadata": {
        "colab": {
          "base_uri": "https://localhost:8080/"
        },
        "id": "TNWXnb1PWgAQ",
        "outputId": "a126647f-0853-432b-d148-897099eb3f76"
      },
      "outputs": [
        {
          "output_type": "execute_result",
          "data": {
            "text/plain": [
              "array([[ 1.   ,  3.375,  5.75 ],\n",
              "       [ 8.125, 10.5  , 12.875],\n",
              "       [15.25 , 17.625, 20.   ]])"
            ]
          },
          "metadata": {},
          "execution_count": 1
        }
      ],
      "source": [
        "#Ans:-\n",
        "import numpy as np\n",
        "arr = np.linspace(1,20,num=9)\n",
        "arr1 = arr.reshape(3,3)\n",
        "arr1"
      ]
    },
    {
      "cell_type": "code",
      "source": [
        "arr2 = arr1+1\n",
        "arr2"
      ],
      "metadata": {
        "colab": {
          "base_uri": "https://localhost:8080/"
        },
        "id": "PwpS3Dl7ZQe-",
        "outputId": "4e3f2bb5-d335-45d3-d916-beaa624439b9"
      },
      "execution_count": 2,
      "outputs": [
        {
          "output_type": "execute_result",
          "data": {
            "text/plain": [
              "array([[ 2.   ,  4.375,  6.75 ],\n",
              "       [ 9.125, 11.5  , 13.875],\n",
              "       [16.25 , 18.625, 21.   ]])"
            ]
          },
          "metadata": {},
          "execution_count": 2
        }
      ]
    },
    {
      "cell_type": "code",
      "source": [
        "arr1 + arr2"
      ],
      "metadata": {
        "colab": {
          "base_uri": "https://localhost:8080/"
        },
        "id": "emqwiAYOZZUY",
        "outputId": "4982075a-6a07-4b08-af7f-6524fe6609a8"
      },
      "execution_count": 3,
      "outputs": [
        {
          "output_type": "execute_result",
          "data": {
            "text/plain": [
              "array([[ 3.  ,  7.75, 12.5 ],\n",
              "       [17.25, 22.  , 26.75],\n",
              "       [31.5 , 36.25, 41.  ]])"
            ]
          },
          "metadata": {},
          "execution_count": 3
        }
      ]
    },
    {
      "cell_type": "markdown",
      "source": [
        "Q 2. Write a Python Program to Multiply two Matrices ?"
      ],
      "metadata": {
        "id": "3rAfPEr7Z-rd"
      }
    },
    {
      "cell_type": "code",
      "source": [
        "arr1@arr2"
      ],
      "metadata": {
        "colab": {
          "base_uri": "https://localhost:8080/"
        },
        "id": "58_ZbaSkZc77",
        "outputId": "bacebd28-43c7-4fc0-fe9b-fb16288c2f70"
      },
      "execution_count": 4,
      "outputs": [
        {
          "output_type": "execute_result",
          "data": {
            "text/plain": [
              "array([[126.234375, 150.28125 , 174.328125],\n",
              "       [321.28125 , 396.09375 , 470.90625 ],\n",
              "       [516.328125, 641.90625 , 767.484375]])"
            ]
          },
          "metadata": {},
          "execution_count": 4
        }
      ]
    },
    {
      "cell_type": "markdown",
      "source": [
        "Q 3. Write a Python Program to transpose a Matrix ?"
      ],
      "metadata": {
        "id": "xL7ann3laGbH"
      }
    },
    {
      "cell_type": "code",
      "source": [
        "arr1.T"
      ],
      "metadata": {
        "colab": {
          "base_uri": "https://localhost:8080/"
        },
        "id": "2A_kJw-jaCEz",
        "outputId": "925d0c4d-447b-484c-cce9-67aa4101a58e"
      },
      "execution_count": 5,
      "outputs": [
        {
          "output_type": "execute_result",
          "data": {
            "text/plain": [
              "array([[ 1.   ,  8.125, 15.25 ],\n",
              "       [ 3.375, 10.5  , 17.625],\n",
              "       [ 5.75 , 12.875, 20.   ]])"
            ]
          },
          "metadata": {},
          "execution_count": 5
        }
      ]
    },
    {
      "cell_type": "markdown",
      "source": [
        "4. Write a Python Program to Sort Words in Alphabetic Order?"
      ],
      "metadata": {
        "id": "ufBciY4kbIeA"
      }
    },
    {
      "cell_type": "code",
      "source": [
        "# function to sort words in alphabetic order\n",
        "def sort_words(string):\n",
        "    words = string.split()\n",
        "    sorted_words = sorted(words)\n",
        "    return ' '.join(sorted_words)\n",
        "\n",
        "# example string\n",
        "string = \"Python is a powerful programming language\"\n",
        "\n",
        "# call function to sort words\n",
        "result = sort_words(string)\n",
        "\n",
        "# print result\n",
        "print(result)\n"
      ],
      "metadata": {
        "colab": {
          "base_uri": "https://localhost:8080/"
        },
        "id": "Fpe0rsQkaP_N",
        "outputId": "c1c1c702-46a3-410b-d56b-11c68ef4b827"
      },
      "execution_count": 6,
      "outputs": [
        {
          "output_type": "stream",
          "name": "stdout",
          "text": [
            "Python a is language powerful programming\n"
          ]
        }
      ]
    },
    {
      "cell_type": "markdown",
      "source": [
        "5. Write a Python Program to Remove Punctuation From a String?"
      ],
      "metadata": {
        "id": "6pSFW3S4bYux"
      }
    },
    {
      "cell_type": "code",
      "source": [
        "import string\n",
        " \n",
        "# define a string with punctuation\n",
        "string_with_punctuations = \"Hello, World! How are you?\"\n",
        " \n",
        "# remove the punctuation from the string\n",
        "string_without_punctuations = string_with_punctuations.translate(str.maketrans(\"\", \"\", string.punctuation))\n",
        " \n",
        "# print the original and modified strings\n",
        "print(\"Original String: \", string_with_punctuations)\n",
        "print(\"Modified String: \", string_without_punctuations)\n"
      ],
      "metadata": {
        "colab": {
          "base_uri": "https://localhost:8080/"
        },
        "id": "tS2Dk6xsbSbI",
        "outputId": "5358cda1-6673-4bf4-f814-b6bca74c5aa0"
      },
      "execution_count": 10,
      "outputs": [
        {
          "output_type": "stream",
          "name": "stdout",
          "text": [
            "Original String:  Hello, World! How are you?\n",
            "Modified String:  Hello World How are you\n"
          ]
        }
      ]
    },
    {
      "cell_type": "code",
      "source": [],
      "metadata": {
        "id": "6HbBK5hpbc1_"
      },
      "execution_count": null,
      "outputs": []
    }
  ]
}