{
  "nbformat": 4,
  "nbformat_minor": 0,
  "metadata": {
    "colab": {
      "provenance": [],
      "authorship_tag": "ABX9TyMHNK1Ca5ra0k8C7/Jg+Pvi",
      "include_colab_link": true
    },
    "kernelspec": {
      "name": "python3",
      "display_name": "Python 3"
    },
    "language_info": {
      "name": "python"
    }
  },
  "cells": [
    {
      "cell_type": "markdown",
      "metadata": {
        "id": "view-in-github",
        "colab_type": "text"
      },
      "source": [
        "<a href=\"https://colab.research.google.com/github/Somesh140/iNeauron_FSDS_Assignments/blob/main/Python_Basic_assignment/Assignment10.ipynb\" target=\"_parent\"><img src=\"https://colab.research.google.com/assets/colab-badge.svg\" alt=\"Open In Colab\"/></a>"
      ]
    },
    {
      "cell_type": "markdown",
      "source": [
        "1. How do you distinguish between shutil.copy() and shutil.copytree()?\n",
        "2. What function is used to rename files??\n",
        "3. What is the difference between the delete functions in the send2trash and shutil modules?\n",
        "4.ZipFile objects have a close() method just like File objects’ close() method. What ZipFile method is\n",
        "equivalent to File objects’ open() method?\n",
        "5. Create a programme that searches a folder tree for files with a certain file extension (such as .pdf\n",
        "or .jpg). Copy these files from whatever location they are in to a new folder."
      ],
      "metadata": {
        "id": "JMGNuYbBfwPj"
      }
    },
    {
      "cell_type": "markdown",
      "source": [
        "Answer\n",
        "\n",
        "---\n",
        "\n",
        "1. shutil.copy() is used to copy a single file from one location to another, while shutil.copytree() is used to copy an entire directory (including all its files and subdirectories) from one location to another.\n",
        "2. The os.rename() function is used to rename files.\n",
        "3. The delete functions in the send2trash module move files or directories to the recycle bin or trash, allowing for recovery, while the delete functions in the shutil module permanently delete files or directories.\n",
        "4. The ZipFile method equivalent to File objects’ open() method is ZipFile().\n",
        "Here's an example Python program that searches a folder tree for files with a certain file extension (in this case, \".txt\") and copies them to a new folder called \"new_folder\":\n",
        "\n",
        "\n",
        "```\n",
        "import os\n",
        "import shutil\n",
        "\n",
        "# Define the source and destination folders\n",
        "source_folder = r\"C:\\source_folder\"\n",
        "destination_folder = r\"C:\\destination_folder\"\n",
        "\n",
        "# Define the file extension to search for\n",
        "file_extension = \".txt\"\n",
        "\n",
        "# Loop through all the files in the source folder\n",
        "for root, dirs, files in os.walk(source_folder):\n",
        "    for file in files:\n",
        "        # Check if the file has the desired extension\n",
        "        if file.endswith(file_extension):\n",
        "            # Construct the full path of the source file\n",
        "            source_path = os.path.join(root, file)\n",
        "            # Construct the full path of the destination file\n",
        "            destination_path = os.path.join(destination_folder, file)\n",
        "            # Copy the file to the destination folder\n",
        "            shutil.copy(source_path, destination_path)\n",
        "\n",
        "```\n",
        "Note that in the code above, os.walk() is used to recursively traverse the directory tree of the source folder, and os.path.join() is used to construct the full paths of the files and directories. The shutil.copy() function is used to copy the files to the destination folder.\n"
      ],
      "metadata": {
        "id": "0UfGQISpf1f3"
      }
    },
    {
      "cell_type": "code",
      "execution_count": null,
      "metadata": {
        "id": "X1u6dC25fe0t"
      },
      "outputs": [],
      "source": []
    }
  ]
}