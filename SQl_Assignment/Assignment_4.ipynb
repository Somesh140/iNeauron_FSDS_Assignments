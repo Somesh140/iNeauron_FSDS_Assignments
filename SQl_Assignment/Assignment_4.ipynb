{
  "nbformat": 4,
  "nbformat_minor": 0,
  "metadata": {
    "colab": {
      "provenance": [],
      "authorship_tag": "ABX9TyPUczEatbinSIEXlPyrfQQy",
      "include_colab_link": true
    },
    "kernelspec": {
      "name": "python3",
      "display_name": "Python 3"
    },
    "language_info": {
      "name": "python"
    }
  },
  "cells": [
    {
      "cell_type": "markdown",
      "metadata": {
        "id": "view-in-github",
        "colab_type": "text"
      },
      "source": [
        "<a href=\"https://colab.research.google.com/github/Somesh140/iNeauron_FSDS_Assignments/blob/main/SQl_Assignment/Assignment_4.ipynb\" target=\"_parent\"><img src=\"https://colab.research.google.com/assets/colab-badge.svg\" alt=\"Open In Colab\"/></a>"
      ]
    },
    {
      "cell_type": "markdown",
      "source": [
        "Q-1. Write an SQL query to print the FIRST_NAME from Worker table after replacing ‘a’\n",
        "with ‘A’.\n",
        "\n",
        "Q-2. Write an SQL query to print all Worker details from the Worker table order by\n",
        "FIRST_NAME Ascending and DEPARTMENT Descending.\n",
        "\n",
        "Q-3. Write an SQL query to fetch the names of workers who earn the highest salary.\n",
        "\n",
        "\n",
        "```\n",
        "# 1\n",
        "SELECT REPLACE(FIRST_NAME, 'a', 'A') AS FIRST_NAME FROM Worker;\n",
        "\n",
        "#2\n",
        "\n",
        "SELECT * FROM Worker ORDER BY FIRST_NAME ASC, DEPARTMENT DESC;\n",
        "\n",
        "#3\n",
        "\n",
        "SELECT FIRST_NAME, LAST_NAME FROM Worker\n",
        "WHERE Salary = (SELECT MAX(Salary) FROM Worker);\n",
        "\n",
        "```\n",
        "\n"
      ],
      "metadata": {
        "id": "ChJer67PDYNy"
      }
    },
    {
      "cell_type": "code",
      "execution_count": null,
      "metadata": {
        "id": "OOgCxF7mDBE0"
      },
      "outputs": [],
      "source": []
    }
  ]
}