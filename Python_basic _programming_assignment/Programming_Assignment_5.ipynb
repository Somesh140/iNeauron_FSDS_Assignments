{
  "nbformat": 4,
  "nbformat_minor": 0,
  "metadata": {
    "colab": {
      "provenance": [],
      "authorship_tag": "ABX9TyOLRWv902KXRj3n6kNTlnrP",
      "include_colab_link": true
    },
    "kernelspec": {
      "name": "python3",
      "display_name": "Python 3"
    },
    "language_info": {
      "name": "python"
    }
  },
  "cells": [
    {
      "cell_type": "markdown",
      "metadata": {
        "id": "view-in-github",
        "colab_type": "text"
      },
      "source": [
        "<a href=\"https://colab.research.google.com/github/Somesh140/iNeauron_FSDS_Assignments/blob/main/Python_Basic_assignment/Assignment_5.ipynb\" target=\"_parent\"><img src=\"https://colab.research.google.com/assets/colab-badge.svg\" alt=\"Open In Colab\"/></a>"
      ]
    },
    {
      "cell_type": "markdown",
      "source": [
        "1. Write a Python Program to Find LCM?\n",
        "2. Write a Python Program to Find HCF?\n",
        "3. Write a Python Program to Convert Decimal to Binary, Octal and Hexadecimal?\n",
        "4. Write a Python Program To Find ASCII value of a character?\n",
        "5. Write a Python Program to Make a Simple Calculator with 4 basic mathematical operations?"
      ],
      "metadata": {
        "id": "I0jiKg4ex6DY"
      }
    },
    {
      "cell_type": "code",
      "source": [
        "#1 \n",
        "def find_lcm(num1, num2):\n",
        "    if num1 > num2:\n",
        "        greater = num1\n",
        "    else:\n",
        "        greater = num2\n",
        "\n",
        "    while True:\n",
        "        if greater % num1 == 0 and greater % num2 == 0:\n",
        "            lcm = greater\n",
        "            break\n",
        "        greater += 1\n",
        "\n",
        "    return lcm\n",
        "\n",
        "print(find_lcm(12, 30)) # Output: 60\n"
      ],
      "metadata": {
        "colab": {
          "base_uri": "https://localhost:8080/"
        },
        "id": "VrDT7JaAx85Y",
        "outputId": "ea0c9a19-9b12-422b-a620-7745a0eece03"
      },
      "execution_count": 1,
      "outputs": [
        {
          "output_type": "stream",
          "name": "stdout",
          "text": [
            "60\n"
          ]
        }
      ]
    },
    {
      "cell_type": "code",
      "source": [
        "#2\n",
        "def find_hcf(num1, num2):\n",
        "    if num1 > num2:\n",
        "        smaller = num2\n",
        "    else:\n",
        "        smaller = num1\n",
        "\n",
        "    for i in range(1, smaller + 1):\n",
        "        if num1 % i == 0 and num2 % i == 0:\n",
        "            hcf = i\n",
        "\n",
        "    return hcf\n",
        "\n",
        "print(find_hcf(24, 36)) # Output: 12\n"
      ],
      "metadata": {
        "colab": {
          "base_uri": "https://localhost:8080/"
        },
        "id": "aH4-8R7m0L1y",
        "outputId": "5fae6c16-c1ee-4a4e-f8d6-81d01258fa0d"
      },
      "execution_count": 3,
      "outputs": [
        {
          "output_type": "stream",
          "name": "stdout",
          "text": [
            "12\n"
          ]
        }
      ]
    },
    {
      "cell_type": "code",
      "source": [
        "#3\n",
        "num = 255\n",
        "\n",
        "# Decimal to Binary\n",
        "print(bin(num)) # Output: 0b11111111\n",
        "\n",
        "# Decimal to Octal\n",
        "print(oct(num)) # Output: 0o377\n",
        "\n",
        "# Decimal to Hexadecimal\n",
        "print(hex(num)) # Output: 0xff\n"
      ],
      "metadata": {
        "colab": {
          "base_uri": "https://localhost:8080/"
        },
        "id": "-PoEAYJ4yBPP",
        "outputId": "b578652c-46c9-4298-dee2-a09f78befffa"
      },
      "execution_count": 2,
      "outputs": [
        {
          "output_type": "stream",
          "name": "stdout",
          "text": [
            "0b11111111\n",
            "0o377\n",
            "0xff\n"
          ]
        }
      ]
    },
    {
      "cell_type": "code",
      "source": [
        "#4\n",
        "char = 'A'\n",
        "print(ord(char)) # Output: 65\n",
        "\n"
      ],
      "metadata": {
        "colab": {
          "base_uri": "https://localhost:8080/"
        },
        "id": "QTIP8m8g0DOr",
        "outputId": "2c0edd83-12e8-4503-dbdf-a544a0d10c30"
      },
      "execution_count": 4,
      "outputs": [
        {
          "output_type": "stream",
          "name": "stdout",
          "text": [
            "65\n"
          ]
        }
      ]
    },
    {
      "cell_type": "code",
      "source": [
        "#5\n",
        "def add(num1, num2):\n",
        "    return num1 + num2\n",
        "\n",
        "def subtract(num1, num2):\n",
        "    return num1 - num2\n",
        "\n",
        "def multiply(num1, num2):\n",
        "    return num1 * num2\n",
        "\n",
        "def divide(num1, num2):\n",
        "    return num1 / num2\n",
        "\n",
        "num1 = float(input(\"Enter first number: \"))\n",
        "num2 = float(input(\"Enter second number: \"))\n",
        "operation = input(\"Enter operation (+, -, *, /): \")\n",
        "\n",
        "if operation == '+':\n",
        "    print(add(num1, num2))\n",
        "\n",
        "elif operation == '-':\n",
        "    print(subtract(num1, num2))\n",
        "\n",
        "elif operation == '*':\n",
        "    print(multiply(num1, num2))\n",
        "\n",
        "elif operation == '/':\n",
        "    print(divide(num1, num2))\n",
        "\n",
        "else:\n",
        "    print(\"Invalid operation\")\n"
      ],
      "metadata": {
        "colab": {
          "base_uri": "https://localhost:8080/"
        },
        "id": "FZ-9N0OZ0Xs5",
        "outputId": "c6bd5196-6bf9-411b-8035-83c8c37d6c83"
      },
      "execution_count": 5,
      "outputs": [
        {
          "output_type": "stream",
          "name": "stdout",
          "text": [
            "Enter first number: 3\n",
            "Enter second number: 4\n",
            "Enter operation (+, -, *, /): /\n",
            "0.75\n"
          ]
        }
      ]
    },
    {
      "cell_type": "code",
      "source": [],
      "metadata": {
        "id": "UoNG9xaZ0eee"
      },
      "execution_count": null,
      "outputs": []
    }
  ]
}