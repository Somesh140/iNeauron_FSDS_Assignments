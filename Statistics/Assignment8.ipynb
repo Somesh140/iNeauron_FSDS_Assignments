{
  "nbformat": 4,
  "nbformat_minor": 0,
  "metadata": {
    "colab": {
      "provenance": [],
      "authorship_tag": "ABX9TyMkzZja3jJfuJp7l4OG2dft",
      "include_colab_link": true
    },
    "kernelspec": {
      "name": "python3",
      "display_name": "Python 3"
    },
    "language_info": {
      "name": "python"
    }
  },
  "cells": [
    {
      "cell_type": "markdown",
      "metadata": {
        "id": "view-in-github",
        "colab_type": "text"
      },
      "source": [
        "<a href=\"https://colab.research.google.com/github/Somesh140/iNeauron_FSDS_Assignments/blob/main/Statistics/Assignment8.ipynb\" target=\"_parent\"><img src=\"https://colab.research.google.com/assets/colab-badge.svg\" alt=\"Open In Colab\"/></a>"
      ]
    },
    {
      "cell_type": "markdown",
      "source": [
        "A crime is committed by one of two suspects, A and B. Initially, there is equal evidence\n",
        "against both of them. In further investigation at the crime scene, it is found that the guilty\n",
        "party had a blood type found in 10% of the population. Suspect A does match this blood\n",
        "type, whereas the blood type of Suspect B is unknown. (a) Given this new information, what\n",
        "is the probability that A is the guilty party? (b) Given this new information, what is the\n",
        "probability that B’s blood type matches that found at the crime scene?"
      ],
      "metadata": {
        "id": "xr1sUwqBf3O8"
      }
    },
    {
      "cell_type": "markdown",
      "source": [
        "#Answer"
      ],
      "metadata": {
        "id": "7PgQxIsif9ji"
      }
    },
    {
      "cell_type": "markdown",
      "source": [
        "Let's define the events: \\\n",
        "A = Suspect A is guilty\n",
        "B = Suspect B is guilty \\\n",
        "C = Blood type matches the one found at the crime scene\n",
        "\n",
        "(a) We want to calculate P(A|C), which is the probability that Suspect A is guilty given that the blood type matches.\n",
        "\n",
        "According to the problem statement: \\\n",
        "P(A) = P(B) = 0.5 (Equal evidence against both suspects initially) \\\n",
        "P(C|A) = 1 (Suspect A matches the blood type) \\\n",
        "P(C|B) = 0.1 (Suspect B's blood type matches the one found at the crime scene) \n",
        "\n",
        "We can calculate P(A|C) using Bayes' theorem: \\\n",
        "P(A|C) = (P(C|A) * P(A)) / P(C)\n",
        "\n",
        "To calculate P(C), we can use the law of total probability:\n",
        "P(C) = P(C|A) * P(A) + P(C|B) * P(B) \\\n",
        "      = 1 * 0.5 + 0.1 * 0.5 \\\n",
        "      = 0.5 + 0.05 \\\n",
        "      = 0.55\n",
        "\n",
        "Now we can substitute the values into Bayes' theorem: \\\n",
        "P(A|C) = (1 * 0.5) / 0.55 \\\n",
        "       = 0.5 / 0.55 \\\n",
        "       ≈ 0.9091\n",
        "\n",
        "Therefore, the probability that Suspect A is guilty given that the blood type matches is approximately 0.9091, or 90.91%.\n",
        "\n",
        "(b) We want to calculate P(C|B), which is the probability that Suspect B's blood type matches the one found at the crime scene.\n",
        "\n",
        "Using Bayes' theorem: \\\n",
        "P(C|B) = (P(B|C) * P(C)) / P(B) \\\n",
        "\n",
        "To calculate P(B), we can use the law of total probability: \\\n",
        "P(B) = P(B|C) * P(C) + P(B|not C) * P(not C) \\\n",
        "      = P(B|C) * P(C) + P(B) * P(not C) (assuming equal evidence against both suspects initially) \\\n",
        "      = P(B|C) * P(C) + P(B) * (1 - P(C)) (since P(not C) = 1 - P(C))\n",
        "\n",
        "Since the blood type of Suspect B is unknown, we assume that P(B|C) = P(C|B), which is 0.1.\n",
        "\n",
        "Now we can substitute the values into Bayes' theorem:\\\n",
        "P(C|B) = (0.1 * P(C)) / P(B)\n",
        "\n",
        "Substituting the value of P(C) calculated earlier, we get: \\\n",
        "P(C|B) = (0.1 * 0.55) / P(B)\n",
        "\n",
        "We know that P(C|B) = 0.1 (from the problem statement), so: \\\n",
        "0.1 = (0.1 * 0.55) / P(B)\n",
        "\n",
        "Simplifying the equation, we find: \\\n",
        "P(B) = 0.55\n",
        "\n",
        "Therefore, the probability that Suspect B's blood type matches the one found at the crime scene is 0.55, or 55%."
      ],
      "metadata": {
        "id": "rligmfUNe7Mu"
      }
    },
    {
      "cell_type": "code",
      "execution_count": null,
      "metadata": {
        "id": "xGlvX9sHe442"
      },
      "outputs": [],
      "source": []
    }
  ]
}