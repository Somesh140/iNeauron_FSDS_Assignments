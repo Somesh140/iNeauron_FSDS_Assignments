{
  "nbformat": 4,
  "nbformat_minor": 0,
  "metadata": {
    "colab": {
      "provenance": [],
      "authorship_tag": "ABX9TyMQho8DLdeBeO7pY7FfF//t",
      "include_colab_link": true
    },
    "kernelspec": {
      "name": "python3",
      "display_name": "Python 3"
    },
    "language_info": {
      "name": "python"
    }
  },
  "cells": [
    {
      "cell_type": "markdown",
      "metadata": {
        "id": "view-in-github",
        "colab_type": "text"
      },
      "source": [
        "<a href=\"https://colab.research.google.com/github/Somesh140/iNeauron_FSDS_Assignments/blob/main/SQl_Assignment/SQL6.ipynb\" target=\"_parent\"><img src=\"https://colab.research.google.com/assets/colab-badge.svg\" alt=\"Open In Colab\"/></a>"
      ]
    },
    {
      "cell_type": "markdown",
      "source": [
        "Q-1. Write an SQL query to print details of the Workers who have joined in Feb’2014.\n",
        "\n",
        "Q-2. Write an SQL query to fetch duplicate records having matching data in some fields of\n",
        "a table.\n",
        "\n",
        "Q-3. How to remove duplicate rows from Employees table.\n"
      ],
      "metadata": {
        "id": "yMIOg4gdhsly"
      }
    },
    {
      "cell_type": "code",
      "execution_count": null,
      "metadata": {
        "id": "wdI9uzJShrJm"
      },
      "outputs": [],
      "source": [
        "#1\n",
        "SELECT *\n",
        "FROM Worker\n",
        "WHERE MONTH(join_date) = 2 AND YEAR(join_date) = 2014;\n"
      ]
    },
    {
      "cell_type": "code",
      "source": [
        "#2\n",
        "SELECT field1, field2, COUNT(*)\n",
        "FROM myTable\n",
        "GROUP BY field1, field2\n",
        "HAVING COUNT(*) > 1;\n"
      ],
      "metadata": {
        "id": "BFfQ8s67hzGp"
      },
      "execution_count": null,
      "outputs": []
    },
    {
      "cell_type": "code",
      "source": [
        "#3\n",
        "DELETE e1\n",
        "FROM Employees e1, Employees e2\n",
        "WHERE e1.id > e2.id AND e1.email = e2.email;\n",
        "\n",
        "SELECT DISTINCT *\n",
        "FROM Employees;"
      ],
      "metadata": {
        "id": "OsH6eSi8h1g7"
      },
      "execution_count": null,
      "outputs": []
    }
  ]
}