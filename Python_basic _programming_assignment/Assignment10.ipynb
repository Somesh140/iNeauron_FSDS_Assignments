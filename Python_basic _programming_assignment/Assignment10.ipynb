{
  "nbformat": 4,
  "nbformat_minor": 0,
  "metadata": {
    "colab": {
      "provenance": [],
      "authorship_tag": "ABX9TyOLWB+rujJ/4NQa9OCtLhfZ",
      "include_colab_link": true
    },
    "kernelspec": {
      "name": "python3",
      "display_name": "Python 3"
    },
    "language_info": {
      "name": "python"
    }
  },
  "cells": [
    {
      "cell_type": "markdown",
      "metadata": {
        "id": "view-in-github",
        "colab_type": "text"
      },
      "source": [
        "<a href=\"https://colab.research.google.com/github/Somesh140/iNeauron_FSDS_Assignments/blob/main/Python_basic%20_programming_assignment/Assignment10.ipynb\" target=\"_parent\"><img src=\"https://colab.research.google.com/assets/colab-badge.svg\" alt=\"Open In Colab\"/></a>"
      ]
    },
    {
      "cell_type": "markdown",
      "source": [
        "1. Write a Python program to find sum of elements in list?\n",
        "2. Write a Python program to Multiply all numbers in the list?\n",
        "3. Write a Python program to find smallest number in a list?\n",
        "4. Write a Python program to find largest number in a list?\n",
        "5. Write a Python program to find second largest number in a list?\n",
        "6. Write a Python program to find N largest elements from a list?\n",
        "7. Write a Python program to print even numbers in a list?\n",
        "8. Write a Python program to print odd numbers in a List?\n",
        "9. Write a Python program to Remove empty List from List?\n",
        "10. Write a Python program to Cloning or Copying a list?\n",
        "11. Write a Python program to Count occurrences of an element in a list?"
      ],
      "metadata": {
        "id": "DJ8s5W0gRE_u"
      }
    },
    {
      "cell_type": "code",
      "execution_count": 1,
      "metadata": {
        "colab": {
          "base_uri": "https://localhost:8080/"
        },
        "id": "txYnWxQgRCH3",
        "outputId": "6309ff7d-c7e2-4217-a985-3a5ef51a11a9"
      },
      "outputs": [
        {
          "output_type": "stream",
          "name": "stdout",
          "text": [
            "The sum of elements in the list is: 15\n"
          ]
        }
      ],
      "source": [
        "#1 Python program to find the sum of elements in a list:\n",
        "my_list = [1, 2, 3, 4, 5]\n",
        "list_sum = sum(my_list)\n",
        "print(\"The sum of elements in the list is:\", list_sum)\n"
      ]
    },
    {
      "cell_type": "code",
      "source": [
        "#2 Python program to multiply all numbers in a list:\n",
        "my_list = [1, 2, 3, 4, 5]\n",
        "list_product = 1\n",
        "for i in my_list:\n",
        "    list_product *= i\n",
        "print(\"The product of elements in the list is:\", list_product)\n"
      ],
      "metadata": {
        "colab": {
          "base_uri": "https://localhost:8080/"
        },
        "id": "ZBN4eG39RQx6",
        "outputId": "3058b4e1-49ee-4d88-ab95-3cc886adeba7"
      },
      "execution_count": 2,
      "outputs": [
        {
          "output_type": "stream",
          "name": "stdout",
          "text": [
            "The product of elements in the list is: 120\n"
          ]
        }
      ]
    },
    {
      "cell_type": "code",
      "source": [
        "#3 Python program to find the smallest number in a list:\n",
        "my_list = [3, 4, 1, 7, 9, 2]\n",
        "smallest = my_list[0]\n",
        "for i in my_list:\n",
        "    if i < smallest:\n",
        "        smallest = i\n",
        "print(\"The smallest number in the list is:\", smallest)\n"
      ],
      "metadata": {
        "colab": {
          "base_uri": "https://localhost:8080/"
        },
        "id": "lkL1qwFVRXun",
        "outputId": "5bd78088-d7dd-4679-acca-6829ae6c6397"
      },
      "execution_count": 3,
      "outputs": [
        {
          "output_type": "stream",
          "name": "stdout",
          "text": [
            "The smallest number in the list is: 1\n"
          ]
        }
      ]
    },
    {
      "cell_type": "code",
      "source": [
        "#4 Python program to find the largest number in a list:\n",
        "my_list = [3, 4, 1, 7, 9, 2]\n",
        "largest = my_list[0]\n",
        "for i in my_list:\n",
        "    if i > largest:\n",
        "        largest = i\n",
        "print(\"The largest number in the list is:\", largest)\n"
      ],
      "metadata": {
        "colab": {
          "base_uri": "https://localhost:8080/"
        },
        "id": "5IFemxGZRdQ-",
        "outputId": "e8664ebc-f6e6-49b4-d8e0-b3ce38304b44"
      },
      "execution_count": 4,
      "outputs": [
        {
          "output_type": "stream",
          "name": "stdout",
          "text": [
            "The largest number in the list is: 9\n"
          ]
        }
      ]
    },
    {
      "cell_type": "code",
      "source": [
        "#5 Python program to find the second largest number in a list:\n",
        "my_list = [3, 4, 1, 7, 9, 2]\n",
        "my_list.sort()\n",
        "second_largest = my_list[-2]\n",
        "print(\"The second largest number in the list is:\", second_largest)\n"
      ],
      "metadata": {
        "colab": {
          "base_uri": "https://localhost:8080/"
        },
        "id": "F1zcnSc5SFBq",
        "outputId": "c02cec45-0b2a-4386-b5e4-a00574c4e3a0"
      },
      "execution_count": 5,
      "outputs": [
        {
          "output_type": "stream",
          "name": "stdout",
          "text": [
            "The second largest number in the list is: 7\n"
          ]
        }
      ]
    },
    {
      "cell_type": "code",
      "source": [
        "#6 Python program to find N largest elements from a list:\n",
        "my_list = [3, 4, 1, 7, 9, 2]\n",
        "n = 3\n",
        "my_list.sort()\n",
        "print(\"The\", n, \"largest numbers in the list are:\", my_list[-n:])\n"
      ],
      "metadata": {
        "colab": {
          "base_uri": "https://localhost:8080/"
        },
        "id": "KpVIE-NpSTBr",
        "outputId": "c13aa741-69e4-438a-bb46-d46f2b31a454"
      },
      "execution_count": 6,
      "outputs": [
        {
          "output_type": "stream",
          "name": "stdout",
          "text": [
            "The 3 largest numbers in the list are: [4, 7, 9]\n"
          ]
        }
      ]
    },
    {
      "cell_type": "code",
      "source": [
        "#7 Python program to print even numbers in a list:\n",
        "my_list = [3, 4, 1, 7, 9, 2]\n",
        "even_numbers = []\n",
        "for i in my_list:\n",
        "    if i % 2 == 0:\n",
        "        even_numbers.append(i)\n",
        "print(\"The even numbers in the list are:\", even_numbers)\n"
      ],
      "metadata": {
        "colab": {
          "base_uri": "https://localhost:8080/"
        },
        "id": "7AZQroTBSZbw",
        "outputId": "0f0442ce-bf29-4622-9784-10f260fee8e1"
      },
      "execution_count": 7,
      "outputs": [
        {
          "output_type": "stream",
          "name": "stdout",
          "text": [
            "The even numbers in the list are: [4, 2]\n"
          ]
        }
      ]
    },
    {
      "cell_type": "code",
      "source": [
        "#8 Python program to print odd numbers in a list:\n",
        "my_list = [3, 4, 1, 7, 9, 2]\n",
        "odd_numbers = []\n",
        "for i in my_list:\n",
        "    if i % 2 != 0:\n",
        "        odd_numbers.append(i)\n",
        "print(\"The odd numbers in the list are:\", odd_numbers)\n"
      ],
      "metadata": {
        "colab": {
          "base_uri": "https://localhost:8080/"
        },
        "id": "9zDUPuCySee4",
        "outputId": "d15e123e-5246-4218-acdb-b41f1d92a9c5"
      },
      "execution_count": 8,
      "outputs": [
        {
          "output_type": "stream",
          "name": "stdout",
          "text": [
            "The odd numbers in the list are: [3, 1, 7, 9]\n"
          ]
        }
      ]
    },
    {
      "cell_type": "code",
      "source": [
        "#9 Python program to remove empty list from a list:\n",
        "my_list = [3, [], 4, [], 1, 7, [], 9, 2, []]\n",
        "new_list = list(filter(None, my_list))\n",
        "new_list"
      ],
      "metadata": {
        "colab": {
          "base_uri": "https://localhost:8080/"
        },
        "id": "ot4SRKJ5Slzf",
        "outputId": "6fba4fba-b164-421e-e8a3-fa136ef0c8a7"
      },
      "execution_count": 10,
      "outputs": [
        {
          "output_type": "execute_result",
          "data": {
            "text/plain": [
              "[3, 4, 1, 7, 9, 2]"
            ]
          },
          "metadata": {},
          "execution_count": 10
        }
      ]
    },
    {
      "cell_type": "code",
      "source": [],
      "metadata": {
        "id": "bZqvhf9hSsF5"
      },
      "execution_count": null,
      "outputs": []
    }
  ]
}