{
  "nbformat": 4,
  "nbformat_minor": 0,
  "metadata": {
    "colab": {
      "provenance": [],
      "authorship_tag": "ABX9TyM/RNApUHGDORq3kdJ6f1Kz"
    },
    "kernelspec": {
      "name": "python3",
      "display_name": "Python 3"
    },
    "language_info": {
      "name": "python"
    }
  },
  "cells": [
    {
      "cell_type": "markdown",
      "source": [
        "1. What is the concept of an abstract superclass?\n",
        "\n",
        "2. What happens when a class statement&#39;s top level contains a basic assignment statement?\n",
        "\n",
        "3. Why does a class need to manually call a superclass&#39;s __init__ method?\n",
        "\n",
        "4. How can you augment, instead of completely replacing, an inherited method?\n",
        "\n",
        "5. How is the local scope of a class different from that of a function?"
      ],
      "metadata": {
        "id": "FW7vAArO4HLO"
      }
    },
    {
      "cell_type": "markdown",
      "source": [
        "Answer\n",
        "\n",
        "\n",
        "---\n",
        "\n",
        "\n",
        "1. An abstract superclass is a class that defines common attributes and methods for its subclass but cannot be instantiated on its own. It is designed to be a blueprint or template for its subclass and serves as a way to organize and structure code.\n",
        "\n",
        "2. When a class statement's top-level contains a basic assignment statement, it creates a class-level variable that is shared by all instances of the class. This variable can be accessed using the class name or any instance of the class.\n",
        "\n",
        "3. A class needs to manually call a superclass's __init__ method to initialize the superclass's attributes and methods. If the subclass does not call the superclass's __init__ method, the superclass's initialization code will not be executed, and the subclass may not function correctly.\n",
        "\n",
        "4. To augment an inherited method, you can use the super() function to call the parent class's method and then add additional functionality before or after the parent class's method call. This technique is called method overriding, and it allows you to customize the behavior of the inherited method without completely replacing it.\n",
        "\n",
        "5. In Python, the local scope of a class is different from that of a function in that it includes not only variables defined within the class but also variables inherited from its superclass. Additionally, class methods have access to the class's namespace, which allows them to modify the class's attributes and methods. In contrast, a function's local scope only includes variables defined within the function and any variables passed in as arguments."
      ],
      "metadata": {
        "id": "-R5avFzt4ivp"
      }
    },
    {
      "cell_type": "code",
      "execution_count": null,
      "metadata": {
        "id": "urKRvqRm4ETw"
      },
      "outputs": [],
      "source": []
    }
  ]
}