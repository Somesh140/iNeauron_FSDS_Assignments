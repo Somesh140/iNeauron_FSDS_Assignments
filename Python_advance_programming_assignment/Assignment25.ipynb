{
  "nbformat": 4,
  "nbformat_minor": 0,
  "metadata": {
    "colab": {
      "provenance": [],
      "authorship_tag": "ABX9TyNtkUmy4MdCUL962SDeEjNP",
      "include_colab_link": true
    },
    "kernelspec": {
      "name": "python3",
      "display_name": "Python 3"
    },
    "language_info": {
      "name": "python"
    }
  },
  "cells": [
    {
      "cell_type": "markdown",
      "metadata": {
        "id": "view-in-github",
        "colab_type": "text"
      },
      "source": [
        "<a href=\"https://colab.research.google.com/github/Somesh140/iNeauron_FSDS_Assignments/blob/main/Python_advance_programming_assignment/Assignment25.ipynb\" target=\"_parent\"><img src=\"https://colab.research.google.com/assets/colab-badge.svg\" alt=\"Open In Colab\"/></a>"
      ]
    },
    {
      "cell_type": "markdown",
      "source": [
        "1. Write four functions that directly mutate a list:\n",
        "1. repeat(lst, n): Repeat lst n times.\n",
        "2. add(lst, x): Adds x to the end of the lst.\n",
        "3. remove(lst, m, n): Removes all elements between indices m and n\n",
        "inclusive in lst.\n",
        "4. concat(lst, x): concatenates lst with x (another list).\n",
        "Examples\n",
        "lst = [1, 2, 3, 4]\n",
        "repeat(lst, 3) ➞ [1, 2, 3, 4, 1, 2, 3, 4, 1, 2, 3, 4]\n",
        "add(lst, 1) ➞ [1, 2, 3, 4, 1, 2, 3, 4, 1, 2, 3, 4, 1]\n",
        "remove(lst, 1, 12) ➞ [1]\n",
        "concat(lst, [3, 4]) ➞ [1, 3, 4]\n",
        "2. The classic game of Mastermind is played on a tray on which the\n",
        "Mastermind conceals a code and the Guesser has 10 tries to guess it. The\n",
        "code is a sequence of 4 (or 6, sometimes more) pegs of different colors. Each\n",
        "guess is a corresponding sequence of 4 (or more) pegs of different colors. A\n",
        "guess is &quot;correct&quot; when the color of every peg in the guess exactly matches\n",
        "the corresponding peg in the Mastermind&#39;s code.\n",
        "After each guess by the Guesser, the Mastermind will give a score comprising\n",
        "black &amp; white pegs, not arranged in any order:\n",
        "- Black peg == guess peg matches the color of a code peg in the same\n",
        "position.\n",
        "- White peg == guess peg matches the color of a code peg in another\n",
        "position.\n",
        "Create a function that takes two strings, code and guess as arguments, and\n",
        "returns the score in a dictionary.\n",
        "- The code and guess are strings of numeric digits\n",
        "- The color of the pegs are represented by numeric digits\n",
        "- no &quot;peg&quot; may be double-scored\n",
        "Examples\n",
        "guess_score(&quot;1423&quot;, &quot;5678&quot;) ➞ {&quot;black&quot;: 0, &quot;white&quot;: 0}\n",
        "\n",
        "guess_score(&quot;1423&quot;, &quot;2222&quot;) ➞ {&quot;black&quot;: 1, &quot;white&quot;: 0}\n",
        "guess_score(&quot;1423&quot;, &quot;1234&quot;) ➞ {&quot;black&quot;: 1, &quot;white&quot;: 3}\n",
        "guess_score(&quot;1423&quot;, &quot;2211&quot;) ➞ {&quot;black&quot;: 0, &quot;white&quot;: 2}\n",
        "3. Create a function that takes a list lst and a number N and returns a list of\n",
        "two integers from lst whose product equals N.\n",
        "Examples\n",
        "two_product([1, 2, -1, 4, 5], 20) ➞ [4, 5]\n",
        "two_product([1, 2, 3, 4, 5], 10) ➞ [2, 5]\n",
        "two_product([100, 12, 4, 1, 2], 15) ➞ None\n",
        "\n",
        "4. In this challenge, sort a list containing a series of dates given as strings.\n",
        "Each date is given in the format DD-MM-YYYY_HH:MM:\n",
        "&quot;12-02-2012_13:44&quot;\n",
        "The priority of criteria used for sorting will be:\n",
        "- Year\n",
        "- Month\n",
        "- Day\n",
        "- Hours\n",
        "- Minutes\n",
        "Given a list lst and a string mode, implement a function that returns:\n",
        "- if mode is equal to &quot;ASC&quot;, the list lst sorted in ascending order.\n",
        "- if mode is equal to &quot;DSC&quot;, the list lst sorted in descending order.\n",
        "Examples\n",
        "sort_dates([&quot;10-02-2018_12:30&quot;, &quot;10-02-2016_12:30&quot;, &quot;10-02-2018_12:15&quot;],\n",
        "&quot;ASC&quot;) ➞ [&quot;10-02-2016_12:30&quot;, &quot;10-02-2018_12:15&quot;, &quot;10-02-2018_12:30&quot;]\n",
        "sort_dates([&quot;10-02-2018_12:30&quot;, &quot;10-02-2016_12:30&quot;, &quot;10-02-2018_12:15&quot;],\n",
        "&quot;DSC&quot;) ➞ [&quot;10-02-2018_12:30&quot;, &quot;10-02-2018_12:15&quot;, &quot;10-02-2016_12:30&quot;]\n",
        "\n",
        "sort_dates([&quot;09-02-2000_10:03&quot;, &quot;10-02-2000_18:29&quot;, &quot;01-01-1999_00:55&quot;],\n",
        "&quot;ASC&quot;) ➞ [&quot;01-01-1999_00:55&quot;, &quot;09-02-2000_10:03&quot;, &quot;10-02-2000_18:29&quot;]\n",
        "5. Write a function that selects all words that have all the same vowels (in any\n",
        "order and/or number) as the first word, including the first word.\n",
        "Examples\n",
        "same_vowel_group([&quot;toe&quot;, &quot;ocelot&quot;, &quot;maniac&quot;]) ➞ [&quot;toe&quot;, &quot;ocelot&quot;]\n",
        "same_vowel_group([&quot;many&quot;, &quot;carriage&quot;, &quot;emit&quot;, &quot;apricot&quot;, &quot;animal&quot;]) ➞\n",
        "[&quot;many&quot;]\n",
        "same_vowel_group([&quot;hoops&quot;, &quot;chuff&quot;, &quot;bot&quot;, &quot;bottom&quot;]) ➞ [&quot;hoops&quot;, &quot;bot&quot;,\n",
        "&quot;bottom&quot;]\n",
        "6. Create a function that takes a list of more than three numbers and returns\n",
        "the Least Common Multiple (LCM).\n",
        "Examples\n",
        "lcm_of_list([1, 2, 3, 4, 5, 6, 7, 8, 9, 10]) ➞ 2520\n",
        "lcm_of_list([13, 6, 17, 18, 19, 20, 37]) ➞ 27965340\n",
        "lcm_of_list([44, 64, 12, 17, 65]) ➞ 2333760"
      ],
      "metadata": {
        "id": "jEr78zyYTjfQ"
      }
    },
    {
      "cell_type": "code",
      "execution_count": 1,
      "metadata": {
        "id": "qm2nTeLGTWw-"
      },
      "outputs": [],
      "source": [
        "#1\n",
        "# 1. Repeat lst n times\n",
        "def repeat(lst, n):\n",
        "    lst.extend(lst * (n - 1))\n",
        "    return lst\n",
        "\n",
        "# 2. Add x to the end of lst\n",
        "def add(lst, x):\n",
        "    lst.append(x)\n",
        "    return lst\n",
        "\n",
        "# 3. Remove elements between indices m and n inclusive in lst\n",
        "def remove(lst, m, n):\n",
        "    del lst[m:n+1]\n",
        "    return lst\n",
        "\n",
        "# 4. Concatenate lst with x (another list)\n",
        "def concat(lst, x):\n",
        "    lst.extend(x)\n",
        "    return lst\n"
      ]
    },
    {
      "cell_type": "code",
      "source": [
        "lst = [1, 2, 3, 4]\n",
        "print(\"repeat\", repeat(lst, 3)) #➞ [1, 2, 3, 4, 1, 2, 3, 4, 1, 2, 3, 4]\n",
        "print(\"add\", add(lst, 1) )#➞ [1, 2, 3, 4, 1, 2, 3, 4, 1, 2, 3, 4, 1]\n",
        "print(\"remove\",remove(lst, 1, 12)) #➞ [1]\n",
        "print(\"concat\", concat(lst, [3, 4])) #➞ [1, 3, 4]"
      ],
      "metadata": {
        "colab": {
          "base_uri": "https://localhost:8080/"
        },
        "id": "RsqJe4loU3lG",
        "outputId": "15c210d9-6e22-47b3-bba5-f77829736f8b"
      },
      "execution_count": 9,
      "outputs": [
        {
          "output_type": "stream",
          "name": "stdout",
          "text": [
            "repeat [1, 2, 3, 4, 1, 2, 3, 4, 1, 2, 3, 4]\n",
            "add [1, 2, 3, 4, 1, 2, 3, 4, 1, 2, 3, 4, 1]\n",
            "remove [1]\n",
            "concat [1, 3, 4]\n"
          ]
        }
      ]
    },
    {
      "cell_type": "code",
      "source": [
        "#2\n",
        "def guess_score(code, guess):\n",
        "    score = {\"black\": 0, \"white\": 0}\n",
        "    code_list = list(code)\n",
        "    guess_list = list(guess)\n",
        "    \n",
        "    # Calculate black pegs\n",
        "    for i in range(len(code_list)):\n",
        "        if code_list[i] == guess_list[i]:\n",
        "            score[\"black\"] += 1\n",
        "            code_list[i] = \"x\"  # Mark matched positions in code_list\n",
        "            guess_list[i] = \"x\"  # Mark matched positions in guess_list\n",
        "    \n",
        "    # Calculate white pegs\n",
        "    for i in range(len(code_list)):\n",
        "        if guess_list[i] != \"x\" and guess_list[i] in code_list:\n",
        "            score[\"white\"] += 1\n",
        "            code_list[code_list.index(guess_list[i])] = \"x\"  # Mark matched positions in code_list\n",
        "    \n",
        "    return score\n"
      ],
      "metadata": {
        "id": "Wn5mdxhGUaQT"
      },
      "execution_count": 3,
      "outputs": []
    },
    {
      "cell_type": "code",
      "source": [
        "guess_score(\"1423\",\"5678\")"
      ],
      "metadata": {
        "colab": {
          "base_uri": "https://localhost:8080/"
        },
        "id": "sngIA0LUVdrW",
        "outputId": "ace4f5ed-b975-4e9b-ce3a-1984ed4ada52"
      },
      "execution_count": 10,
      "outputs": [
        {
          "output_type": "execute_result",
          "data": {
            "text/plain": [
              "{'black': 0, 'white': 0}"
            ]
          },
          "metadata": {},
          "execution_count": 10
        }
      ]
    },
    {
      "cell_type": "code",
      "source": [
        "guess_score(\"1423\",\"2222\")"
      ],
      "metadata": {
        "colab": {
          "base_uri": "https://localhost:8080/"
        },
        "id": "kF5GUArSVy-Q",
        "outputId": "e9fe22fc-40f1-48bd-e5d4-affa8f02d65e"
      },
      "execution_count": 12,
      "outputs": [
        {
          "output_type": "execute_result",
          "data": {
            "text/plain": [
              "{'black': 1, 'white': 0}"
            ]
          },
          "metadata": {},
          "execution_count": 12
        }
      ]
    },
    {
      "cell_type": "code",
      "source": [
        "#3\n",
        "def two_product(lst, N):\n",
        "    seen = set()\n",
        "    for num in lst:\n",
        "        if N % num == 0 and N // num in seen:\n",
        "            return [N // num, num]\n",
        "        seen.add(num)\n",
        "    return None\n"
      ],
      "metadata": {
        "id": "S5nhlzz4UpI8"
      },
      "execution_count": 4,
      "outputs": []
    },
    {
      "cell_type": "code",
      "source": [
        "two_product([1, 2, -1, 4, 5], 20)"
      ],
      "metadata": {
        "colab": {
          "base_uri": "https://localhost:8080/"
        },
        "id": "GtkDYFKzV7lQ",
        "outputId": "f844ebfa-8b1f-40eb-eb58-abea37bcfa1c"
      },
      "execution_count": 13,
      "outputs": [
        {
          "output_type": "execute_result",
          "data": {
            "text/plain": [
              "[4, 5]"
            ]
          },
          "metadata": {},
          "execution_count": 13
        }
      ]
    },
    {
      "cell_type": "code",
      "source": [
        "#4 \n",
        "def sort_dates(lst, mode):\n",
        "    def sort_key(date_str):\n",
        "        date, time = date_str.split('_')\n",
        "        day, month, year = map(int, date.split('-'))\n",
        "        hour, minute = map(int, time.split(':'))\n",
        "        return (year, month, day, hour, minute)\n",
        "    \n",
        "    if mode == \"ASC\":\n",
        "        return sorted(lst, key=sort_key)\n",
        "    elif mode == \"DSC\":\n",
        "        return sorted(lst, key=sort_key, reverse=True)\n",
        "    else:\n",
        "        return lst  # Invalid mode, return the original list\n"
      ],
      "metadata": {
        "id": "V_wuRJ6cUsMv"
      },
      "execution_count": 5,
      "outputs": []
    },
    {
      "cell_type": "code",
      "source": [
        "sort_dates([\"10-02-2018_12:30\", \"10-02-2016_12:30\", \"10-02-2018_12:15\"],\n",
        "\"ASC\")"
      ],
      "metadata": {
        "colab": {
          "base_uri": "https://localhost:8080/"
        },
        "id": "LpsGrpOBWDnb",
        "outputId": "ed3d057c-11dc-4215-ba88-33159e663c3d"
      },
      "execution_count": 14,
      "outputs": [
        {
          "output_type": "execute_result",
          "data": {
            "text/plain": [
              "['10-02-2016_12:30', '10-02-2018_12:15', '10-02-2018_12:30']"
            ]
          },
          "metadata": {},
          "execution_count": 14
        }
      ]
    },
    {
      "cell_type": "code",
      "source": [
        "#5\n",
        "def same_vowel_group(lst):\n",
        "    vowels = set(lst[0])  # Get the vowels in the first word\n",
        "    result = []\n",
        "    \n",
        "    for word in lst:\n",
        "        if set(word) == vowels:\n",
        "            result.append(word)\n",
        "    \n",
        "    return result\n"
      ],
      "metadata": {
        "id": "8mk5-QM9UuO0"
      },
      "execution_count": 6,
      "outputs": []
    },
    {
      "cell_type": "code",
      "source": [
        "same_vowel_group([\"toe\", \"ocelot\", \"maniac\"])"
      ],
      "metadata": {
        "colab": {
          "base_uri": "https://localhost:8080/"
        },
        "id": "bCULSzbkWXrG",
        "outputId": "c84353a7-5868-4c08-a150-0d40f8566108"
      },
      "execution_count": 15,
      "outputs": [
        {
          "output_type": "execute_result",
          "data": {
            "text/plain": [
              "['toe']"
            ]
          },
          "metadata": {},
          "execution_count": 15
        }
      ]
    },
    {
      "cell_type": "code",
      "source": [
        "#6\n",
        "def lcm_of_list(lst):\n",
        "    def gcd(a, b):\n",
        "        while b:\n",
        "            a, b = b, a % b\n",
        "        return a\n",
        "    \n",
        "    def lcm(a, b):\n",
        "        return (a * b) // gcd(a, b)\n",
        "    \n",
        "    lcm_val = lst[0]\n",
        "    \n",
        "    for i in range(1, len(lst)):\n",
        "        lcm_val = lcm(lcm_val, lst[i])\n",
        "    \n",
        "    return lcm_val\n"
      ],
      "metadata": {
        "id": "g0HbBVFKUwfa"
      },
      "execution_count": 7,
      "outputs": []
    },
    {
      "cell_type": "code",
      "source": [
        "lcm_of_list([1, 2, 3, 4, 5, 6, 7, 8, 9, 10])"
      ],
      "metadata": {
        "colab": {
          "base_uri": "https://localhost:8080/"
        },
        "id": "RrdS6l4AW4SQ",
        "outputId": "848f729a-c51c-493d-fd73-86926d5a90d5"
      },
      "execution_count": 16,
      "outputs": [
        {
          "output_type": "execute_result",
          "data": {
            "text/plain": [
              "2520"
            ]
          },
          "metadata": {},
          "execution_count": 16
        }
      ]
    },
    {
      "cell_type": "code",
      "source": [],
      "metadata": {
        "id": "OjtDp_WOUy6o"
      },
      "execution_count": null,
      "outputs": []
    }
  ]
}