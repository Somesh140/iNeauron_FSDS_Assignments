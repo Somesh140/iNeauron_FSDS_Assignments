{
  "nbformat": 4,
  "nbformat_minor": 0,
  "metadata": {
    "colab": {
      "provenance": [],
      "authorship_tag": "ABX9TyNXPTuLJnE4pfXu0D/272ND",
      "include_colab_link": true
    },
    "kernelspec": {
      "name": "python3",
      "display_name": "Python 3"
    },
    "language_info": {
      "name": "python"
    }
  },
  "cells": [
    {
      "cell_type": "markdown",
      "metadata": {
        "id": "view-in-github",
        "colab_type": "text"
      },
      "source": [
        "<a href=\"https://colab.research.google.com/github/Somesh140/iNeauron_FSDS_Assignments/blob/main/Interview_based_assesment/Assessment1.ipynb\" target=\"_parent\"><img src=\"https://colab.research.google.com/assets/colab-badge.svg\" alt=\"Open In Colab\"/></a>"
      ]
    },
    {
      "cell_type": "markdown",
      "source": [
        "# Python question 1"
      ],
      "metadata": {
        "id": "vsmkjVdMhXhA"
      }
    },
    {
      "cell_type": "code",
      "execution_count": 1,
      "metadata": {
        "id": "GraIZo4thREl"
      },
      "outputs": [],
      "source": [
        "def get_length_of_highest_frequency_word(string):\n",
        "  # split the string to words\n",
        "  words=string.split()\n",
        "  # dictionary to store the word freq\n",
        "  word_counts={}\n",
        "\n",
        "  for word in words:\n",
        "    if word in word_counts:\n",
        "      word_counts[word]+=1\n",
        "\n",
        "    else:\n",
        "      word_counts[word]=1\n",
        "\n",
        "  # find max freq\n",
        "  max_freq=max(word_counts.values())\n",
        "\n",
        "  # find length of max freq word\n",
        "  length_of_max_frequency_word= 0\n",
        "\n",
        "  for word, frequency in word_counts.items():\n",
        "    if frequency==max_freq:\n",
        "      length_of_word=len(word)\n",
        "      if length_of_word > length_of_max_frequency_word:\n",
        "        length_of_max_frequency_word=length_of_word\n",
        "  \n",
        "  return length_of_max_frequency_word\n"
      ]
    },
    {
      "cell_type": "code",
      "source": [
        "#Test case 1\n",
        "string = \"a a a a a b b c c c c c c c\"\n",
        "# The highest-frequency word is \"c\" with a frequency of 7, and its length is 1\n",
        "output = get_length_of_highest_frequency_word(string)\n",
        "print(output)  # Output: 1\n"
      ],
      "metadata": {
        "colab": {
          "base_uri": "https://localhost:8080/"
        },
        "id": "NPTPH5Jcl8T3",
        "outputId": "8a5500d4-f362-4956-ac62-4fe053868872"
      },
      "execution_count": 2,
      "outputs": [
        {
          "output_type": "stream",
          "name": "stdout",
          "text": [
            "1\n"
          ]
        }
      ]
    },
    {
      "cell_type": "markdown",
      "source": [
        "Explanation: In this test case, the input string consists of repeated characters. The highest-frequency word is \"c\" with a frequency of 7, and its length is 1."
      ],
      "metadata": {
        "id": "hnxA2RbTmPus"
      }
    },
    {
      "cell_type": "code",
      "source": [
        "#Test case 2\n",
        "string = \"Hello world! Hello, how are you? How's everything? Hello!\"\n",
        "# The highest-frequency word is \"Hello\" with a frequency of 3, and its length is 5\n",
        "output = get_length_of_highest_frequency_word(string)\n",
        "print(output)  # Output: 5\n"
      ],
      "metadata": {
        "colab": {
          "base_uri": "https://localhost:8080/"
        },
        "id": "yrTxX1_BmM3q",
        "outputId": "d2a8e39b-c18b-4317-e99c-4772be4f2f68"
      },
      "execution_count": 4,
      "outputs": [
        {
          "output_type": "stream",
          "name": "stdout",
          "text": [
            "11\n"
          ]
        }
      ]
    },
    {
      "cell_type": "markdown",
      "source": [
        "Explanation: In this test case, the input string contains punctuation marks. The highest-frequency word is \"Hello\" with a frequency of 3, and its length is 5."
      ],
      "metadata": {
        "id": "C9CVAAv1maOS"
      }
    },
    {
      "cell_type": "code",
      "source": [],
      "metadata": {
        "id": "g8-k6hS1mX_7"
      },
      "execution_count": null,
      "outputs": []
    }
  ]
}