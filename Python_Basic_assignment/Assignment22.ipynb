{
  "nbformat": 4,
  "nbformat_minor": 0,
  "metadata": {
    "colab": {
      "provenance": [],
      "authorship_tag": "ABX9TyNGE4SzXV08ldK4p9pXmS4Q",
      "include_colab_link": true
    },
    "kernelspec": {
      "name": "python3",
      "display_name": "Python 3"
    },
    "language_info": {
      "name": "python"
    }
  },
  "cells": [
    {
      "cell_type": "markdown",
      "metadata": {
        "id": "view-in-github",
        "colab_type": "text"
      },
      "source": [
        "<a href=\"https://colab.research.google.com/github/Somesh140/iNeauron_FSDS_Assignments/blob/main/Python_Basic_assignment/Assignment22.ipynb\" target=\"_parent\"><img src=\"https://colab.research.google.com/assets/colab-badge.svg\" alt=\"Open In Colab\"/></a>"
      ]
    },
    {
      "cell_type": "markdown",
      "source": [
        "Question"
      ],
      "metadata": {
        "id": "3AFOqHBEoM6P"
      }
    },
    {
      "cell_type": "markdown",
      "source": [
        "https://docs.google.com/document/d/1R70Whwv_l2tq7wIrxE_PZ10_NDvYFDuP/edit?usp=sharing&ouid=102667678895147843990&rtpof=true&sd=true"
      ],
      "metadata": {
        "id": "Eo-31MBboKWn"
      }
    },
    {
      "cell_type": "markdown",
      "source": [
        "#Answer"
      ],
      "metadata": {
        "id": "9O2MXRk1n8_1"
      }
    },
    {
      "cell_type": "markdown",
      "source": [
        "1. The output of the code is iNeuron. This is because the print() function in the func() function prints the value of the X variable, which is iNeuron.\n",
        "2. The output of the code is NI!. This is because the X variable is redefined in the func() function, so the value of X when the func() function is called is NI!.\n",
        "3. The output of the code is iNeuron. This is because the X variable is not changed in the func() function, so the value of X when the func() function is called is still iNeuron.\n",
        "4. The output of the code is NI. This is because the global keyword tells Python to use the global variable X, so the value of X when the func() function is called is NI.\n",
        "5. The output of the code is NI. This is because the X variable is redefined in the nested() function, so the value of X when the nested() function is called is NI.\n",
        "6. The output of the code is Spam. This is because the nonlocal keyword tells Python to use the nonlocal variable X, so the value of X when the nested() function is called is Spam.\n"
      ],
      "metadata": {
        "id": "-Xy1NmeRnw4n"
      }
    }
  ]
}