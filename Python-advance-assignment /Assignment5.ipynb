{
  "nbformat": 4,
  "nbformat_minor": 0,
  "metadata": {
    "colab": {
      "provenance": [],
      "authorship_tag": "ABX9TyPRBm+GlimGsxSVgcs2Bohg",
      "include_colab_link": true
    },
    "kernelspec": {
      "name": "python3",
      "display_name": "Python 3"
    },
    "language_info": {
      "name": "python"
    }
  },
  "cells": [
    {
      "cell_type": "markdown",
      "metadata": {
        "id": "view-in-github",
        "colab_type": "text"
      },
      "source": [
        "<a href=\"https://colab.research.google.com/github/Somesh140/iNeauron_FSDS_Assignments/blob/main/Python-advance-assignment%20/Assignment5.ipynb\" target=\"_parent\"><img src=\"https://colab.research.google.com/assets/colab-badge.svg\" alt=\"Open In Colab\"/></a>"
      ]
    },
    {
      "cell_type": "markdown",
      "source": [
        "Q1. What is the meaning of multiple inheritance?\n",
        "\n",
        "Q2. What is the concept of delegation?\n",
        "\n",
        "Q3. What is the concept of composition?\n",
        "\n",
        "Q4. What are bound methods and how do we use them?\n",
        "\n",
        "Q5. What is the purpose of pseudoprivate attributes?"
      ],
      "metadata": {
        "id": "DxcQV_Uvr6N1"
      }
    },
    {
      "cell_type": "code",
      "execution_count": 1,
      "metadata": {
        "id": "CZcYs9-sr2cl"
      },
      "outputs": [],
      "source": [
        "#Answer"
      ]
    },
    {
      "cell_type": "markdown",
      "source": [
        "A1. Multiple inheritance refers to a feature in object-oriented programming languages where a class can inherit from more than one base class. In multiple inheritance, a derived class can inherit attributes and methods from multiple parent classes, allowing it to incorporate behaviors and characteristics from different sources. This enables the derived class to exhibit features from multiple inheritance hierarchies simultaneously.\n",
        "\n",
        "A2. The concept of delegation involves one object (the delegating object) passing on a specific task or responsibility to another object (the delegate object). Instead of implementing the task itself, the delegating object delegates the task to the delegate object, which is specialized in handling that particular task. This approach helps to achieve code reusability, modularity, and separation of concerns by dividing the responsibilities between different objects.\n",
        "\n",
        "A3. Composition is a concept in object-oriented programming that allows objects to be composed of other objects as parts or components. In composition, a class contains one or more instances of other classes, forming a \"has-a\" relationship. The composed objects are responsible for specific behaviors, and the containing object delegates the relevant tasks to its component objects. Composition is a way to build complex objects by combining simpler, reusable components, promoting code reuse, flexibility, and modular design.\n",
        "\n",
        "A4. Bound methods are methods that are associated with a specific instance of a class. When a method is invoked on an instance, the instance is automatically passed as the first argument (`self` by convention) to the method. This binding of the method to the instance allows it to access and operate on the instance's data. Bound methods can be called directly on the instance and have access to the instance's attributes and other methods.\n",
        "\n",
        "For example, given a class `MyClass` with a method `my_method`, we can create an instance `obj` of `MyClass` and call the method as `obj.my_method()`. In this case, `my_method` is a bound method associated with the `obj` instance.\n",
        "\n",
        "A5. Pseudoprivate attributes in Python are a convention for name mangling, which is a way to make attributes \"private\" or at least indicate that they are intended for internal use within a class. By prefixing an attribute with two underscores (`__`), Python automatically mangles the attribute name to make it harder to access directly from outside the class.\n",
        "\n",
        "The purpose of pseudoprivate attributes is to avoid naming conflicts between attributes of different classes, especially when inheritance is involved. It provides a way to define class-specific attributes without worrying about unintentional name clashes in subclasses or in code that uses instances of the class.\n",
        "\n",
        "For example, if a class has an attribute named `__my_attr`, Python will internally mangle the name to `_ClassName__my_attr`, where `ClassName` is the name of the class defining the attribute. This name mangling makes it less likely for the attribute to be accidentally accessed or overridden by subclasses or external code. However, it's important to note that name mangling is mainly a convention and does not provide true encapsulation or access control in Python."
      ],
      "metadata": {
        "id": "q-ellkWEr9aM"
      }
    },
    {
      "cell_type": "code",
      "source": [],
      "metadata": {
        "id": "A0xOJ6VFr8Ph"
      },
      "execution_count": null,
      "outputs": []
    }
  ]
}