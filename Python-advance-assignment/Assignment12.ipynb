{
  "nbformat": 4,
  "nbformat_minor": 0,
  "metadata": {
    "colab": {
      "provenance": [],
      "authorship_tag": "ABX9TyM3d6NfL6P+AT19qnGB11My",
      "include_colab_link": true
    },
    "kernelspec": {
      "name": "python3",
      "display_name": "Python 3"
    },
    "language_info": {
      "name": "python"
    }
  },
  "cells": [
    {
      "cell_type": "markdown",
      "metadata": {
        "id": "view-in-github",
        "colab_type": "text"
      },
      "source": [
        "<a href=\"https://colab.research.google.com/github/Somesh140/iNeauron_FSDS_Assignments/blob/main/Python-advance-assignment/Assignment12.ipynb\" target=\"_parent\"><img src=\"https://colab.research.google.com/assets/colab-badge.svg\" alt=\"Open In Colab\"/></a>"
      ]
    },
    {
      "cell_type": "markdown",
      "source": [
        "Q1. Does assigning a value to a string&#39;s indexed character violate Python&#39;s string immutability?\n",
        "\n",
        "Q2. Does using the += operator to concatenate strings violate Python&#39;s string immutability? Why or\n",
        "why not?\n",
        "\n",
        "Q3. In Python, how many different ways are there to index a character?\n",
        "\n",
        "Q4. What is the relationship between indexing and slicing?\n",
        "\n",
        "Q5. What is an indexed character&#39;s exact data type? What is the data form of a slicing-generated\n",
        "substring?\n",
        "\n",
        "Q6. What is the relationship between string and character &quot;types&quot; in Python?\n",
        "\n",
        "Q7. Identify at least two operators and one method that allow you to combine one or more smaller\n",
        "strings to create a larger string.\n",
        "\n",
        "Q8. What is the benefit of first checking the target string with in or not in before using the index\n",
        "method to find a substring?\n",
        "\n",
        "Q9. Which operators and built-in string methods produce simple Boolean (true/false) results?"
      ],
      "metadata": {
        "id": "7mt46K4zqlFk"
      }
    },
    {
      "cell_type": "code",
      "execution_count": null,
      "metadata": {
        "id": "dUKWWcvbqgxw"
      },
      "outputs": [],
      "source": [
        "#Answer"
      ]
    },
    {
      "cell_type": "markdown",
      "source": [
        "Q1. No, assigning a value to a string's indexed character does not violate Python's string immutability. String immutability means that once a string is created, its contents cannot be changed. However, when you assign a value to a specific index of a string, you are not modifying the original string. Instead, you are creating a new string with the modified value at the specified index.\n",
        "\n",
        "Q2. Using the += operator to concatenate strings does not violate Python's string immutability. Similar to the previous answer, when you use the += operator to concatenate strings, you are creating a new string that contains the concatenated result of the original strings. The original strings themselves are not modified.\n",
        "\n",
        "Q3. In Python, there is only one way to index a character in a string, which is by using square brackets `[]` notation and providing the index value. For example, `string_variable[index]` will return the character at the specified index in the string.\n",
        "\n",
        "Q4. The relationship between indexing and slicing in Python is that slicing is a more general operation that allows you to extract a substring (a portion) from a string using a range of indices. Indexing refers to accessing a single character at a specific index, while slicing refers to accessing multiple characters within a range of indices.\n",
        "\n",
        "Q5. An indexed character in Python is of type string (str). It represents a single character within a string. A slicing-generated substring is also of type string (str). It represents a portion of the original string and can consist of one or more characters.\n",
        "\n",
        "Q6. In Python, a string is a sequence of characters. Each character in a string is represented as a string itself. So, both strings and individual characters are of type string (str) in Python.\n",
        "\n",
        "Q7. Two operators that allow you to combine smaller strings to create a larger string are the `+` operator (concatenation) and the `*` operator (repetition). The `+` operator concatenates two strings, while the `*` operator repeats a string a specified number of times. Additionally, the `join()` method can be used to concatenate multiple strings from a list or iterable by specifying a separator string.\n",
        "\n",
        "Q8. The benefit of first checking the target string with `in` or `not in` before using the `index` method to find a substring is to avoid a `ValueError` when the substring is not found. By using the `in` or `not in` operator, you can check if the substring exists in the target string before attempting to find its index. This allows you to handle cases where the substring is not present without raising an error.\n",
        "\n",
        "Q9. The operators and built-in string methods that produce simple Boolean (true/false) results in Python include:\n",
        "\n",
        "- Comparison operators such as `==`, `!=`, `<`, `>`, `<=`, `>=` when used to compare strings.\n",
        "- The `in` and `not in` operators, which check if a substring exists within a string.\n",
        "- The `startswith()` and `endswith()` methods, which check if a string starts or ends with a specified substring.\n",
        "- The `isalpha()`, `isdigit()`, `isalnum()`, `islower()`, `isupper()`, `isspace()`, and other similar methods that test specific properties of a string. These methods return a Boolean result based on whether the tested condition is true or false."
      ],
      "metadata": {
        "id": "hEM8-3STqudV"
      }
    },
    {
      "cell_type": "code",
      "source": [],
      "metadata": {
        "id": "EekGtJjIqvRq"
      },
      "execution_count": null,
      "outputs": []
    }
  ]
}