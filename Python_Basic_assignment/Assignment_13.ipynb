{
  "nbformat": 4,
  "nbformat_minor": 0,
  "metadata": {
    "colab": {
      "provenance": [],
      "authorship_tag": "ABX9TyPwbmJHkTpwqy5jJ6hL7UDj",
      "include_colab_link": true
    },
    "kernelspec": {
      "name": "python3",
      "display_name": "Python 3"
    },
    "language_info": {
      "name": "python"
    }
  },
  "cells": [
    {
      "cell_type": "markdown",
      "metadata": {
        "id": "view-in-github",
        "colab_type": "text"
      },
      "source": [
        "<a href=\"https://colab.research.google.com/github/Somesh140/iNeauron_FSDS_Assignments/blob/main/Python_Basic_assignment/Assignment_13.ipynb\" target=\"_parent\"><img src=\"https://colab.research.google.com/assets/colab-badge.svg\" alt=\"Open In Colab\"/></a>"
      ]
    },
    {
      "cell_type": "markdown",
      "source": [
        "1. What does RGBA stand for?\n",
        "2. From the Pillow module, how do you get the RGBA value of any images?\n",
        "3. What is a box tuple, and how does it work?\n",
        "4. Use your image and load in notebook then, How can you find out the width and height of an\n",
        "Image object?\n",
        "5. What method would you call to get Image object for a 100×100 image, excluding the lower-left\n",
        "quarter of it?\n",
        "6. After making changes to an Image object, how could you save it as an image file?\n",
        "7. What module contains Pillow’s shape-drawing code?\n",
        "8. Image objects do not have drawing methods. What kind of object does? How do you get this kind\n",
        "of object?"
      ],
      "metadata": {
        "id": "8FkzeKkrnhPG"
      }
    },
    {
      "cell_type": "markdown",
      "source": [
        "Answer\n",
        "\n",
        "---\n",
        "1. RGBA stands for Red Green Blue Alpha, where each component value represents the intensity of the respective color and the alpha value represents the opacity/transparency of the color.\n",
        "2. To get the RGBA value of an image using the Pillow module, you can use the `getpixel()` method of the Image object. For example: \n",
        "\n",
        "   ```python\n",
        "   from PIL import Image\n",
        "   \n",
        "   # Open image\n",
        "   image = Image.open('image.png')\n",
        "   \n",
        "   # Get the RGBA value of pixel at (x, y)\n",
        "   rgba_value = image.getpixel((x, y))\n",
        "   ```\n",
        "   \n",
        "3. A box tuple is a tuple containing four integers representing the left, upper, right, and lower pixel coordinates of a rectangular region in an image. The format of the box tuple is `(left, upper, right, lower)`. For example, to crop an image to a rectangular region defined by a box tuple, you can use the `crop()` method of the Image object as follows:\n",
        "\n",
        "   ```python\n",
        "   # Open image\n",
        "   image = Image.open('image.png')\n",
        "   \n",
        "   # Define the box tuple (left, upper, right, lower)\n",
        "   box = (0, 0, 50, 50)\n",
        "   \n",
        "   # Crop the image to the rectangular region defined by the box tuple\n",
        "   cropped_image = image.crop(box)\n",
        "   ```\n",
        "   \n",
        "4. To get the width and height of an Image object, you can use the `size` attribute of the Image object. For example:\n",
        "\n",
        "   ```python\n",
        "   # Open image\n",
        "   image = Image.open('image.png')\n",
        "   \n",
        "   # Get the width and height of the image\n",
        "   width, height = image.size\n",
        "   ```\n",
        "   \n",
        "5. To get an Image object for a 100x100 image, excluding the lower-left quarter of it, you can first crop the original image using a box tuple, and then resize the resulting image to 100x100 using the `resize()` method of the Image object. For example:\n",
        "\n",
        "   ```python\n",
        "   # Open image\n",
        "   image = Image.open('image.png')\n",
        "   \n",
        "   # Define the box tuple for the rectangular region to exclude\n",
        "   exclude_box = (0, image.height//2, image.width//2, image.height)\n",
        "   \n",
        "   # Crop the image to exclude the lower-left quarter\n",
        "   cropped_image = image.crop(exclude_box)\n",
        "   \n",
        "   # Resize the resulting image to 100x100\n",
        "   resized_image = cropped_image.resize((100, 100))\n",
        "   ```\n",
        "   \n",
        "6. To save changes made to an Image object as an image file, you can use the `save()` method of the Image object. The first argument to the `save()` method is the filename to save the image as. For example:\n",
        "\n",
        "   ```python\n",
        "   # Open image\n",
        "   image = Image.open('image.png')\n",
        "   \n",
        "   # Modify the image\n",
        "   \n",
        "   # Save the modified image as a new file\n",
        "   image.save('modified_image.png')\n",
        "   ```\n",
        "   \n",
        "7. The `ImageDraw` module contains Pillow's shape-drawing code. To draw shapes on an Image object using Pillow, you first need to create an `ImageDraw.Draw` object from the Image object, and then use the methods of the `ImageDraw.Draw` object to draw shapes. For example:\n",
        "\n",
        "   ```python\n",
        "   from PIL import Image, ImageDraw\n",
        "   \n",
        "   # Open image\n",
        "   image = Image.open('image.png')\n",
        "   \n",
        "   # Create an ImageDraw.Draw object from the Image object\n",
        "   draw = ImageDraw.Draw(image)\n",
        "   \n",
        "   # Draw a red rectangle on the image\n",
        "   draw.rectangle((x1, y1, x2, y2), fill=(255, 0, 0))\n",
        "   \n",
        "   # Save the modified image as a new file\n"
      ],
      "metadata": {
        "id": "JdFax2bKnnOo"
      }
    },
    {
      "cell_type": "code",
      "execution_count": null,
      "metadata": {
        "id": "D9lH5rD-nT13"
      },
      "outputs": [],
      "source": []
    }
  ]
}