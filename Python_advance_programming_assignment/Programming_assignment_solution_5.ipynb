{
  "nbformat": 4,
  "nbformat_minor": 0,
  "metadata": {
    "colab": {
      "provenance": [],
      "authorship_tag": "ABX9TyPwL9hqKXwvMxrYVu62x/nw"
    },
    "kernelspec": {
      "name": "python3",
      "display_name": "Python 3"
    },
    "language_info": {
      "name": "python"
    }
  },
  "cells": [
    {
      "cell_type": "markdown",
      "source": [
        "[Programming_Assignment_5](https://docs.google.com/document/d/1M8Hqhh38cyiKxnnvq2Oq3qAoJqPcmBWN/edit?usp=sharing&ouid=102667678895147843990&rtpof=true&sd=true)"
      ],
      "metadata": {
        "id": "1CKzTQCjiNfg"
      }
    },
    {
      "cell_type": "markdown",
      "source": [
        "Q1 solution:"
      ],
      "metadata": {
        "id": "vC0RIT5_jAUR"
      }
    },
    {
      "cell_type": "code",
      "execution_count": null,
      "metadata": {
        "colab": {
          "base_uri": "https://localhost:8080/"
        },
        "id": "xOAhN83oiH_F",
        "outputId": "c185cbe5-272e-4dfc-8b18-3f9415a7f0f3"
      },
      "outputs": [
        {
          "output_type": "stream",
          "name": "stdout",
          "text": [
            "2\n",
            "8\n",
            "2\n"
          ]
        }
      ],
      "source": [
        "def f(n: int) -> int:\n",
        "    return  2*2**(2*((n+1)%2))\n",
        "\n",
        "print(f(1))  # 2\n",
        "print(f(2))  # 8\n",
        "print(f(3))  # 2\n",
        "\n"
      ]
    },
    {
      "cell_type": "markdown",
      "source": [
        "Q2 Solution:"
      ],
      "metadata": {
        "id": "7LSU9C97xfdr"
      }
    },
    {
      "cell_type": "code",
      "source": [
        "from typing import List\n",
        "def majority_vote(items: List):\n",
        "    # Compute the length of the list\n",
        "    n = len(items)\n",
        "\n",
        "    # Check if any item occurs more than N/2 times\n",
        "    for item in items:\n",
        "        if items.count(item) > n / 2:\n",
        "            # Return the item if it occurs more than N/2 times\n",
        "            return item\n",
        "\n",
        "    # Return None if no item occurs more than N/2 times\n",
        "    return None\n",
        "\n",
        "\n",
        "print(majority_vote([\"A\", \"A\", \"B\"]))  # \"A\"\n",
        "print(majority_vote([\"A\", \"A\", \"A\", \"B\", \"C\", \"A\"]))  # \"A\"\n",
        "print(majority_vote([\"A\", \"B\", \"B\", \"A\", \"C\", \"C\"]))  # None\n"
      ],
      "metadata": {
        "colab": {
          "base_uri": "https://localhost:8080/"
        },
        "id": "-FPLaSr_kpOL",
        "outputId": "20c3de17-e96c-4d57-f235-7929c04f6e68"
      },
      "execution_count": null,
      "outputs": [
        {
          "output_type": "stream",
          "name": "stdout",
          "text": [
            "A\n",
            "A\n",
            "None\n"
          ]
        }
      ]
    },
    {
      "cell_type": "markdown",
      "source": [
        "Q3 Solution:"
      ],
      "metadata": {
        "id": "XdRYByYTx3FT"
      }
    },
    {
      "cell_type": "code",
      "source": [
        "def censor_string(txt: str, lst: List[str], char: str) -> str:\n",
        "    # Split the text into a list of words\n",
        "    words = txt.split()\n",
        "\n",
        "    # Replace each word in the text with the censor character if it is in the list\n",
        "    for i, word in enumerate(words):\n",
        "        if word in lst:\n",
        "            words[i] = char * len(word)\n",
        "\n",
        "    # Join the list of words into a single string\n",
        "    censored_txt = \" \".join(words)\n",
        "\n",
        "    return censored_txt\n",
        "\n",
        "censor_string(\"Today is a Wednesday1\", [\"Today\", \"a\"], \"-\") #➞ &quot;----- is -Wednesday!&quot;\n"
      ],
      "metadata": {
        "id": "TsxoPrKexocP",
        "colab": {
          "base_uri": "https://localhost:8080/",
          "height": 35
        },
        "outputId": "bfa840f1-4c4a-46df-b141-e325939c7527"
      },
      "execution_count": 17,
      "outputs": [
        {
          "output_type": "execute_result",
          "data": {
            "text/plain": [
              "'----- is - Wednesday1'"
            ],
            "application/vnd.google.colaboratory.intrinsic+json": {
              "type": "string"
            }
          },
          "metadata": {},
          "execution_count": 17
        }
      ]
    },
    {
      "cell_type": "markdown",
      "source": [
        "Q4 Solution"
      ],
      "metadata": {
        "id": "LwEBppVjBUAf"
      }
    },
    {
      "cell_type": "code",
      "source": [
        "def is_polydivisible(num):\n",
        "  a=str(num)\n",
        "  for i in range(1,len(a)+1):\n",
        "    if int(a[:i])%i!=0:\n",
        "      return False\n",
        "  \n",
        "  return True\n",
        "\n",
        "is_polydivisible(1232)\n"
      ],
      "metadata": {
        "colab": {
          "base_uri": "https://localhost:8080/"
        },
        "id": "Z8CM3eLFBH_p",
        "outputId": "de6fcb14-52f1-4f0b-dca0-192ad37999bf"
      },
      "execution_count": 21,
      "outputs": [
        {
          "output_type": "execute_result",
          "data": {
            "text/plain": [
              "True"
            ]
          },
          "metadata": {},
          "execution_count": 21
        }
      ]
    },
    {
      "cell_type": "markdown",
      "source": [
        "Q5 Solution:"
      ],
      "metadata": {
        "id": "9iOpZdQnICPZ"
      }
    },
    {
      "cell_type": "code",
      "source": [
        "def sum_primes(numbers: List[int]) -> int:\n",
        "    # Check if the list is empty\n",
        "    if not numbers:\n",
        "        return None\n",
        "    \n",
        "    # Define a helper function that checks if a number is prime\n",
        "    def is_prime(n: int) -> bool:\n",
        "        if n == 2:\n",
        "            return True\n",
        "        if n % 2 == 0 or n < 2:\n",
        "            return False\n",
        "        for i in range(3, int(n ** 0.5) + 1, 2):\n",
        "            if n % i == 0:\n",
        "                return False\n",
        "        return True\n",
        "    \n",
        "    # Iterate through the numbers in the list and sum only the prime numbers\n",
        "    result = 0\n",
        "    for num in numbers:\n",
        "        if is_prime(num):\n",
        "            result += num\n",
        "    \n",
        "    return result\n",
        "\n",
        "# Sum the prime numbers in the list [1, 2, 3, 4, 5, 6, 7, 8, 9, 10]\n",
        "print(sum_primes([1, 2, 3, 4, 5, 6, 7, 8, 9, 10])) # should return 17\n",
        "\n",
        "# Sum the prime numbers in the list [2, 3, 4, 11, 20, 50, 71]\n",
        "print(sum_primes([2, 3, 4, 11, 20, 50, 71])) # should return 87\n",
        "\n",
        "# Sum the prime numbers in an empty list\n",
        "print(sum_primes([])) # should return None\n"
      ],
      "metadata": {
        "colab": {
          "base_uri": "https://localhost:8080/"
        },
        "id": "YpeVqvs0HuyJ",
        "outputId": "0da71065-d46f-4969-a529-7730751f4967"
      },
      "execution_count": 22,
      "outputs": [
        {
          "output_type": "stream",
          "name": "stdout",
          "text": [
            "17\n",
            "87\n",
            "None\n"
          ]
        }
      ]
    },
    {
      "cell_type": "code",
      "source": [],
      "metadata": {
        "id": "4wNu8zckKZFR"
      },
      "execution_count": null,
      "outputs": []
    }
  ]
}