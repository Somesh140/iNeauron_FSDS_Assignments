{
  "nbformat": 4,
  "nbformat_minor": 0,
  "metadata": {
    "colab": {
      "provenance": [],
      "authorship_tag": "ABX9TyOsODMpe61RrJyqSuG5GiXh",
      "include_colab_link": true
    },
    "kernelspec": {
      "name": "python3",
      "display_name": "Python 3"
    },
    "language_info": {
      "name": "python"
    }
  },
  "cells": [
    {
      "cell_type": "markdown",
      "metadata": {
        "id": "view-in-github",
        "colab_type": "text"
      },
      "source": [
        "<a href=\"https://colab.research.google.com/github/Somesh140/iNeauron_FSDS_Assignments/blob/main/Statistics/Q1.ipynb\" target=\"_parent\"><img src=\"https://colab.research.google.com/assets/colab-badge.svg\" alt=\"Open In Colab\"/></a>"
      ]
    },
    {
      "cell_type": "markdown",
      "source": [
        "1. Harvard Law School courses often have assigned seating to facilitate the “Socratic method.”\n",
        "Suppose that there are 100 first year Harvard Law students, and each takes two courses:\n",
        "Torts and Contracts. Both are held in the same lecture hall (which has 100 seats), and the\n",
        "seating is uniformly random and independent for the two courses.\n",
        "(a) Find the probability that no one has the same seat for both courses (exactly; you should\n",
        "leave your answer as a sum).\n",
        "(b) Find a simple but accurate approximation to the probability that no one has the same\n",
        "seat for both courses.\n",
        "(c) Find a simple but accurate approximation to the probability that at least two students\n",
        "have the same seat for both courses.\n",
        "2. There are 100 passengers lined up to board an airplane with 100 seats (with each seat\n",
        "assigned to one of the passengers). The first passenger in line crazily decides to sit in a\n",
        "randomly chosen seat (with all seats equally likely). Each subsequent passenger takes his or\n",
        "her assigned seat if available, and otherwise sits in a random available seat. What is the\n",
        "probability that the last passenger in line gets to sit in his or her assigned seat?"
      ],
      "metadata": {
        "id": "_wNoP6eOpIEZ"
      }
    },
    {
      "cell_type": "markdown",
      "source": [
        "#Answer"
      ],
      "metadata": {
        "id": "W90Tx18NpJ_j"
      }
    },
    {
      "cell_type": "markdown",
      "source": [
        "1. (a) To find the probability that no one has the same seat for both courses, we can consider the number of ways the seats can be assigned without any overlap and divide it by the total number of possible seat assignments.\n",
        "\n",
        "In the first course (Torts), the first student can sit in any of the 100 seats. The second student has a 99/100 chance of not sitting in the same seat as the first student. Similarly, the third student has a 98/100 chance of not sitting in the seats already occupied by the first two students, and so on. Therefore, the probability that no one in the Torts course has the same seat as someone in the Contracts course is:\n",
        "\n",
        "(100/100) * (99/100) * (98/100) * ... * (2/100) * (1/100) = 1/100!\n",
        "\n",
        "In the Contracts course, the first student can sit in any of the 100 seats, but now the second student has a 98/99 chance of not sitting in the same seat as the first student (since one seat is already occupied by the first student). Similarly, the third student has a 97/99 chance of not sitting in the seats already occupied by the first two students, and so on. Therefore, the probability that no one in the Contracts course has the same seat as someone in the Torts course is:\n",
        "\n",
        "(100/100) * (98/99) * (97/99) * ... * (2/99) * (1/99) = 1/99!\n",
        "\n",
        "Since the seating assignments in the two courses are independent, the probability that no one has the same seat for both courses is the product of the probabilities for each course:\n",
        "\n",
        "P(no overlap) = (1/100!) * (1/99!)\n",
        "\n",
        "(b) To find a simple approximation for the probability that no one has the same seat for both courses, we can use the fact that for large values of n, n! is approximately equal to √(2πn)(n/e)^n, where e is the base of the natural logarithm.\n",
        "\n",
        "Approximating 100! and 99! using the above formula:\n",
        "\n",
        "100! ≈ √(2π * 100) * (100/e)^100\n",
        "99! ≈ √(2π * 99) * (99/e)^99\n",
        "\n",
        "Now, the probability can be approximated as:\n",
        "\n",
        "P(no overlap) ≈ (1/√(2π * 100) * (100/e)^100) * (1/√(2π * 99) * (99/e)^99)\n",
        "\n",
        "(c) To find the probability that at least two students have the same seat for both courses, we can subtract the probability of no overlap from 1:\n",
        "\n",
        "P(at least two students have the same seat) = 1 - P(no overlap)\n",
        "\n",
        "2. In this scenario, let's consider the possible outcomes for the last passenger:\n",
        "\n",
        "1. The first passenger sits in the last passenger's seat: This happens with a probability of 1/100.\n",
        "2. The first passenger sits in their own assigned seat: This also happens with a probability of 1/100.\n",
        "\n",
        "For case 1, the last passenger will be left with their assigned seat available, so they will get to sit in their assigned seat.\n",
        "\n",
        "For case 2, the remaining passengers will randomly choose their seats among the remaining 98 seats. In this case, the problem is reduced to the same situation as in the original problem, but with 99 passengers and 98 seats.\n",
        "\n",
        "Let's denote P(n) as the probability that the last passenger gets to sit in their assigned seat when there are n passengers and n-1 seats available.\n",
        "\n",
        "\n",
        "\n",
        "For n = 2, P(2) = 1 (since there are only two passengers and one seat, the last passenger will always get their assigned seat).\n",
        "\n",
        "For n > 2, we have:\n",
        "\n",
        "P(n) = (1/n) + (1/n) * P(n-1)\n",
        "\n",
        "The first term (1/n) represents the probability that the first passenger sits in the last passenger's seat, leaving the last passenger with their assigned seat.\n",
        "\n",
        "The second term (1/n) * P(n-1) represents the probability that the first passenger sits in their own assigned seat, leaving the last passenger with a probability of P(n-1) to get their assigned seat among the remaining n-2 seats.\n",
        "\n",
        "Using this recursive formula, we can calculate P(100) as follows:\n",
        "\n",
        "P(100) = (1/100) + (1/100) * P(99)\n",
        "P(99) = (1/99) + (1/99) * P(98)\n",
        "...\n",
        "P(3) = (1/3) + (1/3) * P(2)\n",
        "P(2) = 1\n",
        "\n",
        "Substituting the values backward:\n",
        "\n",
        "P(3) = (1/3) + (1/3) * 1 = 2/3\n",
        "P(4) = (1/4) + (1/4) * (2/3) = 2/4 = 1/2\n",
        "...\n",
        "P(100) ≈ 0.5\n",
        "\n",
        "Therefore, the probability that the last passenger gets to sit in their assigned seat is approximately 0.5."
      ],
      "metadata": {
        "id": "tzjU9IfAp-VN"
      }
    },
    {
      "cell_type": "code",
      "execution_count": null,
      "metadata": {
        "id": "QbDZgtKppGXV"
      },
      "outputs": [],
      "source": []
    }
  ]
}