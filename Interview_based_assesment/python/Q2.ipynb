{
  "nbformat": 4,
  "nbformat_minor": 0,
  "metadata": {
    "colab": {
      "provenance": [],
      "authorship_tag": "ABX9TyND8AB9zkbgVdVjEbk8sIOj",
      "include_colab_link": true
    },
    "kernelspec": {
      "name": "python3",
      "display_name": "Python 3"
    },
    "language_info": {
      "name": "python"
    }
  },
  "cells": [
    {
      "cell_type": "markdown",
      "metadata": {
        "id": "view-in-github",
        "colab_type": "text"
      },
      "source": [
        "<a href=\"https://colab.research.google.com/github/Somesh140/iNeauron_FSDS_Assignments/blob/main/Interview_based_assesment%20/Question2.ipynb\" target=\"_parent\"><img src=\"https://colab.research.google.com/assets/colab-badge.svg\" alt=\"Open In Colab\"/></a>"
      ]
    },
    {
      "cell_type": "markdown",
      "source": [
        "# Note in question i think there is typo error in example output 2 should be yes"
      ],
      "metadata": {
        "id": "qpAKG1jvw4fP"
      }
    },
    {
      "cell_type": "markdown",
      "source": [
        "Question 2: -\n",
        "Consider a string to be valid if all characters of the string appear the same number of times. It is also valid if\n",
        "he can remove just one character at the index in the string, and the remaining characters will occur the same\n",
        "number of times. Given a string, determine if it is valid. If so, return YES , otherwise return NO .\n",
        "Note - You have to write at least 2 additional test cases in which your program will run successfully and provide\n",
        "an explanation for the same.\n",
        "Example input 1 - s = “abc”. This is a valid string because frequencies are { “a”: 1, “b”: 1, “c”: 1 }\n",
        "Example output 1- YES\n",
        "Example input 2 - s “abcc”. This string is not valid as we can remove only 1 occurrence of “c”. That leaves\n",
        "character frequencies of { “a”: 1, “b”: 1 , “c”: 2 }\n",
        "Example output 2 - NO"
      ],
      "metadata": {
        "id": "udjZEsBgn4YQ"
      }
    },
    {
      "cell_type": "code",
      "source": [
        "def is_valid_string(s):\n",
        "  #count the frequency of each character\n",
        "  char_counts={}\n",
        "  \n",
        "  for char in s:\n",
        "    if char in char_counts:\n",
        "      char_counts[char]+=1\n",
        "    else:\n",
        "      char_counts[char]=1\n",
        "\n",
        "  #count the frequency of frequencies\n",
        "  freq_counts={}\n",
        "  for count in char_counts.values():\n",
        "    if count in freq_counts:\n",
        "      freq_counts[count]+=1\n",
        "    else:\n",
        "      freq_counts[count]=1\n",
        "\n",
        "  #If all characters have the same frequency, it is valid\n",
        "  if len(freq_counts)==1:\n",
        "    return \"YES\"\n",
        "\n",
        "  #if there are more than 2 frequencies, its not valid\n",
        "  if len(freq_counts)>2:\n",
        "    return \"No\"\n",
        "    \n",
        "  # if there are exactly 2 different frequencies\n",
        "  freq_list=list(freq_counts.items())\n",
        "  freq1,count1=freq_list[0]\n",
        "  freq2,count2=freq_list[1]\n",
        "\n",
        "  #if one of the frequencies occurs only once and its value is 1 greater or less than the other frequency then it is valid\n",
        "  if ((count1==1) and (freq1==1 or freq1-1==freq2)) or (count2==1 and (freq2==1 or freq2-1==freq1)):\n",
        "    return \"YES\"\n",
        "\n",
        "  # otherwise it is not valid\n",
        "  return \"NO\"\n"
      ],
      "metadata": {
        "id": "Xb2-RCZHr90P"
      },
      "execution_count": 6,
      "outputs": []
    },
    {
      "cell_type": "code",
      "source": [
        "#test case 1\n",
        "s3 = \"aabbc\"\n",
        "# The string is valid because removing C character will result in same frequencies.\n",
        "output3 = is_valid_string(s3)\n",
        "print(output3)  # Output: YES\n"
      ],
      "metadata": {
        "colab": {
          "base_uri": "https://localhost:8080/"
        },
        "id": "C-DELPjPzw18",
        "outputId": "51431420-1e49-4094-98c5-c0690ef2e7af"
      },
      "execution_count": 7,
      "outputs": [
        {
          "output_type": "stream",
          "name": "stdout",
          "text": [
            "YES\n"
          ]
        }
      ]
    },
    {
      "cell_type": "markdown",
      "source": [
        "Explanation: In this test case, the input string has 2 distinct frequency: 2 and 1 . if we remove c then all the character will have same frequency, so the string is valid."
      ],
      "metadata": {
        "id": "xDFR5kqp0YmQ"
      }
    },
    {
      "cell_type": "code",
      "source": [
        "#test case 2\n",
        "s4 = \"aabbcc\"\n",
        "# The string is valid because all characters have the same frequency.\n",
        "output4 = is_valid_string(s4)\n",
        "print(output4)  # Output: YES\n"
      ],
      "metadata": {
        "colab": {
          "base_uri": "https://localhost:8080/"
        },
        "id": "MUknhsZCz1pT",
        "outputId": "ffc3a984-4875-489f-9116-1a35e86af92c"
      },
      "execution_count": 8,
      "outputs": [
        {
          "output_type": "stream",
          "name": "stdout",
          "text": [
            "YES\n"
          ]
        }
      ]
    },
    {
      "cell_type": "markdown",
      "source": [
        "Explanation: In this test case, the input string has only one distinct frequency: 2. All characters occur twice, so the string is valid."
      ],
      "metadata": {
        "id": "b9yu4z4x0b4Q"
      }
    }
  ]
}