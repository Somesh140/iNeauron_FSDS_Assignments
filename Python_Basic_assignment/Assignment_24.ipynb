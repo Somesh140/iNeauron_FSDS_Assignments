{
  "nbformat": 4,
  "nbformat_minor": 0,
  "metadata": {
    "colab": {
      "provenance": [],
      "authorship_tag": "ABX9TyMbmC4tG9Ny4w8+6X0o42U1"
    },
    "kernelspec": {
      "name": "python3",
      "display_name": "Python 3"
    },
    "language_info": {
      "name": "python"
    }
  },
  "cells": [
    {
      "cell_type": "markdown",
      "source": [
        "1. What is the relationship between def statements and lambda expressions ?\n",
        "2. What is the benefit of lambda?\n",
        "3. Compare and contrast map, filter, and reduce.\n",
        "4. What are function annotations, and how are they used?\n",
        "5. What are recursive functions, and how are they used?\n",
        "6. What are some general design guidelines for coding functions?\n",
        "7. Name three or more ways that functions can communicate results to a caller."
      ],
      "metadata": {
        "id": "uHx12UdI7aDw"
      }
    },
    {
      "cell_type": "markdown",
      "source": [
        "\n",
        "Answer\n",
        "\n",
        "\n",
        "---\n",
        "\n",
        "\n",
        "\n",
        "1. Both def statements and lambda expressions are used to define functions in Python. Def statements are used to define named functions with a block of code that is executed when the function is called. Lambda expressions are used to define anonymous functions that can be used as values, arguments, or returned from other functions.\n",
        "\n",
        "2. The benefit of lambda expressions is that they allow you to define simple functions in a concise and readable way. They can be used to reduce code duplication, make code more expressive and functional, and are often used in functional programming paradigms.\n",
        "\n",
        "3. Map, filter, and reduce are three built-in Python functions used for working with sequences of data. Map applies a given function to every item in a sequence and returns a new sequence with the results. Filter applies a given function to every item in a sequence and returns a new sequence containing only the items for which the function returns True. Reduce applies a given function to the items in a sequence in a cumulative way, returning a single value that is the result of the reduction.\n",
        "\n",
        "4. Function annotations are a way to attach metadata to the parameters and return value of a function. They are used to provide additional information about the types, units, or constraints of the input and output data. Function annotations are optional, and their syntax is a colon followed by the annotation expression after the parameter or return value name in the function definition.\n",
        "\n",
        "5. Recursive functions are functions that call themselves with modified arguments until a base case is reached. They are used to solve problems that can be broken down into smaller and similar subproblems, like computing factorial or calculating Fibonacci sequences. Recursive functions must have a base case that terminates the recursion, to avoid infinite looping.\n",
        "\n",
        "6. Some general design guidelines for coding functions include: \n",
        "- functions should have a single responsibility, doing one thing and doing it well\n",
        "- functions should have clear names that describe what they do and what they return\n",
        "- functions should have a clear interface, with well-defined inputs and outputs\n",
        "- functions should be small and concise, with clear and readable code\n",
        "- functions should handle errors and edge cases gracefully, with clear error messages or exceptions\n",
        "\n",
        "7. Functions can communicate results to a caller in several ways in Python, including:\n",
        "- returning a value using the `return` keyword\n",
        "- modifying mutable objects in place (like lists or dictionaries) and not returning anything\n",
        "- raising an exception to signal an error or exceptional condition\n",
        "- printing output to the console using the `print` function."
      ],
      "metadata": {
        "id": "YvMyi0Le7bxF"
      }
    },
    {
      "cell_type": "code",
      "execution_count": null,
      "metadata": {
        "id": "ur02_-tM7NnR"
      },
      "outputs": [],
      "source": []
    }
  ]
}