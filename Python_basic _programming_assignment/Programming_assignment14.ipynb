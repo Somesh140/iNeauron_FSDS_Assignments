{
  "nbformat": 4,
  "nbformat_minor": 0,
  "metadata": {
    "colab": {
      "provenance": [],
      "authorship_tag": "ABX9TyPzNOMnzSQGg5HNsnabnJ9x",
      "include_colab_link": true
    },
    "kernelspec": {
      "name": "python3",
      "display_name": "Python 3"
    },
    "language_info": {
      "name": "python"
    }
  },
  "cells": [
    {
      "cell_type": "markdown",
      "metadata": {
        "id": "view-in-github",
        "colab_type": "text"
      },
      "source": [
        "<a href=\"https://colab.research.google.com/github/Somesh140/iNeauron_FSDS_Assignments/blob/main/Python_basic%20_programming_assignment/Programming_assignment14.ipynb\" target=\"_parent\"><img src=\"https://colab.research.google.com/assets/colab-badge.svg\" alt=\"Open In Colab\"/></a>"
      ]
    },
    {
      "cell_type": "markdown",
      "source": [
        "Question 1:\n",
        "Define a class with a generator which can iterate the numbers, which are divisible by\n",
        "7, between a given range 0 and n.\n",
        "\n",
        "Question 2:\n",
        "Write a program to compute the frequency of the words from the input. The output\n",
        "should output after sorting the key alphanumerically.\n",
        "Suppose the following input is supplied to the program:\n",
        "New to Python or choosing between Python 2 and Python 3? Read Python 2 or\n",
        "Python 3.\n",
        "Then, the output should be:\n",
        "2:2\n",
        "3.:1\n",
        "3?:1\n",
        "New:1\n",
        "Python:5\n",
        "Read:1\n",
        "and:1\n",
        "between:1\n",
        "choosing:1\n",
        "or:2\n",
        "to:1\n",
        "\n",
        "Question 3:\n",
        "\n",
        "Define a class Person and its two child classes: Male and Female. All classes have a\n",
        "method &quot;getGender&quot; which can print &quot;Male&quot; for Male class and &quot;Female&quot; for Female\n",
        "class.\n",
        "\n",
        "Question 4:\n",
        "Please write a program to generate all sentences where subject is in [&quot;I&quot;, &quot;You&quot;] and\n",
        "verb is in [&quot;Play&quot;, &quot;Love&quot;] and the object is in [&quot;Hockey&quot;,&quot;Football&quot;].\n",
        "\n",
        "Question 5:\n",
        "Please write a program to compress and decompress the string &quot;hello world!hello\n",
        "world!hello world!hello world!&quot;.\n",
        "\n",
        "Question 6:\n",
        "Please write a binary search function which searches an item in a sorted list. The\n",
        "function should return the index of element to be searched in the list."
      ],
      "metadata": {
        "id": "8y-o2AWhNJLb"
      }
    },
    {
      "cell_type": "code",
      "execution_count": 1,
      "metadata": {
        "id": "DDueDrD7Mwk9"
      },
      "outputs": [],
      "source": [
        "#Answer"
      ]
    },
    {
      "cell_type": "code",
      "source": [
        "#1\n",
        "class DivisibleBySeven:\n",
        "    def __init__(self, n):\n",
        "        self.n = n\n",
        "\n",
        "    def generate_numbers(self):\n",
        "        for num in range(self.n + 1):\n",
        "            if num % 7 == 0:\n",
        "                yield num\n",
        "\n",
        "# Example usage:\n",
        "divisible_nums = DivisibleBySeven(50)\n",
        "for num in divisible_nums.generate_numbers():\n",
        "    print(num)\n"
      ],
      "metadata": {
        "colab": {
          "base_uri": "https://localhost:8080/"
        },
        "id": "ujvsaCoPNQfj",
        "outputId": "f5d7dcbf-a82c-4a91-9b4a-44cf0f92c254"
      },
      "execution_count": 2,
      "outputs": [
        {
          "output_type": "stream",
          "name": "stdout",
          "text": [
            "0\n",
            "7\n",
            "14\n",
            "21\n",
            "28\n",
            "35\n",
            "42\n",
            "49\n"
          ]
        }
      ]
    },
    {
      "cell_type": "code",
      "source": [
        "#2\n",
        "def word_frequency(sentence):\n",
        "    words = sentence.split()\n",
        "    freq_dict = {}\n",
        "\n",
        "    for word in words:\n",
        "        freq_dict[word] = freq_dict.get(word, 0) + 1\n",
        "\n",
        "    sorted_freq = sorted(freq_dict.items(), key=lambda x: x[0])\n",
        "    return sorted_freq\n",
        "\n",
        "input_sentence = \"New to Python or choosing between Python 2 and Python 3? Read Python 2 or Python 3.\"\n",
        "result = word_frequency(input_sentence)\n",
        "for word, frequency in result:\n",
        "    print(f\"{word}:{frequency}\")\n"
      ],
      "metadata": {
        "colab": {
          "base_uri": "https://localhost:8080/"
        },
        "id": "DAmAfMllNWAA",
        "outputId": "736220ff-ff7d-4b93-ba02-c026a2347e5c"
      },
      "execution_count": 3,
      "outputs": [
        {
          "output_type": "stream",
          "name": "stdout",
          "text": [
            "2:2\n",
            "3.:1\n",
            "3?:1\n",
            "New:1\n",
            "Python:5\n",
            "Read:1\n",
            "and:1\n",
            "between:1\n",
            "choosing:1\n",
            "or:2\n",
            "to:1\n"
          ]
        }
      ]
    },
    {
      "cell_type": "code",
      "source": [
        "#3\n",
        "class Person:\n",
        "    def getGender(self):\n",
        "        print(\"Unknown\")\n",
        "\n",
        "class Male(Person):\n",
        "    def getGender(self):\n",
        "        print(\"Male\")\n",
        "\n",
        "class Female(Person):\n",
        "    def getGender(self):\n",
        "        print(\"Female\")\n",
        "\n",
        "# Example usage:\n",
        "person = Person()\n",
        "person.getGender()\n",
        "\n",
        "male = Male()\n",
        "male.getGender()\n",
        "\n",
        "female = Female()\n",
        "female.getGender()\n"
      ],
      "metadata": {
        "colab": {
          "base_uri": "https://localhost:8080/"
        },
        "id": "VszXo-bJNZBj",
        "outputId": "b69a3bb6-590f-412c-866c-f9edd2729127"
      },
      "execution_count": 4,
      "outputs": [
        {
          "output_type": "stream",
          "name": "stdout",
          "text": [
            "Unknown\n",
            "Male\n",
            "Female\n"
          ]
        }
      ]
    },
    {
      "cell_type": "code",
      "source": [
        "#4\n",
        "subjects = [\"I\", \"You\"]\n",
        "verbs = [\"Play\", \"Love\"]\n",
        "objects = [\"Hockey\", \"Football\"]\n",
        "\n",
        "sentences = [(subject, verb, obj) for subject in subjects for verb in verbs for obj in objects]\n",
        "for sentence in sentences:\n",
        "    print(\" \".join(sentence))\n"
      ],
      "metadata": {
        "colab": {
          "base_uri": "https://localhost:8080/"
        },
        "id": "2VvF1Z3BNeFx",
        "outputId": "6a3c15bc-2a32-4e71-d1e9-e2c3aa9e2e15"
      },
      "execution_count": 5,
      "outputs": [
        {
          "output_type": "stream",
          "name": "stdout",
          "text": [
            "I Play Hockey\n",
            "I Play Football\n",
            "I Love Hockey\n",
            "I Love Football\n",
            "You Play Hockey\n",
            "You Play Football\n",
            "You Love Hockey\n",
            "You Love Football\n"
          ]
        }
      ]
    },
    {
      "cell_type": "code",
      "source": [
        "#5\n",
        "import zlib\n",
        "\n",
        "original_string = \"hello world!hello world!hello world!hello world!\"\n",
        "\n",
        "# Compress the string\n",
        "compressed_string = zlib.compress(original_string.encode())\n",
        "\n",
        "# Decompress the string\n",
        "decompressed_string = zlib.decompress(compressed_string).decode()\n",
        "\n",
        "print(\"Compressed string:\", compressed_string)\n",
        "print(\"Decompressed string:\", decompressed_string)\n"
      ],
      "metadata": {
        "colab": {
          "base_uri": "https://localhost:8080/"
        },
        "id": "dpRazFl7Ngnu",
        "outputId": "a4c44acf-c331-4aeb-acd6-2fd52f19a9d6"
      },
      "execution_count": 6,
      "outputs": [
        {
          "output_type": "stream",
          "name": "stdout",
          "text": [
            "Compressed string: b'x\\x9c\\xcbH\\xcd\\xc9\\xc9W(\\xcf/\\xcaIQ\\xcc \\x82\\r\\x00\\xbd[\\x11\\xf5'\n",
            "Decompressed string: hello world!hello world!hello world!hello world!\n"
          ]
        }
      ]
    },
    {
      "cell_type": "code",
      "source": [
        "#6\n",
        "def binary_search(arr, target):\n",
        "    low = 0\n",
        "    high = len(arr) - 1\n",
        "\n",
        "    while low <= high:\n",
        "        mid = (low + high) // 2\n",
        "        if arr[mid] == target:\n",
        "            return mid\n",
        "        elif arr[mid] < target:\n",
        "            low = mid + 1\n",
        "        else:\n",
        "            high = mid - 1\n",
        "\n",
        "    return -1\n",
        "\n",
        "# Example usage:\n",
        "sorted_list = [2, 4, 7, 9, 11, 15, 19, 23, 28]\n",
        "target_element = 11\n",
        "index = binary_search(sorted_list, target_element)\n",
        "print(\"Index of\", target_element, \"is\", index)\n"
      ],
      "metadata": {
        "colab": {
          "base_uri": "https://localhost:8080/"
        },
        "id": "BG-_zoISNjIi",
        "outputId": "1d6e3e83-0e7f-4b03-fd4d-49fb72fdc2d5"
      },
      "execution_count": 7,
      "outputs": [
        {
          "output_type": "stream",
          "name": "stdout",
          "text": [
            "Index of 11 is 4\n"
          ]
        }
      ]
    },
    {
      "cell_type": "code",
      "source": [],
      "metadata": {
        "id": "GXpna9FJNs2m"
      },
      "execution_count": null,
      "outputs": []
    }
  ]
}