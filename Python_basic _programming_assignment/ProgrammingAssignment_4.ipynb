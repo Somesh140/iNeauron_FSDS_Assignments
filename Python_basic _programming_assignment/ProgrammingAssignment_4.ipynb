{
 "cells": [
  {
   "cell_type": "markdown",
   "id": "be77612d",
   "metadata": {},
   "source": [
    "## 1. Write a Python Program to Find the Factorial of a Number?"
   ]
  },
  {
   "cell_type": "code",
   "execution_count": 12,
   "id": "31de15a4",
   "metadata": {},
   "outputs": [
    {
     "name": "stdout",
     "output_type": "stream",
     "text": [
      "enter the number5\n",
      "factorial of 5 is 120 \n"
     ]
    }
   ],
   "source": [
    "def factorial(n):\n",
    "    if n<=0:\"\"\"function to find farctorial of the number\"\"\"\n",
    "        raise Exception(\"number should be greater than 0\") \n",
    "    f=1\n",
    "    while n>=1:\n",
    "            f=f*n\n",
    "            n=n-1\n",
    "    return f\n",
    "try:\n",
    "    a =int(input(\"enter the number\"))\n",
    "    print(\"factorial of {} is {} \".format(a,factorial(a)))\n",
    "except Exception as e:\n",
    "    print(e)"
   ]
  },
  {
   "cell_type": "markdown",
   "id": "90b15eb5",
   "metadata": {},
   "source": [
    "## 2. Write a Python Program to Display the multiplication Table?"
   ]
  },
  {
   "cell_type": "code",
   "execution_count": 5,
   "id": "76ba7d61",
   "metadata": {},
   "outputs": [
    {
     "name": "stdout",
     "output_type": "stream",
     "text": [
      "enter a number 5\n",
      "5 x 1 = 5 \n",
      "5 x 2 = 10 \n",
      "5 x 3 = 15 \n",
      "5 x 4 = 20 \n",
      "5 x 5 = 25 \n",
      "5 x 6 = 30 \n",
      "5 x 7 = 35 \n",
      "5 x 8 = 40 \n",
      "5 x 9 = 45 \n",
      "5 x 10 = 50 \n"
     ]
    }
   ],
   "source": [
    "try:\n",
    "    a= int(input(\"enter a number \"))\n",
    "    for i in range(1,11):\n",
    "        b = a*i\n",
    "        print(\"{} x {} = {} \".format(a,i,b) )\n",
    "except Exception as e:\n",
    "    print(e)"
   ]
  },
  {
   "cell_type": "markdown",
   "id": "02ccb41c",
   "metadata": {},
   "source": [
    "## 3. Write a Python Program to Print the Fibonacci sequence?"
   ]
  },
  {
   "cell_type": "code",
   "execution_count": 12,
   "id": "aff63b62",
   "metadata": {},
   "outputs": [
    {
     "name": "stdout",
     "output_type": "stream",
     "text": [
      "enter the no. of terms for fibonacci series7\n",
      "0\n",
      "1\n",
      "1\n",
      "2\n",
      "3\n",
      "5\n",
      "8\n"
     ]
    }
   ],
   "source": [
    "n = int(input(\"enter the no. of terms for fibonacci series\") )\n",
    "n1,n2 = 0,1\n",
    "count = 0\n",
    "if n<=0 :\n",
    "    print(\" fibonacci series is only for positive numbers\")\n",
    "elif n==1:\n",
    "        print(n1,\"\\n\")\n",
    "        print(n2)\n",
    "else:\n",
    "    while count< n:\n",
    "        print(n1)\n",
    "        nth=n1+n2\n",
    "        n1=n2\n",
    "        n2=nth\n",
    "        count+=1"
   ]
  },
  {
   "cell_type": "markdown",
   "id": "f6718bc7",
   "metadata": {},
   "source": [
    "## 4. Write a Python Program to Check Armstrong Number?"
   ]
  },
  {
   "cell_type": "code",
   "execution_count": 17,
   "id": "7c448c95",
   "metadata": {},
   "outputs": [
    {
     "name": "stdout",
     "output_type": "stream",
     "text": [
      "Enter a number: 153\n",
      "153 is an Armstrong number\n"
     ]
    }
   ],
   "source": [
    "# Python program to check if the number is an Armstrong number or not\n",
    "\n",
    "# take input from the user\n",
    "num = int(input(\"Enter a number: \"))\n",
    "\n",
    "# initialize sum\n",
    "sum = 0\n",
    "\n",
    "# find the sum of the cube of each digit\n",
    "temp = num\n",
    "while temp > 0:\n",
    "   digit = temp % 10\n",
    "   sum += digit ** 3\n",
    "   temp //= 10\n",
    "\n",
    "# display the result\n",
    "if num == sum:\n",
    "   print(num,\"is an Armstrong number\")\n",
    "else:\n",
    "   print(num,\"is not an Armstrong number\")"
   ]
  },
  {
   "cell_type": "markdown",
   "id": "c9d9b6fa",
   "metadata": {},
   "source": [
    "## 5. Write a Python Program to Find Armstrong Number in an Interval?"
   ]
  },
  {
   "cell_type": "code",
   "execution_count": 27,
   "id": "25031705",
   "metadata": {},
   "outputs": [
    {
     "name": "stdout",
     "output_type": "stream",
     "text": [
      "Enter a starting number: of an interval100\n",
      "enter the end poin to the interval1000\n",
      "[153, 370, 371, 407]\n"
     ]
    }
   ],
   "source": [
    "# Python program to find Armstrong number in an interval\n",
    "\n",
    "# take input from the user\n",
    "num = int(input(\"Enter a starting number: of an interval\"))\n",
    "end = int(input(\"enter the end poin to the interval\"))\n",
    "l3=[]\n",
    "for i in range(num, end+1 ):\n",
    "    # initialize sum\n",
    "    sum = 0\n",
    "    # find the sum of the cube of each digit\n",
    "    temp = i\n",
    "    while temp > 0:\n",
    "        digit = temp % 10\n",
    "        sum += digit ** 3\n",
    "        temp //= 10\n",
    "    if sum == i:\n",
    "        l3.append(i)\n",
    "    else:\n",
    "        continue\n",
    "print(l3)"
   ]
  },
  {
   "cell_type": "markdown",
   "id": "b916f2d9",
   "metadata": {},
   "source": [
    "## 6. Write a Python Program to Find the Sum of Natural Numbers?"
   ]
  },
  {
   "cell_type": "code",
   "execution_count": 29,
   "id": "71c8888d",
   "metadata": {},
   "outputs": [
    {
     "name": "stdout",
     "output_type": "stream",
     "text": [
      "enter the number 100\n",
      "sum of 100 natural numbers is 5050\n"
     ]
    }
   ],
   "source": [
    "num=int(input('enter the number '))\n",
    "sum=0\n",
    "for i in range(1,num+1):\n",
    "    sum=sum+i\n",
    "    \n",
    "print('sum of {} natural numbers is {}'.format(num,sum))"
   ]
  }
 ],
 "metadata": {
  "kernelspec": {
   "display_name": "Python 3 (ipykernel)",
   "language": "python",
   "name": "python3"
  },
  "language_info": {
   "codemirror_mode": {
    "name": "ipython",
    "version": 3
   },
   "file_extension": ".py",
   "mimetype": "text/x-python",
   "name": "python",
   "nbconvert_exporter": "python",
   "pygments_lexer": "ipython3",
   "version": "3.9.7"
  }
 },
 "nbformat": 4,
 "nbformat_minor": 5
}
