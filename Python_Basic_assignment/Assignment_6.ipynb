{
  "nbformat": 4,
  "nbformat_minor": 0,
  "metadata": {
    "colab": {
      "provenance": [],
      "authorship_tag": "ABX9TyPJAfJ1ExdySVfMyEQ7ObTW",
      "include_colab_link": true
    },
    "kernelspec": {
      "name": "python3",
      "display_name": "Python 3"
    },
    "language_info": {
      "name": "python"
    }
  },
  "cells": [
    {
      "cell_type": "markdown",
      "metadata": {
        "id": "view-in-github",
        "colab_type": "text"
      },
      "source": [
        "<a href=\"https://colab.research.google.com/github/Somesh140/iNeauron_FSDS_Assignments/blob/main/Python_Basic_assignment/Assignment_6.ipynb\" target=\"_parent\"><img src=\"https://colab.research.google.com/assets/colab-badge.svg\" alt=\"Open In Colab\"/></a>"
      ]
    },
    {
      "cell_type": "markdown",
      "source": [
        "1. What are escape characters, and how do you use them?\n",
        "2. What do the escape characters n and t stand for?\n",
        "3. What is the way to include backslash characters in a string?\n",
        "4. The string &quot;Howl&#39;s Moving Castle&quot; is a correct value. Why isn&#39;t the single quote character in the\n",
        "word Howl&#39;s not escaped a problem?\n",
        "5. How do you write a string of newlines if you don&#39;t want to use the n character?\n",
        "6. What are the values of the given expressions?\n",
        "&#39;Hello, world!&#39;[1]\n",
        "&#39;Hello, world!&#39;[0:5]\n",
        "&#39;Hello, world!&#39;[:5]\n",
        "&#39;Hello, world!&#39;[3:]\n",
        "\n",
        "7. What are the values of the following expressions?\n",
        "&#39;Hello&#39;.upper()\n",
        "&#39;Hello&#39;.upper().isupper()\n",
        "&#39;Hello&#39;.upper().lower()\n",
        "8. What are the values of the following expressions?\n",
        "&#39;Remember, remember, the fifth of July.&#39;.split()\n",
        "&#39;-&#39;.join(&#39;There can only one.&#39;.split())\n",
        "9. What are the methods for right-justifying, left-justifying, and centering a string?\n",
        "10. What is the best way to remove whitespace characters from the start or end?"
      ],
      "metadata": {
        "id": "mhqBpcQvnxEo"
      }
    },
    {
      "cell_type": "markdown",
      "source": [
        "1. Escape characters are special characters used to represent non-printable or reserved characters within a string literal. They are used by prefixing them with a backslash (). For example, if you want to include a double quote character inside a string literal enclosed in double quotes, you can use the escape character \" to represent the double quote character.\n",
        "\n",
        "2. The escape character \"\\n\" stands for a newline, and \"\\t\" stands for a tab.\n",
        "\n",
        "3. To include a backslash character in a string, you can escape it by using a double backslash (\\). For example, the string \"C:\\Users\\John\" represents the file path \"C:\\Users\\John\".\n",
        "\n",
        "4. The single quote character in the word Howl's is not escaped because the string is enclosed in double quotes, not single quotes. As long as the string is enclosed in a matching pair of quotes (single or double), you can use the other type of quote inside the string without escaping it.\n",
        "\n",
        "5. You can write a string of newlines by concatenating multiple newline characters together, like this: \"\\n\\n\\n\". Alternatively, you can use the string method \"join\" to join a list of strings with a newline separator, like this: \"\\n\".join([\"line 1\", \"line 2\", \"line 3\"]).\n",
        "6. \n",
        "'e'\n",
        "'Hello'\n",
        "'Hello'\n",
        "'lo, world!'\n",
        "7. \n",
        "'HELLO'\n",
        "True\n",
        "'hello'\n",
        "\n",
        "8. \n",
        "['Remember,', 'remember,', 'the', 'fifth', 'of', 'July.']\n",
        "'There-can-only-one.'\n",
        "\n",
        "9. The methods for right-justifying, left-justifying, and centering a string are:\n",
        "rjust(): right-justifies a string by adding padding characters (default is space) to the left until the string reaches a specified width\n",
        "ljust(): left-justifies a string by adding padding characters (default is space) to the right until the string reaches a specified width\n",
        "center(): centers a string by adding padding characters (default is space) to both sides until the string reaches a specified width\n",
        "10. The best way to remove whitespace characters from the start or end of a string is to use the string method \"strip\". For example, \" hello world \".strip() would return \"hello world\". If you only want to remove whitespace from the start or end, you can use the methods \"lstrip\" and \"rstrip\", respectively.\n",
        "\n",
        "\n",
        "\n"
      ],
      "metadata": {
        "id": "C62lEbCIpUDd"
      }
    },
    {
      "cell_type": "code",
      "execution_count": null,
      "metadata": {
        "id": "q6AW0y5Fniee"
      },
      "outputs": [],
      "source": []
    }
  ]
}