{
  "nbformat": 4,
  "nbformat_minor": 0,
  "metadata": {
    "colab": {
      "provenance": [],
      "authorship_tag": "ABX9TyOVLDLWiRPgNe94llFGwxMB",
      "include_colab_link": true
    },
    "kernelspec": {
      "name": "python3",
      "display_name": "Python 3"
    },
    "language_info": {
      "name": "python"
    }
  },
  "cells": [
    {
      "cell_type": "markdown",
      "metadata": {
        "id": "view-in-github",
        "colab_type": "text"
      },
      "source": [
        "<a href=\"https://colab.research.google.com/github/Somesh140/iNeauron_FSDS_Assignments/blob/main/Python_Basic_assignment/Assignment_11.ipynb\" target=\"_parent\"><img src=\"https://colab.research.google.com/assets/colab-badge.svg\" alt=\"Open In Colab\"/></a>"
      ]
    },
    {
      "cell_type": "markdown",
      "source": [
        "1. Create an assert statement that throws an AssertionError if the variable spam is a negative\n",
        "integer.\n",
        "2. Write an assert statement that triggers an AssertionError if the variables eggs and bacon contain\n",
        "strings that are the same as each other, even if their cases are different (that is, &#39;hello&#39; and &#39;hello&#39; are\n",
        "considered the same, and &#39;goodbye&#39; and &#39;GOODbye&#39; are also considered the same).\n",
        "3. Create an assert statement that throws an AssertionError every time.\n",
        "4. What are the two lines that must be present in your software in order to call logging.debug()?\n",
        "5. What are the two lines that your program must have in order to have logging.debug() send a\n",
        "logging message to a file named programLog.txt?\n",
        "6. What are the five levels of logging?\n",
        "7. What line of code would you add to your software to disable all logging messages?\n",
        "8.Why is using logging messages better than using print() to display the same message?\n",
        "9. What are the differences between the Step Over, Step In, and Step Out buttons in the debugger?\n",
        "10.After you click Continue, when will the debugger stop ?\n",
        "11. What is the concept of a breakpoint?"
      ],
      "metadata": {
        "id": "jM2pwLryhKka"
      }
    },
    {
      "cell_type": "markdown",
      "source": [
        "Answer\n",
        "\n",
        "---\n",
        "1. assert spam >= 0, 'spam must be a non-negative integer'\n",
        "2. assert eggs.lower() != bacon.lower(), 'eggs and bacon cannot be the same string with different cases'\n",
        "3. assert False, 'this assertion always throws an error'\n",
        "4. The first line must be import logging, and the second line must be logging.basicConfig(level=logging.DEBUG).\n",
        "5. The first line must be import logging, and the second line must be logging.basicConfig(filename='programLog.txt', level=logging.DEBUG).\n",
        "6. The five levels of logging, in increasing order of severity, are: DEBUG, INFO, WARNING, ERROR, and CRITICAL.\n",
        "7. logging.disable(logging.CRITICAL)\n",
        "8. Using logging messages allows for more granular control over which messages are displayed, as well as the ability to write messages to a file or other external source. Additionally, logging messages can be easily disabled or filtered without having to remove print statements from the code.\n",
        "9. The Step Over button allows you to execute the current line of code and move to the next line, without stepping into any function calls. The Step In button allows you to move into the next function call and execute the first line of the function. The Step Out button allows you to execute the remaining lines of a function and return to the calling function.\n",
        "10. The debugger will stop again when it encounters the next breakpoint, an unhandled exception, or when the program completes execution.\n",
        "11. A breakpoint is a point in the code where the debugger will pause execution and allow the programmer to inspect the current state of the program. In Python, a breakpoint can be set using the pdb.set_trace() function, or by clicking on the line number in the debugger interface. When the program execution reaches a breakpoint, the debugger will pause and allow the programmer to step through the code and inspect variables, call stack, and other program state.\n"
      ],
      "metadata": {
        "id": "7QVXM6ADhOjC"
      }
    },
    {
      "cell_type": "code",
      "execution_count": null,
      "metadata": {
        "id": "nHm7_cPKhIdj"
      },
      "outputs": [],
      "source": []
    }
  ]
}