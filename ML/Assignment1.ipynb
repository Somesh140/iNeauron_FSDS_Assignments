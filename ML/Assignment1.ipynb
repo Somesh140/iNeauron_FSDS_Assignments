{
  "nbformat": 4,
  "nbformat_minor": 0,
  "metadata": {
    "colab": {
      "provenance": [],
      "authorship_tag": "ABX9TyOAoT5cb6KEEO04Q3arm2uX",
      "include_colab_link": true
    },
    "kernelspec": {
      "name": "python3",
      "display_name": "Python 3"
    },
    "language_info": {
      "name": "python"
    }
  },
  "cells": [
    {
      "cell_type": "markdown",
      "metadata": {
        "id": "view-in-github",
        "colab_type": "text"
      },
      "source": [
        "<a href=\"https://colab.research.google.com/github/Somesh140/iNeauron_FSDS_Assignments/blob/main/ML/Assignment1.ipynb\" target=\"_parent\"><img src=\"https://colab.research.google.com/assets/colab-badge.svg\" alt=\"Open In Colab\"/></a>"
      ]
    },
    {
      "cell_type": "markdown",
      "source": [
        "1. What does one mean by the term &quot;machine learning&quot;?\n",
        "\n",
        "2.Can you think of 4 distinct types of issues where it shines?\n",
        "\n",
        "3.What is a labeled training set, and how does it work?\n",
        "\n",
        "4.What are the two most important tasks that are supervised?\n",
        "\n",
        "5.Can you think of four examples of unsupervised tasks?\n",
        "\n",
        "6.State the machine learning model that would be best to make a robot walk through various\n",
        "unfamiliar terrains?\n",
        "\n",
        "7.Which algorithm will you use to divide your customers into different groups?\n",
        "\n",
        "8.Will you consider the problem of spam detection to be a supervised or unsupervised learning\n",
        "problem?\n",
        "\n",
        "9.What is the concept of an online learning system?\n",
        "\n",
        "10.What is out-of-core learning, and how does it differ from core learning?\n",
        "\n",
        "11.What kind of learning algorithm makes predictions using a similarity measure?\n",
        "\n",
        "12.What&#39;s the difference between a model parameter and a hyperparameter in a learning\n",
        "algorithm?\n",
        "\n",
        "13.What are the criteria that model-based learning algorithms look for? What is the most popular\n",
        "method they use to achieve success? What method do they use to make predictions?\n",
        "\n",
        "14.Can you name four of the most important Machine Learning challenges?\n",
        "\n",
        "15.What happens if the model performs well on the training data but fails to generalize the results\n",
        "to new situations? Can you think of three different options?\n",
        "\n",
        "16.What exactly is a test set, and why would you need one?\n",
        "\n",
        "17.What is a validation set&#39;s purpose?\n",
        "\n",
        "18.What precisely is the train-dev kit, when will you need it, how do you put it to use?\n",
        "\n",
        "19.What could go wrong if you use the test set to tune hyperparameters?"
      ],
      "metadata": {
        "id": "Fu58wTxL5Wv0"
      }
    },
    {
      "cell_type": "code",
      "execution_count": null,
      "metadata": {
        "id": "TrTS_ilz5T9h"
      },
      "outputs": [],
      "source": [
        "#Answer"
      ]
    },
    {
      "cell_type": "markdown",
      "source": [
        "1. \"Machine learning\" refers to a field of study and application of algorithms and statistical models that enable computer systems to learn and improve from experience without being explicitly programmed. It involves developing techniques that allow computers to automatically analyze and interpret complex patterns in data and make predictions or take actions based on those patterns.\n",
        "\n",
        "2. Four distinct types of issues where machine learning shines are:\n",
        "   a) Image recognition: Machine learning can be used to classify and identify objects or patterns in images.\n",
        "   b) Natural language processing: Machine learning algorithms can understand and process human language, enabling applications like language translation or sentiment analysis.\n",
        "   c) Fraud detection: Machine learning can identify patterns of fraudulent behavior in financial transactions, helping detect and prevent fraudulent activities.\n",
        "   d) Recommendation systems: Machine learning algorithms can analyze user preferences and behavior to provide personalized recommendations, such as in movie or product recommendations.\n",
        "\n",
        "3. A labeled training set is a dataset used in supervised machine learning. It consists of input data (features) and corresponding output labels (target variables). Each data instance in the training set is labeled with the correct output value. During the training process, the machine learning algorithm learns to map the input features to the correct output labels by adjusting its internal parameters.\n",
        "\n",
        "4. The two most important tasks in supervised machine learning are:\n",
        "   a) Classification: This task involves assigning predefined labels or categories to input data based on patterns or features.\n",
        "   b) Regression: This task involves predicting a continuous output value based on input features.\n",
        "\n",
        "5. Four examples of unsupervised machine learning tasks are:\n",
        "   a) Clustering: Grouping similar data instances together based on patterns or similarity measures.\n",
        "   b) Dimensionality reduction: Reducing the number of input features while preserving important information.\n",
        "   c) Anomaly detection: Identifying unusual or rare patterns or outliers in data.\n",
        "   d) Association rule learning: Discovering relationships and dependencies between variables in a dataset.\n",
        "\n",
        "6. The machine learning model that would be best to make a robot walk through various unfamiliar terrains would be a Reinforcement Learning model. Reinforcement Learning algorithms enable an agent (the robot) to learn by interacting with an environment and receiving feedback in the form of rewards or penalties based on its actions. The agent learns to maximize cumulative rewards over time, leading to optimal behavior in different terrains.\n",
        "\n",
        "7. To divide customers into different groups, the appropriate algorithm to use would be a clustering algorithm. Clustering algorithms analyze patterns and similarities in customer data to automatically group similar customers together based on their characteristics or behaviors. Popular clustering algorithms include K-means clustering and hierarchical clustering.\n",
        "\n",
        "8. The problem of spam detection is considered a supervised learning problem. In spam detection, the machine learning algorithm is trained on labeled data, where each email is labeled as either spam or not spam. The algorithm learns to classify new, unseen emails as spam or non-spam based on the patterns and characteristics learned from the training data.\n",
        "\n",
        "9. The concept of an online learning system refers to a machine learning system that can continuously learn and adapt to new data in real-time. Online learning systems update their models or algorithms incrementally as new data arrives, allowing them to adapt and improve over time without retraining on the entire dataset.\n",
        "\n",
        "10. Out-of-core learning is a technique used when the dataset is too large to fit into the computer's memory. In out-of-core learning, the dataset is divided into smaller batches or chunks, and the learning algorithm processes these batches sequentially, updating the model parameters incrementally. This differs from in-core learning, where the entire dataset is available in memory during the learning process.\n",
        "\n",
        "11. A learning algorithm that makes predictions using a similarity measure is called an instance-based learning algorithm. Instance-based learning algorithms compare new data instances with previously seen instances in the training set and make predictions based on their similarity or\n",
        "\n",
        " proximity in the feature space. Examples of instance-based learning algorithms include k-nearest neighbors (KNN) and case-based reasoning.\n",
        "\n",
        "12. In a learning algorithm, a model parameter refers to the internal variables or weights that the algorithm learns during training to make predictions. These parameters are optimized to minimize the error between predicted and actual values. On the other hand, a hyperparameter is a configuration parameter set by the user before training and remains fixed during training. Hyperparameters control the behavior of the learning algorithm, such as the learning rate or the number of hidden layers in a neural network.\n",
        "\n",
        "13. Model-based learning algorithms look for criteria such as minimizing the error or maximizing the likelihood of the observed data. The most popular method they use to achieve success is the process of training the model on a labeled dataset and adjusting its parameters to minimize the difference between predicted and actual values. Once trained, the model can make predictions by applying the learned patterns or rules to new, unseen data.\n",
        "\n",
        "14. Four important challenges in Machine Learning are:\n",
        "   a) Overfitting: When a model performs well on the training data but fails to generalize to new data.\n",
        "   b) Data scarcity: When the available training data is limited or lacks diversity, making it difficult to learn accurate models.\n",
        "   c) Feature engineering: Selecting and transforming relevant features from the input data to improve model performance.\n",
        "   d) Model interpretability: Understanding and explaining the inner workings of complex machine learning models.\n",
        "\n",
        "15. If a model performs well on the training data but fails to generalize to new situations, three options are:\n",
        "   a) Collect more diverse and representative training data to capture a wider range of scenarios.\n",
        "   b) Regularization: Introduce regularization techniques to prevent overfitting and improve generalization.\n",
        "   c) Simplify the model: Use a less complex model with fewer parameters to reduce the risk of overfitting.\n",
        "\n",
        "16. A test set is a subset of data separate from the training data that is used to evaluate the performance of a trained machine learning model. The test set contains data instances that the model has not seen during training, and its purpose is to assess the model's ability to generalize and make accurate predictions on new, unseen data.\n",
        "\n",
        "17. The purpose of a validation set is to tune the hyperparameters of a machine learning model. It is a subset of the training data used to evaluate different hyperparameter configurations and select the best-performing set of hyperparameters. The validation set helps in assessing the model's performance on unseen data and avoids overfitting the hyperparameters to the training data.\n",
        "\n",
        "18. The train-dev kit, also known as a development set or holdout set, is a subset of the training data used to test and debug the learning algorithm during development. It is separate from the validation set and helps identify and diagnose issues with the model or algorithm before final evaluation on the test set. The train-dev kit is used to fine-tune the learning algorithm and make improvements.\n",
        "\n",
        "19. If the test set is used to tune hyperparameters, it can lead to overfitting the hyperparameters to the test set. This can result in optimistic performance estimates that do not generalize well to new data. To avoid this, a separate validation set should be used for hyperparameter tuning, and the final evaluation should be done on the untouched test set to provide a fair assessment of the model's performance."
      ],
      "metadata": {
        "id": "F1cVxkNP5g4O"
      }
    },
    {
      "cell_type": "code",
      "source": [],
      "metadata": {
        "id": "qXhR6rXn5lO_"
      },
      "execution_count": null,
      "outputs": []
    }
  ]
}