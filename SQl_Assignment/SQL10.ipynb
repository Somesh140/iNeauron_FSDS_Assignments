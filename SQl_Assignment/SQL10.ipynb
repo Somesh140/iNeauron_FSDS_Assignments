{
  "nbformat": 4,
  "nbformat_minor": 0,
  "metadata": {
    "colab": {
      "provenance": [],
      "authorship_tag": "ABX9TyOGjF+1sL+qUUtISlmcmd/o",
      "include_colab_link": true
    },
    "kernelspec": {
      "name": "python3",
      "display_name": "Python 3"
    },
    "language_info": {
      "name": "python"
    }
  },
  "cells": [
    {
      "cell_type": "markdown",
      "metadata": {
        "id": "view-in-github",
        "colab_type": "text"
      },
      "source": [
        "<a href=\"https://colab.research.google.com/github/Somesh140/iNeauron_FSDS_Assignments/blob/main/SQl_Assignment/SQL10.ipynb\" target=\"_parent\"><img src=\"https://colab.research.google.com/assets/colab-badge.svg\" alt=\"Open In Colab\"/></a>"
      ]
    },
    {
      "cell_type": "markdown",
      "source": [
        "Q-19. Write an SQL query to determine the 5th highest salary without using TOP or limit\n",
        "method.\n",
        "\n",
        "Q-20. Write an SQL query to fetch the list of employees with the same salary."
      ],
      "metadata": {
        "id": "s4p2xqUQmDBH"
      }
    },
    {
      "cell_type": "code",
      "execution_count": null,
      "metadata": {
        "id": "MWyvYzx_lyac"
      },
      "outputs": [],
      "source": [
        "#19\n",
        "SELECT salary\n",
        "FROM myTable t1\n",
        "WHERE 5 = (\n",
        "    SELECT COUNT(DISTINCT t2.salary)\n",
        "    FROM myTable t2\n",
        "    WHERE t2.salary >= t1.salary\n",
        ");\n"
      ]
    },
    {
      "cell_type": "code",
      "source": [
        "#20\n",
        "SELECT *\n",
        "FROM myTable\n",
        "WHERE salary IN (\n",
        "    SELECT salary\n",
        "    FROM myTable\n",
        "    GROUP BY salary\n",
        "    HAVING COUNT(*) > 1\n",
        ");\n"
      ],
      "metadata": {
        "id": "-S5QvPSOmL57"
      },
      "execution_count": null,
      "outputs": []
    }
  ]
}